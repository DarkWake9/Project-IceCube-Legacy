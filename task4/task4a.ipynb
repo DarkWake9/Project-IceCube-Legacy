{
 "cells": [
  {
   "cell_type": "code",
   "execution_count": 1,
   "metadata": {},
   "outputs": [],
   "source": [
    "import numpy as np\n",
    "import pandas as pd\n",
    "import os\n",
    "import multiprocessing as mul\n",
    "from multiprocessing import Process\n",
    "import matplotlib.pyplot as plt\n",
    "import seaborn as sns\n",
    "from scipy.optimize import minimize"
   ]
  },
  {
   "cell_type": "code",
   "execution_count": 2,
   "metadata": {},
   "outputs": [],
   "source": [
    "####\n",
    "#### IMPORTING AND SPLITTING ICDATA $$$\n",
    "\n",
    "\n",
    "path = \"/media/darkwake/VIB2/Project-IceCube/icecube_10year_ps/events\"\n",
    "filenames = [\"IC40_exp.csv\", \"IC59_exp.csv\",\"IC79_exp.csv\", \"IC86_I_exp.csv\", \"IC86_II_exp.csv\",\n",
    "\"IC86_III_exp.csv\", \"IC86_IV_exp.csv\", \"IC86_V_exp.csv\", \"IC86_VI_exp.csv\", \"IC86_VII_exp.csv\"]\n",
    "file = filenames[0]\n",
    "f = open(os.path.join(path, file), 'r')\n",
    "lines = f.readlines()\n",
    "column=lines[0].split()\n",
    "column.pop(0)\n",
    "content = []\n",
    "for file in filenames:\n",
    "    f = open(os.path.join(path, file), 'r')\n",
    "    lines = f.readlines()\n",
    "    for line in lines[1:]:\n",
    "        content.append(line.split())\n",
    "    f.close()\n",
    "icdata = pd.DataFrame(content, columns=column)\n",
    "icdata['log10(E/GeV)'] = [float(i) for i in icdata['log10(E/GeV)']]\n",
    "\n",
    "#icdata = icdata.sort_values('log10(E/GeV)')\n",
    "#icdata = icdata.reset_index()\n",
    "#icdata = icdata.drop('index', axis=1)\n",
    "icdata2 = icdata[icdata['log10(E/GeV)'] > 5]\n",
    "icdata2 = icdata2.reset_index()\n",
    "icdata2 = icdata2.drop('index', axis=1)\n",
    "icdata2\n",
    "\n",
    "#IMPORTING MSPDATA\n",
    "f = open(\"/media/darkwake/VIB2/Project-IceCube/10milsecpsr.txt\", 'r')\n",
    "lines = f.readlines()\n",
    "\n",
    "content=[]\n",
    "column=lines[3].split()\n",
    "for line in lines[:]:\n",
    "    content.append(line.split())\n",
    "    #the INITAL DATABASE IS CLUTTERED SO WE REMOVE THE NULL COLUMNS AND OTHER CLUTTER\n",
    "mspdata = pd.DataFrame(content).drop(range(0,6)).dropna().drop([2,6,8,10,11,13,14], axis=1)\n",
    "f.close()\n",
    "line = []\n",
    "lines = []\n",
    "\n",
    "mspdata.columns = column\n",
    "column = []\n",
    "content=[]\n",
    "mspdata = mspdata.sort_values('DECJD')\n",
    "mspdata.dropna(inplace=True)\n",
    "mspdata = mspdata.reset_index()\n",
    "mspdata = mspdata.drop([\"index\", \"#\"], axis=1)"
   ]
  },
  {
   "cell_type": "markdown",
   "metadata": {},
   "source": [
    "icdata2"
   ]
  },
  {
   "cell_type": "markdown",
   "metadata": {},
   "source": [
    "mspdata"
   ]
  },
  {
   "cell_type": "code",
   "execution_count": 3,
   "metadata": {},
   "outputs": [],
   "source": [
    "#icdata2 = nu_10gev(import_icdata())\n",
    "#mspdata = import_psrdata()\n",
    "msra = [float(i) for i in mspdata['RAJD']]\n",
    "msdec = [float(i) for i in mspdata['DECJD']]\n",
    "icra = [float(i) for i in icdata2['RA[deg]']]\n",
    "icdec = [float(i) for i in icdata2['Dec[deg]']]\n",
    "icang = [float(i) for i in icdata2['AngErr[deg]']]\n",
    "p = len(msra)\n",
    "lg = len(icra) // p + 1\n",
    "cut = 20"
   ]
  },
  {
   "cell_type": "code",
   "execution_count": 11,
   "metadata": {},
   "outputs": [],
   "source": [
    "def hvovec(lon1, lat1, lon2, lat2):\n",
    "\n",
    "    #Convert decimal degrees to Radians:\n",
    "    lon1 = np.deg2rad(lon1)\n",
    "    lat1 = np.deg2rad(lat1)\n",
    "    lon2 = np.deg2rad(lon2)\n",
    "    lat2 = np.deg2rad(lat2)\n",
    "\n",
    "    #Implementing Haversine Formula: \n",
    "    dlon = np.subtract(lon2, lon1)\n",
    "    #dlat = np.subtract(lat2, lat1)\n",
    "\n",
    "    a = np.add(np.multiply(np.sin(lat1), np.sin(lat2)), np.multiply(np.multiply(np.cos(lat1), np.cos(lat2)), np.cos(dlon)))\n",
    "\n",
    "    return np.abs(np.rad2deg(np.arccos(a)))"
   ]
  },
  {
   "cell_type": "code",
   "execution_count": 4,
   "metadata": {},
   "outputs": [],
   "source": [
    "cut = 20"
   ]
  },
  {
   "cell_type": "code",
   "execution_count": 12,
   "metadata": {},
   "outputs": [],
   "source": [
    "def angfinder(b):\n",
    "    ang = []\n",
    "    for a in range(lg):\n",
    "        \n",
    "        if a != lg - 1:\n",
    "        #try:\n",
    "            ilo = icra[a*p:a*p + p]\n",
    "            ila = icdec[a*p:a*p + p]\n",
    "            lo = msra[b] * np.ones(p)\n",
    "            la = msdec[b] * np.ones(p)\n",
    "            temp = hvovec(ilo, ila, lo, la)\n",
    "            for tt in range(len(temp)):\n",
    "                if temp[tt] > cut:\n",
    "                    temp[tt] = -1\n",
    "            ang.extend(temp)\n",
    "        else:\n",
    "        #except:\n",
    "            ilo = icra[a*p:]\n",
    "            ila = icdec[a*p:]\n",
    "            ext = len(ilo)\n",
    "            lo = msra[b] * np.ones(ext)\n",
    "            la = msdec[b] * np.ones(ext)\n",
    "            temp = hvovec(ilo, ila, lo, la)\n",
    "            #ang.extend(hvovec(ilo, ila, lo, la))\n",
    "            for tt in range(len(temp)):\n",
    "                if temp[tt] > cut:\n",
    "                    temp[tt] = -1\n",
    "            ang.extend(temp)\n",
    "            \n",
    "        \n",
    "    return ang"
   ]
  },
  {
   "cell_type": "code",
   "execution_count": 13,
   "metadata": {},
   "outputs": [],
   "source": [
    "\n",
    "#S_ij for ith neutrino and jth pulsar IS WRONG\n",
    "#EDIT 04102022 - 11.28 - S_ij is for i^th pulsar and j^th neutrino and summed over all NEUTRINOS IS WRONG\n",
    "#EDIT 06102022 - 16.52 - Si is for i^th neutrino and s^th pulsar as in \\theta_s\n",
    "def S_ij(i):### $P_i[a] = \\dfrac{ns[a]}{N} S[a] + \\left(1 - \\dfrac{ns[a]}{N}\\right)B[a]$ if ns \n",
    "                                                 #OR\n",
    "    arr = []\n",
    "    for j in range(0,len(icdata2)):\n",
    "        ang = aang[i][j]\n",
    "        if ang != -1:\n",
    "            if True and ang < cut:\n",
    "                sg = np.deg2rad(icang[j]) ** 2\n",
    "                ang = np.deg2rad(ang) ** 2\n",
    "                arr.append(np.exp(-1 * ang / (2 * sg)) / (2 * np.pi * sg))\n",
    "        #return\n",
    "        #else:\n",
    "            #arr.append(0)\n",
    "        #return -1\n",
    "    \n",
    "    return arr\n",
    "def sij():\n",
    "    pool = mul.Pool()\n",
    "    op_async = pool.map_async(S_ij, range(0,p))\n",
    "    si = op_async.get()\n",
    "    pool = []\n",
    "    op_async = []\n",
    "    return si"
   ]
  },
  {
   "cell_type": "markdown",
   "metadata": {},
   "source": [
    "#### CUT = "
   ]
  },
  {
   "cell_type": "code",
   "execution_count": 7,
   "metadata": {},
   "outputs": [],
   "source": [
    "a = set([306\t,\n",
    "313\t,\n",
    "314\t,\n",
    "327\t,\n",
    "327\t,\n",
    "346\t,\n",
    "327\t,\n",
    "349\t,\n",
    "327\t,\n",
    "327\t,\n",
    "346\t,\n",
    "327\t,\n",
    "370\t,\n",
    "374\t,\n",
    "327\t,\n",
    "378\t,\n",
    "381\t,\n",
    "394\t,\n",
    "396\t,\n",
    "397\t,\n",
    "401\t,\n",
    "413\t,\n",
    "423\t,\n",
    "434\t,])\n",
    "\n",
    "b = set([0\t,\n",
    "102\t,\n",
    "266\t,\n",
    "267\t,\n",
    "268\t,\n",
    "269\t,\n",
    "271\t,\n",
    "272\t,\n",
    "279\t,\n",
    "280\t,\n",
    "281\t,\n",
    "287\t,\n",
    "283\t,\n",
    "293\t,\n",
    "294\t,\n",
    "295\t,\n",
    "296\t,\n",
    "313\t,\n",
    "314\t,\n",
    "317\t,\n",
    "337\t,\n",
    "338\t,\n",
    "339\t,\n",
    "349\t,\n",
    "370\t,\n",
    "371\t,\n",
    "372\t,\n",
    "373\t,\n",
    "374\t,\n",
    "375\t,\n",
    "378\t,\n",
    "381\t,\n",
    "391\t,\n",
    "394\t,\n",
    "396\t,\n",
    "397\t,\n",
    "404\t,\n",
    "414\t,\n",
    "423\t,\n",
    "426\t,\n",
    "430\t,\n",
    "434\t,\n",
    "439\t])"
   ]
  },
  {
   "cell_type": "code",
   "execution_count": 8,
   "metadata": {},
   "outputs": [
    {
     "data": {
      "text/plain": [
       "{313, 314, 349, 370, 374, 378, 381, 394, 396, 397, 423, 434}"
      ]
     },
     "execution_count": 8,
     "metadata": {},
     "output_type": "execute_result"
    }
   ],
   "source": [
    "a.intersection(b)"
   ]
  },
  {
   "cell_type": "code",
   "execution_count": 56,
   "metadata": {},
   "outputs": [
    {
     "data": {
      "text/plain": [
       "20"
      ]
     },
     "execution_count": 56,
     "metadata": {},
     "output_type": "execute_result"
    }
   ],
   "source": [
    "cut"
   ]
  },
  {
   "cell_type": "code",
   "execution_count": 57,
   "metadata": {},
   "outputs": [],
   "source": [
    "aang = []\n",
    "pool = mul.Pool()\n",
    "op_async = pool.map_async(angfinder, range(0,p))\n",
    "aang = op_async.get()\n",
    "op_async = []\n",
    "pool = []"
   ]
  },
  {
   "cell_type": "code",
   "execution_count": 15,
   "metadata": {},
   "outputs": [],
   "source": [
    "\n",
    "S = sij()"
   ]
  },
  {
   "cell_type": "code",
   "execution_count": 16,
   "metadata": {},
   "outputs": [],
   "source": [
    "#N != len(icdata2)\n",
    "def nsang(aang):\n",
    "    Ns = []\n",
    "    for i in aang:\n",
    "        count = 0\n",
    "        for j in i:\n",
    "            if j != -1:\n",
    "                if j < cut:\n",
    "                    count += 1\n",
    "        Ns.append(count)\n",
    "    Ns = np.array(Ns)\n",
    "    return Ns\n",
    "Ns = nsang(aang)\n",
    "#Ns = len(icdata2)*np.ones(len(S))\n",
    "    "
   ]
  },
  {
   "cell_type": "code",
   "execution_count": 17,
   "metadata": {},
   "outputs": [],
   "source": [
    "lt = 3\n",
    "def bg(i):\n",
    "    #Calculating total no of neutrino events within delta +/- 6 of ith PULSAR (not neutrino)\n",
    "    count = 0\n",
    "    \n",
    "    '''for j in icdec:\n",
    "        if abs(msdec[i] - j) <= 6:\n",
    "            count+=1 '''\n",
    "    count = np.count_nonzero(np.abs(np.subtract(msdec[i],icdec))<lt)\n",
    "    #calculating solid angle with lt deg cone\n",
    "    num = (np.pi * np.deg2rad(lt))**2\n",
    "    sang = 2 * np.pi * (np.sin(np.deg2rad(msdec[i] + lt)) - np.sin(np.deg2rad(msdec[i] - lt)))\n",
    "    return num * count/sang\n",
    "\n",
    "def Bi():\n",
    "    pool = mul.Pool()\n",
    "    op_async = pool.map_async(bg, range(0,p))\n",
    "    return op_async.get()\n",
    "\n",
    "B = np.array(Bi())"
   ]
  },
  {
   "cell_type": "code",
   "execution_count": 18,
   "metadata": {},
   "outputs": [],
   "source": [
    "def Pr(x, Ns, S, B):\n",
    "    nsN = x/Ns\n",
    "    return np.add(np.multiply(nsN , S), np.multiply(np.subtract(1, nsN), B))"
   ]
  },
  {
   "cell_type": "code",
   "execution_count": 19,
   "metadata": {},
   "outputs": [],
   "source": [
    "TS = lambda i, x: 2*np.sum(np.log(Pr(x,  Ns[i], S[i], B[i])/B[i]))"
   ]
  },
  {
   "cell_type": "code",
   "execution_count": 21,
   "metadata": {},
   "outputs": [],
   "source": [
    "def TSmax(i):\n",
    "    #returns the TSmax for i^th GRB\n",
    "    #a = []\n",
    "    #for j in range(1000):\n",
    "        #a.append(TS(i,j))\n",
    "         \n",
    "    #init_guess = a.index(max(a))\n",
    "    nll = lambda x: -TS(i,x)\n",
    "    soln = minimize(nll, 3 ,bounds=((0,None),))#313, 314, 349, 370, 374, 378, 381, 394, 396, 397, 423, 434\n",
    "    ns = float(soln.x)\n",
    "    #print(f\"Pulsar {i} done\")\n",
    "    return ns\n"
   ]
  },
  {
   "cell_type": "code",
   "execution_count": 22,
   "metadata": {},
   "outputs": [
    {
     "name": "stderr",
     "output_type": "stream",
     "text": [
      "/tmp/ipykernel_6399/34067360.py:1: RuntimeWarning: divide by zero encountered in divide\n",
      "  TS = lambda i, x: 2*np.sum(np.log(Pr(x,  Ns[i], S[i], B[i])/B[i]))\n",
      "/tmp/ipykernel_6399/34067360.py:1: RuntimeWarning: invalid value encountered in log\n",
      "  TS = lambda i, x: 2*np.sum(np.log(Pr(x,  Ns[i], S[i], B[i])/B[i]))\n",
      "/tmp/ipykernel_6399/34067360.py:1: RuntimeWarning: divide by zero encountered in log\n",
      "  TS = lambda i, x: 2*np.sum(np.log(Pr(x,  Ns[i], S[i], B[i])/B[i]))\n",
      "/tmp/ipykernel_6399/34067360.py:1: RuntimeWarning: divide by zero encountered in divide\n",
      "  TS = lambda i, x: 2*np.sum(np.log(Pr(x,  Ns[i], S[i], B[i])/B[i]))\n",
      "/tmp/ipykernel_6399/34067360.py:1: RuntimeWarning: divide by zero encountered in log\n",
      "  TS = lambda i, x: 2*np.sum(np.log(Pr(x,  Ns[i], S[i], B[i])/B[i]))\n",
      "/tmp/ipykernel_6399/34067360.py:1: RuntimeWarning: invalid value encountered in log\n",
      "  TS = lambda i, x: 2*np.sum(np.log(Pr(x,  Ns[i], S[i], B[i])/B[i]))\n",
      "/tmp/ipykernel_6399/34067360.py:1: RuntimeWarning: invalid value encountered in log\n",
      "  TS = lambda i, x: 2*np.sum(np.log(Pr(x,  Ns[i], S[i], B[i])/B[i]))\n",
      "/tmp/ipykernel_6399/34067360.py:1: RuntimeWarning: invalid value encountered in divide\n",
      "  TS = lambda i, x: 2*np.sum(np.log(Pr(x,  Ns[i], S[i], B[i])/B[i]))\n",
      "/tmp/ipykernel_6399/34067360.py:1: RuntimeWarning: invalid value encountered in log\n",
      "  TS = lambda i, x: 2*np.sum(np.log(Pr(x,  Ns[i], S[i], B[i])/B[i]))\n",
      "/tmp/ipykernel_6399/34067360.py:1: RuntimeWarning: invalid value encountered in log\n",
      "  TS = lambda i, x: 2*np.sum(np.log(Pr(x,  Ns[i], S[i], B[i])/B[i]))\n",
      "/home/darkwake/.local/lib/python3.10/site-packages/scipy/optimize/_numdiff.py:576: RuntimeWarning: invalid value encountered in subtract\n",
      "  df = fun(x) - f0\n",
      "/tmp/ipykernel_6399/34067360.py:1: RuntimeWarning: invalid value encountered in log\n",
      "  TS = lambda i, x: 2*np.sum(np.log(Pr(x,  Ns[i], S[i], B[i])/B[i]))\n",
      "/home/darkwake/.local/lib/python3.10/site-packages/scipy/optimize/_numdiff.py:576: RuntimeWarning: invalid value encountered in subtract\n",
      "  df = fun(x) - f0\n",
      "/tmp/ipykernel_6399/34067360.py:1: RuntimeWarning: invalid value encountered in log\n",
      "  TS = lambda i, x: 2*np.sum(np.log(Pr(x,  Ns[i], S[i], B[i])/B[i]))\n"
     ]
    }
   ],
   "source": [
    "pool = mul.Pool()\n",
    "op_async = pool.map_async(TSmax, range(0,p))\n",
    "ns = op_async.get()\n",
    "op_async = []\n",
    "pool = []\n",
    "##   ns.append(TSmax(i))"
   ]
  },
  {
   "cell_type": "code",
   "execution_count": 23,
   "metadata": {},
   "outputs": [
    {
     "name": "stderr",
     "output_type": "stream",
     "text": [
      "/tmp/ipykernel_6399/34067360.py:1: RuntimeWarning: divide by zero encountered in log\n",
      "  TS = lambda i, x: 2*np.sum(np.log(Pr(x,  Ns[i], S[i], B[i])/B[i]))\n",
      "/tmp/ipykernel_6399/34067360.py:1: RuntimeWarning: invalid value encountered in log\n",
      "  TS = lambda i, x: 2*np.sum(np.log(Pr(x,  Ns[i], S[i], B[i])/B[i]))\n",
      "/tmp/ipykernel_6399/34067360.py:1: RuntimeWarning: divide by zero encountered in divide\n",
      "  TS = lambda i, x: 2*np.sum(np.log(Pr(x,  Ns[i], S[i], B[i])/B[i]))\n",
      "/tmp/ipykernel_6399/34067360.py:1: RuntimeWarning: invalid value encountered in divide\n",
      "  TS = lambda i, x: 2*np.sum(np.log(Pr(x,  Ns[i], S[i], B[i])/B[i]))\n"
     ]
    }
   ],
   "source": [
    "tns = np.array([TS(i,ns[i]) for i in range(p)])"
   ]
  },
  {
   "cell_type": "code",
   "execution_count": 24,
   "metadata": {},
   "outputs": [],
   "source": [
    "c = []\n",
    "d = []\n",
    "for i in ns:\n",
    "    if i != 0:\n",
    "        c.append(ns.index(i))\n",
    "        d.append(TS(ns.index(i), i))\n",
    "        #print(TS(ns.index(i), i))"
   ]
  },
  {
   "cell_type": "code",
   "execution_count": 25,
   "metadata": {},
   "outputs": [
    {
     "data": {
      "text/plain": [
       "{306,\n",
       " 313,\n",
       " 314,\n",
       " 327,\n",
       " 346,\n",
       " 349,\n",
       " 370,\n",
       " 374,\n",
       " 378,\n",
       " 381,\n",
       " 394,\n",
       " 396,\n",
       " 397,\n",
       " 401,\n",
       " 413,\n",
       " 423,\n",
       " 434}"
      ]
     },
     "execution_count": 25,
     "metadata": {},
     "output_type": "execute_result"
    }
   ],
   "source": [
    "set(c)"
   ]
  },
  {
   "cell_type": "code",
   "execution_count": 26,
   "metadata": {},
   "outputs": [
    {
     "data": {
      "text/plain": [
       "45"
      ]
     },
     "execution_count": 26,
     "metadata": {},
     "output_type": "execute_result"
    }
   ],
   "source": [
    "len(c)"
   ]
  },
  {
   "cell_type": "code",
   "execution_count": 35,
   "metadata": {},
   "outputs": [],
   "source": [
    "cc = b\n",
    "for i in b.intersection(a):\n",
    "    cc.remove(i)"
   ]
  },
  {
   "cell_type": "code",
   "execution_count": 36,
   "metadata": {},
   "outputs": [
    {
     "data": {
      "text/plain": [
       "{0,\n",
       " 102,\n",
       " 266,\n",
       " 267,\n",
       " 268,\n",
       " 269,\n",
       " 271,\n",
       " 272,\n",
       " 279,\n",
       " 280,\n",
       " 281,\n",
       " 283,\n",
       " 287,\n",
       " 293,\n",
       " 294,\n",
       " 295,\n",
       " 296,\n",
       " 317,\n",
       " 337,\n",
       " 338,\n",
       " 339,\n",
       " 371,\n",
       " 372,\n",
       " 373,\n",
       " 375,\n",
       " 391,\n",
       " 404,\n",
       " 414,\n",
       " 426,\n",
       " 430,\n",
       " 439}"
      ]
     },
     "execution_count": 36,
     "metadata": {},
     "output_type": "execute_result"
    }
   ],
   "source": [
    "cc"
   ]
  },
  {
   "cell_type": "code",
   "execution_count": 27,
   "metadata": {},
   "outputs": [
    {
     "name": "stdout",
     "output_type": "stream",
     "text": [
      "Pulsar\tns\tTSmax\n",
      "306\t0.8951875870471693\t2.6227165370308443\n",
      "313\t0.6530224763421065\t0.7794822233951204\n",
      "314\t0.12081229769151437\t0.00865585480254083\n",
      "327\t2.664534896279492e-07\t-5.329069927448484e-07\n",
      "327\t2.664534896279492e-07\t-5.329069927448484e-07\n",
      "346\t4.2632556120914e-07\t-8.526511593907037e-07\n",
      "327\t2.664534896279492e-07\t-5.329069927448484e-07\n",
      "349\t0.5892875214196797\t0.5391789602559307\n",
      "327\t2.664534896279492e-07\t-5.329069927448484e-07\n",
      "327\t2.664534896279492e-07\t-5.329069927448484e-07\n",
      "346\t4.2632556120914e-07\t-8.526511593907037e-07\n",
      "327\t2.664534896279492e-07\t-5.329069927448484e-07\n",
      "370\t0.8784582935233775\t2.290122801938976\n",
      "374\t0.6061199607219406\t0.6260415334100278\n",
      "327\t2.664534896279492e-07\t-5.329069927448484e-07\n",
      "378\t1.0408074306781154\t2.1153680668592147\n",
      "381\t3.0\t-133.6395063092676\n",
      "381\t3.0\t-133.6395063092676\n",
      "381\t3.0\t-133.6395063092676\n",
      "381\t3.0\t-133.6395063092676\n",
      "381\t3.0\t-133.6395063092676\n",
      "381\t3.0\t-133.6395063092676\n",
      "394\t1.7772672324700647\t7.333028445540904\n",
      "396\t1.2457157824193523\t2.8356387005626047\n",
      "397\t2.3326554313735737\t9.101161587151855\n",
      "381\t3.0\t-133.6395063092676\n",
      "381\t3.0\t-133.6395063092676\n",
      "401\t0.7030606891773391\t0.9543180973325859\n",
      "381\t3.0\t-133.6395063092676\n",
      "381\t3.0\t-133.6395063092676\n",
      "381\t3.0\t-133.6395063092676\n",
      "381\t3.0\t-133.6395063092676\n",
      "381\t3.0\t-133.6395063092676\n",
      "381\t3.0\t-133.6395063092676\n",
      "381\t3.0\t-133.6395063092676\n",
      "381\t3.0\t-133.6395063092676\n",
      "381\t3.0\t-133.6395063092676\n",
      "381\t3.0\t-133.6395063092676\n",
      "413\t0.9709454725421236\t4.852813321092878\n",
      "423\t0.9930977233043357\t7.66873697021288\n",
      "381\t3.0\t-133.6395063092676\n",
      "381\t3.0\t-133.6395063092676\n",
      "381\t3.0\t-133.6395063092676\n",
      "381\t3.0\t-133.6395063092676\n",
      "434\t0.0899862681474545\t0.00843905938064432\n"
     ]
    }
   ],
   "source": [
    "print(\"Pulsar\\tns\\tTSmax\")\n",
    "for i in range(len(c)):\n",
    "    print(f\"{c[i]}\\t{ns[c[i]]}\\t{d[i]}\")"
   ]
  },
  {
   "cell_type": "markdown",
   "metadata": {},
   "source": [
    "TS(57, 45)"
   ]
  },
  {
   "cell_type": "code",
   "execution_count": 29,
   "metadata": {},
   "outputs": [
    {
     "name": "stderr",
     "output_type": "stream",
     "text": [
      "/tmp/ipykernel_6399/34067360.py:1: RuntimeWarning: divide by zero encountered in log\n",
      "  TS = lambda i, x: 2*np.sum(np.log(Pr(x,  Ns[i], S[i], B[i])/B[i]))\n",
      "/tmp/ipykernel_6399/34067360.py:1: RuntimeWarning: invalid value encountered in log\n",
      "  TS = lambda i, x: 2*np.sum(np.log(Pr(x,  Ns[i], S[i], B[i])/B[i]))\n"
     ]
    },
    {
     "data": {
      "image/png": "[encoded data removed]",
      "text/plain": [
       "<Figure size 576x432 with 1 Axes>"
      ]
     },
     "metadata": {
      "needs_background": "light"
     },
     "output_type": "display_data"
    }
   ],
   "source": [
    "i = 313\n",
    "n = np.array(range(0, 1000))\n",
    "ts = [TS(i, x) for x in range(1000)]\n",
    "plt.figure(figsize=(8,6))\n",
    "plt.xscale('log')\n",
    "plt.plot(n, ts)\n",
    "plt.xlabel('x')\n",
    "plt.ylabel(f'TS({i}, x)')\n",
    "plt.title(f\"{cut} cut {lt} cone TS({i})\")\n",
    "plt.savefig(f\"{cut}cut{lt}cone-TS({i}).jpg\")\n",
    "plt.show()\n"
   ]
  },
  {
   "cell_type": "code",
   "execution_count": 61,
   "metadata": {},
   "outputs": [],
   "source": [
    "psr = 0\n",
    "cut = 10\n",
    "nudata =  []\n",
    "f = open(f\"nnear_P{psr}_{cut}cut_{lt}cone.txt\", 'w')\n",
    "f.write(\"nura, nudec, angerr\\n\")\n",
    "for j in aang[psr]:\n",
    "    if j != -1 and j < cut:\n",
    "        nudata.append([icra[aang[psr].index(j)], icdec[aang[psr].index(j)], icang[aang[psr].index(j)]])\n",
    "        f.write(str([icra[aang[psr].index(j)], icdec[aang[psr].index(j)], icang[aang[psr].index(j)]]).replace('[', '').replace(']',''))\n",
    "        f.write('\\n')\n",
    "\n",
    "\n",
    "f.close()\n"
   ]
  },
  {
   "cell_type": "code",
   "execution_count": 62,
   "metadata": {},
   "outputs": [
    {
     "data": {
      "text/plain": [
       "1257"
      ]
     },
     "execution_count": 62,
     "metadata": {},
     "output_type": "execute_result"
    }
   ],
   "source": [
    "np.count_nonzero(np.add(aang[0] ,1))"
   ]
  },
  {
   "cell_type": "code",
   "execution_count": 63,
   "metadata": {},
   "outputs": [
    {
     "data": {
      "text/plain": [
       "[259.03333, 34.60306]"
      ]
     },
     "execution_count": 63,
     "metadata": {},
     "output_type": "execute_result"
    }
   ],
   "source": [
    "[msra[381], msdec[381]]"
   ]
  },
  {
   "cell_type": "code",
   "execution_count": 64,
   "metadata": {},
   "outputs": [],
   "source": [
    "icdata2.to_csv('100TeV_nu.txt', sep='\\t')"
   ]
  },
  {
   "cell_type": "code",
   "execution_count": 65,
   "metadata": {},
   "outputs": [
    {
     "data": {
      "text/plain": [
       "22"
      ]
     },
     "execution_count": 65,
     "metadata": {},
     "output_type": "execute_result"
    }
   ],
   "source": [
    "len(nudata)"
   ]
  },
  {
   "cell_type": "markdown",
   "metadata": {},
   "source": [
    "Common psrs between 10cut and 20cut: 313, 314, 349, 370, 374, 378, 381, 394, 396, 397, 423, 434\n",
    "\n",
    "\n",
    "0 in 20deg non zero 10 deg: 0, 102, 266, 267, 268, 269, 271, 272, 279, 280, 281, 283, 287, 293, 294, 295, 296, 317, 337,338, 339, 371, 372, 373, 375, 391, 404, 414, 426, 430, 439"
   ]
  },
  {
   "cell_type": "code",
   "execution_count": 55,
   "metadata": {},
   "outputs": [
    {
     "ename": "IndentationError",
     "evalue": "unindent does not match any outer indentation level (<tokenize>, line 5)",
     "output_type": "error",
     "traceback": [
      "\u001b[0;36m  File \u001b[0;32m\"<tokenize>\"\u001b[0;36m, line \u001b[0;32m5\u001b[0m\n\u001b[0;31m    Ns.append(count)\u001b[0m\n\u001b[0m    ^\u001b[0m\n\u001b[0;31mIndentationError\u001b[0m\u001b[0;31m:\u001b[0m unindent does not match any outer indentation level\n"
     ]
    }
   ],
   "source": [
    "for j in i:\n",
    "            if j != -1:\n",
    "                if j < cut:\n",
    "                    count += 1\n",
    "        Ns.append(count)\n",
    "    Ns = np.array(Ns)"
   ]
  },
  {
   "cell_type": "code",
   "execution_count": null,
   "metadata": {},
   "outputs": [],
   "source": []
  }
 ],
 "metadata": {
  "kernelspec": {
   "display_name": "Python 3.10.6 64-bit",
   "language": "python",
   "name": "python3"
  },
  "language_info": {
   "codemirror_mode": {
    "name": "ipython",
    "version": 3
   },
   "file_extension": ".py",
   "mimetype": "text/x-python",
   "name": "python",
   "nbconvert_exporter": "python",
   "pygments_lexer": "ipython3",
   "version": "3.10.6"
  },
  "orig_nbformat": 4,
  "vscode": {
   "interpreter": {
    "hash": "916dbcbb3f70747c44a77c7bcd40155683ae19c65e1c03b4aa3499c5328201f1"
   }
  }
 },
 "nbformat": 4,
 "nbformat_minor": 2
}
