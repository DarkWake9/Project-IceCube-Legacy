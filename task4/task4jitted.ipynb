{
 "cells": [
  {
   "cell_type": "markdown",
   "metadata": {},
   "source": [
    "# STACKING ANALYSIS"
   ]
  },
  {
   "cell_type": "markdown",
   "metadata": {},
   "source": [
    "### sped up stacking analysis using numba.jit decorator with nopython=true"
   ]
  },
  {
   "cell_type": "code",
   "execution_count": 1,
   "metadata": {},
   "outputs": [],
   "source": [
    "import numpy as np\n",
    "import pandas as pd\n",
    "import os\n",
    "import multiprocessing as mul\n",
    "from multiprocessing import Process\n",
    "import matplotlib.pyplot as plt\n",
    "#import seaborn as sns\n",
    "from scipy.optimize import minimize\n",
    "from scipy.optimize import curve_fit\n",
    "from IPython.display import clear_output\n",
    "from scipy.stats import chi2\n",
    "from scipy.stats import norm\n",
    "from scipy.stats import gaussian_kde\n",
    "import scipy.stats as sct\n",
    "from astropy.coordinates import SkyCoord as scr\n",
    "from astropy import units as u\n",
    "from time import sleep\n",
    "from numba import jit\n",
    "from tqdm import tqdm"
   ]
  },
  {
   "cell_type": "code",
   "execution_count": 2,
   "metadata": {},
   "outputs": [
    {
     "name": "stdout",
     "output_type": "stream",
     "text": [
      "read icdata\n",
      "IC40_exp.csv read\n",
      "IC59_exp.csv read\n",
      "IC79_exp.csv read\n",
      "IC86_I_exp.csv read\n",
      "IC86_II_exp.csv read\n",
      "IC86_III_exp.csv read\n",
      "IC86_IV_exp.csv read\n",
      "IC86_V_exp.csv read\n",
      "IC86_VI_exp.csv read\n",
      "IC86_VII_exp.csv read\n",
      "IC40_effectiveArea.csv read\n",
      "IC59_effectiveArea.csv read\n",
      "IC79_effectiveArea.csv read\n",
      "IC86_I_effectiveArea.csv read\n",
      "IC86_II_effectiveArea.csv read\n"
     ]
    }
   ],
   "source": [
    "####\n",
    "#### IMPORTING AND SPLITTING ICDATA $$$\n",
    "\n",
    "\n",
    "path = \"/media/darkwake/VIB2/Project-IceCube/icecube_10year_ps/events\"\n",
    "t_eff_path = \"/media/darkwake/VIB2/Project-IceCube/icecube_10year_ps/uptime\"\n",
    "irf_path = \"/media/darkwake/VIB2/Project-IceCube/icecube_10year_ps/irfs\"\n",
    "filenames = [\"IC40_exp.csv\", \"IC59_exp.csv\",\"IC79_exp.csv\", \"IC86_I_exp.csv\", \"IC86_II_exp.csv\",\n",
    "\"IC86_III_exp.csv\", \"IC86_IV_exp.csv\", \"IC86_V_exp.csv\", \"IC86_VI_exp.csv\", \"IC86_VII_exp.csv\"]\n",
    "file = filenames[0]\n",
    "f = open(os.path.join(path, file), 'r')\n",
    "lines = f.readlines()\n",
    "column=lines[0].split()\n",
    "column.pop(0)\n",
    "content = []\n",
    "for file in filenames:\n",
    "    f = open(os.path.join(path, file), 'r')\n",
    "    lines = f.readlines()\n",
    "    #print(len(lines) - 1)\n",
    "    for line in lines[1:]:\n",
    "        content.append(line.split())\n",
    "    f.close()\n",
    "icdata = pd.DataFrame(content, columns=column, dtype=float)#.convert_dtypes(infer_objects=True,convert_integer=True,convert_floating=True)\n",
    "icdata['log10(E/GeV)'] = [float(i) for i in icdata['log10(E/GeV)']]\n",
    "icdata['MJD[days]'] = [float(i) for i in icdata['MJD[days]']]\n",
    "\n",
    "print(\"read icdata\")\n",
    "f.close()\n",
    "\n",
    "\n",
    "\n",
    "#Importing UPtime data\n",
    "file = filenames[0]\n",
    "f = open(os.path.join(t_eff_path, file), 'r')\n",
    "lines = f.readlines()\n",
    "column=lines[0].split()\n",
    "column.pop(0)\n",
    "uptdata = []\n",
    "for file in filenames:\n",
    "    content = []\n",
    "    f = open(os.path.join(t_eff_path, file), 'r')\n",
    "    lines = f.readlines()\n",
    "    for line in lines[1:]:\n",
    "        content.append(line.split())\n",
    "    f.close()\n",
    "    temp = pd.DataFrame(content, columns=column)\n",
    "    temp['MJD_start[days]'] = [float(i) for i in temp['MJD_start[days]']]\n",
    "    temp['MJD_stop[days]'] = [float(i) for i in temp['MJD_stop[days]']]\n",
    "    uptdata.append(temp)\n",
    "    temp = []\n",
    "    content = []\n",
    "    print(file + \" read\")\n",
    "f.close()\n",
    "\n",
    "\n",
    "#Importing Aeff data\n",
    "filenames = [\"IC40_effectiveArea.csv\", \"IC59_effectiveArea.csv\",\"IC79_effectiveArea.csv\", \"IC86_I_effectiveArea.csv\", \"IC86_II_effectiveArea.csv\"]\n",
    "file = filenames[0]\n",
    "f = open(os.path.join(irf_path, file), 'r')\n",
    "lines = f.readlines()\n",
    "column=lines[0].split()\n",
    "column.pop(0)\n",
    "eadata = []\n",
    "for file in filenames:\n",
    "    content = []\n",
    "    f = open(os.path.join(irf_path, file), 'r')\n",
    "    lines = f.readlines()\n",
    "    for line in lines[1:]:\n",
    "        content.append(line.split())\n",
    "    f.close()\n",
    "    temp = pd.DataFrame(content, columns=column, dtype=float)\n",
    "    #temp['MJD_start[days]'] = [float(i) for i in temp['MJD_start[days]']]\n",
    "    #temp['MJD_stop[days]'] = [float(i) for i in temp['MJD_stop[days]']]\n",
    "    eadata.append(temp)\n",
    "    temp = []\n",
    "    content = []\n",
    "    print(file + \" read\")\n",
    "f.close()"
   ]
  },
  {
   "cell_type": "code",
   "execution_count": 3,
   "metadata": {},
   "outputs": [
    {
     "name": "stdout",
     "output_type": "stream",
     "text": [
      "1134450\n"
     ]
    }
   ],
   "source": [
    "icwidths = [int(i) for i in \"0 36900 107011 93133 136244 112858 122541 127045 129311 123657 145750\".split(' ')]\n",
    "print(np.sum(icwidths))"
   ]
  },
  {
   "cell_type": "code",
   "execution_count": 4,
   "metadata": {},
   "outputs": [
    {
     "data": {
      "text/html": [
       "<div>\n",
       "<style scoped>\n",
       "    .dataframe tbody tr th:only-of-type {\n",
       "        vertical-align: middle;\n",
       "    }\n",
       "\n",
       "    .dataframe tbody tr th {\n",
       "        vertical-align: top;\n",
       "    }\n",
       "\n",
       "    .dataframe thead th {\n",
       "        text-align: right;\n",
       "    }\n",
       "</style>\n",
       "<table border=\"1\" class=\"dataframe\">\n",
       "  <thead>\n",
       "    <tr style=\"text-align: right;\">\n",
       "      <th></th>\n",
       "      <th>MJD[days]</th>\n",
       "      <th>log10(E/GeV)</th>\n",
       "      <th>AngErr[deg]</th>\n",
       "      <th>RA[deg]</th>\n",
       "      <th>Dec[deg]</th>\n",
       "      <th>Azimuth[deg]</th>\n",
       "      <th>Zenith[deg]</th>\n",
       "    </tr>\n",
       "  </thead>\n",
       "  <tbody>\n",
       "    <tr>\n",
       "      <th>0</th>\n",
       "      <td>54562.379113</td>\n",
       "      <td>3.31</td>\n",
       "      <td>0.48</td>\n",
       "      <td>203.024</td>\n",
       "      <td>16.760</td>\n",
       "      <td>218.374</td>\n",
       "      <td>106.712</td>\n",
       "    </tr>\n",
       "    <tr>\n",
       "      <th>1</th>\n",
       "      <td>54562.386622</td>\n",
       "      <td>5.17</td>\n",
       "      <td>0.62</td>\n",
       "      <td>75.024</td>\n",
       "      <td>-13.371</td>\n",
       "      <td>349.100</td>\n",
       "      <td>76.646</td>\n",
       "    </tr>\n",
       "    <tr>\n",
       "      <th>2</th>\n",
       "      <td>54562.387892</td>\n",
       "      <td>3.92</td>\n",
       "      <td>0.56</td>\n",
       "      <td>97.501</td>\n",
       "      <td>11.290</td>\n",
       "      <td>327.060</td>\n",
       "      <td>101.291</td>\n",
       "    </tr>\n",
       "    <tr>\n",
       "      <th>3</th>\n",
       "      <td>54562.392677</td>\n",
       "      <td>5.57</td>\n",
       "      <td>1.13</td>\n",
       "      <td>305.857</td>\n",
       "      <td>-33.932</td>\n",
       "      <td>120.413</td>\n",
       "      <td>56.090</td>\n",
       "    </tr>\n",
       "    <tr>\n",
       "      <th>4</th>\n",
       "      <td>54562.404776</td>\n",
       "      <td>5.80</td>\n",
       "      <td>1.11</td>\n",
       "      <td>143.516</td>\n",
       "      <td>-38.279</td>\n",
       "      <td>287.171</td>\n",
       "      <td>51.684</td>\n",
       "    </tr>\n",
       "    <tr>\n",
       "      <th>...</th>\n",
       "      <td>...</td>\n",
       "      <td>...</td>\n",
       "      <td>...</td>\n",
       "      <td>...</td>\n",
       "      <td>...</td>\n",
       "      <td>...</td>\n",
       "      <td>...</td>\n",
       "    </tr>\n",
       "    <tr>\n",
       "      <th>1134445</th>\n",
       "      <td>58307.961110</td>\n",
       "      <td>5.14</td>\n",
       "      <td>0.20</td>\n",
       "      <td>221.246</td>\n",
       "      <td>-59.959</td>\n",
       "      <td>141.239</td>\n",
       "      <td>29.956</td>\n",
       "    </tr>\n",
       "    <tr>\n",
       "      <th>1134446</th>\n",
       "      <td>58307.962666</td>\n",
       "      <td>2.94</td>\n",
       "      <td>1.23</td>\n",
       "      <td>191.547</td>\n",
       "      <td>4.415</td>\n",
       "      <td>171.627</td>\n",
       "      <td>94.312</td>\n",
       "    </tr>\n",
       "    <tr>\n",
       "      <th>1134447</th>\n",
       "      <td>58307.963556</td>\n",
       "      <td>2.88</td>\n",
       "      <td>0.30</td>\n",
       "      <td>308.127</td>\n",
       "      <td>42.543</td>\n",
       "      <td>55.437</td>\n",
       "      <td>132.606</td>\n",
       "    </tr>\n",
       "    <tr>\n",
       "      <th>1134448</th>\n",
       "      <td>58307.963972</td>\n",
       "      <td>2.98</td>\n",
       "      <td>0.21</td>\n",
       "      <td>332.199</td>\n",
       "      <td>44.720</td>\n",
       "      <td>31.489</td>\n",
       "      <td>134.811</td>\n",
       "    </tr>\n",
       "    <tr>\n",
       "      <th>1134449</th>\n",
       "      <td>58307.972603</td>\n",
       "      <td>3.28</td>\n",
       "      <td>0.25</td>\n",
       "      <td>213.309</td>\n",
       "      <td>4.708</td>\n",
       "      <td>153.453</td>\n",
       "      <td>94.619</td>\n",
       "    </tr>\n",
       "  </tbody>\n",
       "</table>\n",
       "<p>1134450 rows × 7 columns</p>\n",
       "</div>"
      ],
      "text/plain": [
       "            MJD[days]  log10(E/GeV)  AngErr[deg]  RA[deg]  Dec[deg]  \\\n",
       "0        54562.379113          3.31         0.48  203.024    16.760   \n",
       "1        54562.386622          5.17         0.62   75.024   -13.371   \n",
       "2        54562.387892          3.92         0.56   97.501    11.290   \n",
       "3        54562.392677          5.57         1.13  305.857   -33.932   \n",
       "4        54562.404776          5.80         1.11  143.516   -38.279   \n",
       "...               ...           ...          ...      ...       ...   \n",
       "1134445  58307.961110          5.14         0.20  221.246   -59.959   \n",
       "1134446  58307.962666          2.94         1.23  191.547     4.415   \n",
       "1134447  58307.963556          2.88         0.30  308.127    42.543   \n",
       "1134448  58307.963972          2.98         0.21  332.199    44.720   \n",
       "1134449  58307.972603          3.28         0.25  213.309     4.708   \n",
       "\n",
       "         Azimuth[deg]  Zenith[deg]  \n",
       "0             218.374      106.712  \n",
       "1             349.100       76.646  \n",
       "2             327.060      101.291  \n",
       "3             120.413       56.090  \n",
       "4             287.171       51.684  \n",
       "...               ...          ...  \n",
       "1134445       141.239       29.956  \n",
       "1134446       171.627       94.312  \n",
       "1134447        55.437      132.606  \n",
       "1134448        31.489      134.811  \n",
       "1134449       153.453       94.619  \n",
       "\n",
       "[1134450 rows x 7 columns]"
      ]
     },
     "execution_count": 4,
     "metadata": {},
     "output_type": "execute_result"
    }
   ],
   "source": [
    "icdata"
   ]
  },
  {
   "cell_type": "code",
   "execution_count": 5,
   "metadata": {},
   "outputs": [],
   "source": [
    "ictimes = [float(i) for i in icdata['MJD[days]']]\n",
    "icparts = [np.sum(icwidths[:i]) for i in range(1,len(icwidths)+1)]\n",
    "#icparts.pop(-1)\n",
    "#icparts"
   ]
  },
  {
   "cell_type": "code",
   "execution_count": 6,
   "metadata": {},
   "outputs": [
    {
     "data": {
      "text/plain": [
       "True"
      ]
     },
     "execution_count": 6,
     "metadata": {},
     "output_type": "execute_result"
    }
   ],
   "source": [
    "upt_icparts = icparts[:5]\n",
    "upt_icparts.append(icparts[-1])\n",
    "len(upt_icparts) - 1 == len(eadata)"
   ]
  },
  {
   "cell_type": "code",
   "execution_count": 7,
   "metadata": {},
   "outputs": [],
   "source": [
    "log_e = np.round(np.arange(2, 10.2, 0.2), 2)\n",
    "dec_nu = list(set(eadata[0]['Dec_nu_min[deg]'].values).union(set(eadata[0]['Dec_nu_max[deg]'].values)))\n",
    "dec_nu.sort()\n",
    "dec_nu = np.array(dec_nu)"
   ]
  },
  {
   "cell_type": "code",
   "execution_count": 8,
   "metadata": {},
   "outputs": [
    {
     "name": "stdout",
     "output_type": "stream",
     "text": [
      "[15, 39]\n"
     ]
    }
   ],
   "source": [
    "nu_e = 5\n",
    "e_ind = 0\n",
    "for i in range(len(log_e) - 1):\n",
    "    if nu_e >= log_e[i] and nu_e < log_e[i+1]:\n",
    "        e_ind = i\n",
    "print([e_ind, i])"
   ]
  },
  {
   "cell_type": "code",
   "execution_count": 9,
   "metadata": {},
   "outputs": [
    {
     "data": {
      "text/html": [
       "<div>\n",
       "<style scoped>\n",
       "    .dataframe tbody tr th:only-of-type {\n",
       "        vertical-align: middle;\n",
       "    }\n",
       "\n",
       "    .dataframe tbody tr th {\n",
       "        vertical-align: top;\n",
       "    }\n",
       "\n",
       "    .dataframe thead th {\n",
       "        text-align: right;\n",
       "    }\n",
       "</style>\n",
       "<table border=\"1\" class=\"dataframe\">\n",
       "  <thead>\n",
       "    <tr style=\"text-align: right;\">\n",
       "      <th></th>\n",
       "      <th>NAME</th>\n",
       "      <th>RAJD</th>\n",
       "      <th>DECJD</th>\n",
       "    </tr>\n",
       "  </thead>\n",
       "  <tbody>\n",
       "    <tr>\n",
       "      <th>0</th>\n",
       "      <td>J0002+6216</td>\n",
       "      <td>0.74238</td>\n",
       "      <td>62.26928</td>\n",
       "    </tr>\n",
       "    <tr>\n",
       "      <th>1</th>\n",
       "      <td>J0006+1834</td>\n",
       "      <td>1.52</td>\n",
       "      <td>18.5831</td>\n",
       "    </tr>\n",
       "    <tr>\n",
       "      <th>2</th>\n",
       "      <td>J0007+7303</td>\n",
       "      <td>1.7571</td>\n",
       "      <td>73.0521</td>\n",
       "    </tr>\n",
       "    <tr>\n",
       "      <th>3</th>\n",
       "      <td>J0011+08</td>\n",
       "      <td>2.9</td>\n",
       "      <td>8.17</td>\n",
       "    </tr>\n",
       "    <tr>\n",
       "      <th>4</th>\n",
       "      <td>B0011+47</td>\n",
       "      <td>3.57396</td>\n",
       "      <td>47.77594</td>\n",
       "    </tr>\n",
       "    <tr>\n",
       "      <th>...</th>\n",
       "      <td>...</td>\n",
       "      <td>...</td>\n",
       "      <td>...</td>\n",
       "    </tr>\n",
       "    <tr>\n",
       "      <th>3336</th>\n",
       "      <td>J2351+8533</td>\n",
       "      <td>357.764</td>\n",
       "      <td>85.55573</td>\n",
       "    </tr>\n",
       "    <tr>\n",
       "      <th>3337</th>\n",
       "      <td>J2352+65</td>\n",
       "      <td>358</td>\n",
       "      <td>65</td>\n",
       "    </tr>\n",
       "    <tr>\n",
       "      <th>3338</th>\n",
       "      <td>J2354-22</td>\n",
       "      <td>358.60833</td>\n",
       "      <td>-22.86472</td>\n",
       "    </tr>\n",
       "    <tr>\n",
       "      <th>3339</th>\n",
       "      <td>B2351+61</td>\n",
       "      <td>358.5199292</td>\n",
       "      <td>61.9296792</td>\n",
       "    </tr>\n",
       "    <tr>\n",
       "      <th>3340</th>\n",
       "      <td>J2355+2246</td>\n",
       "      <td>358.9575</td>\n",
       "      <td>22.771</td>\n",
       "    </tr>\n",
       "  </tbody>\n",
       "</table>\n",
       "<p>3341 rows × 3 columns</p>\n",
       "</div>"
      ],
      "text/plain": [
       "            NAME         RAJD       DECJD\n",
       "0     J0002+6216      0.74238    62.26928\n",
       "1     J0006+1834         1.52     18.5831\n",
       "2     J0007+7303       1.7571     73.0521\n",
       "3       J0011+08          2.9        8.17\n",
       "4       B0011+47      3.57396    47.77594\n",
       "...          ...          ...         ...\n",
       "3336  J2351+8533      357.764    85.55573\n",
       "3337    J2352+65          358          65\n",
       "3338    J2354-22    358.60833   -22.86472\n",
       "3339    B2351+61  358.5199292  61.9296792\n",
       "3340  J2355+2246     358.9575      22.771\n",
       "\n",
       "[3341 rows x 3 columns]"
      ]
     },
     "execution_count": 9,
     "metadata": {},
     "output_type": "execute_result"
    }
   ],
   "source": [
    "#IMPORTING MSPDATA\n",
    "f = open(\"/media/darkwake/VIB2/Project-IceCube/allpsr1.68.txt\", 'r')\n",
    "lines = f.readlines()\n",
    "content=[]\n",
    "column=lines.pop(0).replace('x', '').replace('#', '').split()\n",
    "for line in lines[:]:\n",
    "    content.append(line.split())\n",
    "    #the INITAL DATABASE IS CLUTTERED SO WE REMOVE THE NULL COLUMNS AND OTHER CLUTTER\n",
    "f.close()\n",
    "mspdata = pd.DataFrame(content).drop(0, axis=1)#.dropna()#.drop_duplicates()#.drop(range(0,6)).dropna()\n",
    "\n",
    "line = []\n",
    "lines = []\n",
    "mspdata.columns = column\n",
    "column = []\n",
    "content=[]\n",
    "#mspdata = mspdata.sort_values('DECJD')\n",
    "mspdata.dropna(inplace=True)\n",
    "#mspdata = mspdata.reset_index()\n",
    "#mspdata = mspdata.drop(\"index\", axis=1)\n",
    "mspdata"
   ]
  },
  {
   "cell_type": "code",
   "execution_count": 10,
   "metadata": {},
   "outputs": [],
   "source": [
    "msra = np.array([float(i) for i in mspdata['RAJD'].values])\n",
    "msdec = np.array([float(i) for i in mspdata['DECJD'].values])\n",
    "icra = np.array([float(i) for i in icdata['RA[deg]']])\n",
    "icdec = np.array([float(i) for i in icdata['Dec[deg]']])\n",
    "icang = np.array([float(i) for i in icdata['AngErr[deg]']])\n",
    "global p, lg, lnu\n",
    "p = len(msra)\n",
    "lg = len(icra) // p + 1\n",
    "lnu = len(icra)"
   ]
  },
  {
   "cell_type": "code",
   "execution_count": 11,
   "metadata": {},
   "outputs": [
    {
     "data": {
      "text/plain": [
       "[-89.957, 89.977]"
      ]
     },
     "execution_count": 11,
     "metadata": {},
     "output_type": "execute_result"
    }
   ],
   "source": [
    "[min(icdec), max(icdec)]"
   ]
  },
  {
   "cell_type": "code",
   "execution_count": 12,
   "metadata": {},
   "outputs": [
    {
     "data": {
      "text/plain": [
       "array([203.024, 147.017, 236.214])"
      ]
     },
     "execution_count": 12,
     "metadata": {},
     "output_type": "execute_result"
    }
   ],
   "source": [
    "icra[[0, 6, 8] ]"
   ]
  },
  {
   "cell_type": "markdown",
   "metadata": {},
   "source": [
    "## STACKING ANALYSIS"
   ]
  },
  {
   "cell_type": "markdown",
   "metadata": {},
   "source": [
    "$\\gamma$ = 2.0\n",
    "\n",
    "$e_{nu}$ = $1e11^{ \\gamma}$\n",
    "\n",
    "\n",
    "weights = \\[$A_{eff}$[i] * $T_{uptime}$[i] * $e_{nu}$ *0.2  for i in range(len(A_{eff}))\\]"
   ]
  },
  {
   "cell_type": "markdown",
   "metadata": {},
   "source": [
    "![SNOWFALL](test.png)"
   ]
  },
  {
   "cell_type": "code",
   "execution_count": 13,
   "metadata": {},
   "outputs": [],
   "source": [
    "e_nu = 1e9**(log_e[:-1] + 0.1)\n",
    "de_nu = 1e9**0.2"
   ]
  },
  {
   "cell_type": "code",
   "execution_count": 14,
   "metadata": {},
   "outputs": [
    {
     "data": {
      "text/plain": [
       "40"
      ]
     },
     "execution_count": 14,
     "metadata": {},
     "output_type": "execute_result"
    }
   ],
   "source": [
    "len(e_nu)"
   ]
  },
  {
   "cell_type": "code",
   "execution_count": 15,
   "metadata": {},
   "outputs": [],
   "source": [
    "upstop_ttt = np.asfarray([uptdata[i]['MJD_stop[days]'].values[-1] for i in range(len(uptdata))])\n",
    "upstart_ttt = np.asfarray([uptdata[i]['MJD_start[days]'].values[0] for i in range(len(uptdata))])\n",
    "earea = np.array([eadata[i]['A_Eff[cm^2]'].values for i in range(len(eadata))]) * 1e-4"
   ]
  },
  {
   "cell_type": "code",
   "execution_count": 20,
   "metadata": {},
   "outputs": [
    {
     "data": {
      "text/plain": [
       "array([ 2. ,  2.2,  2.4,  2.6,  2.8,  3. ,  3.2,  3.4,  3.6,  3.8,  4. ,\n",
       "        4.2,  4.4,  4.6,  4.8,  5. ,  5.2,  5.4,  5.6,  5.8,  6. ,  6.2,\n",
       "        6.4,  6.6,  6.8,  7. ,  7.2,  7.4,  7.6,  7.8,  8. ,  8.2,  8.4,\n",
       "        8.6,  8.8,  9. ,  9.2,  9.4,  9.6,  9.8, 10. ])"
      ]
     },
     "execution_count": 20,
     "metadata": {},
     "output_type": "execute_result"
    }
   ],
   "source": [
    "log_e"
   ]
  },
  {
   "cell_type": "code",
   "execution_count": 21,
   "metadata": {},
   "outputs": [],
   "source": [
    "de_nu = 1e9**log_e[1:] - 1e9**log_e[:-1]"
   ]
  },
  {
   "cell_type": "code",
   "execution_count": 22,
   "metadata": {},
   "outputs": [
    {
     "data": {
      "text/plain": [
       "array([6.20957344e+19, 3.91797597e+21, 2.47207571e+23, 1.55977433e+25,\n",
       "       9.84151068e+26, 6.20957344e+28, 3.91797597e+30, 2.47207571e+32,\n",
       "       1.55977433e+34, 9.84151068e+35, 6.20957344e+37, 3.91797597e+39,\n",
       "       2.47207571e+41, 1.55977433e+43, 9.84151068e+44, 6.20957344e+46,\n",
       "       3.91797597e+48, 2.47207571e+50, 1.55977433e+52, 9.84151068e+53,\n",
       "       6.20957344e+55, 3.91797597e+57, 2.47207571e+59, 1.55977433e+61,\n",
       "       9.84151068e+62, 6.20957344e+64, 3.91797597e+66, 2.47207571e+68,\n",
       "       1.55977433e+70, 9.84151068e+71, 6.20957344e+73, 3.91797597e+75,\n",
       "       2.47207571e+77, 1.55977433e+79, 9.84151068e+80, 6.20957344e+82,\n",
       "       3.91797597e+84, 2.47207571e+86, 1.55977433e+88, 9.84151068e+89])"
      ]
     },
     "execution_count": 22,
     "metadata": {},
     "output_type": "execute_result"
    }
   ],
   "source": [
    "de_nu"
   ]
  },
  {
   "cell_type": "code",
   "execution_count": 23,
   "metadata": {},
   "outputs": [],
   "source": [
    "@jit(nopython=True)\n",
    "def psr_wt_quick(nusample_wall, psrno, gamma = 1):\n",
    "\n",
    "    '''\n",
    "    Parameters\n",
    "    ----------\n",
    "    nusample_wall : float\n",
    "        The index of catalogue of the given neutrino\n",
    "    psrno : int\n",
    "        The index of the pulsar in the ATNF catalogue\n",
    "    gamma : float, optional\n",
    "        (default) 1\n",
    "        The spectral index of the power law\n",
    "    Returns the weight of psrno^th pulsar for a given neutrino sample {nusample_wall}\n",
    "    '''\n",
    "    \n",
    "    #nu_e = icdata['log10(E/GeV)'].values[nu]\n",
    "    psr_decl = icdec[psrno]\n",
    "    #upt = upt_icparts[nusample_wall]\n",
    "    t_upt = upstop_ttt[nusample_wall] - upstart_ttt[nusample_wall]\n",
    "    t_upt*=86400\n",
    "    d_ind = 0\n",
    "    for i in range(len(dec_nu) - 1):\n",
    "        if dec_nu[i] <= psr_decl and dec_nu[i+1] >= psr_decl:\n",
    "            d_ind = i\n",
    "            break\n",
    "    ea_temp = earea[nusample_wall][d_ind*40:(d_ind+1)*40]\n",
    "    #earea = np.array(ea_temp['A_Eff[cm^2]'].values) * 1e-4\n",
    "    weight_kj = t_upt * np.sum(np.multiply(np.multiply(ea_temp, np.power(e_nu, gamma)), de_nu))\n",
    "    #sleep(1e-8)\n",
    "    return weight_kj                           \n",
    "            "
   ]
  },
  {
   "cell_type": "markdown",
   "metadata": {},
   "source": [
    "all_weights[i][j] = weight of pulsar i in j^th partition of uptime data (upt_part)"
   ]
  },
  {
   "cell_type": "code",
   "execution_count": 24,
   "metadata": {},
   "outputs": [
    {
     "data": {
      "text/plain": [
       "3.2767281058631168e+187"
      ]
     },
     "execution_count": 24,
     "metadata": {},
     "output_type": "execute_result"
    }
   ],
   "source": [
    "psr_wt_quick(0, 0, 1)"
   ]
  },
  {
   "cell_type": "code",
   "execution_count": 25,
   "metadata": {},
   "outputs": [
    {
     "name": "stderr",
     "output_type": "stream",
     "text": [
      "100%|██████████| 5/5 [00:00<00:00, 252.25it/s]"
     ]
    },
    {
     "name": "stdout",
     "output_type": "stream",
     "text": [
      "0\n",
      "36900\n",
      "143911\n",
      "237044\n",
      "373288\n"
     ]
    },
    {
     "name": "stderr",
     "output_type": "stream",
     "text": [
      "\n"
     ]
    },
    {
     "data": {
      "text/plain": [
       "array([3.50594645e+193, 4.26770678e+175, 4.34368125e+175, 5.65117313e+175,\n",
       "       5.38431940e+175])"
      ]
     },
     "execution_count": 25,
     "metadata": {},
     "output_type": "execute_result"
    }
   ],
   "source": [
    "from tqdm import tqdm\n",
    "all_weights = []\n",
    "gamma = 1\n",
    "for i in tqdm(range(len(upt_icparts)-1)):\n",
    "    print(upt_icparts[i])\n",
    "    all_weights.append([psr_wt_quick(i, psrno, gamma) for psrno in range(p)])\n",
    "all_weights = np.asfarray(all_weights)\n",
    "sum_weights = [np.sum(i) for i in all_weights]\n",
    "sum_weights = np.asfarray(sum_weights)\n",
    "sum_weights"
   ]
  },
  {
   "cell_type": "code",
   "execution_count": 26,
   "metadata": {},
   "outputs": [
    {
     "data": {
      "text/plain": [
       "numpy.ndarray"
      ]
     },
     "execution_count": 26,
     "metadata": {},
     "output_type": "execute_result"
    }
   ],
   "source": [
    "type(all_weights[0])"
   ]
  },
  {
   "cell_type": "code",
   "execution_count": 27,
   "metadata": {},
   "outputs": [],
   "source": [
    "vec_uptparts = np.asarray(upt_icparts, dtype=np.int64)"
   ]
  },
  {
   "cell_type": "code",
   "execution_count": 28,
   "metadata": {},
   "outputs": [],
   "source": [
    "icdata = []\n",
    "mspdata = []\n",
    "uptdata = []\n",
    "eadata = []"
   ]
  },
  {
   "cell_type": "code",
   "execution_count": 29,
   "metadata": {},
   "outputs": [],
   "source": [
    "@jit(nopython=True)\n",
    "def hvovec(lon1=0.0, lat1=0.0, lon2=0.0, lat2=0.0, rad=False):\n",
    "\n",
    "    '''\n",
    "    Parameters\n",
    "    ----------\n",
    "    lon1 : float\n",
    "        Longitude of first point.\n",
    "    lat1 : float\n",
    "        Latitude of first point.\n",
    "\n",
    "\n",
    "    lon2 : float\n",
    "        Longitude of second point.\n",
    "    lat2 : float\n",
    "        Latitude of second point.\n",
    "\n",
    "    rad : Boolean, optional\n",
    "        (default) False -> Angle is returned in Degrees\n",
    "        True -> Angle is returned in radians\n",
    "    \n",
    "\n",
    "    Returns\n",
    "    -------\n",
    "    float\n",
    "        Returns the haversine angle between two vectors given their latitude and longitude\n",
    "    \n",
    "\n",
    "    Warning\n",
    "    -------\n",
    "        This function assumes the input to be in degrees and of equal length\\n\n",
    "        or one of the input pairs to be a single value and the other pair to be an array\n",
    "    '''\n",
    "\n",
    "    #Convert decimal degrees to Radians:\n",
    "    lon1 = np.deg2rad(lon1)\n",
    "    lat1 = np.deg2rad(lat1)\n",
    "    lon2 = np.deg2rad(lon2)\n",
    "    lat2 = np.deg2rad(lat2)\n",
    "\n",
    "    #Implementing Haversine Formula: \n",
    "    dlon = np.subtract(lon2, lon1)\n",
    "    #dlat = np.subtract(lat2, lat1)\n",
    "\n",
    "    a = np.add(np.multiply(np.sin(lat1), np.sin(lat2)), np.multiply(np.multiply(np.cos(lat1), np.cos(lat2)), np.cos(dlon)))\n",
    "\n",
    "    if rad == True:\n",
    "        return np.arccos(a)\n",
    "    else:\n",
    "        return np.abs(np.rad2deg(np.arccos(a)))\n"
   ]
  },
  {
   "cell_type": "code",
   "execution_count": 30,
   "metadata": {},
   "outputs": [],
   "source": [
    "@jit(nopython=True)\n",
    "def S_ij(nu): \n",
    "\n",
    "    '''\n",
    "    Returns the signal PDF for the {psrno}th pulsar and nuind_inp neutrino\n",
    "    '''\n",
    "    ang2 = hvovec(msra, msdec, icra[nu], icdec[nu], rad=True) ** 2#, icra[nuind], icdec[nuind], rad=True) ** 2\n",
    "    sg = np.deg2rad(icang[nu]) ** 2\n",
    "    return np.divide(np.exp(-1 * np.divide(ang2, 2*sg)), (2 * np.pi * sg))\n",
    "\n",
    "@jit(nopython=True)\n",
    "def S_i(nu, all_weights, sum_weights, wall):\n",
    "\n",
    "    '''\n",
    "        Parameters\n",
    "        ----------\n",
    "        nu : int\n",
    "            Index of the neutrino in the sample\n",
    "\n",
    "        Returns\n",
    "        -------\n",
    "        Returns the signal PDF for the {nu}th neutrino with all pulsars \n",
    "        i.e S_i = wieghted-sum_j S_ij\n",
    "    '''\n",
    "\n",
    "\n",
    "\n",
    "    sij = S_ij(nu)\n",
    "    \n",
    "    #sleep(1e-8)\n",
    "    return np.sum(np.multiply(sij, all_weights[wall] / sum_weights[wall]))\n",
    "    #return np.dot(sij, all_weights[wall] ) / sum_weights[wall]\n",
    "\n"
   ]
  },
  {
   "cell_type": "markdown",
   "metadata": {},
   "source": [
    "![SNOWFALL](bg.png)"
   ]
  },
  {
   "cell_type": "markdown",
   "metadata": {},
   "source": [
    "### For this project, Cone is $5{\\degree}$"
   ]
  },
  {
   "cell_type": "code",
   "execution_count": 31,
   "metadata": {},
   "outputs": [
    {
     "data": {
      "text/plain": [
       "array([      0,   36900,  143911,  237044,  373288, 1134450])"
      ]
     },
     "execution_count": 31,
     "metadata": {},
     "output_type": "execute_result"
    }
   ],
   "source": [
    "vec_uptparts"
   ]
  },
  {
   "cell_type": "code",
   "execution_count": 32,
   "metadata": {},
   "outputs": [],
   "source": [
    "@jit(nopython=True)\n",
    "def Bi_stacked(nu, cone):\n",
    "\n",
    "    '''\n",
    "    Parameters\n",
    "    ----------\n",
    "    nu : int\n",
    "        Index of the neutrino from IceCube sample\n",
    "    cone : float\n",
    "        Cone angle in degrees.\n",
    "    \n",
    "\n",
    "    Returns\n",
    "    -------\n",
    "    float\n",
    "        Returns the background PDF for the {nu}th neutrino\n",
    "    '''\n",
    "\n",
    "    #count = 0\n",
    "    #count = np.count_nonzero(np.abs(np.subtract(icdec, icdec[nu])) <= cone)\n",
    "    #print(count)\n",
    "    count = 0\n",
    "    for i in range(len(icdec)):\n",
    "        if abs(icdec[i] - icdec[nu]) <= cone:\n",
    "            count+=1\n",
    "    #print(count)\n",
    "    binwidth = (np.sin(np.deg2rad(icdec[nu] + cone)) - np.sin(np.deg2rad(icdec[nu] - cone)))*2*np.pi\n",
    "    #sleep(1e-8)\n",
    "    return count/(binwidth * lnu)\n",
    "    \n",
    "\n",
    "@jit(nopython=True)\n",
    "def Pr(x, Ns, S, B):\n",
    "\n",
    "    '''\n",
    "    Parameters\n",
    "    ----------\n",
    "    x : int\n",
    "        Assumed no.of associated events\n",
    "\n",
    "    Ns : int\n",
    "        No.of neutrinos used for analysis\n",
    "\n",
    "    S : float\n",
    "        Signal PDF\n",
    "    B : float\n",
    "        Background PDF\n",
    "    \n",
    "    Returns\n",
    "    -------\n",
    "    float \n",
    "        Returns the probability of the selected set of neutrinos being associated\\n\n",
    "        with a given pulsar with {Ns} neutrinos, {S} signal and {B} background PDF and {x} assumed associated events\n",
    "    '''\n",
    "\n",
    "    nsN = x/Ns\n",
    "    return np.add(np.multiply(nsN , S), np.multiply(np.subtract(1, nsN), B))\n",
    "\n",
    "\n",
    "@jit(nopython=True)\n",
    "def wall_nu(nu):\n",
    "    \n",
    "        '''\n",
    "        Parameters\n",
    "        ----------\n",
    "        nu : int\n",
    "            Index of the neutrino from IceCube sample\n",
    "        \n",
    "    \n",
    "        Returns\n",
    "        -------\n",
    "        int\n",
    "            Returns the index of the wall in which the {nu}th neutrino lies\n",
    "        '''\n",
    "        wall = 0\n",
    "        for i in range(len(vec_uptparts)-1):\n",
    "            if vec_uptparts[i] <= nu and vec_uptparts[i+1] > nu:\n",
    "                wall = i\n",
    "                break        \n",
    "        return wall"
   ]
  },
  {
   "cell_type": "markdown",
   "metadata": {},
   "source": [
    "Find "
   ]
  },
  {
   "cell_type": "code",
   "execution_count": 50,
   "metadata": {},
   "outputs": [
    {
     "data": {
      "text/plain": [
       "0.10819734211672001"
      ]
     },
     "execution_count": 50,
     "metadata": {},
     "output_type": "execute_result"
    }
   ],
   "source": [
    "Bi_stacked(0, 5)"
   ]
  },
  {
   "cell_type": "code",
   "execution_count": 51,
   "metadata": {},
   "outputs": [
    {
     "data": {
      "text/plain": [
       "0.11004804178083535"
      ]
     },
     "execution_count": 51,
     "metadata": {},
     "output_type": "execute_result"
    }
   ],
   "source": [
    "S_i(2, all_weights, sum_weights, 0)"
   ]
  },
  {
   "cell_type": "markdown",
   "metadata": {},
   "source": [
    "This method takes ~30 minutes for 100000 neutrinos\n",
    "\n",
    "$\\implies$ 1134450 neutrinos take ~6.5 to 7hrs!!\n",
    "\n",
    "UNACCEPTABLE!!!\n",
    "\n",
    "NEED FASTER METHOD\n",
    "\n",
    "USING @jit(nopython=True) SPEEDS UP A LOT!!!\n",
    "\n",
    "NEW EXECUTION TIME IS: 10mins"
   ]
  },
  {
   "cell_type": "code",
   "execution_count": 52,
   "metadata": {},
   "outputs": [],
   "source": [
    "pool = []\n",
    "op_async = []"
   ]
  },
  {
   "cell_type": "markdown",
   "metadata": {},
   "source": [
    "mul.set_start_method('spawn', force=True)"
   ]
  },
  {
   "cell_type": "code",
   "execution_count": 53,
   "metadata": {},
   "outputs": [
    {
     "data": {
      "text/plain": [
       "'fork'"
      ]
     },
     "execution_count": 53,
     "metadata": {},
     "output_type": "execute_result"
    }
   ],
   "source": [
    "mul.get_all_start_methods()\n",
    "mul.get_start_method()"
   ]
  },
  {
   "cell_type": "code",
   "execution_count": 55,
   "metadata": {},
   "outputs": [],
   "source": [
    "def weights(gamma):\n",
    "    all_weights= []\n",
    "    for i in range(len(upt_icparts)-1):\n",
    "    #print(upt_icparts[i])\n",
    "        all_weights.append([psr_wt_quick(i, psrno, gamma) for psrno in range(p)])\n",
    "    return np.asfarray(all_weights)\n",
    "all_weights = weights(1)\n",
    "\n",
    "sum_weights = [np.sum(i) for i in all_weights]\n",
    "sum_weights = np.asfarray(sum_weights)\n",
    "cut = 5\n",
    "cone = 5\n",
    "#nuind, ang = angfinder(psrno, cut)\n",
    "\n",
    "@jit(nopython=True, cache=True)\n",
    "def sigbag_nu(nu):\n",
    "    '''\n",
    "        Returns the signal and background PDF for the {nu}th neutrino\n",
    "    '''\n",
    "\n",
    "    #sleep(1e-8)\n",
    "\n",
    "    #if nu % 100000 == 0:\n",
    "        #print(nu)\n",
    "        #os.system('clear')\n",
    "    wall = wall_nu(nu)\n",
    "    #Ns = vec_uptparts[wall_nu(nu) + 1] - vec_uptparts[wall_nu(nu)]\n",
    "    return [S_i(nu, all_weights, sum_weights, wall), Bi_stacked(nu, cone)]#,Ns]\n"
   ]
  },
  {
   "cell_type": "code",
   "execution_count": 56,
   "metadata": {},
   "outputs": [
    {
     "name": "stderr",
     "output_type": "stream",
     "text": [
      "100%|██████████| 1134450/1134450 [00:36<00:00, 31432.98it/s]\n"
     ]
    }
   ],
   "source": [
    "pool = mul.Pool(8, maxtasksperchild=100)\n",
    "op_async = pool.map_async(sigbag_nu, tqdm(range(lnu)))\n",
    "tmp = op_async.get()\n",
    "pool.close()\n",
    "pool = []\n",
    "op_async = []"
   ]
  },
  {
   "cell_type": "code",
   "execution_count": 58,
   "metadata": {},
   "outputs": [],
   "source": [
    "tmp2 = np.asfarray(tmp)"
   ]
  },
  {
   "cell_type": "code",
   "execution_count": 59,
   "metadata": {},
   "outputs": [
    {
     "data": {
      "text/plain": [
       "array([[3.32227729e-012, 1.08197342e-001],\n",
       "       [2.32234492e-005, 6.36115708e-002],\n",
       "       [1.10048042e-001, 1.20943005e-001],\n",
       "       ...,\n",
       "       [1.81725940e-003, 7.47313300e-002],\n",
       "       [4.33893051e-068, 7.36453528e-002],\n",
       "       [5.23477232e-152, 1.37209853e-001]])"
      ]
     },
     "execution_count": 59,
     "metadata": {},
     "output_type": "execute_result"
    }
   ],
   "source": [
    "tmp2"
   ]
  },
  {
   "cell_type": "code",
   "execution_count": 60,
   "metadata": {},
   "outputs": [],
   "source": [
    "S_all = tmp2[:,0]\n",
    "B_all = tmp2[:,1]\n",
    "#Ns_all = tmp2[:,2]"
   ]
  },
  {
   "cell_type": "code",
   "execution_count": 61,
   "metadata": {},
   "outputs": [],
   "source": [
    "Ns = lnu"
   ]
  },
  {
   "cell_type": "code",
   "execution_count": 62,
   "metadata": {},
   "outputs": [],
   "source": [
    "@jit(nopython=True)\n",
    "def TS_st(x, S, B, Ns):\n",
    "\n",
    "    '''\n",
    "    Returns\n",
    "    ----------\n",
    "        Returns the Test Stastic value at\n",
    "        $n_s$ = {x} for its parameters S, B, Ns\n",
    "    '''\n",
    "    if x >=0:\n",
    "        return np.sum(np.asfarray(2*np.log(Pr(x,  Ns, S, B)/B)))\n",
    "    else:\n",
    "        return -1\n",
    "\n",
    "def ns_for_TSmax_st(S, B, Ns):\n",
    "    '''\n",
    "    Returns the value of $n_s$ for which\n",
    "    the TS is maximum for {i}^th grb\n",
    "    '''\n",
    "\n",
    "    #returns the TSmax for i^th GRB\n",
    "    nll = lambda x: -TS_st(x, S, B, Ns)\n",
    "    soln = minimize(nll, 3 , bounds = [(0, None)], tol=1e-12)\n",
    "    ns = np.round(soln.x, 6)[0]\n",
    "    #print(soln.success)\n",
    "    return ns"
   ]
  },
  {
   "cell_type": "code",
   "execution_count": 63,
   "metadata": {},
   "outputs": [
    {
     "data": {
      "text/plain": [
       "0.0"
      ]
     },
     "execution_count": 63,
     "metadata": {},
     "output_type": "execute_result"
    }
   ],
   "source": [
    "ns_for_TSmax_st(S_all[0], B_all[0], lnu)"
   ]
  },
  {
   "cell_type": "code",
   "execution_count": 64,
   "metadata": {},
   "outputs": [
    {
     "name": "stderr",
     "output_type": "stream",
     "text": [
      "100%|██████████| 1134450/1134450 [19:36<00:00, 964.16it/s] \n"
     ]
    }
   ],
   "source": [
    "def nstest(nu):\n",
    "    return ns_for_TSmax_st(S_all[nu], B_all[nu], lnu)\n",
    "\n",
    "#'''\n",
    "test = []\n",
    "for i in tqdm(range(lnu)):\n",
    "    test.append(nstest(i))\n",
    "    #if i % 100000 == 0:\n",
    "    #    print(i)\n",
    "#'''\n",
    "#pool = []\n",
    "#op_async = []\n",
    "#pool = mul.Pool(12, maxtasksperchild=100)\n",
    "#op_async = pool.map_async(nstest, range(lnu))\n",
    "#test = op_async.get()"
   ]
  },
  {
   "cell_type": "markdown",
   "metadata": {},
   "source": [
    "op_async = pool.map_async(nstest, range(lnu))"
   ]
  },
  {
   "cell_type": "code",
   "execution_count": 65,
   "metadata": {},
   "outputs": [
    {
     "data": {
      "text/plain": [
       "277721"
      ]
     },
     "execution_count": 65,
     "metadata": {},
     "output_type": "execute_result"
    }
   ],
   "source": [
    "np.argmax(test)"
   ]
  },
  {
   "cell_type": "code",
   "execution_count": 66,
   "metadata": {},
   "outputs": [
    {
     "data": {
      "image/png": "[encoded data removed]",
      "text/plain": [
       "<Figure size 432x288 with 1 Axes>"
      ]
     },
     "metadata": {
      "needs_background": "light"
     },
     "output_type": "display_data"
    }
   ],
   "source": [
    "def plotnu(nu):\n",
    "    tns=[TS_st(i, S_all[nu], B_all[nu], lnu) for i in range(0, 1000)]\n",
    "    plt.plot(range(0, 1000), tns)\n",
    "    plt.show()\n",
    "\n",
    "plotnu(np.argmax(test))"
   ]
  },
  {
   "cell_type": "code",
   "execution_count": 67,
   "metadata": {},
   "outputs": [
    {
     "data": {
      "text/plain": [
       "192106"
      ]
     },
     "execution_count": 67,
     "metadata": {},
     "output_type": "execute_result"
    }
   ],
   "source": [
    "np.count_nonzero(test)"
   ]
  },
  {
   "cell_type": "code",
   "execution_count": 69,
   "metadata": {},
   "outputs": [
    {
     "data": {
      "text/plain": [
       "0.0"
      ]
     },
     "execution_count": 69,
     "metadata": {},
     "output_type": "execute_result"
    }
   ],
   "source": [
    "TS_st(0, S_all[0], B_all[0], Ns)"
   ]
  },
  {
   "cell_type": "code",
   "execution_count": 70,
   "metadata": {},
   "outputs": [],
   "source": [
    "Ns = lnu#np.count_nonzero(nuind+1)\n",
    "@jit(nopython=True)\n",
    "def Ts_arr(x, S_all, B_all, Ns):\n",
    "    #Ts_arr = lambda x:\n",
    "    sum = 0.0\n",
    "    for i in range(lnu):\n",
    "        sum += TS_st(x, S_all[i], B_all[i], Ns)\n",
    "    return sum\n"
   ]
  },
  {
   "cell_type": "code",
   "execution_count": 71,
   "metadata": {},
   "outputs": [
    {
     "name": "stdout",
     "output_type": "stream",
     "text": [
      "0.0\n"
     ]
    }
   ],
   "source": [
    "nll = lambda x: -Ts_arr(x, S_all, B_all, Ns)\n",
    "soln = minimize(nll, 3 , bounds = [(0, None)], tol=1e-12)\n",
    "ns = np.round(soln.x, 6)[0]\n",
    "#print([ns_for_TSmax(psrno, S, B, Ns), TS(psrno, ns_for_TSmax(psrno, S, B, Ns), S, B, Ns), TS(psrno, 0, S, B, Ns)])\n",
    "print(ns)"
   ]
  },
  {
   "cell_type": "code",
   "execution_count": 72,
   "metadata": {},
   "outputs": [
    {
     "data": {
      "text/plain": [
       "-34.195757125376204"
      ]
     },
     "execution_count": 72,
     "metadata": {},
     "output_type": "execute_result"
    }
   ],
   "source": [
    "Ts_arr(663, S_all, B_all, Ns)"
   ]
  },
  {
   "cell_type": "code",
   "execution_count": 74,
   "metadata": {},
   "outputs": [
    {
     "name": "stderr",
     "output_type": "stream",
     "text": [
      "100%|██████████| 1000/1000 [00:40<00:00, 24.53it/s]\n"
     ]
    }
   ],
   "source": [
    "tns=[Ts_arr(i,S_all, B_all, Ns) for i in tqdm(range(0, 1000))]"
   ]
  },
  {
   "cell_type": "code",
   "execution_count": 75,
   "metadata": {},
   "outputs": [
    {
     "data": {
      "text/plain": [
       "1000"
      ]
     },
     "execution_count": 75,
     "metadata": {},
     "output_type": "execute_result"
    }
   ],
   "source": [
    "len(tns)"
   ]
  },
  {
   "cell_type": "code",
   "execution_count": 76,
   "metadata": {},
   "outputs": [
    {
     "data": {
      "text/plain": [
       "array([7.94328235e+18, 5.01187234e+20, 3.16227766e+22, 1.99526231e+24,\n",
       "       1.25892541e+26, 7.94328235e+27, 5.01187234e+29, 3.16227766e+31,\n",
       "       1.99526231e+33, 1.25892541e+35, 7.94328235e+36, 5.01187234e+38,\n",
       "       3.16227766e+40, 1.99526231e+42, 1.25892541e+44, 7.94328235e+45,\n",
       "       5.01187234e+47, 3.16227766e+49, 1.99526231e+51, 1.25892541e+53,\n",
       "       7.94328235e+54, 5.01187234e+56, 3.16227766e+58, 1.99526231e+60,\n",
       "       1.25892541e+62, 7.94328235e+63, 5.01187234e+65, 3.16227766e+67,\n",
       "       1.99526231e+69, 1.25892541e+71, 7.94328235e+72, 5.01187234e+74,\n",
       "       3.16227766e+76, 1.99526231e+78, 1.25892541e+80, 7.94328235e+81,\n",
       "       5.01187234e+83, 3.16227766e+85, 1.99526231e+87, 1.25892541e+89])"
      ]
     },
     "execution_count": 76,
     "metadata": {},
     "output_type": "execute_result"
    }
   ],
   "source": [
    "e_nu"
   ]
  },
  {
   "cell_type": "code",
   "execution_count": 77,
   "metadata": {},
   "outputs": [
    {
     "data": {
      "text/plain": [
       "array([1.00000000e-04, 3.98107171e-05, 1.58489319e-05, 6.30957344e-06,\n",
       "       2.51188643e-06, 1.00000000e-06, 3.98107171e-07, 1.58489319e-07,\n",
       "       6.30957344e-08, 2.51188643e-08, 1.00000000e-08, 3.98107171e-09,\n",
       "       1.58489319e-09, 6.30957344e-10, 2.51188643e-10, 1.00000000e-10,\n",
       "       3.98107171e-11, 1.58489319e-11, 6.30957344e-12, 2.51188643e-12,\n",
       "       1.00000000e-12, 3.98107171e-13, 1.58489319e-13, 6.30957344e-14,\n",
       "       2.51188643e-14, 1.00000000e-14, 3.98107171e-15, 1.58489319e-15,\n",
       "       6.30957344e-16, 2.51188643e-16, 1.00000000e-16, 3.98107171e-17,\n",
       "       1.58489319e-17, 6.30957344e-18, 2.51188643e-18, 1.00000000e-18,\n",
       "       3.98107171e-19, 1.58489319e-19, 6.30957344e-20, 2.51188643e-20,\n",
       "       1.00000000e-20])"
      ]
     },
     "execution_count": 77,
     "metadata": {},
     "output_type": "execute_result"
    }
   ],
   "source": [
    "dfde = lambda gamma: (10**log_e)**gamma\n",
    "dfde(-2)"
   ]
  },
  {
   "cell_type": "code",
   "execution_count": 78,
   "metadata": {},
   "outputs": [],
   "source": [
    "def drive_stack(gamma):\n",
    "    all_weights = weights(gamma)\n",
    "    sum_weights = [np.sum(i) for i in all_weights]\n",
    "    sum_weights = np.asfarray(sum_weights)\n",
    "    cut = 5\n",
    "    cone = 5\n",
    "    \n",
    "    pool = mul.Pool(8, maxtasksperchild=100)\n",
    "    op_async = pool.map_async(sigbag_nu, range(len(icdec)))\n",
    "    tmp = op_async.get()\n",
    "    pool.close()\n",
    "    pool = []\n",
    "    op_async = []\n",
    "    tmp = np.asfarray(tmp)\n",
    "    S_all = tmp[:,0]\n",
    "    B_all = tmp[:,1]\n",
    "    Ns = lnu\n",
    "    nll = lambda x: -Ts_arr(x, S_all, B_all, Ns)\n",
    "    soln = minimize(nll, 3 , bounds = [(0, None)], tol=1e-12)\n",
    "    ns = np.round(soln.x, 6)[0]\n",
    "    allts=[Ts_arr(i,S_all, B_all, Ns) for i in range(0, 1000)]\n",
    "    return [ns, allts]  "
   ]
  },
  {
   "cell_type": "code",
   "execution_count": 79,
   "metadata": {},
   "outputs": [
    {
     "name": "stderr",
     "output_type": "stream",
     "text": [
      "/tmp/ipykernel_9357/1444185195.py:15: NumbaWarning: \u001b[1mCannot cache compiled function \"sigbag_nu\" as it uses dynamic globals (such as ctypes pointers and large global arrays)\u001b[0m\n",
      "  @jit(nopython=True, cache=True)\n",
      "/tmp/ipykernel_9357/1444185195.py:15: NumbaWarning: \u001b[1mCannot cache compiled function \"sigbag_nu\" as it uses dynamic globals (such as ctypes pointers and large global arrays)\u001b[0m\n",
      "  @jit(nopython=True, cache=True)\n",
      "/tmp/ipykernel_9357/1444185195.py:15: NumbaWarning: \u001b[1mCannot cache compiled function \"sigbag_nu\" as it uses dynamic globals (such as ctypes pointers and large global arrays)\u001b[0m\n",
      "  @jit(nopython=True, cache=True)\n",
      "/tmp/ipykernel_9357/1444185195.py:15: NumbaWarning: \u001b[1mCannot cache compiled function \"sigbag_nu\" as it uses dynamic globals (such as ctypes pointers and large global arrays)\u001b[0m\n",
      "  @jit(nopython=True, cache=True)\n",
      "/tmp/ipykernel_9357/1444185195.py:15: NumbaWarning: \u001b[1mCannot cache compiled function \"sigbag_nu\" as it uses dynamic globals (such as ctypes pointers and large global arrays)\u001b[0m\n",
      "  @jit(nopython=True, cache=True)\n",
      "/tmp/ipykernel_9357/1444185195.py:15: NumbaWarning: \u001b[1mCannot cache compiled function \"sigbag_nu\" as it uses dynamic globals (such as ctypes pointers and large global arrays)\u001b[0m\n",
      "  @jit(nopython=True, cache=True)\n",
      "/tmp/ipykernel_9357/1444185195.py:15: NumbaWarning: \u001b[1mCannot cache compiled function \"sigbag_nu\" as it uses dynamic globals (such as ctypes pointers and large global arrays)\u001b[0m\n",
      "  @jit(nopython=True, cache=True)\n",
      "/tmp/ipykernel_9357/1444185195.py:15: NumbaWarning: \u001b[1mCannot cache compiled function \"sigbag_nu\" as it uses dynamic globals (such as ctypes pointers and large global arrays)\u001b[0m\n",
      "  @jit(nopython=True, cache=True)\n",
      "/tmp/ipykernel_9357/1444185195.py:15: NumbaWarning: \u001b[1mCannot cache compiled function \"sigbag_nu\" as it uses dynamic globals (such as ctypes pointers and large global arrays)\u001b[0m\n",
      "  @jit(nopython=True, cache=True)\n",
      "/tmp/ipykernel_9357/1444185195.py:15: NumbaWarning: \u001b[1mCannot cache compiled function \"sigbag_nu\" as it uses dynamic globals (such as ctypes pointers and large global arrays)\u001b[0m\n",
      "  @jit(nopython=True, cache=True)\n",
      "/tmp/ipykernel_9357/1444185195.py:15: NumbaWarning: \u001b[1mCannot cache compiled function \"sigbag_nu\" as it uses dynamic globals (such as ctypes pointers and large global arrays)\u001b[0m\n",
      "  @jit(nopython=True, cache=True)\n",
      "/tmp/ipykernel_9357/1444185195.py:15: NumbaWarning: \u001b[1mCannot cache compiled function \"sigbag_nu\" as it uses dynamic globals (such as ctypes pointers and large global arrays)\u001b[0m\n",
      "  @jit(nopython=True, cache=True)\n",
      "/tmp/ipykernel_9357/1444185195.py:15: NumbaWarning: \u001b[1mCannot cache compiled function \"sigbag_nu\" as it uses dynamic globals (such as ctypes pointers and large global arrays)\u001b[0m\n",
      "  @jit(nopython=True, cache=True)\n",
      "/tmp/ipykernel_9357/1444185195.py:15: NumbaWarning: \u001b[1mCannot cache compiled function \"sigbag_nu\" as it uses dynamic globals (such as ctypes pointers and large global arrays)\u001b[0m\n",
      "  @jit(nopython=True, cache=True)\n",
      "/tmp/ipykernel_9357/1444185195.py:15: NumbaWarning: \u001b[1mCannot cache compiled function \"sigbag_nu\" as it uses dynamic globals (such as ctypes pointers and large global arrays)\u001b[0m\n",
      "  @jit(nopython=True, cache=True)\n",
      "/tmp/ipykernel_9357/1444185195.py:15: NumbaWarning: \u001b[1mCannot cache compiled function \"sigbag_nu\" as it uses dynamic globals (such as ctypes pointers and large global arrays)\u001b[0m\n",
      "  @jit(nopython=True, cache=True)\n",
      "/tmp/ipykernel_9357/1444185195.py:15: NumbaWarning: \u001b[1mCannot cache compiled function \"sigbag_nu\" as it uses dynamic globals (such as ctypes pointers and large global arrays)\u001b[0m\n",
      "  @jit(nopython=True, cache=True)\n",
      "/tmp/ipykernel_9357/1444185195.py:15: NumbaWarning: \u001b[1mCannot cache compiled function \"sigbag_nu\" as it uses dynamic globals (such as ctypes pointers and large global arrays)\u001b[0m\n",
      "  @jit(nopython=True, cache=True)\n",
      "/tmp/ipykernel_9357/1444185195.py:15: NumbaWarning: \u001b[1mCannot cache compiled function \"sigbag_nu\" as it uses dynamic globals (such as ctypes pointers and large global arrays)\u001b[0m\n",
      "  @jit(nopython=True, cache=True)\n",
      "/tmp/ipykernel_9357/1444185195.py:15: NumbaWarning: \u001b[1mCannot cache compiled function \"sigbag_nu\" as it uses dynamic globals (such as ctypes pointers and large global arrays)\u001b[0m\n",
      "  @jit(nopython=True, cache=True)\n",
      "/tmp/ipykernel_9357/1444185195.py:15: NumbaWarning: \u001b[1mCannot cache compiled function \"sigbag_nu\" as it uses dynamic globals (such as ctypes pointers and large global arrays)\u001b[0m\n",
      "  @jit(nopython=True, cache=True)\n",
      "/tmp/ipykernel_9357/1444185195.py:15: NumbaWarning: \u001b[1mCannot cache compiled function \"sigbag_nu\" as it uses dynamic globals (such as ctypes pointers and large global arrays)\u001b[0m\n",
      "  @jit(nopython=True, cache=True)\n",
      "/tmp/ipykernel_9357/1444185195.py:15: NumbaWarning: \u001b[1mCannot cache compiled function \"sigbag_nu\" as it uses dynamic globals (such as ctypes pointers and large global arrays)\u001b[0m\n",
      "  @jit(nopython=True, cache=True)\n",
      "/tmp/ipykernel_9357/1444185195.py:15: NumbaWarning: \u001b[1mCannot cache compiled function \"sigbag_nu\" as it uses dynamic globals (such as ctypes pointers and large global arrays)\u001b[0m\n",
      "  @jit(nopython=True, cache=True)\n",
      "/tmp/ipykernel_9357/1444185195.py:15: NumbaWarning: \u001b[1mCannot cache compiled function \"sigbag_nu\" as it uses dynamic globals (such as ctypes pointers and large global arrays)\u001b[0m\n",
      "  @jit(nopython=True, cache=True)\n",
      "/tmp/ipykernel_9357/1444185195.py:15: NumbaWarning: \u001b[1mCannot cache compiled function \"sigbag_nu\" as it uses dynamic globals (such as ctypes pointers and large global arrays)\u001b[0m\n",
      "  @jit(nopython=True, cache=True)\n",
      "/tmp/ipykernel_9357/1444185195.py:15: NumbaWarning: \u001b[1mCannot cache compiled function \"sigbag_nu\" as it uses dynamic globals (such as ctypes pointers and large global arrays)\u001b[0m\n",
      "  @jit(nopython=True, cache=True)\n",
      "/tmp/ipykernel_9357/1444185195.py:15: NumbaWarning: \u001b[1mCannot cache compiled function \"sigbag_nu\" as it uses dynamic globals (such as ctypes pointers and large global arrays)\u001b[0m\n",
      "  @jit(nopython=True, cache=True)\n",
      "/tmp/ipykernel_9357/1444185195.py:15: NumbaWarning: \u001b[1mCannot cache compiled function \"sigbag_nu\" as it uses dynamic globals (such as ctypes pointers and large global arrays)\u001b[0m\n",
      "  @jit(nopython=True, cache=True)\n",
      "/tmp/ipykernel_9357/1444185195.py:15: NumbaWarning: \u001b[1mCannot cache compiled function \"sigbag_nu\" as it uses dynamic globals (such as ctypes pointers and large global arrays)\u001b[0m\n",
      "  @jit(nopython=True, cache=True)\n",
      "/tmp/ipykernel_9357/1444185195.py:15: NumbaWarning: \u001b[1mCannot cache compiled function \"sigbag_nu\" as it uses dynamic globals (such as ctypes pointers and large global arrays)\u001b[0m\n",
      "  @jit(nopython=True, cache=True)\n",
      "/tmp/ipykernel_9357/1444185195.py:15: NumbaWarning: \u001b[1mCannot cache compiled function \"sigbag_nu\" as it uses dynamic globals (such as ctypes pointers and large global arrays)\u001b[0m\n",
      "  @jit(nopython=True, cache=True)\n"
     ]
    }
   ],
   "source": [
    "all_ts_gamma = [drive_stack(gamma) for gamma in [-1, -2, -2.5, -3]]"
   ]
  },
  {
   "cell_type": "code",
   "execution_count": 88,
   "metadata": {},
   "outputs": [
    {
     "data": {
      "text/plain": [
       "[0.0,\n",
       " -0.026729899751643103,\n",
       " -0.05354246522042976,\n",
       " -0.0804376492411763,\n",
       " -0.10741540552738413,\n",
       " -0.1344756871451548,\n",
       " -0.16161844753002957,\n",
       " -0.1888436399920304,\n",
       " -0.21615121869551385,\n",
       " -0.24354113717929796,\n",
       " -0.27101334932663185,\n",
       " -0.2985678088944412,\n",
       " -0.3262044705295622,\n",
       " -0.3539232881915881,\n",
       " -0.3817242162401662,\n",
       " -0.4096072088587099,\n",
       " -0.43757222116068706,\n",
       " -0.4656192075315992,\n",
       " -0.4937481228050582,\n",
       " -0.5219589215785841,\n",
       " -0.5502515593907058,\n",
       " -0.5786259910931887,\n",
       " -0.6070821719340392,\n",
       " -0.6356200569568923,\n",
       " -0.6642396021448637,\n",
       " -0.6929407627431046,\n",
       " -0.7217234944548475,\n",
       " -0.7505877527312733,\n",
       " -0.779533493987803,\n",
       " -0.8085606739386885,\n",
       " -0.8376692486156014,\n",
       " -0.8668591739730873,\n",
       " -0.8961304067786351,\n",
       " -0.9254829031643544,\n",
       " -0.9549166196188328,\n",
       " -0.9844315124675435,\n",
       " -1.0140275389548432,\n",
       " -1.0437046555801557,\n",
       " -1.0734628192083284,\n",
       " -1.1033019866139866,\n",
       " -1.133222115368753,\n",
       " -1.163223162466324,\n",
       " -1.1933050851492706,\n",
       " -1.2234678405523818,\n",
       " -1.253711386683233,\n",
       " -1.2840356808588398,\n",
       " -1.3144406808176274,\n",
       " -1.3449263440298824,\n",
       " -1.375492628925773,\n",
       " -1.406139493196715,\n",
       " -1.4368668949169383,\n",
       " -1.467674791986564,\n",
       " -1.4985631432136135,\n",
       " -1.5295319066424533,\n",
       " -1.5605810407794098,\n",
       " -1.5917105039108026,\n",
       " -1.6229202551575515,\n",
       " -1.6542102529896432,\n",
       " -1.6855804562652832,\n",
       " -1.7170308236241176,\n",
       " -1.7485613146006285,\n",
       " -1.7801718880205908,\n",
       " -1.8118625030995403,\n",
       " -1.8436331191251947,\n",
       " -1.875483695196188,\n",
       " -1.907414191286069,\n",
       " -1.9394245667360588,\n",
       " -1.971514781143725,\n",
       " -2.0036847939990494,\n",
       " -2.0359345656778634,\n",
       " -2.0682640557480285,\n",
       " -2.100673224287533,\n",
       " -2.1331620310859685,\n",
       " -2.1657304368937162,\n",
       " -2.1983784016005075,\n",
       " -2.2311058856566284,\n",
       " -2.263912849223706,\n",
       " -2.296799253257591,\n",
       " -2.329765058244471,\n",
       " -2.3628102247798264,\n",
       " -2.3959347134324807,\n",
       " -2.4291384855050997,\n",
       " -2.4624215017582585,\n",
       " -2.4957837231969324,\n",
       " -2.52922511072738,\n",
       " -2.5627456259930144,\n",
       " -2.5963452300317784,\n",
       " -2.630023884233949,\n",
       " -2.6637815497899897,\n",
       " -2.6976181886755204,\n",
       " -2.7315337623615217,\n",
       " -2.765528232439315,\n",
       " -2.7996015604468814,\n",
       " -2.833753708782754,\n",
       " -2.8679846391203396,\n",
       " -2.902294313467036,\n",
       " -2.936682693642627,\n",
       " -2.9711497423073565,\n",
       " -3.005695421577668,\n",
       " -3.040319693666185,\n",
       " -3.0750225208050814,\n",
       " -3.1098038658974443,\n",
       " -3.144663691384234,\n",
       " -3.179601959786009,\n",
       " -3.2146186336826155,\n",
       " -3.249713676345572,\n",
       " -3.2848870503138707,\n",
       " -3.3201387186133,\n",
       " -3.3554686441220465,\n",
       " -3.390876790256649,\n",
       " -3.42636312009011,\n",
       " -3.461927596835396,\n",
       " -3.497570183468799,\n",
       " -3.533290844089128,\n",
       " -3.569089541826686,\n",
       " -3.60496624024714,\n",
       " -3.6409209027825775,\n",
       " -3.676953493530772,\n",
       " -3.7130639761196376,\n",
       " -3.7492523142920775,\n",
       " -3.785518471840657,\n",
       " -3.8218624133030077,\n",
       " -3.8582841022598084,\n",
       " -3.8947835031147267,\n",
       " -3.931360579673044,\n",
       " -3.9680152967038196,\n",
       " -4.004747618448602,\n",
       " -4.041557509253788,\n",
       " -4.078444933568488,\n",
       " -4.11540985583955,\n",
       " -4.152452241124773,\n",
       " -4.1895720538809105,\n",
       " -4.226769258872373,\n",
       " -4.264043820774115,\n",
       " -4.301395704880301,\n",
       " -4.338824876024939,\n",
       " -4.376331299331199,\n",
       " -4.413914939453237,\n",
       " -4.451575762363168,\n",
       " -4.489313732847989,\n",
       " -4.527128816210369,\n",
       " -4.565020977804195,\n",
       " -4.602990183438076,\n",
       " -4.641036398474053,\n",
       " -4.679159588573881,\n",
       " -4.7173597189077565,\n",
       " -4.755636755935657,\n",
       " -4.793990664997908,\n",
       " -4.832421412136634,\n",
       " -4.870928963032972,\n",
       " -4.9095132840501625,\n",
       " -4.948174341052066,\n",
       " -4.98691210027199,\n",
       " -5.025726527398682,\n",
       " -5.064617589456741,\n",
       " -5.103585252358348,\n",
       " -5.1426294824770435,\n",
       " -5.181750246053054,\n",
       " -5.220947510063189,\n",
       " -5.26022124089874,\n",
       " -5.299571405125564,\n",
       " -5.338997969102857,\n",
       " -5.378500900314121,\n",
       " -5.4180801652468435,\n",
       " -5.4577357306655,\n",
       " -5.497467563328251,\n",
       " -5.537275630780461,\n",
       " -5.57715989986747,\n",
       " -5.617120337635683,\n",
       " -5.657156911221908,\n",
       " -5.697269588077593,\n",
       " -5.73745833542713,\n",
       " -5.77772312064357,\n",
       " -5.818063910900256,\n",
       " -5.858480674240367,\n",
       " -5.898973377789757,\n",
       " -5.939541989382166,\n",
       " -5.980186476332449,\n",
       " -6.0209068068914435,\n",
       " -6.061702948648511,\n",
       " -6.10257486931274,\n",
       " -6.143522536664587,\n",
       " -6.184545919124919,\n",
       " -6.225644984619847,\n",
       " -6.266819700871788,\n",
       " -6.308070036156385,\n",
       " -6.349395958895087,\n",
       " -6.390797437347749,\n",
       " -6.432274439629827,\n",
       " -6.47382693419786,\n",
       " -6.515454889155429,\n",
       " -6.557158273436549,\n",
       " -6.59893705564895,\n",
       " -6.640791204094723,\n",
       " -6.6827206872431315,\n",
       " -6.724725474272505,\n",
       " -6.76680553377344,\n",
       " -6.808960834564331,\n",
       " -6.851191345148529,\n",
       " -6.893497035087569,\n",
       " -6.935877873079498,\n",
       " -6.978333828150945,\n",
       " -7.020864869129242,\n",
       " -7.063470965696973,\n",
       " -7.106152086881541,\n",
       " -7.148908201777715,\n",
       " -7.191739279551318,\n",
       " -7.234645289997961,\n",
       " -7.277626202413781,\n",
       " -7.320681986147469,\n",
       " -7.363812610484005,\n",
       " -7.407018045463178,\n",
       " -7.4502982607043915,\n",
       " -7.493653225573908,\n",
       " -7.537082909765487,\n",
       " -7.580587283491357,\n",
       " -7.624166316269874,\n",
       " -7.6678199781803205,\n",
       " -7.71154823886552,\n",
       " -7.755351068560892,\n",
       " -7.7992284374025465,\n",
       " -7.843180315313147,\n",
       " -7.887206672271111,\n",
       " -7.931307478993533,\n",
       " -7.97548270528879,\n",
       " -8.019732321608688,\n",
       " -8.064056298145951,\n",
       " -8.108454605589639,\n",
       " -8.152927214405503,\n",
       " -8.197474094754316,\n",
       " -8.242095217265977,\n",
       " -8.286790552871846,\n",
       " -8.33156007187837,\n",
       " -8.376403745162534,\n",
       " -8.421321543165352,\n",
       " -8.466313437191495,\n",
       " -8.511379397838727,\n",
       " -8.556519396070186,\n",
       " -8.60173340237557,\n",
       " -8.647021388490367,\n",
       " -8.692383325129097,\n",
       " -8.737819183160903,\n",
       " -8.783328933813792,\n",
       " -8.828912548399252,\n",
       " -8.874569998388942,\n",
       " -8.920301254651289,\n",
       " -8.966106288361916,\n",
       " -9.011985071477419,\n",
       " -9.057937574990039,\n",
       " -9.103963770645098,\n",
       " -9.150063629796286,\n",
       " -9.196237123708869,\n",
       " -9.242484224564144,\n",
       " -9.288804903780623,\n",
       " -9.335199133039966,\n",
       " -9.38166688381365,\n",
       " -9.428208128268693,\n",
       " -9.47482283832003,\n",
       " -9.521510985427815,\n",
       " -9.568272541690044,\n",
       " -9.61510747943143,\n",
       " -9.66201577013909,\n",
       " -9.708997386345919,\n",
       " -9.75605229961079,\n",
       " -9.803180482511038,\n",
       " -9.850381907330952,\n",
       " -9.897656545895419,\n",
       " -9.94500437057639,\n",
       " -9.992425354098419,\n",
       " -10.039919468667284,\n",
       " -10.087486686538567,\n",
       " -10.135126979940852,\n",
       " -10.182840321977487,\n",
       " -10.230626684734457,\n",
       " -10.278486041072874,\n",
       " -10.326418363340379,\n",
       " -10.374423624795053,\n",
       " -10.422501797408495,\n",
       " -10.470652854539189,\n",
       " -10.518876768416687,\n",
       " -10.567173512423993,\n",
       " -10.615543059332879,\n",
       " -10.663985382001602,\n",
       " -10.712500453052412,\n",
       " -10.761088246374232,\n",
       " -10.809748734096669,\n",
       " -10.858481889890047,\n",
       " -10.907287686728399,\n",
       " -10.956166097657349,\n",
       " -11.005117096295384,\n",
       " -11.054140655566721,\n",
       " -11.103236748848687,\n",
       " -11.15240534957275,\n",
       " -11.201646431138611,\n",
       " -11.250959966739988,\n",
       " -11.300345929995299,\n",
       " -11.34980429462263,\n",
       " -11.399335033962105,\n",
       " -11.448938121432107,\n",
       " -11.49861353091819,\n",
       " -11.54836123614817,\n",
       " -11.59818121101695,\n",
       " -11.64807342858076,\n",
       " -11.698037863034696,\n",
       " -11.748074488618485,\n",
       " -11.798183278409082,\n",
       " -11.848364207207752,\n",
       " -11.898617247934057,\n",
       " -11.948942375179925,\n",
       " -11.99933956315634,\n",
       " -12.049808785847814,\n",
       " -12.100350016639025,\n",
       " -12.150963230662196,\n",
       " -12.201648401474639,\n",
       " -12.252405503818462,\n",
       " -12.303234511431587,\n",
       " -12.354135398609657,\n",
       " -12.405108139894722,\n",
       " -12.456152709926782,\n",
       " -12.507269082691444,\n",
       " -12.55845723280288,\n",
       " -12.609717134640679,\n",
       " -12.661048763257428,\n",
       " -12.712452092337735,\n",
       " -12.76392709700641,\n",
       " -12.815473751863095,\n",
       " -12.867092031794945,\n",
       " -12.918781911078671,\n",
       " -12.970543364450604,\n",
       " -13.022376366916365,\n",
       " -13.074280893511796,\n",
       " -13.126256919013896,\n",
       " -13.1783044175606,\n",
       " -13.230423365088345,\n",
       " -13.28261373611909,\n",
       " -13.334875505753995,\n",
       " -13.387208648710775,\n",
       " -13.439613140755279,\n",
       " -13.492088956132958,\n",
       " -13.54463607066515,\n",
       " -13.597254459257154,\n",
       " -13.649944097210756,\n",
       " -13.702704959683812,\n",
       " -13.755537022151477,\n",
       " -13.808440259346868,\n",
       " -13.86141464765838,\n",
       " -13.91446016149929,\n",
       " -13.967576777105027,\n",
       " -14.020764469079428,\n",
       " -14.074023213734874,\n",
       " -14.12735298614911,\n",
       " -14.180753762165594,\n",
       " -14.23422551685647,\n",
       " -14.287768226461289,\n",
       " -14.341381866439008,\n",
       " -14.39506641241636,\n",
       " -14.448821839895343,\n",
       " -14.50264812535239,\n",
       " -14.556545244281294,\n",
       " -14.610513172062388,\n",
       " -14.664551884811894,\n",
       " -14.71866135900285,\n",
       " -14.772841570072822,\n",
       " -14.827092493963788,\n",
       " -14.881414106595283,\n",
       " -14.935806384426105,\n",
       " -14.990269303160824,\n",
       " -15.044802839267462,\n",
       " -15.099406968302862,\n",
       " -15.15408166716351,\n",
       " -15.208826911499559,\n",
       " -15.263642677967052,\n",
       " -15.318528942306234,\n",
       " -15.373485681366825,\n",
       " -15.4285128712712,\n",
       " -15.483610488420755,\n",
       " -15.538778509116765,\n",
       " -15.594016909671122,\n",
       " -15.649325666766398,\n",
       " -15.704704757063967,\n",
       " -15.760154156806564,\n",
       " -15.815673842498596,\n",
       " -15.871263790977478,\n",
       " -15.92692397904988,\n",
       " -15.982654382769324,\n",
       " -16.038454979070586,\n",
       " -16.094325744968256,\n",
       " -16.150266656834614,\n",
       " -16.20627769195156,\n",
       " -16.262358826305423,\n",
       " -16.318510037665757,\n",
       " -16.37473130223635,\n",
       " -16.43102259735754,\n",
       " -16.48738389945271,\n",
       " -16.54381518604284,\n",
       " -16.60031643388004,\n",
       " -16.656887620086124,\n",
       " -16.713528721449386,\n",
       " -16.77023971521584,\n",
       " -16.82702057875307,\n",
       " -16.883871289106622,\n",
       " -16.940791822952594,\n",
       " -16.997782158283385,\n",
       " -17.054842271590676,\n",
       " -17.111972140763957,\n",
       " -17.169171742896925,\n",
       " -17.226441055156112,\n",
       " -17.283780055136134,\n",
       " -17.34118871998408,\n",
       " -17.39866702708663,\n",
       " -17.456214954317048,\n",
       " -17.51383247901739,\n",
       " -17.571519578506237,\n",
       " -17.629276229939435,\n",
       " -17.687102411776635,\n",
       " -17.74499810118817,\n",
       " -17.80296327564628,\n",
       " -17.86099791285826,\n",
       " -17.919101990454962,\n",
       " -17.97727548675347,\n",
       " -18.035518378665735,\n",
       " -18.093830644338674,\n",
       " -18.152212261660537,\n",
       " -18.21066320827634,\n",
       " -18.26918346226829,\n",
       " -18.327773000838235,\n",
       " -18.386431802790945,\n",
       " -18.445159845689705,\n",
       " -18.503957107395227,\n",
       " -18.562823565961523,\n",
       " -18.621759199307967,\n",
       " -18.680763985885793,\n",
       " -18.739837903642947,\n",
       " -18.79898093027919,\n",
       " -18.85819304441809,\n",
       " -18.917474223884778,\n",
       " -18.97682444693473,\n",
       " -19.036243691903596,\n",
       " -19.09573193680878,\n",
       " -19.155289160267273,\n",
       " -19.214915340260443,\n",
       " -19.274610455395194,\n",
       " -19.3343744836528,\n",
       " -19.39420740398365,\n",
       " -19.45410919421535,\n",
       " -19.514079833066333,\n",
       " -19.574119298776,\n",
       " -19.63422757032312,\n",
       " -19.694404625822767,\n",
       " -19.75465044380389,\n",
       " -19.814965002704266,\n",
       " -19.875348281633528,\n",
       " -19.93580025887113,\n",
       " -19.99632091325913,\n",
       " -20.056910222760735,\n",
       " -20.117568167155078,\n",
       " -20.178294724479894,\n",
       " -20.23908987377123,\n",
       " -20.29995359319013,\n",
       " -20.36088586265169,\n",
       " -20.42188666033321,\n",
       " -20.482955964955096,\n",
       " -20.544093755101244,\n",
       " -20.605300010757734,\n",
       " -20.666574710077928,\n",
       " -20.727917832248018,\n",
       " -20.789329355827697,\n",
       " -20.850809260923118,\n",
       " -20.912357525103488,\n",
       " -20.973974128670523,\n",
       " -21.03565904980559,\n",
       " -21.097412268249343,\n",
       " -21.15923376313628,\n",
       " -21.22112351309907,\n",
       " -21.283081497412425,\n",
       " -21.345107695902996,\n",
       " -21.407202087372422,\n",
       " -21.46936465079495,\n",
       " -21.53159536585926,\n",
       " -21.59389421194508,\n",
       " -21.65626116824394,\n",
       " -21.718696214232423,\n",
       " -21.781199328664268,\n",
       " -21.843770491923983,\n",
       " -21.906409682820797,\n",
       " -21.969116880807412,\n",
       " -22.0318920656433,\n",
       " -22.094735216634767,\n",
       " -22.15764631368408,\n",
       " -22.22062533588665,\n",
       " -22.283672262581412,\n",
       " -22.34678707434277,\n",
       " -22.409969749718677,\n",
       " -22.473220269250035,\n",
       " -22.53653861199671,\n",
       " -22.599924758040835,\n",
       " -22.66337868735373,\n",
       " -22.726900378585317,\n",
       " -22.790489812367557,\n",
       " -22.8541469685029,\n",
       " -22.917871826604063,\n",
       " -22.981664366743466,\n",
       " -23.04552456822992,\n",
       " -23.10945241132837,\n",
       " -23.173447876067453,\n",
       " -23.23751094216847,\n",
       " -23.30164159005908,\n",
       " -23.365839798540737,\n",
       " -23.4301055490952,\n",
       " -23.494438820778054,\n",
       " -23.558839593965423,\n",
       " -23.623307848228713,\n",
       " -23.68784356476954,\n",
       " -23.752446722434875,\n",
       " -23.817117302411848,\n",
       " -23.88185528412563,\n",
       " -23.946660648251335,\n",
       " -24.01153337499395,\n",
       " -24.07647344400122,\n",
       " -24.14148083594026,\n",
       " -24.206555531282497,\n",
       " -24.27169751010929,\n",
       " -24.336906752761067,\n",
       " -24.402183239546183,\n",
       " -24.467526950739256,\n",
       " -24.532937866729824,\n",
       " -24.598415968208823,\n",
       " -24.66396123543915,\n",
       " -24.72957364896267,\n",
       " -24.795253188832127,\n",
       " -24.86099983646872,\n",
       " -24.92681357117315,\n",
       " -24.992694374405524,\n",
       " -25.058642226093156,\n",
       " -25.124657107594672,\n",
       " -25.190738998979704,\n",
       " -25.256887880983587,\n",
       " -25.323103734102723,\n",
       " -25.389386539316124,\n",
       " -25.45573627709163,\n",
       " -25.52215292796688,\n",
       " -25.588636473415924,\n",
       " -25.65518689334015,\n",
       " -25.721804168732103,\n",
       " -25.78848828082542,\n",
       " -25.855239210284996,\n",
       " -25.9220569378342,\n",
       " -25.98894144379168,\n",
       " -26.055892710287605,\n",
       " -26.122910716991605,\n",
       " -26.189995445509727,\n",
       " -26.25714687658962,\n",
       " -26.324364991546233,\n",
       " -26.391649770524154,\n",
       " -26.459001195713903,\n",
       " -26.526419246696282,\n",
       " -26.593903905872697,\n",
       " -26.66145515371822,\n",
       " -26.72907297132947,\n",
       " -26.79675734001369,\n",
       " -26.864508240346662,\n",
       " -26.932325654405062,\n",
       " -27.000209562569133,\n",
       " -27.06815994626397,\n",
       " -27.136176786739636,\n",
       " -27.204260065559417,\n",
       " -27.27240976350306,\n",
       " -27.340625861764085,\n",
       " -27.40890834173652,\n",
       " -27.477257185584204,\n",
       " -27.54567237366931,\n",
       " -27.614153887588582,\n",
       " -27.682701708406466,\n",
       " -27.75131581779186,\n",
       " -27.819996197980743,\n",
       " -27.888742828909074,\n",
       " -27.957555692923524,\n",
       " -28.02643477194308,\n",
       " -28.095380046470606,\n",
       " -28.164391498442132,\n",
       " -28.233469108747958,\n",
       " -28.302612860536634,\n",
       " -28.371822733742643,\n",
       " -28.441098711237853,\n",
       " -28.510440773465643,\n",
       " -28.579848902734618,\n",
       " -28.64932308072483,\n",
       " -28.71886328906751,\n",
       " -28.788469508536373,\n",
       " -28.85814172241746,\n",
       " -28.927879911764474,\n",
       " -28.997684057948785,\n",
       " -29.067554142594876,\n",
       " -29.13749014825256,\n",
       " -29.20749205648647,\n",
       " -29.27755984911383,\n",
       " -29.3476935076359,\n",
       " -29.417893013917922,\n",
       " -29.48815835073104,\n",
       " -29.558489498595986,\n",
       " -29.62888644019713,\n",
       " -29.69934915816562,\n",
       " -29.769877633216698,\n",
       " -29.840471847475296,\n",
       " -29.911131783425,\n",
       " -29.98185742345018,\n",
       " -30.052648748396546,\n",
       " -30.12350574159922,\n",
       " -30.194428383667088,\n",
       " -30.26541665802704,\n",
       " -30.336470546735125,\n",
       " -30.40759003097522,\n",
       " -30.47877509261492,\n",
       " -30.550025715337124,\n",
       " -30.621341880656573,\n",
       " -30.69272357070125,\n",
       " -30.764170766834027,\n",
       " -30.835683452345766,\n",
       " -30.907261609942594,\n",
       " -30.97890522062588,\n",
       " -31.05061426698773,\n",
       " -31.12238873185339,\n",
       " -31.1942285973089,\n",
       " -31.266133845506165,\n",
       " -31.338104458538737,\n",
       " -31.41014041967449,\n",
       " -31.482241710331298,\n",
       " -31.554408314194575,\n",
       " -31.626640212292497,\n",
       " -31.698937387371313,\n",
       " -31.771299822489663,\n",
       " -31.843727499895753,\n",
       " -31.916220402099263,\n",
       " -31.98877851143993,\n",
       " -32.06140181065756,\n",
       " -32.13409028153993,\n",
       " -32.20684390821335,\n",
       " -32.2796626712959,\n",
       " -32.3525465555303,\n",
       " -32.425495541783576,\n",
       " -32.498509613320834,\n",
       " -32.57158875272308,\n",
       " -32.644732942998296,\n",
       " -32.71794216669454,\n",
       " -32.79121640651526,\n",
       " -32.86455564485368,\n",
       " -32.937959864290335,\n",
       " -33.011429048689415,\n",
       " -33.08496318018166,\n",
       " -33.15856224063529,\n",
       " -33.23222621395324,\n",
       " -33.30595508343354,\n",
       " -33.379748830644125,\n",
       " -33.45360743871755,\n",
       " -33.52753089108049,\n",
       " -33.6015191704219,\n",
       " -33.67557225965574,\n",
       " -33.74969014147822,\n",
       " -33.823872799145036,\n",
       " -33.89812021486048,\n",
       " -33.972432372908656,\n",
       " -34.046809254768455,\n",
       " -34.12125084505292,\n",
       " -34.195757125376204,\n",
       " -34.270328080131655,\n",
       " -34.34496369069356,\n",
       " -34.41966394130936,\n",
       " -34.49442881492481,\n",
       " -34.56925829464659,\n",
       " -34.64415236320257,\n",
       " -34.71911100420049,\n",
       " -34.79413420072575,\n",
       " -34.869221935867,\n",
       " -34.944374192658884,\n",
       " -35.019590954548164,\n",
       " -35.09487220412872,\n",
       " -35.17021792575725,\n",
       " -35.245628101158104,\n",
       " -35.32110271552669,\n",
       " -35.396641750458095,\n",
       " -35.47224519057364,\n",
       " -35.54791301771803,\n",
       " -35.623645216250694,\n",
       " -35.699441769920895,\n",
       " -35.77530266097484,\n",
       " -35.85122787304979,\n",
       " -35.92721739007278,\n",
       " -36.00327119515082,\n",
       " -36.07938927169795,\n",
       " -36.155571603166024,\n",
       " -36.231818172799514,\n",
       " -36.30812896402929,\n",
       " -36.38450396117247,\n",
       " -36.46094314730702,\n",
       " -36.53744650488852,\n",
       " -36.614014019148726,\n",
       " -36.69064567289185,\n",
       " -36.76734144911101,\n",
       " -36.84410133246584,\n",
       " -36.920925305347055,\n",
       " -36.99781335279224,\n",
       " -37.07476545707293,\n",
       " -37.15178160225126,\n",
       " -37.22886177293562,\n",
       " -37.30600595146791,\n",
       " -37.383214122016405,\n",
       " -37.4604862681761,\n",
       " -37.53782237467127,\n",
       " -37.615222423846205,\n",
       " -37.69268640010093,\n",
       " -37.770214286690525,\n",
       " -37.847806068160075,\n",
       " -37.92546172780379,\n",
       " -38.00318124974447,\n",
       " -38.080964617272194,\n",
       " -38.15881181488378,\n",
       " -38.23672282603121,\n",
       " -38.31469763426167,\n",
       " -38.39273622404156,\n",
       " -38.47083857947735,\n",
       " -38.54900468407343,\n",
       " -38.62723452162792,\n",
       " -38.70552807561757,\n",
       " -38.78388533127552,\n",
       " -38.86230627200144,\n",
       " -38.940790881166166,\n",
       " -39.019339143430564,\n",
       " -39.09795104297384,\n",
       " -39.17662656308003,\n",
       " -39.255365688650926,\n",
       " -39.334168403003545,\n",
       " -39.41303469044649,\n",
       " -39.49196453554048,\n",
       " -39.57095792125664,\n",
       " -39.65001483297609,\n",
       " -39.72913525398218,\n",
       " -39.80831916920235,\n",
       " -39.88756656157833,\n",
       " -39.96687741654167,\n",
       " -40.046251717504745,\n",
       " -40.125689449338125,\n",
       " -40.205190595132116,\n",
       " -40.284755139718456,\n",
       " -40.36438306811869,\n",
       " -40.444074363557085,\n",
       " -40.523829011076536,\n",
       " -40.6036469935367,\n",
       " -40.68352829720458,\n",
       " -40.76347290497229,\n",
       " -40.843480801377055,\n",
       " -40.92355197166676,\n",
       " -41.00368639850489,\n",
       " -41.08388406823405,\n",
       " -41.164144963832726,\n",
       " -41.24446907003433,\n",
       " -41.324856371596454,\n",
       " -41.405306852234915,\n",
       " -41.48582049748852,\n",
       " -41.56639729083625,\n",
       " -41.64703721714135,\n",
       " -41.727740260519084,\n",
       " -41.80850640559094,\n",
       " -41.88933563773723,\n",
       " -41.970227940164264,\n",
       " -42.05118329856391,\n",
       " -42.13220169617013,\n",
       " -42.213283118982204,\n",
       " -42.29442755025672,\n",
       " -42.37563497586939,\n",
       " -42.45690537892075,\n",
       " -42.538238745573665,\n",
       " -42.61963505917146,\n",
       " -42.70109430543446,\n",
       " -42.78261646829797,\n",
       " -42.86420153255657,\n",
       " -42.94584948305245,\n",
       " -43.0275603037403,\n",
       " -43.10933398102414,\n",
       " -43.19117049824466,\n",
       " -43.2730698394611,\n",
       " -43.355031991667154,\n",
       " -43.437056938040016,\n",
       " -43.519144663541084,\n",
       " -43.60129515281424,\n",
       " -43.68350839112223,\n",
       " -43.76578436354005,\n",
       " -43.8481230540461,\n",
       " -43.93052444766899,\n",
       " -44.01298853005124,\n",
       " -44.09551528494466,\n",
       " -44.178104698215044,\n",
       " -44.26075675359106,\n",
       " -44.34347143730784,\n",
       " -44.426248733089494,\n",
       " -44.50908862686004,\n",
       " -44.5919911029042,\n",
       " -44.674956146135564,\n",
       " -44.75798374276529,\n",
       " -44.841073875694086,\n",
       " -44.92422653115577,\n",
       " -45.007441694233634,\n",
       " -45.09071934978479,\n",
       " -45.1740594825199,\n",
       " -45.25746207817584,\n",
       " -45.3409271208601,\n",
       " -45.42445459620693,\n",
       " -45.50804448906032,\n",
       " -45.59169678507955,\n",
       " -45.67541146852892,\n",
       " -45.759188525429586,\n",
       " -45.84302793999361,\n",
       " -45.926929698166894,\n",
       " -46.010893784075755,\n",
       " -46.09492018411259,\n",
       " -46.1790088829303,\n",
       " -46.263159865655076,\n",
       " -46.3473731171997,\n",
       " -46.43164862340303,\n",
       " -46.515986369139426,\n",
       " -46.600386340095405,\n",
       " -46.68484852045296,\n",
       " -46.76937289674077,\n",
       " -46.853959453226665,\n",
       " -46.93860817603651,\n",
       " -47.02331904922045,\n",
       " -47.10809205975157,\n",
       " -47.19292719200334,\n",
       " -47.277824431432165,\n",
       " -47.36278376316079,\n",
       " -47.447805172980445,\n",
       " -47.53288864597054,\n",
       " -47.61803416821141,\n",
       " -47.703241723738316,\n",
       " -47.7885112989047,\n",
       " -47.873842879344124,\n",
       " -47.9592364501399,\n",
       " -48.04469199594646,\n",
       " -48.13020950416299,\n",
       " -48.21578895810231,\n",
       " -48.30143034463249,\n",
       " -48.387133649162905,\n",
       " -48.472898856475744,\n",
       " -48.558725952465714,\n",
       " -48.64461492268681,\n",
       " -48.73056575285052,\n",
       " -48.81657842864729,\n",
       " -48.90265293525108,\n",
       " -48.98878925825017,\n",
       " -49.074987383081364,\n",
       " -49.161247295697905,\n",
       " -49.24756898146261,\n",
       " -49.33395242617363,\n",
       " -49.420397615655574,\n",
       " -49.50690453547581,\n",
       " -49.593473171117054,\n",
       " -49.680103507657726,\n",
       " -49.76679553163018,\n",
       " -49.85354922874339,\n",
       " -49.94036458420917,\n",
       " -50.02724158463633,\n",
       " -50.11418021415636,\n",
       " -50.201180460221515,\n",
       " -50.28824230710451,\n",
       " -50.375365742303096,\n",
       " -50.46255074925529,\n",
       " -50.54979731567906,\n",
       " -50.63710542730274,\n",
       " -50.72447506871564,\n",
       " -50.81190622599546,\n",
       " -50.89939888612836,\n",
       " -50.98695303413416,\n",
       " -51.07456865575997,\n",
       " -51.16224573711541,\n",
       " -51.24998426362251,\n",
       " -51.3377842217004,\n",
       " -51.42564559758865,\n",
       " -51.513568376546615,\n",
       " -51.601552543735465,\n",
       " -51.68959808668359,\n",
       " -51.7777049908095,\n",
       " -51.865873241448384,\n",
       " -51.95410282547643,\n",
       " -52.04239372780443,\n",
       " -52.1307459356876,\n",
       " -52.219159434035355,\n",
       " -52.3076342093765,\n",
       " -52.396170247523564,\n",
       " -52.48476753437953,\n",
       " -52.57342605631407,\n",
       " -52.66214579949135,\n",
       " -52.750926749909254,\n",
       " -52.83976889331975,\n",
       " -52.92867221588714,\n",
       " -53.01763670343053,\n",
       " -53.10666234257963,\n",
       " -53.19574911965919,\n",
       " -53.28489702061468,\n",
       " -53.37410603085055,\n",
       " -53.46337613696372,\n",
       " -53.55270732557928,\n",
       " -53.64209958204017,\n",
       " -53.731552893470415,\n",
       " -53.821067245375716,\n",
       " -53.91064262435165,\n",
       " -54.000279016225925,\n",
       " -54.08997640688113,\n",
       " -54.17973478345972,\n",
       " -54.26955413213427,\n",
       " -54.359434438731775,\n",
       " -54.449375689394614,\n",
       " -54.53937787072531,\n",
       " -54.62944096930332,\n",
       " -54.71956497053864,\n",
       " -54.809749861460716,\n",
       " -54.89999562811342,\n",
       " -54.99030225681147,\n",
       " -55.080669734622596,\n",
       " -55.171098046050496,\n",
       " -55.26158717962195,\n",
       " -55.35213712049131,\n",
       " -55.44274785498555,\n",
       " -55.53341936970613,\n",
       " -55.62415165173433,\n",
       " -55.714944686690586,\n",
       " -55.805798461159576,\n",
       " -55.89671296125835,\n",
       " -55.98768817391341,\n",
       " -56.078724085232885,\n",
       " -56.169820682308334,\n",
       " -56.26097795109001,\n",
       " -56.352195878083194,\n",
       " -56.4434744496177,\n",
       " -56.53481365315618,\n",
       " -56.62621347329749,\n",
       " -56.71767389869067,\n",
       " -56.80919491531413,\n",
       " -56.90077650869674,\n",
       " -56.99241866626073,\n",
       " -57.08412137355044,\n",
       " -57.17588461861347,\n",
       " -57.267708388018185,\n",
       " -57.359592666816546,\n",
       " -57.45153744269574,\n",
       " -57.54354270158612,\n",
       " -57.6356084316815,\n",
       " -57.72773461767502,\n",
       " -57.81992124754854,\n",
       " -57.912168306716424,\n",
       " -58.00447578380189,\n",
       " -58.096843663646666,\n",
       " -58.18927193286664,\n",
       " -58.28176057975067,\n",
       " -58.37430958997795,\n",
       " -58.46691895028619,\n",
       " -58.55958864792491,\n",
       " -58.65231866894025,\n",
       " -58.74510899977695,\n",
       " -58.83795962810092,\n",
       " -58.93087054083845,\n",
       " -59.02384172338408,\n",
       " -59.11687316408621,\n",
       " -59.20996484940792,\n",
       " -59.30311676487978,\n",
       " -59.396328898183874,\n",
       " -59.489601236646045,\n",
       " -59.58293376652492,\n",
       " -59.67632647445682,\n",
       " -59.76977934843563,\n",
       " -59.863292374033115,\n",
       " -59.95686553833766,\n",
       " -60.0504988286039,\n",
       " -60.14419223151457,\n",
       " -60.23794573451199,\n",
       " -60.3317593236474,\n",
       " -60.425632985622926,\n",
       " -60.51956670838431,\n",
       " -60.61356047865446,\n",
       " -60.707614283111,\n",
       " -60.80172810879675,\n",
       " -60.89590194309522,\n",
       " -60.99013577206993,\n",
       " -61.084429582874826,\n",
       " -61.178783363319475,\n",
       " -61.27319709912151,\n",
       " -61.36767077872128,\n",
       " -61.46220438871244,\n",
       " -61.556797915161226,\n",
       " -61.651451346279586,\n",
       " -61.74616466850121,\n",
       " -61.840937868906266,\n",
       " -61.935770934839056,\n",
       " -62.03066385268166,\n",
       " -62.12561661133284,\n",
       " -62.22062919557048,\n",
       " -62.315701594158874,\n",
       " -62.410833793138686,\n",
       " -62.50602578041083,\n",
       " -62.60127754309021,\n",
       " -62.696589067888084,\n",
       " -62.791960341690945]"
      ]
     },
     "execution_count": 88,
     "metadata": {},
     "output_type": "execute_result"
    }
   ],
   "source": [
    "all_ts_gamma[1][1]"
   ]
  },
  {
   "cell_type": "code",
   "execution_count": 45,
   "metadata": {},
   "outputs": [
    {
     "data": {
      "text/plain": [
       "array([ 2. ,  2.2,  2.4,  2.6,  2.8,  3. ,  3.2,  3.4,  3.6,  3.8,  4. ,\n",
       "        4.2,  4.4,  4.6,  4.8,  5. ,  5.2,  5.4,  5.6,  5.8,  6. ,  6.2,\n",
       "        6.4,  6.6,  6.8,  7. ,  7.2,  7.4,  7.6,  7.8,  8. ,  8.2,  8.4,\n",
       "        8.6,  8.8,  9. ,  9.2,  9.4,  9.6,  9.8, 10. ])"
      ]
     },
     "execution_count": 45,
     "metadata": {},
     "output_type": "execute_result"
    }
   ],
   "source": [
    "log_e"
   ]
  },
  {
   "cell_type": "code",
   "execution_count": 37,
   "metadata": {},
   "outputs": [
    {
     "data": {
      "text/plain": [
       "0.0"
      ]
     },
     "execution_count": 37,
     "metadata": {},
     "output_type": "execute_result"
    }
   ],
   "source": [
    "all_ts_gamma[0][0]"
   ]
  },
  {
   "cell_type": "code",
   "execution_count": 38,
   "metadata": {},
   "outputs": [
    {
     "ename": "IndexError",
     "evalue": "list index out of range",
     "output_type": "error",
     "traceback": [
      "\u001b[0;31m---------------------------------------------------------------------------\u001b[0m",
      "\u001b[0;31mIndexError\u001b[0m                                Traceback (most recent call last)",
      "\u001b[0;32m/tmp/ipykernel_56945/2689440998.py\u001b[0m in \u001b[0;36m<module>\u001b[0;34m\u001b[0m\n\u001b[0;32m----> 1\u001b[0;31m \u001b[0mtype\u001b[0m\u001b[0;34m(\u001b[0m\u001b[0mall_ts_gamma\u001b[0m\u001b[0;34m[\u001b[0m\u001b[0;36m4\u001b[0m\u001b[0;34m]\u001b[0m\u001b[0;34m[\u001b[0m\u001b[0;36m1\u001b[0m\u001b[0;34m]\u001b[0m\u001b[0;34m)\u001b[0m\u001b[0;34m\u001b[0m\u001b[0;34m\u001b[0m\u001b[0m\n\u001b[0m",
      "\u001b[0;31mIndexError\u001b[0m: list index out of range"
     ]
    }
   ],
   "source": [
    "type(all_ts_gamma[4][1])"
   ]
  },
  {
   "cell_type": "code",
   "execution_count": 87,
   "metadata": {},
   "outputs": [
    {
     "data": {
      "image/png": "[encoded data removed]",
      "text/plain": [
       "<Figure size 777.6x518.4 with 1 Axes>"
      ]
     },
     "metadata": {
      "needs_background": "light"
     },
     "output_type": "display_data"
    }
   ],
   "source": [
    "font = {'family': 'serif',\n",
    "        'color':  'black',\n",
    "        'weight': 'bold',\n",
    "        'size': 22,\n",
    "        }\n",
    "plt.figure(figsize=(10.8,7.2))\n",
    "gamma = [1, 2, 2.5, 3]\n",
    "plt.plot(range(0, 1000), all_ts_gamma[0][1], ls = ':', label = f'$\\Gamma$ = {gamma[0]}')\n",
    "plt.plot(range(0, 1000), all_ts_gamma[1][1], ls = '-',label = f'$\\Gamma$ = {gamma[1]}')\n",
    "plt.plot(range(0, 1000), all_ts_gamma[2][1], ls='--',label = f'$\\Gamma$ = {gamma[2]}')\n",
    "plt.plot(range(0, 1000), all_ts_gamma[3][1], ls='-.',label = f'$\\Gamma$ = {gamma[3]}')\n",
    "#for i in range(len(all_ts_gamma)):\n",
    "    #plt.plot(range(0, 1000), all_ts_gamma[i][1], label = f'{gamma[i]}')\n",
    "    #print(i)\n",
    "legend =plt.legend(prop={'size':17}, framealpha=0)\n",
    "legend.get_frame().set_facecolor('none')\n",
    "plt.xlabel('$n_s$', fontdict=font)\n",
    "plt.ylabel('TS', fontdict=font)\n",
    "plt.savefig(\"outputs/stackedTS.jpg\")\n",
    "#plt.legend()\n",
    "plt.show()"
   ]
  },
  {
   "cell_type": "code",
   "execution_count": 44,
   "metadata": {},
   "outputs": [
    {
     "ename": "NameError",
     "evalue": "name 'maxts' is not defined",
     "output_type": "error",
     "traceback": [
      "\u001b[0;31m---------------------------------------------------------------------------\u001b[0m",
      "\u001b[0;31mNameError\u001b[0m                                 Traceback (most recent call last)",
      "\u001b[0;32m/tmp/ipykernel_45113/1427559857.py\u001b[0m in \u001b[0;36m<module>\u001b[0;34m\u001b[0m\n\u001b[0;32m----> 1\u001b[0;31m \u001b[0mbinnedsts\u001b[0m\u001b[0;34m,\u001b[0m \u001b[0mwsts\u001b[0m \u001b[0;34m=\u001b[0m \u001b[0mnp\u001b[0m\u001b[0;34m.\u001b[0m\u001b[0mhistogram\u001b[0m\u001b[0;34m(\u001b[0m\u001b[0mmaxts\u001b[0m\u001b[0;34m,\u001b[0m \u001b[0;36m10\u001b[0m\u001b[0;34m)\u001b[0m\u001b[0;34m\u001b[0m\u001b[0;34m\u001b[0m\u001b[0m\n\u001b[0m\u001b[1;32m      2\u001b[0m \u001b[0;34m\u001b[0m\u001b[0m\n\u001b[1;32m      3\u001b[0m \u001b[0mne01\u001b[0m \u001b[0;34m=\u001b[0m \u001b[0;36m3\u001b[0m\u001b[0;34m\u001b[0m\u001b[0;34m\u001b[0m\u001b[0m\n\u001b[1;32m      4\u001b[0m \u001b[0mamp\u001b[0m  \u001b[0;34m=\u001b[0m \u001b[0mp\u001b[0m\u001b[0;34m/\u001b[0m\u001b[0;36m3.0\u001b[0m\u001b[0;31m#np.sum(binnedsts)/ne01\u001b[0m\u001b[0;34m\u001b[0m\u001b[0;34m\u001b[0m\u001b[0m\n\u001b[1;32m      5\u001b[0m \u001b[0;31m#binnedsts = binnedsts/amp\u001b[0m\u001b[0;34m\u001b[0m\u001b[0;34m\u001b[0m\u001b[0m\n",
      "\u001b[0;31mNameError\u001b[0m: name 'maxts' is not defined"
     ]
    }
   ],
   "source": [
    "binnedsts, wsts = np.histogram(maxts, 10)\n",
    "\n",
    "ne01 = 3\n",
    "amp  = p/3.0#np.sum(binnedsts)/ne01\n",
    "#binnedsts = binnedsts/amp\n",
    "yerr = np.sqrt(binnedsts)\n",
    "b2 = binnedsts[(binnedsts>10)]\n",
    "yerr2 = yerr[(binnedsts>10)]\n",
    "x=0.5*(wsts[1:]+ wsts[:-1])\n",
    "x2 = x[(binnedsts>10)]\n",
    "xerr=x[0]-wsts[0]"
   ]
  },
  {
   "cell_type": "code",
   "execution_count": null,
   "metadata": {},
   "outputs": [],
   "source": [
    "yerr"
   ]
  },
  {
   "cell_type": "code",
   "execution_count": null,
   "metadata": {},
   "outputs": [],
   "source": [
    "wsts"
   ]
  },
  {
   "cell_type": "code",
   "execution_count": null,
   "metadata": {},
   "outputs": [],
   "source": [
    "#gaussian = lambda x, mean, var:  amp*norm.pdf(x, mean, var)\n",
    "def gaussian(x,mean,sd):\n",
    "#    mean=0.114\n",
    "    A=p/3.0\n",
    "    return A*np.exp(-(x - mean) ** 2.0 / sd ** 2.0)\n",
    "loggaussian = lambda x, mean, var:  np.log(gaussian(x, mean, var))\n",
    "gparam, gerr = curve_fit(gaussian, x2, b2,  p0=[0.1, 1.0],sigma=yerr2, absolute_sigma=True, maxfev = 10000, method='dogbox')\n",
    "gx = np.linspace(0, wsts[-1], 100)"
   ]
  },
  {
   "cell_type": "code",
   "execution_count": null,
   "metadata": {},
   "outputs": [],
   "source": [
    "gparam"
   ]
  },
  {
   "cell_type": "code",
   "execution_count": null,
   "metadata": {},
   "outputs": [],
   "source": [
    "max(maxts)"
   ]
  },
  {
   "cell_type": "code",
   "execution_count": null,
   "metadata": {},
   "outputs": [],
   "source": [
    "font = {'family': 'serif',\n",
    "        'color':  'black',\n",
    "        'weight': 'bold',\n",
    "        'size': 22,\n",
    "        }\n",
    "plt.figure(figsize=(10.8,7.2))\n",
    "plt.xticks([0, 1, 2, 3, 4, 5, 6, 7, 8, 9], [0, 1, 2, 3, 4, 5, 6, 7, 8, 9], fontsize=17, fontweight='bold')\n",
    "plt.yscale('log')\n",
    "plt.yticks([1, 10, 100, 1000, 10000], [1, 10, 100, 1000, 10000], fontsize=17, fontweight='bold')\n",
    "\n",
    "plt.errorbar(x, binnedsts, xerr=xerr,yerr=yerr,  aa = True, barsabove = True, fmt='ob',ecolor='blue', elinewidth=1.35, label='$\\sqrt{TS_{max}}$')\n",
    "plt.plot(gx,gaussian(gx, gparam[0], gparam[1]),'--', alpha=0.6, label=f'Gaussian Fit', color='darkred', lw=2.2)\n",
    "\n",
    "plt.xlabel(\"$\\mathbf{\\sqrt{TS_{max}}}$\", fontweight='bold', fontdict=font)\n",
    "plt.ylabel(\"No.of Events\", fontweight='bold', fontdict=font)\n",
    "#plt.grid(True, which='major')\n",
    "legend =plt.legend(prop={'size':17}, framealpha=0)\n",
    "legend.get_frame().set_facecolor('none')\n",
    "plt.savefig(\"outputs/sqrt(TSmax)stacked.pdf\")\n",
    "plt.show()"
   ]
  },
  {
   "cell_type": "code",
   "execution_count": 114,
   "metadata": {},
   "outputs": [],
   "source": [
    "binnedsts, wsts = np.histogram(test, 10)\n",
    "\n",
    "ne01 = 3\n",
    "amp  = p/3.0#np.sum(binnedsts)/ne01\n",
    "#binnedsts = binnedsts/amp\n",
    "yerr = np.sqrt(binnedsts)\n",
    "b2 = binnedsts[(binnedsts>10)]\n",
    "yerr2 = yerr[(binnedsts>10)]\n",
    "x=0.5*(wsts[1:]+ wsts[:-1])\n",
    "x2 = x[(binnedsts>10)]\n",
    "xerr=x[0]-wsts[0]"
   ]
  },
  {
   "cell_type": "code",
   "execution_count": 115,
   "metadata": {},
   "outputs": [
    {
     "data": {
      "text/plain": [
       "array([1060.59605883,    0.        ,    0.        ,    0.        ,\n",
       "          0.        ,    0.        ,   48.23898838,   43.74928571,\n",
       "         47.08502947,   55.92852582])"
      ]
     },
     "execution_count": 115,
     "metadata": {},
     "output_type": "execute_result"
    }
   ],
   "source": [
    "yerr"
   ]
  },
  {
   "cell_type": "code",
   "execution_count": 116,
   "metadata": {},
   "outputs": [
    {
     "data": {
      "text/plain": [
       "array([0.00000000e+00, 3.23591754e+11, 6.47183508e+11, 9.70775262e+11,\n",
       "       1.29436702e+12, 1.61795877e+12, 1.94155052e+12, 2.26514228e+12,\n",
       "       2.58873403e+12, 2.91232579e+12, 3.23591754e+12])"
      ]
     },
     "execution_count": 116,
     "metadata": {},
     "output_type": "execute_result"
    }
   ],
   "source": [
    "wsts"
   ]
  },
  {
   "cell_type": "code",
   "execution_count": 117,
   "metadata": {},
   "outputs": [],
   "source": [
    "#gaussian = lambda x, mean, var:  amp*norm.pdf(x, mean, var)\n",
    "def gaussian(x,mean,sd):\n",
    "#    mean=0.114\n",
    "    A=p/3.0\n",
    "    return A*np.exp(-(x - mean) ** 2.0 / sd ** 2.0)\n",
    "loggaussian = lambda x, mean, var:  np.log(gaussian(x, mean, var))\n",
    "gparam, gerr = curve_fit(gaussian, x2, b2,  p0=[0.1, 1.0],sigma=yerr2, absolute_sigma=True, maxfev = 10000, method='dogbox')\n",
    "gx = np.linspace(0, wsts[-1], 100)"
   ]
  },
  {
   "cell_type": "code",
   "execution_count": 118,
   "metadata": {},
   "outputs": [
    {
     "data": {
      "text/plain": [
       "array([0.1, 1. ])"
      ]
     },
     "execution_count": 118,
     "metadata": {},
     "output_type": "execute_result"
    }
   ],
   "source": [
    "gparam"
   ]
  },
  {
   "cell_type": "markdown",
   "metadata": {},
   "source": [
    "kde = lambda x, binnedsts, var: max(b2)*gaussian_kde.pdf()\n",
    "kparam, kerr = curve_fit(kde, x2, b2,  p0=[0.1, 1.0],sigma=yerr2, absolute_sigma=True, maxfev = 100000, method='dogbox')\n",
    "kx = np.linspace(0, max(wsts), 100)"
   ]
  },
  {
   "cell_type": "code",
   "execution_count": 119,
   "metadata": {},
   "outputs": [
    {
     "ename": "NameError",
     "evalue": "name 'sqrtts' is not defined",
     "output_type": "error",
     "traceback": [
      "\u001b[0;31m---------------------------------------------------------------------------\u001b[0m",
      "\u001b[0;31mNameError\u001b[0m                                 Traceback (most recent call last)",
      "\u001b[0;32m/tmp/ipykernel_28984/393536892.py\u001b[0m in \u001b[0;36m<module>\u001b[0;34m\u001b[0m\n\u001b[0;32m----> 1\u001b[0;31m \u001b[0mmax\u001b[0m\u001b[0;34m(\u001b[0m\u001b[0msqrtts\u001b[0m\u001b[0;34m)\u001b[0m\u001b[0;34m\u001b[0m\u001b[0;34m\u001b[0m\u001b[0m\n\u001b[0m",
      "\u001b[0;31mNameError\u001b[0m: name 'sqrtts' is not defined"
     ]
    }
   ],
   "source": [
    "max(sqrtts)"
   ]
  },
  {
   "cell_type": "code",
   "execution_count": 126,
   "metadata": {},
   "outputs": [
    {
     "data": {
      "image/png": "[encoded data removed]",
      "text/plain": [
       "<Figure size 777.6x518.4 with 1 Axes>"
      ]
     },
     "metadata": {
      "needs_background": "light"
     },
     "output_type": "display_data"
    }
   ],
   "source": [
    "font = {'family': 'serif',\n",
    "        'color':  'black',\n",
    "        'weight': 'bold',\n",
    "        'size': 22,\n",
    "        }\n",
    "plt.figure(figsize=(10.8,7.2))\n",
    "plt.xticks([0, 1, 2, 3, 4, 5, 6, 7, 8, 9], [0, 1, 2, 3, 4, 5, 6, 7, 8, 9], fontsize=17, fontweight='bold')\n",
    "plt.xscale('log')\n",
    "plt.yscale('log')\n",
    "plt.yticks([1, 10, 100, 1000, 10000], [1, 10, 100, 1000, 10000], fontsize=17, fontweight='bold')\n",
    "\n",
    "plt.errorbar(x, binnedsts, xerr=xerr,yerr=yerr,  aa = True, barsabove = True, fmt='ob',ecolor='blue', elinewidth=1.35, label='$\\sqrt{TS_{max}}$')\n",
    "#plt.plot(gx,gaussian(gx, gparam[0], gparam[1]),'--', alpha=0.6, label=f'Gaussian Fit', color='darkred', lw=2.2)\n",
    "\n",
    "plt.xlabel(\"$\\mathbf{\\sqrt{TS_{max}}}$\", fontweight='bold', fontdict=font)\n",
    "plt.ylabel(\"No.of Events\", fontweight='bold', fontdict=font)\n",
    "#plt.grid(True, which='major')\n",
    "legend =plt.legend(prop={'size':17}, framealpha=0)\n",
    "legend.get_frame().set_facecolor('none')\n",
    "plt.savefig(\"outputs/sqrt(TSmax)final.pdf\")\n",
    "plt.show()"
   ]
  },
  {
   "cell_type": "code",
   "execution_count": null,
   "metadata": {},
   "outputs": [
    {
     "data": {
      "text/plain": [
       "array([2209,  333,  297,  214,  133,   84,   48,   17,    3,    3])"
      ]
     },
     "metadata": {},
     "output_type": "display_data"
    }
   ],
   "source": [
    "binnedsts"
   ]
  }
 ],
 "metadata": {
  "kernelspec": {
   "display_name": "Python 3.10.6 64-bit",
   "language": "python",
   "name": "python3"
  },
  "language_info": {
   "codemirror_mode": {
    "name": "ipython",
    "version": 3
   },
   "file_extension": ".py",
   "mimetype": "text/x-python",
   "name": "python",
   "nbconvert_exporter": "python",
   "pygments_lexer": "ipython3",
   "version": "3.10.6"
  },
  "orig_nbformat": 4,
  "vscode": {
   "interpreter": {
    "hash": "916dbcbb3f70747c44a77c7bcd40155683ae19c65e1c03b4aa3499c5328201f1"
   }
  }
 },
 "nbformat": 4,
 "nbformat_minor": 2
}
