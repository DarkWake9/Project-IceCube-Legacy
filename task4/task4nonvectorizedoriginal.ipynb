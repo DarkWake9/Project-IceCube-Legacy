{
 "cells": [
  {
   "cell_type": "code",
   "execution_count": 50,
   "metadata": {},
   "outputs": [],
   "source": [
    "import numpy as np\n",
    "import pandas as pd\n",
    "import os\n",
    "import multiprocessing as mul\n",
    "from multiprocessing import Process"
   ]
  },
  {
   "cell_type": "markdown",
   "metadata": {},
   "source": [
    "## IMPORTING AND SORTING THE DATA\n",
    "\n",
    "WE HAVE CHOSEN ICECUBE 2008-18 DATA FOR THIS STUDY\n",
    "\n",
    "\n",
    "THE ICE CUBE DATA SET HAS 1134450 NEUTRINO EVENTS\n",
    "\n",
    "\n",
    "We select neutrino events with Energy >= 100TeV = 10^5 GeV\n",
    "\n",
    "i.e log10(E/GeV) > 5\n",
    "\n",
    "\n",
    "There are 192107 such neutrino events in this data\n",
    "\n",
    "The ms pulsars are taken from the ATNF Catalogue\n",
    "\n",
    "There are 441 pulsars (as of May 2022 when the study started)\n",
    "\n",
    "All the pulsars lie in the declination range of -87 to +87 degrees"
   ]
  },
  {
   "cell_type": "code",
   "execution_count": 2,
   "metadata": {},
   "outputs": [],
   "source": [
    "####\n",
    "#### IMPORTING AND SPLITTING ICDATA $$$\n",
    "\n",
    "\n",
    "path = \"/media/darkwake/VIB2/Project-IceCube/icecube_10year_ps/events\"\n",
    "filenames = [\"IC40_exp.csv\", \"IC59_exp.csv\",\"IC79_exp.csv\", \"IC86_I_exp.csv\", \"IC86_II_exp.csv\",\n",
    "\"IC86_III_exp.csv\", \"IC86_IV_exp.csv\", \"IC86_V_exp.csv\", \"IC86_VI_exp.csv\", \"IC86_VII_exp.csv\"]\n",
    "file = filenames[0]\n",
    "f = open(os.path.join(path, file), 'r')\n",
    "lines = f.readlines()\n",
    "column=lines[0].split()\n",
    "column.pop(0)\n",
    "content = []\n",
    "for file in filenames:\n",
    "    f = open(os.path.join(path, file), 'r')\n",
    "    lines = f.readlines()\n",
    "    for line in lines[1:]:\n",
    "        content.append(line.split())\n",
    "    f.close()\n",
    "icdata = pd.DataFrame(content, columns=column)\n",
    "icdata['log10(E/GeV)'] = [float(i) for i in icdata['log10(E/GeV)']]\n",
    "\n",
    "icdata = icdata.sort_values('log10(E/GeV)')\n",
    "icdata = icdata.reset_index()\n",
    "icdata = icdata.drop('index', axis=1)\n",
    "icdata2 = icdata[icdata['log10(E/GeV)'] > 5]\n",
    "icdata2 = icdata2.reset_index()\n",
    "icdata2 = icdata2.drop('index', axis=1)\n",
    "icdata2\n",
    "\n",
    "#IMPORTING MSPDATA\n",
    "f = open(\"/media/darkwake/VIB2/Project-IceCube/10milsecpsr.txt\", 'r')\n",
    "lines = f.readlines()\n",
    "\n",
    "content=[]\n",
    "column=lines[3].split()\n",
    "for line in lines[:]:\n",
    "    content.append(line.split())\n",
    "    #the INITAL DATABASE IS CLUTTERED SO WE REMOVE THE NULL COLUMNS AND OTHER CLUTTER\n",
    "mspdata = pd.DataFrame(content).drop(range(0,6)).dropna().drop([2,6,8,10,11,13,14], axis=1)\n",
    "f.close()\n",
    "line = []\n",
    "lines = []\n",
    "\n",
    "mspdata.columns = column\n",
    "column = []\n",
    "content=[]\n",
    "mspdata = mspdata.sort_values('DECJD')\n",
    "mspdata.dropna(inplace=True)\n",
    "mspdata = mspdata.reset_index()\n",
    "mspdata = mspdata.drop([\"index\", \"#\"], axis=1)"
   ]
  },
  {
   "cell_type": "code",
   "execution_count": 3,
   "metadata": {},
   "outputs": [
    {
     "data": {
      "text/html": [
       "<div>\n",
       "<style scoped>\n",
       "    .dataframe tbody tr th:only-of-type {\n",
       "        vertical-align: middle;\n",
       "    }\n",
       "\n",
       "    .dataframe tbody tr th {\n",
       "        vertical-align: top;\n",
       "    }\n",
       "\n",
       "    .dataframe thead th {\n",
       "        text-align: right;\n",
       "    }\n",
       "</style>\n",
       "<table border=\"1\" class=\"dataframe\">\n",
       "  <thead>\n",
       "    <tr style=\"text-align: right;\">\n",
       "      <th></th>\n",
       "      <th>MJD[days]</th>\n",
       "      <th>log10(E/GeV)</th>\n",
       "      <th>AngErr[deg]</th>\n",
       "      <th>RA[deg]</th>\n",
       "      <th>Dec[deg]</th>\n",
       "      <th>Azimuth[deg]</th>\n",
       "      <th>Zenith[deg]</th>\n",
       "    </tr>\n",
       "  </thead>\n",
       "  <tbody>\n",
       "    <tr>\n",
       "      <th>0</th>\n",
       "      <td>58192.76586876</td>\n",
       "      <td>5.01</td>\n",
       "      <td>0.20</td>\n",
       "      <td>304.076</td>\n",
       "      <td>-27.773</td>\n",
       "      <td>234.673</td>\n",
       "      <td>62.284</td>\n",
       "    </tr>\n",
       "    <tr>\n",
       "      <th>1</th>\n",
       "      <td>57692.17772634</td>\n",
       "      <td>5.01</td>\n",
       "      <td>0.30</td>\n",
       "      <td>328.288</td>\n",
       "      <td>-24.485</td>\n",
       "      <td>225.360</td>\n",
       "      <td>65.593</td>\n",
       "    </tr>\n",
       "    <tr>\n",
       "      <th>2</th>\n",
       "      <td>56499.25268749</td>\n",
       "      <td>5.01</td>\n",
       "      <td>0.20</td>\n",
       "      <td>215.304</td>\n",
       "      <td>-72.162</td>\n",
       "      <td>269.459</td>\n",
       "      <td>17.774</td>\n",
       "    </tr>\n",
       "    <tr>\n",
       "      <th>3</th>\n",
       "      <td>55742.58579947</td>\n",
       "      <td>5.01</td>\n",
       "      <td>0.29</td>\n",
       "      <td>121.980</td>\n",
       "      <td>-37.347</td>\n",
       "      <td>97.098</td>\n",
       "      <td>52.613</td>\n",
       "    </tr>\n",
       "    <tr>\n",
       "      <th>4</th>\n",
       "      <td>57168.08498961</td>\n",
       "      <td>5.01</td>\n",
       "      <td>0.65</td>\n",
       "      <td>209.099</td>\n",
       "      <td>-81.386</td>\n",
       "      <td>154.309</td>\n",
       "      <td>8.532</td>\n",
       "    </tr>\n",
       "    <tr>\n",
       "      <th>...</th>\n",
       "      <td>...</td>\n",
       "      <td>...</td>\n",
       "      <td>...</td>\n",
       "      <td>...</td>\n",
       "      <td>...</td>\n",
       "      <td>...</td>\n",
       "      <td>...</td>\n",
       "    </tr>\n",
       "    <tr>\n",
       "      <th>192102</th>\n",
       "      <td>57850.41489986</td>\n",
       "      <td>7.00</td>\n",
       "      <td>1.48</td>\n",
       "      <td>299.091</td>\n",
       "      <td>-19.242</td>\n",
       "      <td>135.893</td>\n",
       "      <td>70.801</td>\n",
       "    </tr>\n",
       "    <tr>\n",
       "      <th>192103</th>\n",
       "      <td>56616.28975047</td>\n",
       "      <td>7.01</td>\n",
       "      <td>1.24</td>\n",
       "      <td>300.952</td>\n",
       "      <td>-48.575</td>\n",
       "      <td>312.569</td>\n",
       "      <td>41.469</td>\n",
       "    </tr>\n",
       "    <tr>\n",
       "      <th>192104</th>\n",
       "      <td>57741.31320782</td>\n",
       "      <td>7.04</td>\n",
       "      <td>3.27</td>\n",
       "      <td>226.680</td>\n",
       "      <td>-7.559</td>\n",
       "      <td>64.185</td>\n",
       "      <td>82.379</td>\n",
       "    </tr>\n",
       "    <tr>\n",
       "      <th>192105</th>\n",
       "      <td>58099.46879008</td>\n",
       "      <td>7.26</td>\n",
       "      <td>3.32</td>\n",
       "      <td>317.013</td>\n",
       "      <td>-34.929</td>\n",
       "      <td>22.825</td>\n",
       "      <td>55.146</td>\n",
       "    </tr>\n",
       "    <tr>\n",
       "      <th>192106</th>\n",
       "      <td>57435.11358644</td>\n",
       "      <td>7.53</td>\n",
       "      <td>3.78</td>\n",
       "      <td>149.036</td>\n",
       "      <td>-11.513</td>\n",
       "      <td>128.179</td>\n",
       "      <td>78.402</td>\n",
       "    </tr>\n",
       "  </tbody>\n",
       "</table>\n",
       "<p>192107 rows × 7 columns</p>\n",
       "</div>"
      ],
      "text/plain": [
       "             MJD[days]  log10(E/GeV) AngErr[deg]  RA[deg] Dec[deg]  \\\n",
       "0       58192.76586876          5.01        0.20  304.076  -27.773   \n",
       "1       57692.17772634          5.01        0.30  328.288  -24.485   \n",
       "2       56499.25268749          5.01        0.20  215.304  -72.162   \n",
       "3       55742.58579947          5.01        0.29  121.980  -37.347   \n",
       "4       57168.08498961          5.01        0.65  209.099  -81.386   \n",
       "...                ...           ...         ...      ...      ...   \n",
       "192102  57850.41489986          7.00        1.48  299.091  -19.242   \n",
       "192103  56616.28975047          7.01        1.24  300.952  -48.575   \n",
       "192104  57741.31320782          7.04        3.27  226.680   -7.559   \n",
       "192105  58099.46879008          7.26        3.32  317.013  -34.929   \n",
       "192106  57435.11358644          7.53        3.78  149.036  -11.513   \n",
       "\n",
       "       Azimuth[deg] Zenith[deg]  \n",
       "0           234.673      62.284  \n",
       "1           225.360      65.593  \n",
       "2           269.459      17.774  \n",
       "3            97.098      52.613  \n",
       "4           154.309       8.532  \n",
       "...             ...         ...  \n",
       "192102      135.893      70.801  \n",
       "192103      312.569      41.469  \n",
       "192104       64.185      82.379  \n",
       "192105       22.825      55.146  \n",
       "192106      128.179      78.402  \n",
       "\n",
       "[192107 rows x 7 columns]"
      ]
     },
     "execution_count": 3,
     "metadata": {},
     "output_type": "execute_result"
    }
   ],
   "source": [
    "icdata = []\n",
    "icdata2"
   ]
  },
  {
   "cell_type": "code",
   "execution_count": 4,
   "metadata": {},
   "outputs": [
    {
     "data": {
      "text/html": [
       "<div>\n",
       "<style scoped>\n",
       "    .dataframe tbody tr th:only-of-type {\n",
       "        vertical-align: middle;\n",
       "    }\n",
       "\n",
       "    .dataframe tbody tr th {\n",
       "        vertical-align: top;\n",
       "    }\n",
       "\n",
       "    .dataframe thead th {\n",
       "        text-align: right;\n",
       "    }\n",
       "</style>\n",
       "<table border=\"1\" class=\"dataframe\">\n",
       "  <thead>\n",
       "    <tr style=\"text-align: right;\">\n",
       "      <th></th>\n",
       "      <th>NAME</th>\n",
       "      <th>Gl</th>\n",
       "      <th>Gb</th>\n",
       "      <th>RAJD</th>\n",
       "      <th>DECJD</th>\n",
       "      <th>P0</th>\n",
       "      <th>F0</th>\n",
       "      <th>DIST</th>\n",
       "    </tr>\n",
       "  </thead>\n",
       "  <tbody>\n",
       "    <tr>\n",
       "      <th>0</th>\n",
       "      <td>J1853-0008g</td>\n",
       "      <td>33.014</td>\n",
       "      <td>-0.453</td>\n",
       "      <td>283.30</td>\n",
       "      <td>-0.13</td>\n",
       "      <td>0.00282</td>\n",
       "      <td>354.609929</td>\n",
       "      <td>4.554</td>\n",
       "    </tr>\n",
       "    <tr>\n",
       "      <th>1</th>\n",
       "      <td>J1625-0021</td>\n",
       "      <td>13.890</td>\n",
       "      <td>31.827</td>\n",
       "      <td>246.2931579</td>\n",
       "      <td>-0.358044</td>\n",
       "      <td>0.0028336138772234</td>\n",
       "      <td>352.90623328676</td>\n",
       "      <td>0.951</td>\n",
       "    </tr>\n",
       "    <tr>\n",
       "      <th>2</th>\n",
       "      <td>J1852-0044g</td>\n",
       "      <td>32.395</td>\n",
       "      <td>-0.560</td>\n",
       "      <td>283.11</td>\n",
       "      <td>-0.73</td>\n",
       "      <td>0.00241</td>\n",
       "      <td>414.937759</td>\n",
       "      <td>4.492</td>\n",
       "    </tr>\n",
       "    <tr>\n",
       "      <th>3</th>\n",
       "      <td>J1835-0114</td>\n",
       "      <td>29.990</td>\n",
       "      <td>3.007</td>\n",
       "      <td>278.841325</td>\n",
       "      <td>-1.242669</td>\n",
       "      <td>0.005116387644239</td>\n",
       "      <td>195.4503977286</td>\n",
       "      <td>3.452</td>\n",
       "    </tr>\n",
       "    <tr>\n",
       "      <th>4</th>\n",
       "      <td>J1901-0125</td>\n",
       "      <td>32.817</td>\n",
       "      <td>-2.902</td>\n",
       "      <td>285.39083</td>\n",
       "      <td>-1.42472</td>\n",
       "      <td>0.00279</td>\n",
       "      <td>358.422939</td>\n",
       "      <td>2.360</td>\n",
       "    </tr>\n",
       "    <tr>\n",
       "      <th>...</th>\n",
       "      <td>...</td>\n",
       "      <td>...</td>\n",
       "      <td>...</td>\n",
       "      <td>...</td>\n",
       "      <td>...</td>\n",
       "      <td>...</td>\n",
       "      <td>...</td>\n",
       "      <td>...</td>\n",
       "    </tr>\n",
       "    <tr>\n",
       "      <th>436</th>\n",
       "      <td>J1944+0907</td>\n",
       "      <td>47.160</td>\n",
       "      <td>-7.357</td>\n",
       "      <td>296.03887491</td>\n",
       "      <td>9.12306353</td>\n",
       "      <td>0.005185201908798642</td>\n",
       "      <td>192.8565208431179</td>\n",
       "      <td>1.218</td>\n",
       "    </tr>\n",
       "    <tr>\n",
       "      <th>437</th>\n",
       "      <td>J0023+0923</td>\n",
       "      <td>111.383</td>\n",
       "      <td>-52.849</td>\n",
       "      <td>5.82032291</td>\n",
       "      <td>9.38996121</td>\n",
       "      <td>0.003050203104754390</td>\n",
       "      <td>327.8470205611185</td>\n",
       "      <td>1.818</td>\n",
       "    </tr>\n",
       "    <tr>\n",
       "      <th>438</th>\n",
       "      <td>B1855+09</td>\n",
       "      <td>42.290</td>\n",
       "      <td>3.060</td>\n",
       "      <td>284.401626217</td>\n",
       "      <td>9.721442158</td>\n",
       "      <td>0.005362100549682627</td>\n",
       "      <td>186.4940783438289</td>\n",
       "      <td>1.200</td>\n",
       "    </tr>\n",
       "    <tr>\n",
       "      <th>439</th>\n",
       "      <td>J2234+0944</td>\n",
       "      <td>76.280</td>\n",
       "      <td>-40.438</td>\n",
       "      <td>338.69522573</td>\n",
       "      <td>9.74172845</td>\n",
       "      <td>0.003627027895734199</td>\n",
       "      <td>275.7078326240928</td>\n",
       "      <td>1.587</td>\n",
       "    </tr>\n",
       "    <tr>\n",
       "      <th>440</th>\n",
       "      <td>J1908+0949g</td>\n",
       "      <td>43.562</td>\n",
       "      <td>0.797</td>\n",
       "      <td>287.03</td>\n",
       "      <td>9.82</td>\n",
       "      <td>0.00905</td>\n",
       "      <td>110.497238</td>\n",
       "      <td>6.001</td>\n",
       "    </tr>\n",
       "  </tbody>\n",
       "</table>\n",
       "<p>441 rows × 8 columns</p>\n",
       "</div>"
      ],
      "text/plain": [
       "            NAME       Gl       Gb           RAJD        DECJD  \\\n",
       "0    J1853-0008g   33.014   -0.453         283.30        -0.13   \n",
       "1     J1625-0021   13.890   31.827    246.2931579    -0.358044   \n",
       "2    J1852-0044g   32.395   -0.560         283.11        -0.73   \n",
       "3     J1835-0114   29.990    3.007     278.841325    -1.242669   \n",
       "4     J1901-0125   32.817   -2.902      285.39083     -1.42472   \n",
       "..           ...      ...      ...            ...          ...   \n",
       "436   J1944+0907   47.160   -7.357   296.03887491   9.12306353   \n",
       "437   J0023+0923  111.383  -52.849     5.82032291   9.38996121   \n",
       "438     B1855+09   42.290    3.060  284.401626217  9.721442158   \n",
       "439   J2234+0944   76.280  -40.438   338.69522573   9.74172845   \n",
       "440  J1908+0949g   43.562    0.797         287.03         9.82   \n",
       "\n",
       "                       P0                 F0   DIST  \n",
       "0                 0.00282         354.609929  4.554  \n",
       "1      0.0028336138772234    352.90623328676  0.951  \n",
       "2                 0.00241         414.937759  4.492  \n",
       "3       0.005116387644239     195.4503977286  3.452  \n",
       "4                 0.00279         358.422939  2.360  \n",
       "..                    ...                ...    ...  \n",
       "436  0.005185201908798642  192.8565208431179  1.218  \n",
       "437  0.003050203104754390  327.8470205611185  1.818  \n",
       "438  0.005362100549682627  186.4940783438289  1.200  \n",
       "439  0.003627027895734199  275.7078326240928  1.587  \n",
       "440               0.00905         110.497238  6.001  \n",
       "\n",
       "[441 rows x 8 columns]"
      ]
     },
     "execution_count": 4,
     "metadata": {},
     "output_type": "execute_result"
    }
   ],
   "source": [
    "mspdata"
   ]
  },
  {
   "cell_type": "code",
   "execution_count": 5,
   "metadata": {},
   "outputs": [
    {
     "data": {
      "text/plain": [
       "'0.0098613486703673'"
      ]
     },
     "execution_count": 5,
     "metadata": {},
     "output_type": "execute_result"
    }
   ],
   "source": [
    "max(mspdata['P0'])"
   ]
  },
  {
   "cell_type": "code",
   "execution_count": 6,
   "metadata": {},
   "outputs": [],
   "source": [
    "def hvovec(lon1, lat1, lon2, lat2):\n",
    "\n",
    "    #Convert decimal degrees to Radians:\n",
    "    lon1 = np.deg2rad(lon1)\n",
    "    lat1 = np.deg2rad(lat1)\n",
    "    lon2 = np.deg2rad(lon2)\n",
    "    lat2 = np.deg2rad(lat2)\n",
    "\n",
    "    #Implementing Haversine Formula: \n",
    "    dlon = np.subtract(lon2, lon1)\n",
    "    #dlat = np.subtract(lat2, lat1)\n",
    "\n",
    "    a = np.add(np.multiply(np.sin(lat1), np.sin(lat2)), np.multiply(np.multiply(np.cos(lat1), np.cos(lat2)), np.cos(dlon)))\n",
    "\n",
    "    return np.abs(np.rad2deg(np.arccos(a)))"
   ]
  },
  {
   "cell_type": "code",
   "execution_count": 7,
   "metadata": {},
   "outputs": [],
   "source": [
    "msra = [float(i) for i in mspdata['RAJD']]\n",
    "msdec = [float(i) for i in mspdata['DECJD']]\n",
    "icra = [float(i) for i in icdata2['RA[deg]']]\n",
    "icdec = [float(i) for i in icdata2['Dec[deg]']]\n",
    "icang = [float(i) for i in icdata2['AngErr[deg]']]\n",
    "p = len(msra)\n",
    "lg = len(icra) // p + 1"
   ]
  },
  {
   "cell_type": "code",
   "execution_count": 8,
   "metadata": {},
   "outputs": [],
   "source": [
    "def angfinder(b):\n",
    "    ang = []\n",
    "    for a in range(lg):\n",
    "        \n",
    "        if a != lg - 1:\n",
    "        #try:\n",
    "            ilo = icra[a*p:a*p + p]\n",
    "            ila = icdec[a*p:a*p + p]\n",
    "            lo = msra[b] * np.ones(p)\n",
    "            la = msdec[b] * np.ones(p)\n",
    "            temp = hvovec(ilo, ila, lo, la)\n",
    "            for tt in range(len(temp)):\n",
    "                if temp[tt] > 20:\n",
    "                    temp[tt] = -1\n",
    "            ang.extend(temp)\n",
    "        else:\n",
    "        #except:\n",
    "            ilo = icra[a*p:]\n",
    "            ila = icdec[a*p:]\n",
    "            ext = len(ilo)\n",
    "            lo = msra[b] * np.ones(ext)\n",
    "            la = msdec[b] * np.ones(ext)\n",
    "            temp = hvovec(ilo, ila, lo, la)\n",
    "            #ang.extend(hvovec(ilo, ila, lo, la))\n",
    "            for tt in range(len(temp)):\n",
    "                if temp[tt] > 20:\n",
    "                    temp[tt] = -1\n",
    "            ang.extend(temp)\n",
    "            \n",
    "        \n",
    "    return ang\n",
    "\n",
    "pool = mul.Pool()\n",
    "op_async = pool.map_async(angfinder, range(0,p))\n",
    "aang = op_async.get()\n",
    "op_async = []\n",
    "pool = []"
   ]
  },
  {
   "cell_type": "markdown",
   "metadata": {},
   "source": [
    "newdata = icdata2\n",
    "#icdata = []\n",
    "#icdata2 = []"
   ]
  },
  {
   "cell_type": "code",
   "execution_count": 9,
   "metadata": {},
   "outputs": [],
   "source": [
    "pool = []\n",
    "op_async = []"
   ]
  },
  {
   "cell_type": "markdown",
   "metadata": {},
   "source": [
    "we only select those neutrino events, whose angular distance  is within $20^{\\circ}$ of a MSP.  For a dataset of $N$ events, if $n_s$ signal events are attributed to a millisecond pulsar, the probability density of an individual event $i$ is given by:\n",
    "\\begin{equation}\n",
    "P_i = \\frac{n_s}{N} S_i + (1-\\frac{n_s}{N}) B_i,\n",
    "%\\label{eq1}\n",
    "\\end{equation}\n",
    "where $S_i$ and $B_i$ represent the signal and background pdfs, respectively.\n",
    "The likelihood function ($\\mathcal{L}$) of the entire dataset, obtained from the product of each individual PDF can be written as \n",
    "\\begin{equation}\n",
    "\\mathcal{L} (n_s) = \\prod_{i=1}^N P_i,\n",
    "\\end{equation}\n",
    "where $P_i$ is the same as in eq1 above. The signal PDF is given by:\n",
    "\\begin{equation}\n",
    "\\large\n",
    "S_i = \\frac{1}{2\\pi\\sigma_i^2}e^{\\frac{-(|\\theta_i-\\theta_s|)^2}{2\\sigma_i^2}}\n",
    "\\end{equation}\n",
    "where $|\\theta_i-\\theta_s|$ is the angular distance between the  MSP and the neutrino, whereas $\\sigma_i$ is the angular uncertainty in the neutrino position.\n",
    "The background PDF is determined from the average number of events per solid angle  within a declination of $\\pm 3^{\\circ}$ after averaging over RA. We do not incorporate  the energy information, since the pubic IceCube catalog only contains the energy of the reconstructed muon. The detection statistic used to ascertain the presence of a signal is given by:\n",
    "\\begin{equation}\n",
    "TS (n_s) = 2 \\log \\frac{\\mathcal{L} (n_s)}{\\mathcal{L} (0)}\n",
    "\\end{equation}\n",
    " If the null hypothesis is true, $TS (n_s)$ obeys the $\\chi^2$ distribution for one degree of freedom. We calculated $TS (n_s)$ for all MSPs in the  catalog."
   ]
  },
  {
   "cell_type": "markdown",
   "metadata": {},
   "source": [
    "### FOR $\\nu_i$ and $p_j$ and  N = len(icdata2) = Total no.of $\\nu$ samples\n",
    "### ns[i] = no.of $\\nu$ events with angles $<= 20 \\deg$ with $psr_i$\n",
    "### $S_i = \\frac{1}{2\\pi\\sigma_i^2}e^{\\frac{-(|\\theta_i-\\theta_s|)^2}{2\\sigma_i^2}}$\n",
    "### $|\\theta_i-\\theta_s|$ = aang[i][s]\n",
    "### $\\sigma_i$ = icang[i]           and                  sg =      $\\sigma_i^2$\n",
    "###"
   ]
  },
  {
   "cell_type": "code",
   "execution_count": 10,
   "metadata": {},
   "outputs": [],
   "source": [
    "N = len(icdata2)\n",
    "\n",
    "ns = []\n",
    "for i in aang:\n",
    "    count = 0\n",
    "    for j in i:\n",
    "        if j != -1:\n",
    "            count += 1\n",
    "    ns.append(count)\n",
    "ns = np.array(ns)\n",
    "    "
   ]
  },
  {
   "cell_type": "code",
   "execution_count": 57,
   "metadata": {},
   "outputs": [],
   "source": [
    "Ns = np.sum(ns)//2"
   ]
  },
  {
   "cell_type": "code",
   "execution_count": 58,
   "metadata": {},
   "outputs": [
    {
     "data": {
      "text/plain": [
       "1665941"
      ]
     },
     "execution_count": 58,
     "metadata": {},
     "output_type": "execute_result"
    }
   ],
   "source": [
    "Ns"
   ]
  },
  {
   "cell_type": "markdown",
   "metadata": {},
   "source": [
    "n2 = []\n",
    "for i in aang:\n",
    "    count = 0\n",
    "    for j in i:\n",
    "        if j != -1:\n",
    "            if j < 5:\n",
    "                count += 1\n",
    "    n2.append(count)"
   ]
  },
  {
   "cell_type": "markdown",
   "metadata": {},
   "source": [
    "for i in aang[0]:\n",
    "    if i < 5 and i!= -1:\n",
    "        print(aang[0].index(i))"
   ]
  },
  {
   "cell_type": "markdown",
   "metadata": {},
   "source": [
    "S_ij(10754,0)"
   ]
  },
  {
   "cell_type": "markdown",
   "metadata": {},
   "source": [
    "[msra[0], msdec[0]]"
   ]
  },
  {
   "cell_type": "markdown",
   "metadata": {},
   "source": [
    "[icra[10754], icdec[10754], icang[10754]]"
   ]
  },
  {
   "cell_type": "markdown",
   "metadata": {},
   "source": [
    "[icra[119640], icdec[119640], icang[119640]]\n"
   ]
  },
  {
   "cell_type": "markdown",
   "metadata": {},
   "source": [
    "S_ij(119640,0)"
   ]
  },
  {
   "cell_type": "markdown",
   "metadata": {},
   "source": [
    "for i in aang[0]:\n",
    "    if i < 6 and i!= -1 and i >= 5:\n",
    "        print(aang[0].index(i))"
   ]
  },
  {
   "cell_type": "markdown",
   "metadata": {},
   "source": [
    "S_ij(31410, 0)"
   ]
  },
  {
   "cell_type": "markdown",
   "metadata": {},
   "source": [
    "for i in aang[0]:\n",
    "    if i < 7 and i!= -1 and i >= 6:\n",
    "        print(aang[0].index(i))"
   ]
  },
  {
   "cell_type": "markdown",
   "metadata": {},
   "source": [
    "np.exp(-0.05)/150"
   ]
  },
  {
   "cell_type": "markdown",
   "metadata": {},
   "source": [
    "aang[0][39160] **"
   ]
  },
  {
   "cell_type": "markdown",
   "metadata": {},
   "source": [
    "S_ij(39160,0)"
   ]
  },
  {
   "cell_type": "markdown",
   "metadata": {},
   "source": [
    "for i in aang[0]:\n",
    "    if i < 8 and i!= -1 and i >= 7:\n",
    "        print(aang[0].index(i))"
   ]
  },
  {
   "cell_type": "markdown",
   "metadata": {},
   "source": [
    "S_ij(99351,0)\n",
    "#aang[0][142]"
   ]
  },
  {
   "cell_type": "markdown",
   "metadata": {},
   "source": [
    "ang = np.deg2rad(aang[0][99351]) ** 2\n",
    "\n",
    "    #if ang < 20 and ang != -1:\n",
    "sg = np.deg2rad(icang[99351]) ** 2\n",
    "np.exp(-1 * ang / (2 * sg)) / (2 * np.pi * sg)"
   ]
  },
  {
   "cell_type": "markdown",
   "metadata": {},
   "source": [
    "ang = np.deg2rad(aang[0][99351]) ** 2\n",
    "err = np.deg2rad(icang[99351]) **2\n",
    "np.exp(-ang/(2 * err))/(2 * np.pi * err)"
   ]
  },
  {
   "cell_type": "markdown",
   "metadata": {},
   "source": [
    "np.exp(-ang/(2 * err))"
   ]
  },
  {
   "cell_type": "markdown",
   "metadata": {},
   "source": [
    "-ang/(2 * err)"
   ]
  },
  {
   "cell_type": "markdown",
   "metadata": {},
   "source": [
    "err"
   ]
  },
  {
   "cell_type": "markdown",
   "metadata": {},
   "source": [
    "a2 = aang[0][99351] ** 2\n",
    "a2"
   ]
  },
  {
   "cell_type": "markdown",
   "metadata": {},
   "source": [
    "icang[99351]"
   ]
  },
  {
   "cell_type": "code",
   "execution_count": 11,
   "metadata": {},
   "outputs": [],
   "source": [
    "\n",
    "#S_ij for ith neutrino and jth pulsar\n",
    "def S_ij(i):\n",
    "    arr = []\n",
    "    sg = icang[i] ** 2\n",
    "    for j in range(0,p):\n",
    "        ang = aang[j][i]\n",
    "        if ang < 20 and ang != -1:\n",
    "            ang = ang ** 2\n",
    "            \n",
    "        arr.append(np.exp(-ang / (2 * sg)) / (2 * np.pi * sg)*ns[j])\n",
    "        #return\n",
    "    else:\n",
    "        arr.append(0)\n",
    "        #return -1\n",
    "    \n",
    "    return np.average(arr)\n",
    "def sij():\n",
    "    pool = mul.Pool()\n",
    "    op_async = pool.map_async(S_ij, range(len(icdec)))\n",
    "    si = op_async.get()\n",
    "    pool = []\n",
    "    op_async = []\n",
    "    return si\n",
    "#for i in range(len(si)):\n",
    "'''def Si():\n",
    "    si = sij()\n",
    "    ssi = []\n",
    "    for i in range(len(si)):\n",
    "        for j in range(len(si[i])):\n",
    "            si[i][j] = si[i][j]/ns[i]\n",
    "        ssi.append(np.average(si[i]))\n",
    "    \n",
    "    return ssi\n",
    "'''\n",
    "\n",
    "#S = Si()"
   ]
  },
  {
   "cell_type": "code",
   "execution_count": null,
   "metadata": {},
   "outputs": [],
   "source": [
    "S = "
   ]
  },
  {
   "cell_type": "markdown",
   "metadata": {},
   "source": [
    "def Si():\n",
    "    si = sij()\n",
    "    pool = mul.Pool()\n",
    "    op_async = pool.map_async(Sib, si, range(len(icdec)))\n",
    "    si = op_async.get()\n",
    "    pool = []\n",
    "    op_async = []\n",
    "    return si"
   ]
  },
  {
   "cell_type": "markdown",
   "metadata": {},
   "source": [
    "ss = sij()"
   ]
  },
  {
   "cell_type": "markdown",
   "metadata": {},
   "source": [
    "ssss\n",
    "s"
   ]
  },
  {
   "cell_type": "markdown",
   "metadata": {},
   "source": [
    "ssi = []\n",
    "i=0\n",
    "for i in range(len(ss)):\n",
    "    for j in range(len(ss[i])):\n",
    "        ss[i][j] = ss[i][j]/ns[i]\n",
    "    ssi.append(np.average(ss[i]))\n",
    "    "
   ]
  },
  {
   "cell_type": "markdown",
   "metadata": {},
   "source": [
    "len(ssi)"
   ]
  },
  {
   "cell_type": "markdown",
   "metadata": {},
   "source": [
    "2103.12813\n",
    "\n",
    "For each sample, given the Dec δi of an event, the background PDF is determined by the relative number of\n",
    "events in δi ± $3^◦$ divided by the solid angle.\n",
    "\n",
    "so calculate total no of events within delta +/- 3\n",
    "and then divide by 2 pi (sin[delta+3]-sin[delta-3])\n",
    "\n",
    "you can choose all events\n",
    "withiin delta +/- 3\n"
   ]
  },
  {
   "cell_type": "code",
   "execution_count": 12,
   "metadata": {},
   "outputs": [],
   "source": [
    "def bg(i):\n",
    "    #Calculating total no of neutrino events within delta +/- 3 of ith neutrino\n",
    "    count = 0\n",
    "    for j in icdec:\n",
    "        if abs(i - j) <= 3:\n",
    "            count+=1 \n",
    "    #calculating solid angle with 3deg\n",
    "    sang = 2 * np.pi * (np.sin(np.deg2rad(icdec[i] + 3)) - np.sin(np.deg2rad(icdec[i] - 3)))\n",
    "    return count/sang\n",
    "\n",
    "def Bi():\n",
    "    pool = mul.Pool()\n",
    "    op_async = pool.map_async(bg, range(len(icdata2)))\n",
    "    return op_async.get()\n",
    "\n",
    "B = np.array(Bi())"
   ]
  },
  {
   "cell_type": "code",
   "execution_count": 42,
   "metadata": {},
   "outputs": [
    {
     "data": {
      "text/plain": [
       "array([ 91.07945132,  75.18440728, 213.43889111, ...,   0.        ,\n",
       "         0.        ,   0.        ])"
      ]
     },
     "execution_count": 42,
     "metadata": {},
     "output_type": "execute_result"
    }
   ],
   "source": [
    "B"
   ]
  },
  {
   "cell_type": "code",
   "execution_count": 14,
   "metadata": {},
   "outputs": [
    {
     "data": {
      "text/plain": [
       "192029"
      ]
     },
     "execution_count": 14,
     "metadata": {},
     "output_type": "execute_result"
    }
   ],
   "source": [
    "sssss = 0\n",
    "for i in B:\n",
    "    if i == 0:\n",
    "        sssss+=1\n",
    "sssss"
   ]
  },
  {
   "cell_type": "code",
   "execution_count": 15,
   "metadata": {},
   "outputs": [
    {
     "data": {
      "text/plain": [
       "192107"
      ]
     },
     "execution_count": 15,
     "metadata": {},
     "output_type": "execute_result"
    }
   ],
   "source": [
    "len(B)"
   ]
  },
  {
   "cell_type": "code",
   "execution_count": 16,
   "metadata": {},
   "outputs": [],
   "source": [
    "def Pr(ns, N, S, B):\n",
    "    nsN = ns/N\n",
    "    return np.add(np.multiply(nsN , S), np.multiply(np.subtract(1, nsN), B))"
   ]
  },
  {
   "cell_type": "code",
   "execution_count": 17,
   "metadata": {},
   "outputs": [],
   "source": [
    "S = np.array(sij())\n",
    "l = np.prod(Pr(8, N, S, B))"
   ]
  },
  {
   "cell_type": "code",
   "execution_count": 25,
   "metadata": {},
   "outputs": [],
   "source": [
    "tt = Pr(8, N, S, B)"
   ]
  },
  {
   "cell_type": "code",
   "execution_count": 36,
   "metadata": {},
   "outputs": [
    {
     "data": {
      "text/plain": [
       "152634"
      ]
     },
     "execution_count": 36,
     "metadata": {},
     "output_type": "execute_result"
    }
   ],
   "source": [
    "counter = 0\n",
    "for i in tt:\n",
    "    if i < 1:\n",
    "        counter +=1\n",
    "counter"
   ]
  },
  {
   "cell_type": "code",
   "execution_count": 38,
   "metadata": {},
   "outputs": [
    {
     "data": {
      "text/plain": [
       "113161"
      ]
     },
     "execution_count": 38,
     "metadata": {},
     "output_type": "execute_result"
    }
   ],
   "source": [
    "counter - (len(tt) - counter)"
   ]
  },
  {
   "cell_type": "markdown",
   "metadata": {},
   "source": [
    "ans is in the order of $10^{113161}$"
   ]
  },
  {
   "cell_type": "code",
   "execution_count": 21,
   "metadata": {},
   "outputs": [],
   "source": [
    "def Ls(S, B, N, ns1):\n",
    "    return np.prod(Pr(ns1, N, S, B))"
   ]
  },
  {
   "cell_type": "code",
   "execution_count": 40,
   "metadata": {},
   "outputs": [
    {
     "data": {
      "text/plain": [
       "[0.0,\n",
       " 0.0,\n",
       " 0.0,\n",
       " 0.0,\n",
       " 0.0,\n",
       " 0.0,\n",
       " 0.0,\n",
       " 0.0,\n",
       " 0.0,\n",
       " 0.0,\n",
       " 0.0,\n",
       " 0.0,\n",
       " 0.0,\n",
       " 0.0,\n",
       " 0.0,\n",
       " 0.0,\n",
       " 0.0,\n",
       " 0.0,\n",
       " 0.0,\n",
       " 0.0,\n",
       " 0.0,\n",
       " 0.0,\n",
       " 0.0,\n",
       " 0.0,\n",
       " 0.0,\n",
       " 0.0,\n",
       " 0.0,\n",
       " 0.0,\n",
       " 0.0,\n",
       " 0.0,\n",
       " 0.0,\n",
       " 0.0,\n",
       " 0.0,\n",
       " 0.0,\n",
       " 0.0,\n",
       " 0.0,\n",
       " 0.0,\n",
       " 0.0,\n",
       " 0.0,\n",
       " 0.0,\n",
       " 0.0,\n",
       " 0.0,\n",
       " 0.0,\n",
       " 0.0,\n",
       " 0.0,\n",
       " 0.0,\n",
       " 0.0,\n",
       " 0.0,\n",
       " 0.0,\n",
       " 0.0,\n",
       " 0.0,\n",
       " 0.0,\n",
       " 0.0,\n",
       " 0.0,\n",
       " 0.0,\n",
       " 0.0,\n",
       " 0.0,\n",
       " 0.0,\n",
       " 0.0,\n",
       " 0.0,\n",
       " 0.0,\n",
       " 0.0,\n",
       " 0.0,\n",
       " 0.0,\n",
       " 0.0,\n",
       " 0.0,\n",
       " 0.0,\n",
       " 0.0,\n",
       " 0.0,\n",
       " 0.0,\n",
       " 0.0,\n",
       " 0.0,\n",
       " 0.0,\n",
       " 0.0,\n",
       " 0.0,\n",
       " 0.0,\n",
       " 0.0,\n",
       " 0.0,\n",
       " 0.0,\n",
       " 0.0,\n",
       " 0.0,\n",
       " 0.0,\n",
       " 0.0,\n",
       " 0.0,\n",
       " 0.0,\n",
       " 0.0,\n",
       " 0.0,\n",
       " 0.0,\n",
       " 0.0,\n",
       " 0.0,\n",
       " 0.0,\n",
       " 0.0,\n",
       " 0.0,\n",
       " 0.0,\n",
       " 0.0,\n",
       " 0.0,\n",
       " 0.0,\n",
       " 0.0,\n",
       " 0.0,\n",
       " 0.0,\n",
       " 0.0,\n",
       " 0.0,\n",
       " 0.0,\n",
       " 0.0,\n",
       " 0.0,\n",
       " 0.0,\n",
       " 0.0,\n",
       " 0.0,\n",
       " 0.0,\n",
       " 0.0,\n",
       " 0.0,\n",
       " 0.0,\n",
       " 0.0,\n",
       " 0.0,\n",
       " 0.0,\n",
       " 0.0,\n",
       " 0.0,\n",
       " 0.0,\n",
       " 0.0,\n",
       " 0.0,\n",
       " 0.0,\n",
       " 0.0,\n",
       " 0.0,\n",
       " 0.0,\n",
       " 0.0,\n",
       " 0.0,\n",
       " 0.0,\n",
       " 0.0,\n",
       " 0.0,\n",
       " 0.0,\n",
       " 0.0,\n",
       " 0.0,\n",
       " 0.0,\n",
       " 0.0,\n",
       " 0.0,\n",
       " 0.0,\n",
       " 0.0,\n",
       " 0.0,\n",
       " 0.0,\n",
       " 0.0,\n",
       " 0.0,\n",
       " 0.0,\n",
       " 0.0,\n",
       " 0.0,\n",
       " 0.0,\n",
       " 0.0,\n",
       " 0.0,\n",
       " 0.0,\n",
       " 0.0,\n",
       " 0.0,\n",
       " 0.0,\n",
       " 0.0,\n",
       " 0.0,\n",
       " 0.0,\n",
       " 0.0,\n",
       " 0.0,\n",
       " 0.0,\n",
       " 0.0,\n",
       " 0.0,\n",
       " 0.0,\n",
       " 0.0,\n",
       " 0.0,\n",
       " 0.0,\n",
       " 0.0,\n",
       " 0.0,\n",
       " 0.0,\n",
       " 0.0,\n",
       " 0.0,\n",
       " 0.0,\n",
       " 0.0,\n",
       " 0.0,\n",
       " 0.0,\n",
       " 0.0,\n",
       " 0.0,\n",
       " 0.0,\n",
       " 0.0,\n",
       " 0.0,\n",
       " 0.0,\n",
       " 0.0,\n",
       " 0.0,\n",
       " 0.0,\n",
       " 0.0,\n",
       " 0.0,\n",
       " 0.0,\n",
       " 0.0,\n",
       " 0.0,\n",
       " 0.0,\n",
       " 0.0,\n",
       " 0.0,\n",
       " 0.0,\n",
       " 0.0,\n",
       " 0.0,\n",
       " 0.0,\n",
       " 0.0,\n",
       " 0.0,\n",
       " 0.0,\n",
       " 0.0,\n",
       " 0.0,\n",
       " 0.0,\n",
       " 0.0,\n",
       " 0.0,\n",
       " 0.0,\n",
       " 0.0,\n",
       " 0.0,\n",
       " 0.0,\n",
       " 0.0,\n",
       " 0.0,\n",
       " 0.0,\n",
       " 0.0,\n",
       " 0.0,\n",
       " 0.0,\n",
       " 0.0,\n",
       " 0.0,\n",
       " 0.0,\n",
       " 0.0,\n",
       " 0.0,\n",
       " 0.0,\n",
       " 0.0,\n",
       " 0.0,\n",
       " 0.0,\n",
       " 0.0,\n",
       " 0.0,\n",
       " 0.0,\n",
       " 0.0,\n",
       " 0.0,\n",
       " 0.0,\n",
       " 0.0,\n",
       " 0.0,\n",
       " 0.0,\n",
       " 0.0,\n",
       " 0.0,\n",
       " 0.0,\n",
       " 0.0,\n",
       " 0.0,\n",
       " 0.0,\n",
       " 0.0,\n",
       " 0.0,\n",
       " 0.0,\n",
       " 0.0,\n",
       " 0.0,\n",
       " 0.0,\n",
       " 0.0,\n",
       " 0.0,\n",
       " 0.0,\n",
       " 0.0,\n",
       " 0.0,\n",
       " 0.0,\n",
       " 0.0,\n",
       " 0.0,\n",
       " 0.0,\n",
       " 0.0,\n",
       " 0.0,\n",
       " 0.0,\n",
       " 0.0,\n",
       " 0.0,\n",
       " 0.0,\n",
       " 0.0,\n",
       " 0.0,\n",
       " 0.0,\n",
       " 0.0,\n",
       " 0.0,\n",
       " 0.0,\n",
       " 0.0,\n",
       " 0.0,\n",
       " 0.0,\n",
       " 0.0,\n",
       " 0.0,\n",
       " 0.0,\n",
       " 0.0,\n",
       " 0.0,\n",
       " 0.0,\n",
       " 0.0,\n",
       " 0.0,\n",
       " 0.0,\n",
       " 0.0,\n",
       " 0.0,\n",
       " 0.0,\n",
       " 0.0,\n",
       " 0.0,\n",
       " 0.0,\n",
       " 0.0,\n",
       " 0.0,\n",
       " 0.0,\n",
       " 0.0,\n",
       " 0.0,\n",
       " 0.0,\n",
       " 0.0,\n",
       " 0.0,\n",
       " 0.0,\n",
       " 0.0,\n",
       " 0.0,\n",
       " 0.0,\n",
       " 0.0,\n",
       " 0.0,\n",
       " 0.0,\n",
       " 0.0,\n",
       " 0.0,\n",
       " 0.0,\n",
       " 0.0,\n",
       " 0.0,\n",
       " 0.0,\n",
       " 0.0,\n",
       " 0.0,\n",
       " 0.0,\n",
       " 0.0,\n",
       " 0.0,\n",
       " 0.0,\n",
       " 0.0,\n",
       " 0.0,\n",
       " 0.0,\n",
       " 0.0,\n",
       " 0.0,\n",
       " 0.0,\n",
       " 0.0,\n",
       " 0.0,\n",
       " 0.0,\n",
       " 0.0,\n",
       " 0.0,\n",
       " 0.0,\n",
       " 0.0,\n",
       " 0.0,\n",
       " 0.0,\n",
       " 0.0,\n",
       " 0.0,\n",
       " 0.0,\n",
       " 0.0,\n",
       " 0.0,\n",
       " 0.0,\n",
       " 0.0,\n",
       " 0.0,\n",
       " 0.0,\n",
       " 0.0,\n",
       " 0.0,\n",
       " 0.0,\n",
       " 0.0,\n",
       " 0.0,\n",
       " 0.0,\n",
       " 0.0,\n",
       " 0.0,\n",
       " 0.0,\n",
       " 0.0,\n",
       " 0.0,\n",
       " 0.0,\n",
       " 0.0,\n",
       " 0.0,\n",
       " 0.0,\n",
       " 0.0,\n",
       " 0.0,\n",
       " 0.0,\n",
       " 0.0,\n",
       " 0.0,\n",
       " 0.0,\n",
       " 0.0,\n",
       " 0.0,\n",
       " 0.0,\n",
       " 0.0,\n",
       " 0.0,\n",
       " 0.0,\n",
       " 0.0,\n",
       " 0.0,\n",
       " 0.0,\n",
       " 0.0,\n",
       " 0.0,\n",
       " 0.0,\n",
       " 0.0,\n",
       " 0.0,\n",
       " 0.0,\n",
       " 0.0,\n",
       " 0.0,\n",
       " 0.0,\n",
       " 0.0,\n",
       " 0.0,\n",
       " 0.0,\n",
       " 0.0,\n",
       " 0.0,\n",
       " 0.0,\n",
       " 0.0,\n",
       " 0.0,\n",
       " 0.0,\n",
       " 0.0,\n",
       " 0.0,\n",
       " 0.0,\n",
       " 0.0,\n",
       " 0.0,\n",
       " 0.0,\n",
       " 0.0,\n",
       " 0.0,\n",
       " 0.0,\n",
       " 0.0,\n",
       " 0.0,\n",
       " 0.0,\n",
       " 0.0,\n",
       " 0.0,\n",
       " 0.0,\n",
       " 0.0,\n",
       " 0.0,\n",
       " 0.0,\n",
       " 0.0,\n",
       " 0.0,\n",
       " 0.0,\n",
       " 0.0,\n",
       " 0.0,\n",
       " 0.0,\n",
       " 0.0,\n",
       " 0.0,\n",
       " 0.0,\n",
       " 0.0,\n",
       " 0.0,\n",
       " 0.0,\n",
       " 0.0,\n",
       " 0.0,\n",
       " 0.0,\n",
       " 0.0,\n",
       " 0.0,\n",
       " 0.0,\n",
       " 0.0,\n",
       " 0.0,\n",
       " 0.0,\n",
       " 0.0,\n",
       " 0.0,\n",
       " 0.0,\n",
       " 0.0,\n",
       " 0.0,\n",
       " 0.0,\n",
       " 0.0,\n",
       " 0.0,\n",
       " 0.0,\n",
       " 0.0,\n",
       " 0.0,\n",
       " 0.0,\n",
       " 0.0,\n",
       " 0.0,\n",
       " 0.0,\n",
       " 0.0,\n",
       " 0.0,\n",
       " 0.0,\n",
       " 0.0,\n",
       " 0.0,\n",
       " 0.0,\n",
       " 0.0,\n",
       " 0.0]"
      ]
     },
     "execution_count": 40,
     "metadata": {},
     "output_type": "execute_result"
    }
   ],
   "source": [
    "L_s = [Ls(S, B, N, i) for i in range(0, 441)]\n",
    "L_s"
   ]
  },
  {
   "cell_type": "markdown",
   "metadata": {},
   "source": [
    "def L_n(S, B, N, ns):\n",
    "    L = np.ones(len(ns))\n",
    "    #pool = mul.Pool()\n",
    "    #op_async = pool.map_async(Pr, ns, N, S, B)\n",
    "    #l = op_async.get()\n",
    "    l = []\n",
    "    i = 0\n",
    "    for i in ns:\n",
    "        l.append(Pr(i, N, S, B))\n",
    "    i = 0\n",
    "    for i in range(0, len(l)):\n",
    "        for j in range(len(l[i])):\n",
    "            L[i] *= l[i][j]\n",
    "    return L\n",
    "L = L_n(S, B, N, range(0,5))\n"
   ]
  },
  {
   "cell_type": "code",
   "execution_count": null,
   "metadata": {},
   "outputs": [],
   "source": [
    "def TS(s, S, B, N):\n",
    "    ts = []\n",
    "    for i in range(0,4):\n",
    "        ts.append(2 * np.log10(Ls(S, B, N, i)/Ls(S, B, N, 0)))\n",
    "    return ts"
   ]
  },
  {
   "cell_type": "markdown",
   "metadata": {},
   "source": [
    "We use the same unbinned likelihood method as in ~\\cite{Hooper,Kamionkowski,LuoZhang} which was first proposed in ~\\cite{Montaruli10}. Similar to ~\\cite{LuoZhang}, we only select those neutrino events, whose angular distance  is within $20^{\\circ}$ of a MSP.  For a dataset of $N$ events, if $n_s$ signal events are attributed to a millisecond pulsar, the probability density of an individual event $i$ is given by:\n",
    "\\begin{equation}\n",
    "P_i = \\frac{n_s}{N} S_i + (1-\\frac{n_s}{N}) B_i,\n",
    "%\\label{eq1}\n",
    "\\end{equation}\n",
    "where $S_i$ and $B_i$ represent the signal and background pdfs, respectively.\n",
    "The likelihood function ($\\mathcal{L}$) of the entire dataset, obtained from the product of each individual PDF can be written as \n",
    "\\begin{equation}\n",
    "\\mathcal{L} (n_s) = \\prod_{i=1}^N P_i,\n",
    "\\end{equation}\n",
    "where $P_i$ is the same as in Eq.~\\ref{eq1}. The signal PDF is given by\n",
    "\\begin{equation}\n",
    "S_i = \\frac{1}{2\\pi\\sigma_i^2}e^{-(|\\theta_i-\\theta_s|)^2/2\\sigma_i^2}\n",
    "\\end{equation}\n",
    "where $|\\theta_i-\\theta_s|$ is the angular distance between the  MSP and the neutrino, whereas $\\sigma_i$ is the angular uncertainty in the neutrino position.\n",
    "The background PDF is determined from the average number of events per solid angle  within a declination of $\\pm 3^{\\circ}$ after averaging over RA. We do not incorporate  the energy information, since the pubic IceCube catalog only contains the energy of the reconstructed muon. The detection statistic used to ascertain the presence of a signal is given by:\n",
    "\\begin{equation}\n",
    "TS (n_s) = 2 \\log \\frac{\\mathcal{L} (n_s)}{\\mathcal{L} (0)}\n",
    "\\end{equation}\n",
    " If the null hypothesis is true, $TS (n_s)$ obeys the $\\chi^2$ distribution for one degree of freedom. We calculated $TS (n_s)$ for all MSPs in the  catalog."
   ]
  },
  {
   "cell_type": "markdown",
   "metadata": {},
   "source": [
    "def b_ivec(lon1, lat1, lon2, lat2):\n",
    "  \n",
    "    #Convert decimal degrees to Radians:\n",
    "    lon1 = np.radians(lon1)\n",
    "    lat1 = np.radians(lat1)\n",
    "    lon2 = np.radians(lon2)\n",
    "    lat2 = np.radians(lat2)\n",
    "\n",
    "    #Implementing Haversine Formula: \n",
    "    dlon = np.subtract(lon2, lon1)\n",
    "    #dlat = np.subtract(lat2, lat1)\n",
    "\n",
    "\n",
    "    a = np.add(np.multiply(np.sin(lat1), np.sin(lat2)), np.multiply(np.multiply(np.cos(lat1), np.cos(lat2)), np.cos(dlon)))\n",
    "\n",
    "    return (np.rad2deg(np.arccos(a)), a)"
   ]
  },
  {
   "cell_type": "markdown",
   "metadata": {},
   "source": [
    "evts_p_srad = []\n",
    "l_ic = len(icdata2)\n",
    "for i in range(len(mspdata)):\n",
    "#returns $B_i$ as defined above\n",
    "#def B_i(i):\n",
    "\n",
    "    r = []\n",
    "    psra = float(mspdata['RAJD'][i])\n",
    "    psdec = float(mspdata['DECJD'][i])\n",
    "    pssa = np.cos(np.cos(np.deg2rad(psdec) + np.cos(np.deg2rad(3))) - np.cos(np.deg2rad(psdec) - np.cos(np.deg2rad(3))))\n",
    "    for j in range(l_ic):\n",
    "        if icdec[j] > np.deg2rad(psdec) - pssa and icdec[j] < np.deg2rad(psdec) + pssa:\n",
    "            r.append(j)\n",
    "    evts_p_srad.append([i,r])\n",
    "\n",
    "    "
   ]
  },
  {
   "cell_type": "code",
   "execution_count": null,
   "metadata": {},
   "outputs": [],
   "source": []
  }
 ],
 "metadata": {
  "kernelspec": {
   "display_name": "Python 3.10.4 64-bit",
   "language": "python",
   "name": "python3"
  },
  "language_info": {
   "codemirror_mode": {
    "name": "ipython",
    "version": 3
   },
   "file_extension": ".py",
   "mimetype": "text/x-python",
   "name": "python",
   "nbconvert_exporter": "python",
   "pygments_lexer": "ipython3",
   "version": "3.10.6"
  },
  "orig_nbformat": 4,
  "vscode": {
   "interpreter": {
    "hash": "916dbcbb3f70747c44a77c7bcd40155683ae19c65e1c03b4aa3499c5328201f1"
   }
  }
 },
 "nbformat": 4,
 "nbformat_minor": 2
}
