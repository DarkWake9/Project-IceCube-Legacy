{
 "cells": [
  {
   "cell_type": "code",
   "execution_count": 1,
   "metadata": {},
   "outputs": [],
   "source": [
    "import numpy as np\n",
    "import pandas as pd\n",
    "import os\n",
    "import multiprocessing as mul\n",
    "from multiprocessing import Process\n",
    "import matplotlib.pyplot as plt\n",
    "import seaborn as sns"
   ]
  },
  {
   "cell_type": "markdown",
   "metadata": {},
   "source": [
    "## IMPORTING AND SORTING THE DATA\n",
    "\n",
    "WE HAVE CHOSEN ICECUBE 2008-18 DATA FOR THIS STUDY\n",
    "\n",
    "\n",
    "THE ICE CUBE DATA SET HAS 1134450 NEUTRINO EVENTS\n",
    "\n",
    "\n",
    "We select neutrino events with Energy >= 100TeV = 10^5 GeV\n",
    "\n",
    "i.e log10(E/GeV) > 5\n",
    "\n",
    "\n",
    "There are 192107 such neutrino events in this data\n",
    "\n",
    "The ms pulsars are taken from the ATNF Catalogue\n",
    "\n",
    "There are 441 pulsars (as of May 2022 when the study started)\n",
    "\n",
    "All the pulsars lie in the declination range of -87 to +87 degrees"
   ]
  },
  {
   "cell_type": "code",
   "execution_count": 2,
   "metadata": {},
   "outputs": [],
   "source": [
    "####\n",
    "#### IMPORTING AND SPLITTING ICDATA $$$\n",
    "\n",
    "\n",
    "path = \"/media/darkwake/VIB2/Project-IceCube/icecube_10year_ps/events\"\n",
    "filenames = [\"IC40_exp.csv\", \"IC59_exp.csv\",\"IC79_exp.csv\", \"IC86_I_exp.csv\", \"IC86_II_exp.csv\",\n",
    "\"IC86_III_exp.csv\", \"IC86_IV_exp.csv\", \"IC86_V_exp.csv\", \"IC86_VI_exp.csv\", \"IC86_VII_exp.csv\"]\n",
    "file = filenames[0]\n",
    "f = open(os.path.join(path, file), 'r')\n",
    "lines = f.readlines()\n",
    "column=lines[0].split()\n",
    "column.pop(0)\n",
    "content = []\n",
    "for file in filenames:\n",
    "    f = open(os.path.join(path, file), 'r')\n",
    "    lines = f.readlines()\n",
    "    for line in lines[1:]:\n",
    "        content.append(line.split())\n",
    "    f.close()\n",
    "icdata = pd.DataFrame(content, columns=column)\n",
    "icdata['log10(E/GeV)'] = [float(i) for i in icdata['log10(E/GeV)']]\n",
    "\n",
    "#icdata = icdata.sort_values('log10(E/GeV)')\n",
    "#icdata = icdata.reset_index()\n",
    "#icdata = icdata.drop('index', axis=1)\n",
    "icdata2 = icdata[icdata['log10(E/GeV)'] > 5]\n",
    "icdata2 = icdata2.reset_index()\n",
    "icdata2 = icdata2.drop('index', axis=1)\n",
    "icdata2\n",
    "\n",
    "#IMPORTING MSPDATA\n",
    "f = open(\"/media/darkwake/VIB2/Project-IceCube/10milsecpsr.txt\", 'r')\n",
    "lines = f.readlines()\n",
    "\n",
    "content=[]\n",
    "column=lines[3].split()\n",
    "for line in lines[:]:\n",
    "    content.append(line.split())\n",
    "    #the INITAL DATABASE IS CLUTTERED SO WE REMOVE THE NULL COLUMNS AND OTHER CLUTTER\n",
    "mspdata = pd.DataFrame(content).drop(range(0,6)).dropna().drop([2,6,8,10,11,13,14], axis=1)\n",
    "f.close()\n",
    "line = []\n",
    "lines = []\n",
    "\n",
    "mspdata.columns = column\n",
    "column = []\n",
    "content=[]\n",
    "mspdata = mspdata.sort_values('DECJD')\n",
    "mspdata.dropna(inplace=True)\n",
    "mspdata = mspdata.reset_index()\n",
    "mspdata = mspdata.drop([\"index\", \"#\"], axis=1)"
   ]
  },
  {
   "cell_type": "markdown",
   "metadata": {},
   "source": [
    "uptime_path = path.replace('events', 'uptime/')\n",
    "filenames = [\"IC40_exp.csv\", \"IC59_exp.csv\",\"IC79_exp.csv\", \"IC86_I_exp.csv\", \"IC86_II_exp.csv\",\n",
    "\"IC86_III_exp.csv\", \"IC86_IV_exp.csv\", \"IC86_V_exp.csv\", \"IC86_VI_exp.csv\", \"IC86_VII_exp.csv\"]\n",
    "#filenames=[\"icecube_10year_ps/uptime/IC40_exp.csv\", \"icecube_10year_ps/uptime/IC59_exp.csv\",\"icecube_10year_ps/uptime/IC79_exp.csv\",\"icecube_10year_ps/uptime/IC86_I_exp.csv\",\"icecube_10year_ps/uptime/IC86_II_exp.csv\",\"icecube_10year_ps/uptime/IC86_III_exp.csv\",\"icecube_10year_ps/uptime/IC86_IV_exp.csv\",\"icecube_10year_ps/uptime/IC86_V_exp.csv\",\"icecube_10year_ps/uptime/IC86_VI_exp.csv\",\"icecube_10year_ps/uptime/IC86_V_exp.csv\"]\n",
    "\n",
    "file = filenames[0]\n",
    "f = open(os.path.join(uptime_path, file), 'r')\n",
    "lines = f.readlines()\n",
    "column=lines[0].split()\n",
    "column.pop(0)\n",
    "content = []\n",
    "f.close()\n",
    "for file in filenames:\n",
    "    f = open(os.path.join(uptime_path, file), 'r')\n",
    "    lines = f.readlines()\n",
    "    for line in lines[1:]:\n",
    "        content.append(line.split())\n",
    "    f.close()\n",
    "icupdata = pd.DataFrame(content, columns=column)\n",
    "'''icupdata = icupdata.sort_values('log10(E/GeV)')\n",
    "icupdata = icupdata.reset_index()\n",
    "icupdata = icupdata.drop('index', axis=1)'''"
   ]
  },
  {
   "cell_type": "markdown",
   "metadata": {},
   "source": [
    "icupdata"
   ]
  },
  {
   "cell_type": "markdown",
   "metadata": {},
   "source": [
    "#uptime = np.float(icupdata['MJD_stop[days]'].values) - np.float(icupdata['MJD_start[days]'].values)\n",
    "tstart = [float(i) for i in icupdata['MJD_start[days]']]\n",
    "tstop = [float(i) for i in icupdata['MJD_stop[days]']]\n",
    "tmid = [float(i) for i in icdata['MJD[days]']]\n",
    "\n",
    "def upt(t):\n",
    "    for i in range(len(tstart)):\n",
    "        if (t > tstart[i]) and (t < tstop[i]):\n",
    "            #tupt.append(t - tstart[i])\n",
    "            #break\n",
    "            return (t - tstart[i])*86400\n",
    "pool = mul.Pool()\n",
    "op_async = pool.map_async(upt, tmid)\n",
    "uptime = op_async.get()"
   ]
  },
  {
   "cell_type": "markdown",
   "metadata": {},
   "source": [
    "len(uptime)\n",
    "op_async = []\n",
    "pool = []\n",
    "uptime[9]"
   ]
  },
  {
   "cell_type": "markdown",
   "metadata": {},
   "source": [
    "icdata.insert(6, column='uptime', value=uptime)"
   ]
  },
  {
   "cell_type": "markdown",
   "metadata": {},
   "source": [
    "#icecube_10year_ps/irfs/\n",
    "effa_path = path.replace('events', 'irfs')\n",
    "filenames = [\"IC40_exp.csv\", \"IC59_exp.csv\",\"IC79_exp.csv\", \"IC86_I_exp.csv\", \"IC86_II_exp.csv\"]\n",
    "file = filenames[0].replace('_exp', '_effectiveArea')\n",
    "f = open(os.path.join(effa_path, file), 'r')\n",
    "lines = f.readlines()\n",
    "column=lines[0].split()\n",
    "column.pop(0)\n",
    "content = []\n",
    "f.close()\n",
    "for file in filenames:\n",
    "    file  = file.replace('_exp', '_effectiveArea')\n",
    "    f = open(os.path.join(effa_path, file), 'r')\n",
    "    lines = f.readlines()\n",
    "    for line in lines[1:]:\n",
    "        content.append(line.split())\n",
    "    f.close()\n",
    "iceadata = pd.DataFrame(content, columns=column)"
   ]
  },
  {
   "cell_type": "markdown",
   "metadata": {},
   "source": [
    "iceadata"
   ]
  },
  {
   "cell_type": "code",
   "execution_count": 3,
   "metadata": {},
   "outputs": [
    {
     "data": {
      "text/html": [
       "<div>\n",
       "<style scoped>\n",
       "    .dataframe tbody tr th:only-of-type {\n",
       "        vertical-align: middle;\n",
       "    }\n",
       "\n",
       "    .dataframe tbody tr th {\n",
       "        vertical-align: top;\n",
       "    }\n",
       "\n",
       "    .dataframe thead th {\n",
       "        text-align: right;\n",
       "    }\n",
       "</style>\n",
       "<table border=\"1\" class=\"dataframe\">\n",
       "  <thead>\n",
       "    <tr style=\"text-align: right;\">\n",
       "      <th></th>\n",
       "      <th>MJD[days]</th>\n",
       "      <th>log10(E/GeV)</th>\n",
       "      <th>AngErr[deg]</th>\n",
       "      <th>RA[deg]</th>\n",
       "      <th>Dec[deg]</th>\n",
       "      <th>Azimuth[deg]</th>\n",
       "      <th>Zenith[deg]</th>\n",
       "    </tr>\n",
       "  </thead>\n",
       "  <tbody>\n",
       "    <tr>\n",
       "      <th>0</th>\n",
       "      <td>54562.38662244</td>\n",
       "      <td>5.17</td>\n",
       "      <td>0.62</td>\n",
       "      <td>75.024</td>\n",
       "      <td>-13.371</td>\n",
       "      <td>349.100</td>\n",
       "      <td>76.646</td>\n",
       "    </tr>\n",
       "    <tr>\n",
       "      <th>1</th>\n",
       "      <td>54562.39267689</td>\n",
       "      <td>5.57</td>\n",
       "      <td>1.13</td>\n",
       "      <td>305.857</td>\n",
       "      <td>-33.932</td>\n",
       "      <td>120.413</td>\n",
       "      <td>56.090</td>\n",
       "    </tr>\n",
       "    <tr>\n",
       "      <th>2</th>\n",
       "      <td>54562.40477593</td>\n",
       "      <td>5.80</td>\n",
       "      <td>1.11</td>\n",
       "      <td>143.516</td>\n",
       "      <td>-38.279</td>\n",
       "      <td>287.171</td>\n",
       "      <td>51.684</td>\n",
       "    </tr>\n",
       "    <tr>\n",
       "      <th>3</th>\n",
       "      <td>54562.42794822</td>\n",
       "      <td>5.73</td>\n",
       "      <td>0.53</td>\n",
       "      <td>310.767</td>\n",
       "      <td>-25.374</td>\n",
       "      <td>128.245</td>\n",
       "      <td>64.650</td>\n",
       "    </tr>\n",
       "    <tr>\n",
       "      <th>4</th>\n",
       "      <td>54562.43975209</td>\n",
       "      <td>5.38</td>\n",
       "      <td>0.64</td>\n",
       "      <td>147.017</td>\n",
       "      <td>-22.059</td>\n",
       "      <td>296.282</td>\n",
       "      <td>67.903</td>\n",
       "    </tr>\n",
       "    <tr>\n",
       "      <th>...</th>\n",
       "      <td>...</td>\n",
       "      <td>...</td>\n",
       "      <td>...</td>\n",
       "      <td>...</td>\n",
       "      <td>...</td>\n",
       "      <td>...</td>\n",
       "      <td>...</td>\n",
       "    </tr>\n",
       "    <tr>\n",
       "      <th>192102</th>\n",
       "      <td>58307.86622128</td>\n",
       "      <td>5.05</td>\n",
       "      <td>0.31</td>\n",
       "      <td>283.724</td>\n",
       "      <td>-29.301</td>\n",
       "      <td>44.569</td>\n",
       "      <td>60.727</td>\n",
       "    </tr>\n",
       "    <tr>\n",
       "      <th>192103</th>\n",
       "      <td>58307.87487966</td>\n",
       "      <td>5.04</td>\n",
       "      <td>0.24</td>\n",
       "      <td>301.335</td>\n",
       "      <td>-69.169</td>\n",
       "      <td>29.895</td>\n",
       "      <td>20.890</td>\n",
       "    </tr>\n",
       "    <tr>\n",
       "      <th>192104</th>\n",
       "      <td>58307.88476760</td>\n",
       "      <td>5.09</td>\n",
       "      <td>0.36</td>\n",
       "      <td>6.179</td>\n",
       "      <td>-68.551</td>\n",
       "      <td>328.904</td>\n",
       "      <td>21.560</td>\n",
       "    </tr>\n",
       "    <tr>\n",
       "      <th>192105</th>\n",
       "      <td>58307.92028692</td>\n",
       "      <td>5.23</td>\n",
       "      <td>0.66</td>\n",
       "      <td>17.387</td>\n",
       "      <td>-34.366</td>\n",
       "      <td>330.510</td>\n",
       "      <td>55.740</td>\n",
       "    </tr>\n",
       "    <tr>\n",
       "      <th>192106</th>\n",
       "      <td>58307.96110988</td>\n",
       "      <td>5.14</td>\n",
       "      <td>0.20</td>\n",
       "      <td>221.246</td>\n",
       "      <td>-59.959</td>\n",
       "      <td>141.239</td>\n",
       "      <td>29.956</td>\n",
       "    </tr>\n",
       "  </tbody>\n",
       "</table>\n",
       "<p>192107 rows × 7 columns</p>\n",
       "</div>"
      ],
      "text/plain": [
       "             MJD[days]  log10(E/GeV) AngErr[deg]  RA[deg] Dec[deg]  \\\n",
       "0       54562.38662244          5.17        0.62   75.024  -13.371   \n",
       "1       54562.39267689          5.57        1.13  305.857  -33.932   \n",
       "2       54562.40477593          5.80        1.11  143.516  -38.279   \n",
       "3       54562.42794822          5.73        0.53  310.767  -25.374   \n",
       "4       54562.43975209          5.38        0.64  147.017  -22.059   \n",
       "...                ...           ...         ...      ...      ...   \n",
       "192102  58307.86622128          5.05        0.31  283.724  -29.301   \n",
       "192103  58307.87487966          5.04        0.24  301.335  -69.169   \n",
       "192104  58307.88476760          5.09        0.36    6.179  -68.551   \n",
       "192105  58307.92028692          5.23        0.66   17.387  -34.366   \n",
       "192106  58307.96110988          5.14        0.20  221.246  -59.959   \n",
       "\n",
       "       Azimuth[deg] Zenith[deg]  \n",
       "0           349.100      76.646  \n",
       "1           120.413      56.090  \n",
       "2           287.171      51.684  \n",
       "3           128.245      64.650  \n",
       "4           296.282      67.903  \n",
       "...             ...         ...  \n",
       "192102       44.569      60.727  \n",
       "192103       29.895      20.890  \n",
       "192104      328.904      21.560  \n",
       "192105      330.510      55.740  \n",
       "192106      141.239      29.956  \n",
       "\n",
       "[192107 rows x 7 columns]"
      ]
     },
     "execution_count": 3,
     "metadata": {},
     "output_type": "execute_result"
    }
   ],
   "source": [
    "icdata2"
   ]
  },
  {
   "cell_type": "code",
   "execution_count": 4,
   "metadata": {},
   "outputs": [
    {
     "data": {
      "text/html": [
       "<div>\n",
       "<style scoped>\n",
       "    .dataframe tbody tr th:only-of-type {\n",
       "        vertical-align: middle;\n",
       "    }\n",
       "\n",
       "    .dataframe tbody tr th {\n",
       "        vertical-align: top;\n",
       "    }\n",
       "\n",
       "    .dataframe thead th {\n",
       "        text-align: right;\n",
       "    }\n",
       "</style>\n",
       "<table border=\"1\" class=\"dataframe\">\n",
       "  <thead>\n",
       "    <tr style=\"text-align: right;\">\n",
       "      <th></th>\n",
       "      <th>NAME</th>\n",
       "      <th>Gl</th>\n",
       "      <th>Gb</th>\n",
       "      <th>RAJD</th>\n",
       "      <th>DECJD</th>\n",
       "      <th>P0</th>\n",
       "      <th>F0</th>\n",
       "      <th>DIST</th>\n",
       "    </tr>\n",
       "  </thead>\n",
       "  <tbody>\n",
       "    <tr>\n",
       "      <th>0</th>\n",
       "      <td>J1853-0008g</td>\n",
       "      <td>33.014</td>\n",
       "      <td>-0.453</td>\n",
       "      <td>283.30</td>\n",
       "      <td>-0.13</td>\n",
       "      <td>0.00282</td>\n",
       "      <td>354.609929</td>\n",
       "      <td>4.554</td>\n",
       "    </tr>\n",
       "    <tr>\n",
       "      <th>1</th>\n",
       "      <td>J1625-0021</td>\n",
       "      <td>13.890</td>\n",
       "      <td>31.827</td>\n",
       "      <td>246.2931579</td>\n",
       "      <td>-0.358044</td>\n",
       "      <td>0.0028336138772234</td>\n",
       "      <td>352.90623328676</td>\n",
       "      <td>0.951</td>\n",
       "    </tr>\n",
       "    <tr>\n",
       "      <th>2</th>\n",
       "      <td>J1852-0044g</td>\n",
       "      <td>32.395</td>\n",
       "      <td>-0.560</td>\n",
       "      <td>283.11</td>\n",
       "      <td>-0.73</td>\n",
       "      <td>0.00241</td>\n",
       "      <td>414.937759</td>\n",
       "      <td>4.492</td>\n",
       "    </tr>\n",
       "    <tr>\n",
       "      <th>3</th>\n",
       "      <td>J1835-0114</td>\n",
       "      <td>29.990</td>\n",
       "      <td>3.007</td>\n",
       "      <td>278.841325</td>\n",
       "      <td>-1.242669</td>\n",
       "      <td>0.005116387644239</td>\n",
       "      <td>195.4503977286</td>\n",
       "      <td>3.452</td>\n",
       "    </tr>\n",
       "    <tr>\n",
       "      <th>4</th>\n",
       "      <td>J1901-0125</td>\n",
       "      <td>32.817</td>\n",
       "      <td>-2.902</td>\n",
       "      <td>285.39083</td>\n",
       "      <td>-1.42472</td>\n",
       "      <td>0.00279</td>\n",
       "      <td>358.422939</td>\n",
       "      <td>2.360</td>\n",
       "    </tr>\n",
       "    <tr>\n",
       "      <th>...</th>\n",
       "      <td>...</td>\n",
       "      <td>...</td>\n",
       "      <td>...</td>\n",
       "      <td>...</td>\n",
       "      <td>...</td>\n",
       "      <td>...</td>\n",
       "      <td>...</td>\n",
       "      <td>...</td>\n",
       "    </tr>\n",
       "    <tr>\n",
       "      <th>436</th>\n",
       "      <td>J1944+0907</td>\n",
       "      <td>47.160</td>\n",
       "      <td>-7.357</td>\n",
       "      <td>296.03887491</td>\n",
       "      <td>9.12306353</td>\n",
       "      <td>0.005185201908798642</td>\n",
       "      <td>192.8565208431179</td>\n",
       "      <td>1.218</td>\n",
       "    </tr>\n",
       "    <tr>\n",
       "      <th>437</th>\n",
       "      <td>J0023+0923</td>\n",
       "      <td>111.383</td>\n",
       "      <td>-52.849</td>\n",
       "      <td>5.82032291</td>\n",
       "      <td>9.38996121</td>\n",
       "      <td>0.003050203104754390</td>\n",
       "      <td>327.8470205611185</td>\n",
       "      <td>1.818</td>\n",
       "    </tr>\n",
       "    <tr>\n",
       "      <th>438</th>\n",
       "      <td>B1855+09</td>\n",
       "      <td>42.290</td>\n",
       "      <td>3.060</td>\n",
       "      <td>284.401626217</td>\n",
       "      <td>9.721442158</td>\n",
       "      <td>0.005362100549682627</td>\n",
       "      <td>186.4940783438289</td>\n",
       "      <td>1.200</td>\n",
       "    </tr>\n",
       "    <tr>\n",
       "      <th>439</th>\n",
       "      <td>J2234+0944</td>\n",
       "      <td>76.280</td>\n",
       "      <td>-40.438</td>\n",
       "      <td>338.69522573</td>\n",
       "      <td>9.74172845</td>\n",
       "      <td>0.003627027895734199</td>\n",
       "      <td>275.7078326240928</td>\n",
       "      <td>1.587</td>\n",
       "    </tr>\n",
       "    <tr>\n",
       "      <th>440</th>\n",
       "      <td>J1908+0949g</td>\n",
       "      <td>43.562</td>\n",
       "      <td>0.797</td>\n",
       "      <td>287.03</td>\n",
       "      <td>9.82</td>\n",
       "      <td>0.00905</td>\n",
       "      <td>110.497238</td>\n",
       "      <td>6.001</td>\n",
       "    </tr>\n",
       "  </tbody>\n",
       "</table>\n",
       "<p>441 rows × 8 columns</p>\n",
       "</div>"
      ],
      "text/plain": [
       "            NAME       Gl       Gb           RAJD        DECJD  \\\n",
       "0    J1853-0008g   33.014   -0.453         283.30        -0.13   \n",
       "1     J1625-0021   13.890   31.827    246.2931579    -0.358044   \n",
       "2    J1852-0044g   32.395   -0.560         283.11        -0.73   \n",
       "3     J1835-0114   29.990    3.007     278.841325    -1.242669   \n",
       "4     J1901-0125   32.817   -2.902      285.39083     -1.42472   \n",
       "..           ...      ...      ...            ...          ...   \n",
       "436   J1944+0907   47.160   -7.357   296.03887491   9.12306353   \n",
       "437   J0023+0923  111.383  -52.849     5.82032291   9.38996121   \n",
       "438     B1855+09   42.290    3.060  284.401626217  9.721442158   \n",
       "439   J2234+0944   76.280  -40.438   338.69522573   9.74172845   \n",
       "440  J1908+0949g   43.562    0.797         287.03         9.82   \n",
       "\n",
       "                       P0                 F0   DIST  \n",
       "0                 0.00282         354.609929  4.554  \n",
       "1      0.0028336138772234    352.90623328676  0.951  \n",
       "2                 0.00241         414.937759  4.492  \n",
       "3       0.005116387644239     195.4503977286  3.452  \n",
       "4                 0.00279         358.422939  2.360  \n",
       "..                    ...                ...    ...  \n",
       "436  0.005185201908798642  192.8565208431179  1.218  \n",
       "437  0.003050203104754390  327.8470205611185  1.818  \n",
       "438  0.005362100549682627  186.4940783438289  1.200  \n",
       "439  0.003627027895734199  275.7078326240928  1.587  \n",
       "440               0.00905         110.497238  6.001  \n",
       "\n",
       "[441 rows x 8 columns]"
      ]
     },
     "execution_count": 4,
     "metadata": {},
     "output_type": "execute_result"
    }
   ],
   "source": [
    "mspdata"
   ]
  },
  {
   "cell_type": "code",
   "execution_count": 5,
   "metadata": {},
   "outputs": [
    {
     "data": {
      "text/plain": [
       "'0.0098613486703673'"
      ]
     },
     "execution_count": 5,
     "metadata": {},
     "output_type": "execute_result"
    }
   ],
   "source": [
    "max(mspdata['P0'])"
   ]
  },
  {
   "cell_type": "code",
   "execution_count": 6,
   "metadata": {},
   "outputs": [],
   "source": [
    "#icdata2 = nu_10gev(import_icdata())\n",
    "#mspdata = import_psrdata()\n",
    "msra = [float(i) for i in mspdata['RAJD']]\n",
    "msdec = [float(i) for i in mspdata['DECJD']]\n",
    "icra = [float(i) for i in icdata2['RA[deg]']]\n",
    "icdec = [float(i) for i in icdata2['Dec[deg]']]\n",
    "icang = [float(i) for i in icdata2['AngErr[deg]']]\n",
    "p = len(msra)\n",
    "lg = len(icra) // p + 1"
   ]
  },
  {
   "cell_type": "code",
   "execution_count": 7,
   "metadata": {},
   "outputs": [],
   "source": [
    "def hvovec(lon1, lat1, lon2, lat2):\n",
    "\n",
    "    #Convert decimal degrees to Radians:\n",
    "    lon1 = np.deg2rad(lon1)\n",
    "    lat1 = np.deg2rad(lat1)\n",
    "    lon2 = np.deg2rad(lon2)\n",
    "    lat2 = np.deg2rad(lat2)\n",
    "\n",
    "    #Implementing Haversine Formula: \n",
    "    dlon = np.subtract(lon2, lon1)\n",
    "    #dlat = np.subtract(lat2, lat1)\n",
    "\n",
    "    a = np.add(np.multiply(np.sin(lat1), np.sin(lat2)), np.multiply(np.multiply(np.cos(lat1), np.cos(lat2)), np.cos(dlon)))\n",
    "\n",
    "    return np.abs(np.rad2deg(np.arccos(a)))"
   ]
  },
  {
   "cell_type": "code",
   "execution_count": 8,
   "metadata": {},
   "outputs": [],
   "source": [
    "msra = [float(i) for i in mspdata['RAJD']]\n",
    "msdec = [float(i) for i in mspdata['DECJD']]\n",
    "icra = [float(i) for i in icdata2['RA[deg]']]\n",
    "icdec = [float(i) for i in icdata2['Dec[deg]']]\n",
    "icang = [float(i) for i in icdata2['AngErr[deg]']]\n",
    "p = len(msra)\n",
    "lg = len(icra) // p + 1"
   ]
  },
  {
   "cell_type": "code",
   "execution_count": 9,
   "metadata": {},
   "outputs": [],
   "source": [
    "def angfinder(b):\n",
    "    ang = []\n",
    "    for a in range(lg):\n",
    "        \n",
    "        if a != lg - 1:\n",
    "        #try:\n",
    "            ilo = icra[a*p:a*p + p]\n",
    "            ila = icdec[a*p:a*p + p]\n",
    "            lo = msra[b] * np.ones(p)\n",
    "            la = msdec[b] * np.ones(p)\n",
    "            temp = hvovec(ilo, ila, lo, la)\n",
    "            for tt in range(len(temp)):\n",
    "                if temp[tt] > 20:\n",
    "                    temp[tt] = -1\n",
    "            ang.extend(temp)\n",
    "        else:\n",
    "        #except:\n",
    "            ilo = icra[a*p:]\n",
    "            ila = icdec[a*p:]\n",
    "            ext = len(ilo)\n",
    "            lo = msra[b] * np.ones(ext)\n",
    "            la = msdec[b] * np.ones(ext)\n",
    "            temp = hvovec(ilo, ila, lo, la)\n",
    "            #ang.extend(hvovec(ilo, ila, lo, la))\n",
    "            for tt in range(len(temp)):\n",
    "                if temp[tt] > 20:\n",
    "                    temp[tt] = -1\n",
    "            ang.extend(temp)\n",
    "            \n",
    "        \n",
    "    return ang\n",
    "\n",
    "pool = mul.Pool()\n",
    "op_async = pool.map_async(angfinder, range(0,p))\n",
    "aang = op_async.get()\n",
    "op_async = []\n",
    "pool = []"
   ]
  },
  {
   "cell_type": "markdown",
   "metadata": {},
   "source": [
    "we only select those neutrino events, whose angular distance  is within $20^{\\circ}$ of a MSP.  For a dataset of $N$ events, if $n_s$ signal events are attributed to a millisecond pulsar, the probability density of an individual event $i$ is given by:\n",
    "\\begin{equation}\n",
    "P_i = \\frac{n_s}{N} S_i + (1-\\frac{n_s}{N}) B_i,\n",
    "%\\label{eq1}\n",
    "\\end{equation}\n",
    "where $S_i$ and $B_i$ represent the signal and background pdfs, respectively.\n",
    "The likelihood function ($\\mathcal{L}$) of the entire dataset, obtained from the product of each individual PDF can be written as \n",
    "\\begin{equation}\n",
    "\\mathcal{L} (n_s) = \\prod_{i=1}^N P_i,\n",
    "\\end{equation}\n",
    "where $P_i$ is the same as in eq1 above. The signal PDF is given by:\n",
    "\\begin{equation}\n",
    "\\large\n",
    "S_i = \\frac{1}{2\\pi\\sigma_i^2}e^{\\frac{-(|\\theta_i-\\theta_s|)^2}{2\\sigma_i^2}}\n",
    "\\end{equation}\n",
    "where $|\\theta_i-\\theta_s|$ is the angular distance between the  MSP and the neutrino, whereas $\\sigma_i$ is the angular uncertainty in the neutrino position.\n",
    "The background PDF is determined from the average number of events per solid angle  within a declination of $\\pm 3^{\\circ}$ after averaging over RA. We do not incorporate  the energy information, since the pubic IceCube catalog only contains the energy of the reconstructed muon. The detection statistic used to ascertain the presence of a signal is given by:\n",
    "\\begin{equation}\n",
    "TS (n_s) = 2 \\log \\frac{\\mathcal{L} (n_s)}{\\mathcal{L} (0)}\n",
    "\\end{equation}\n",
    " If the null hypothesis is true, $TS (n_s)$ obeys the $\\chi^2$ distribution for one degree of freedom. We calculated $TS (n_s)$ for all MSPs in the  catalog."
   ]
  },
  {
   "cell_type": "markdown",
   "metadata": {},
   "source": [
    "### FOR $\\nu_i$ and $p_j$ and  N = len(icdata2) = Total no.of $\\nu$ samples\n",
    "### ns[i] = no.of $\\nu$ events with angles $<= 20 \\deg$ with $psr_i$\n",
    "### $S_i = \\frac{1}{2\\pi\\sigma_i^2}e^{\\frac{-(|\\theta_i-\\theta_s|)^2}{2\\sigma_i^2}}$\n",
    "### $|\\theta_i-\\theta_s|$ = aang[i][s]\n",
    "### $\\sigma_i$ = icang[i]           and                  sg =      $\\sigma_i^2$\n",
    "###"
   ]
  },
  {
   "cell_type": "code",
   "execution_count": 10,
   "metadata": {},
   "outputs": [],
   "source": [
    "N = len(icdata2)\n",
    "\n",
    "ns = []\n",
    "for i in aang:\n",
    "    count = 0\n",
    "    for j in i:\n",
    "        if j != -1:\n",
    "            count += 1\n",
    "    ns.append(count)\n",
    "ns = np.array(ns)\n",
    "    "
   ]
  },
  {
   "cell_type": "markdown",
   "metadata": {},
   "source": [
    "Ns = np.sum(ns)//2"
   ]
  },
  {
   "cell_type": "code",
   "execution_count": 11,
   "metadata": {},
   "outputs": [
    {
     "data": {
      "text/plain": [
       "192107"
      ]
     },
     "execution_count": 11,
     "metadata": {},
     "output_type": "execute_result"
    }
   ],
   "source": [
    "N"
   ]
  },
  {
   "cell_type": "markdown",
   "metadata": {},
   "source": [
    "n2 = []\n",
    "for i in aang:\n",
    "    count = 0\n",
    "    for j in i:\n",
    "        if j != -1:\n",
    "            if j < 5:\n",
    "                count += 1\n",
    "    n2.append(count)"
   ]
  },
  {
   "cell_type": "markdown",
   "metadata": {},
   "source": [
    "for i in aang[0]:\n",
    "    if i < 5 and i!= -1:\n",
    "        print(aang[0].index(i))"
   ]
  },
  {
   "cell_type": "markdown",
   "metadata": {},
   "source": [
    "S_ij(10754,0)"
   ]
  },
  {
   "cell_type": "markdown",
   "metadata": {},
   "source": [
    "[msra[0], msdec[0]]"
   ]
  },
  {
   "cell_type": "markdown",
   "metadata": {},
   "source": [
    "[icra[10754], icdec[10754], icang[10754]]"
   ]
  },
  {
   "cell_type": "markdown",
   "metadata": {},
   "source": [
    "[icra[119640], icdec[119640], icang[119640]]\n"
   ]
  },
  {
   "cell_type": "markdown",
   "metadata": {},
   "source": [
    "S_ij(119640,0)"
   ]
  },
  {
   "cell_type": "markdown",
   "metadata": {},
   "source": [
    "for i in aang[0]:\n",
    "    if i < 6 and i!= -1 and i >= 5:\n",
    "        print(aang[0].index(i))"
   ]
  },
  {
   "cell_type": "markdown",
   "metadata": {},
   "source": [
    "S_ij(31410, 0)"
   ]
  },
  {
   "cell_type": "markdown",
   "metadata": {},
   "source": [
    "for i in aang[0]:\n",
    "    if i < 7 and i!= -1 and i >= 6:\n",
    "        print(aang[0].index(i))"
   ]
  },
  {
   "cell_type": "markdown",
   "metadata": {},
   "source": [
    "np.exp(-0.05)/150"
   ]
  },
  {
   "cell_type": "markdown",
   "metadata": {},
   "source": [
    "aang[0][39160] **"
   ]
  },
  {
   "cell_type": "markdown",
   "metadata": {},
   "source": [
    "S_ij(39160,0)"
   ]
  },
  {
   "cell_type": "markdown",
   "metadata": {},
   "source": [
    "for i in aang[0]:\n",
    "    if i < 8 and i!= -1 and i >= 7:\n",
    "        print(aang[0].index(i))"
   ]
  },
  {
   "cell_type": "markdown",
   "metadata": {},
   "source": [
    "S_ij(99351,0)\n",
    "#aang[0][142]"
   ]
  },
  {
   "cell_type": "markdown",
   "metadata": {},
   "source": [
    "ang = np.deg2rad(aang[0][99351]) ** 2\n",
    "\n",
    "    #if ang < 20 and ang != -1:\n",
    "sg = np.deg2rad(icang[99351]) ** 2\n",
    "np.exp(-1 * ang / (2 * sg)) / (2 * np.pi * sg)"
   ]
  },
  {
   "cell_type": "markdown",
   "metadata": {},
   "source": [
    "ang = np.deg2rad(aang[0][99351]) ** 2\n",
    "err = np.deg2rad(icang[99351]) **2\n",
    "np.exp(-ang/(2 * err))/(2 * np.pi * err)"
   ]
  },
  {
   "cell_type": "markdown",
   "metadata": {},
   "source": [
    "np.exp(-ang/(2 * err))"
   ]
  },
  {
   "cell_type": "markdown",
   "metadata": {},
   "source": [
    "-ang/(2 * err)"
   ]
  },
  {
   "cell_type": "markdown",
   "metadata": {},
   "source": [
    "err"
   ]
  },
  {
   "cell_type": "markdown",
   "metadata": {},
   "source": [
    "a2 = aang[0][99351] ** 2\n",
    "a2"
   ]
  },
  {
   "cell_type": "markdown",
   "metadata": {},
   "source": [
    "icang[99351]"
   ]
  },
  {
   "cell_type": "code",
   "execution_count": 25,
   "metadata": {},
   "outputs": [],
   "source": [
    "\n",
    "#S_ij for ith neutrino and jth pulsar IS WRONG\n",
    "#EDIT 04102022 - 11.28 - S_ij is for i^th pulsar and j^th neutrino and summed over all NEUTRINOS\n",
    "def S_ij(i):\n",
    "    arr = []\n",
    "    \n",
    "    for j in range(0,len(icdata2)):\n",
    "        \n",
    "        ang = aang[i][j]\n",
    "        if ang != -1:\n",
    "            if ang < 20:\n",
    "                sg = np.deg2rad(icang[j]) ** 2\n",
    "                ang = np.deg2rad(ang)\n",
    "                ang = ang ** 2\n",
    "                arr.append(np.exp(-ang / (2 * sg)) / (2 * np.pi * sg))\n",
    "        #return\n",
    "        else:\n",
    "            arr.append(0)\n",
    "        #return -1\n",
    "    \n",
    "    return np.sum(arr)\n",
    "def sij():\n",
    "    pool = mul.Pool()\n",
    "    op_async = pool.map_async(S_ij, range(0,p))\n",
    "    si = op_async.get()\n",
    "    pool = []\n",
    "    op_async = []\n",
    "    return si\n",
    "#for i in range(len(si)):\n",
    "\n",
    "#S = Si()"
   ]
  },
  {
   "cell_type": "code",
   "execution_count": 26,
   "metadata": {},
   "outputs": [],
   "source": [
    "s176 = S_ij(176)"
   ]
  },
  {
   "cell_type": "code",
   "execution_count": 27,
   "metadata": {},
   "outputs": [
    {
     "data": {
      "text/plain": [
       "81013.82532461955"
      ]
     },
     "execution_count": 27,
     "metadata": {},
     "output_type": "execute_result"
    }
   ],
   "source": [
    "s176"
   ]
  },
  {
   "cell_type": "code",
   "execution_count": 13,
   "metadata": {},
   "outputs": [],
   "source": [
    "S = np.array(sij()) "
   ]
  },
  {
   "cell_type": "markdown",
   "metadata": {},
   "source": [
    "### S stores $S_i$ values for all pulsars"
   ]
  },
  {
   "cell_type": "markdown",
   "metadata": {},
   "source": [
    "2103.12813\n",
    "\n",
    "For each sample, given the Dec δi of an event, the background PDF is determined by the relative number of\n",
    "events in δi ± $3^◦$ divided by the solid angle.\n",
    "\n",
    "so calculate total no of events within delta +/- 3\n",
    "and then divide by 2 pi (sin[delta+3]-sin[delta-3])\n",
    "\n",
    "you can choose all events\n",
    "withiin delta +/- 3\n"
   ]
  },
  {
   "cell_type": "code",
   "execution_count": 14,
   "metadata": {},
   "outputs": [],
   "source": [
    "def bg(i):\n",
    "    #Calculating total no of neutrino events within delta +/- 6 of ith PULSAR (not neutrino)\n",
    "    count = 0\n",
    "    for j in icdec:\n",
    "        if abs(msdec[i] - j) <= 6:\n",
    "            count+=1 \n",
    "    #calculating solid angle with 3deg\n",
    "    sang = 2 * np.pi * (np.sin(np.deg2rad(msdec[i] + 6)) - np.sin(np.deg2rad(msdec[i] - 6)))\n",
    "    return count/sang\n",
    "\n",
    "def Bi():\n",
    "    pool = mul.Pool()\n",
    "    op_async = pool.map_async(bg, range(0,p))\n",
    "    return op_async.get()\n",
    "\n",
    "B = np.array(Bi())"
   ]
  },
  {
   "cell_type": "markdown",
   "metadata": {},
   "source": [
    "### B stores $B_i$ values for all pulsars"
   ]
  },
  {
   "cell_type": "code",
   "execution_count": 17,
   "metadata": {},
   "outputs": [
    {
     "name": "stdout",
     "output_type": "stream",
     "text": [
      "176\n"
     ]
    }
   ],
   "source": [
    "for i in range(len(S)):\n",
    "    if S[i] == max(S):\n",
    "        print(i)"
   ]
  },
  {
   "cell_type": "code",
   "execution_count": 18,
   "metadata": {},
   "outputs": [
    {
     "data": {
      "text/plain": [
       "81013.82532461955"
      ]
     },
     "execution_count": 18,
     "metadata": {},
     "output_type": "execute_result"
    }
   ],
   "source": [
    "max(S)"
   ]
  },
  {
   "cell_type": "code",
   "execution_count": 15,
   "metadata": {},
   "outputs": [
    {
     "data": {
      "text/plain": [
       "array([9.44013866e+01, 1.01254817e+02, 1.10397394e+02, 1.34020240e+02,\n",
       "       1.47737784e+02, 1.85867716e+02, 7.86191589e+03, 9.28272761e+03,\n",
       "       9.31811550e+03, 9.82107119e+03, 9.96038116e+03, 1.14575598e+04,\n",
       "       1.28586909e+04, 1.34286636e+04, 1.50262976e+04, 1.52166228e+04,\n",
       "       1.57156743e+04, 1.58616824e+04, 1.59127112e+04, 1.62574101e+04,\n",
       "       1.91339314e+04, 1.92301225e+04, 2.44788793e+04, 2.48437567e+04,\n",
       "       2.49859787e+04, 2.51770217e+04, 1.88918886e+02, 2.73063325e+04,\n",
       "       2.73143533e+04, 2.83514279e+04, 2.85214577e+04, 2.98516568e+04,\n",
       "       3.09899952e+04, 3.13816568e+04, 3.24755569e+04, 3.31511321e+04,\n",
       "       3.32086031e+04, 3.41128383e+04, 3.41262352e+04, 3.44634230e+04,\n",
       "       3.48159704e+04, 3.57937743e+04, 3.58048275e+04, 3.58049293e+04,\n",
       "       3.58117728e+04, 3.58146264e+04, 3.58165423e+04, 3.58165423e+04,\n",
       "       3.58165423e+04, 3.58165423e+04, 3.58165423e+04, 3.58165423e+04,\n",
       "       3.58165423e+04, 3.58165423e+04, 3.58165423e+04, 3.58165423e+04,\n",
       "       3.58165423e+04, 3.58165423e+04, 3.58165423e+04, 3.58165423e+04,\n",
       "       3.58165423e+04, 3.58165423e+04, 3.58165423e+04, 3.58165423e+04,\n",
       "       3.58165423e+04, 3.58165423e+04, 3.58165423e+04, 3.58165423e+04,\n",
       "       3.58165423e+04, 3.58165423e+04, 3.58165423e+04, 3.58165423e+04,\n",
       "       3.58165423e+04, 3.58165423e+04, 3.58165423e+04, 3.58167183e+04,\n",
       "       3.60002972e+04, 3.60004802e+04, 3.60005069e+04, 3.60005069e+04,\n",
       "       3.60005069e+04, 3.60005069e+04, 3.60005069e+04, 3.60005069e+04,\n",
       "       3.60005069e+04, 3.60005069e+04, 3.60005069e+04, 3.60932765e+04,\n",
       "       3.61749072e+04, 3.61781644e+04, 3.78882157e+04, 3.88196426e+04,\n",
       "       3.97922149e+04, 4.05920900e+04, 4.11580267e+04, 4.13193291e+04,\n",
       "       4.27916682e+04, 4.32311908e+04, 4.32468666e+04, 4.35047219e+04,\n",
       "       3.21021193e+02, 3.24076859e+02, 3.41639963e+02, 4.46923970e+04,\n",
       "       4.46923970e+04, 4.46923970e+04, 4.46923970e+04, 4.47938157e+04,\n",
       "       4.47944948e+04, 4.47945765e+04, 4.47994439e+04, 4.47997114e+04,\n",
       "       4.48071014e+04, 4.48080603e+04, 4.48440615e+04, 4.49350020e+04,\n",
       "       4.51194313e+04, 4.51199770e+04, 4.51199770e+04, 4.51200074e+04,\n",
       "       4.51213437e+04, 4.51289423e+04, 4.56483133e+04, 4.56926303e+04,\n",
       "       4.66952287e+04, 4.67763817e+04, 4.71249200e+04, 4.71204240e+04,\n",
       "       4.72170989e+04, 4.72323255e+04, 4.73410998e+04, 4.74789713e+04,\n",
       "       4.75184886e+04, 4.75797581e+04, 4.75833348e+04, 4.77281432e+04,\n",
       "       4.77143768e+04, 4.77051992e+04, 4.77248394e+04, 4.77794640e+04,\n",
       "       4.78008916e+04, 4.78056972e+04, 4.77684387e+04, 4.77565872e+04,\n",
       "       4.77261298e+04, 4.77305062e+04, 4.77642937e+04, 4.78481792e+04,\n",
       "       6.81928566e+02, 4.78876573e+04, 4.77760213e+04, 4.77811489e+04,\n",
       "       4.76552572e+04, 4.76518036e+04, 4.76364387e+04, 4.78784799e+04,\n",
       "       4.81095209e+04, 4.82971978e+04, 4.85048690e+04, 4.85375638e+04,\n",
       "       4.86635339e+04, 4.86514218e+04, 4.86816351e+04, 4.86873667e+04,\n",
       "       4.86873667e+04, 4.86873667e+04, 4.86836034e+04, 4.91132828e+04,\n",
       "       4.91307203e+04, 4.94510298e+04, 4.94280158e+04, 4.94424856e+04,\n",
       "       1.23911712e+03, 1.25829361e+03, 1.51853500e+03, 4.96505110e+04,\n",
       "       4.96651501e+04, 4.98222903e+04, 4.98834466e+04, 4.98801733e+04,\n",
       "       4.99315986e+04, 4.99364957e+04, 4.98795167e+04, 4.98924403e+04,\n",
       "       4.98932841e+04, 4.99433912e+04, 4.99160352e+04, 4.99123902e+04,\n",
       "       4.98912881e+04, 4.98767530e+04, 4.97658464e+04, 4.94979295e+04,\n",
       "       4.90649269e+04, 4.89931238e+04, 4.88958434e+04, 4.86904906e+04,\n",
       "       4.81477957e+04, 4.77159104e+04, 4.67468397e+04, 4.67464637e+04,\n",
       "       4.67469447e+04, 4.67467535e+04, 4.67452091e+04, 1.68906316e+03,\n",
       "       2.07520327e+03, 2.22989315e+03, 2.50107308e+03, 4.66865008e+04,\n",
       "       4.63382258e+04, 4.52289027e+04, 4.40873059e+04, 4.36189067e+04,\n",
       "       4.16593589e+04, 4.05884727e+04, 4.02760721e+04, 4.02708519e+04,\n",
       "       4.02247347e+04, 3.77246373e+04, 3.52758932e+04, 3.33025299e+04,\n",
       "       3.31745276e+04, 3.24790479e+04, 2.91058255e+03, 3.75327117e+03,\n",
       "       2.92961721e+04, 2.74963502e+04, 2.73506556e+04, 2.72733534e+04,\n",
       "       2.72737200e+04, 2.72660063e+04, 2.72660063e+04, 2.72667378e+04,\n",
       "       2.72698615e+04, 2.72618723e+04, 2.72535006e+04, 2.72496211e+04,\n",
       "       2.72477071e+04, 2.72480132e+04, 2.72480220e+04, 2.72464193e+04,\n",
       "       2.72466304e+04, 2.72468204e+04, 2.72472428e+04, 2.72463002e+04,\n",
       "       2.72493815e+04, 2.72499157e+04, 2.72508197e+04, 2.72508197e+04,\n",
       "       2.72512933e+04, 2.72501083e+04, 2.72470208e+04, 2.72422739e+04,\n",
       "       2.72391815e+04, 2.02391923e+04, 4.17179286e+03, 4.62728904e+03,\n",
       "       4.85862265e+03, 5.00923288e+03, 5.20654628e+03, 5.41877278e+03,\n",
       "       5.42265529e+03, 5.42265762e+03, 5.42343183e+03, 5.43276521e+03,\n",
       "       1.23893133e+04, 6.08625970e+03, 8.75499811e+01, 8.75499811e+01,\n",
       "       8.60278038e+01, 8.45060116e+01, 8.29839874e+01, 8.29844048e+01,\n",
       "       8.29845625e+01, 8.14636556e+01, 7.99415126e+01, 7.76611001e+01,\n",
       "       7.61397454e+01, 7.38580056e+01, 7.38581302e+01, 7.15770802e+01,\n",
       "       7.00554389e+01, 7.08179734e+01, 6.92968318e+01, 7.00607602e+01,\n",
       "       7.00676939e+01, 6.93130319e+01, 6.85550074e+01, 3.79081362e+01,\n",
       "       3.79144215e+01, 3.95376969e+01, 3.95396225e+01, 3.88489419e+01,\n",
       "       3.81428911e+01, 3.89395897e+01, 3.89396014e+01, 3.89397304e+01,\n",
       "       3.89399634e+01, 3.97434570e+01, 3.97972416e+01, 3.90295865e+01,\n",
       "       3.90568846e+01, 3.90630969e+01, 3.90760648e+01, 3.90905338e+01,\n",
       "       3.76156896e+01, 3.76274047e+01, 3.76386207e+01, 3.76595265e+01,\n",
       "       3.76692834e+01, 3.69218954e+01, 3.54110933e+01, 3.32088440e+01,\n",
       "       3.24356857e+01, 3.24368859e+01, 3.32358334e+01, 3.17565797e+01,\n",
       "       2.86557602e+01, 2.70946960e+01, 2.63067238e+01, 2.55355881e+01,\n",
       "       2.55555179e+01, 2.55783682e+01, 2.72359802e+01, 2.48956546e+01,\n",
       "       2.41161213e+01, 2.33540319e+01, 2.33549738e+01, 2.18044271e+01,\n",
       "       2.26657660e+01, 6.85587232e+01, 6.78003293e+01, 6.78003793e+01,\n",
       "       6.78004511e+01, 6.78006601e+01, 6.78008049e+01, 6.70402462e+01,\n",
       "       6.40134223e+01, 6.40210755e+01, 6.40218219e+01, 6.47861953e+01,\n",
       "       6.25057155e+01, 2.35215953e+01, 2.35267485e+01, 2.27501605e+01,\n",
       "       2.28031616e+01, 2.28254175e+01, 2.20299143e+01, 2.37423815e+01,\n",
       "       2.38407613e+01, 2.30564649e+01, 2.22658131e+01, 2.23675901e+01,\n",
       "       2.23716114e+01, 2.16110832e+01, 2.08141991e+01, 1.83693531e+01,\n",
       "       1.75581712e+01, 1.67571499e+01, 1.76738869e+01, 1.76777969e+01,\n",
       "       1.76786663e+01, 1.77055531e+01, 1.86376879e+01, 1.78030936e+01,\n",
       "       1.70481868e+01, 1.79477462e+01, 1.81706910e+01, 1.81707287e+01,\n",
       "       1.81708310e+01, 1.74332774e+01, 6.17502556e+01, 6.09955392e+01,\n",
       "       6.09961228e+01, 6.02377664e+01, 5.79641393e+01, 5.72074254e+01,\n",
       "       1.67041729e+01, 1.77362822e+01, 1.87503932e+01, 1.71178713e+01,\n",
       "       1.38213365e+01, 1.38736598e+01, 1.41935911e+01, 1.41968564e+01,\n",
       "       1.41981509e+01, 1.41984950e+01, 1.42005823e+01, 1.15272728e+01,\n",
       "       1.06213406e+01, 1.06992951e+01, 5.41844578e+01, 5.65395299e+01,\n",
       "       5.65398854e+01, 5.65430261e+01, 9.08824491e+00, 1.01667891e+01,\n",
       "       8.26141068e+00, 8.26570489e+00, 7.30260247e+00, 5.35580170e+00,\n",
       "       5.39982009e+00, 4.47411870e+00, 2.30521713e+00, 1.16951572e+00,\n",
       "       2.35079905e+00, 5.20421818e+01, 4.78830321e+00, 4.80457521e+00,\n",
       "       6.11247567e+00, 6.12728094e+00, 6.17874884e+00, 6.34227284e+00,\n",
       "       6.57402176e+00, 6.60559678e+00, 5.05273358e+01, 4.82432575e+01,\n",
       "       4.74832627e+01, 4.82534888e+01, 4.67320395e+01, 4.29501839e+01,\n",
       "       1.07279950e+01, 7.58897347e+00, 7.66466336e+00, 7.83793701e+00,\n",
       "       7.86442843e+00, 4.06245605e+00, 4.22618625e+01, 8.66635181e+00,\n",
       "       9.10165044e+00, 7.52751485e+00, 4.23438194e+01, 4.23476154e+01,\n",
       "       4.23532213e+01, 4.16077738e+01, 4.08451095e+01, 9.55561456e+00,\n",
       "       4.08658260e+01, 3.93535848e+01, 3.86195405e+01, 3.86218857e+01,\n",
       "       3.86309820e+01])"
      ]
     },
     "execution_count": 15,
     "metadata": {},
     "output_type": "execute_result"
    }
   ],
   "source": [
    "B"
   ]
  },
  {
   "cell_type": "markdown",
   "metadata": {},
   "source": [
    "### For $a^{th}$ pulsar"
   ]
  },
  {
   "cell_type": "markdown",
   "metadata": {},
   "source": [
    "### $P_i[a] = \\dfrac{ns[a]}{N} S[a] + \\left(1 - \\dfrac{ns[a]}{N}\\right)B[a]$ if ns = no.of $\\nu$ events with angles $<= 20 \\deg$ with $psr_a$\n",
    "\n",
    "                                                 OR\n",
    "                                                 \n",
    "### $P_i[a] = \\dfrac{ns}{N} S[a] + \\left(1 - \\dfrac{ns}{N}\\right)B[a]$     where ns is a scalar number specified manually in\n",
    "### $\\mathcal{L}(ns) = np.product(P_i(ns, N, S, B))$"
   ]
  },
  {
   "cell_type": "code",
   "execution_count": 55,
   "metadata": {},
   "outputs": [],
   "source": [
    "for i in range(p):\n",
    "    if B[i] == 0:\n",
    "        print(i)"
   ]
  },
  {
   "cell_type": "markdown",
   "metadata": {},
   "source": [
    "sssss = 0\n",
    "for i in B:\n",
    "    if i == 0:\n",
    "        sssss+=1\n",
    "sssss"
   ]
  },
  {
   "cell_type": "markdown",
   "metadata": {},
   "source": [
    "len(B)"
   ]
  },
  {
   "cell_type": "code",
   "execution_count": 77,
   "metadata": {},
   "outputs": [],
   "source": [
    "def Pr(ns, N, S, B):\n",
    "    nsN = ns/N\n",
    "    return np.add(np.multiply(nsN , S), np.multiply(np.subtract(1, nsN), B))"
   ]
  },
  {
   "cell_type": "code",
   "execution_count": 78,
   "metadata": {},
   "outputs": [],
   "source": [
    "l = Pr(0, N, S, B)"
   ]
  },
  {
   "cell_type": "code",
   "execution_count": 79,
   "metadata": {},
   "outputs": [
    {
     "name": "stderr",
     "output_type": "stream",
     "text": [
      "/home/darkwake/.local/lib/python3.10/site-packages/numpy/core/fromnumeric.py:86: RuntimeWarning: overflow encountered in reduce\n",
      "  return ufunc.reduce(obj, axis, dtype, out, **passkwargs)\n"
     ]
    },
    {
     "data": {
      "text/plain": [
       "inf"
      ]
     },
     "execution_count": 79,
     "metadata": {},
     "output_type": "execute_result"
    }
   ],
   "source": [
    "np.prod(l)"
   ]
  },
  {
   "cell_type": "code",
   "execution_count": 81,
   "metadata": {},
   "outputs": [
    {
     "data": {
      "text/plain": [
       "81013.82532461955"
      ]
     },
     "execution_count": 81,
     "metadata": {},
     "output_type": "execute_result"
    }
   ],
   "source": [
    "max(S)"
   ]
  },
  {
   "cell_type": "code",
   "execution_count": 57,
   "metadata": {},
   "outputs": [],
   "source": [
    "n2 = len(icdata2)\n",
    "a = ns[0]/n2"
   ]
  },
  {
   "cell_type": "code",
   "execution_count": 58,
   "metadata": {},
   "outputs": [
    {
     "data": {
      "text/plain": [
       "93.7836971496685"
      ]
     },
     "execution_count": 58,
     "metadata": {},
     "output_type": "execute_result"
    }
   ],
   "source": [
    "a * S[0] + (1-a)*B[0]"
   ]
  },
  {
   "cell_type": "code",
   "execution_count": 59,
   "metadata": {},
   "outputs": [
    {
     "data": {
      "text/plain": [
       "[6.0955712124141483e-05, 94.40138659528445]"
      ]
     },
     "execution_count": 59,
     "metadata": {},
     "output_type": "execute_result"
    }
   ],
   "source": [
    "[S[0], B[0]]"
   ]
  },
  {
   "cell_type": "code",
   "execution_count": 60,
   "metadata": {},
   "outputs": [
    {
     "data": {
      "text/plain": [
       "0.9934567714867235"
      ]
     },
     "execution_count": 60,
     "metadata": {},
     "output_type": "execute_result"
    }
   ],
   "source": [
    "1 - a"
   ]
  },
  {
   "cell_type": "code",
   "execution_count": 61,
   "metadata": {},
   "outputs": [
    {
     "ename": "NameError",
     "evalue": "name 'l' is not defined",
     "output_type": "error",
     "traceback": [
      "\u001b[0;31m---------------------------------------------------------------------------\u001b[0m",
      "\u001b[0;31mNameError\u001b[0m                                 Traceback (most recent call last)",
      "\u001b[0;32m/tmp/ipykernel_26384/2380092741.py\u001b[0m in \u001b[0;36m<module>\u001b[0;34m\u001b[0m\n\u001b[0;32m----> 1\u001b[0;31m \u001b[0;36m0\u001b[0m \u001b[0;32min\u001b[0m \u001b[0ml\u001b[0m\u001b[0;34m\u001b[0m\u001b[0;34m\u001b[0m\u001b[0m\n\u001b[0m",
      "\u001b[0;31mNameError\u001b[0m: name 'l' is not defined"
     ]
    }
   ],
   "source": [
    "0 in l"
   ]
  },
  {
   "cell_type": "code",
   "execution_count": 62,
   "metadata": {},
   "outputs": [],
   "source": [
    "def Ls(ns1, N,S, B):\n",
    "    return np.prod(Pr(ns1, N,S, B))"
   ]
  },
  {
   "cell_type": "markdown",
   "metadata": {},
   "source": [
    "def L_n(S, B, N, ns):\n",
    "    L = np.ones(len(ns))\n",
    "    for i in range(0, len(l)):\n",
    "        for j in range(len(l[i])):\n",
    "            L[i] *= l[i][j]\n",
    "    return L\n",
    "L = L_n(S, B, N, ns)\n"
   ]
  },
  {
   "cell_type": "code",
   "execution_count": 63,
   "metadata": {},
   "outputs": [
    {
     "name": "stderr",
     "output_type": "stream",
     "text": [
      "/home/darkwake/.local/lib/python3.10/site-packages/numpy/core/fromnumeric.py:86: RuntimeWarning: overflow encountered in reduce\n",
      "  return ufunc.reduce(obj, axis, dtype, out, **passkwargs)\n",
      "/tmp/ipykernel_26384/1122701447.py:4: RuntimeWarning: invalid value encountered in double_scalars\n",
      "  ts.append(2 * np.log10(Ls(i, N, S, B)/Ls(0, N, S, B)))\n"
     ]
    }
   ],
   "source": [
    "def TS(ns, S, B, N):\n",
    "    ts = []\n",
    "    for i in ns:\n",
    "        ts.append(2 * np.log10(Ls(i, N, S, B)/Ls(0, N, S, B)))\n",
    "    return ts\n",
    "ts = TS(ns, S, B, N)"
   ]
  },
  {
   "cell_type": "code",
   "execution_count": 64,
   "metadata": {},
   "outputs": [
    {
     "data": {
      "text/plain": [
       "nan"
      ]
     },
     "execution_count": 64,
     "metadata": {},
     "output_type": "execute_result"
    }
   ],
   "source": [
    "np.array(ts)\n",
    "ts[0]"
   ]
  },
  {
   "cell_type": "markdown",
   "metadata": {},
   "source": [
    "We use the same unbinned likelihood method as in ~\\cite{Hooper,Kamionkowski,LuoZhang} which was first proposed in ~\\cite{Montaruli10}. Similar to ~\\cite{LuoZhang}, we only select those neutrino events, whose angular distance  is within $20^{\\circ}$ of a MSP.  For a dataset of $N$ events, if $n_s$ signal events are attributed to a millisecond pulsar, the probability density of an individual event $i$ is given by:\n",
    "\\begin{equation}\n",
    "P_i = \\frac{n_s}{N} S_i + (1-\\frac{n_s}{N}) B_i,\n",
    "%\\label{eq1}\n",
    "\\end{equation}\n",
    "where $S_i$ and $B_i$ represent the signal and background pdfs, respectively.\n",
    "The likelihood function ($\\mathcal{L}$) of the entire dataset, obtained from the product of each individual PDF can be written as \n",
    "\\begin{equation}\n",
    "\\mathcal{L} (n_s) = \\prod_{i=1}^N P_i,\n",
    "\\end{equation}\n",
    "where $P_i$ is the same as in Eq.~\\ref{eq1}. The signal PDF is given by\n",
    "\\begin{equation}\n",
    "S_i = \\frac{1}{2\\pi\\sigma_i^2}e^{-(|\\theta_i-\\theta_s|)^2/2\\sigma_i^2}\n",
    "\\end{equation}\n",
    "where $|\\theta_i-\\theta_s|$ is the angular distance between the  MSP and the neutrino, whereas $\\sigma_i$ is the angular uncertainty in the neutrino position.\n",
    "The background PDF is determined from the average number of events per solid angle  within a declination of $\\pm 3^{\\circ}$ after averaging over RA. We do not incorporate  the energy information, since the pubic IceCube catalog only contains the energy of the reconstructed muon. The detection statistic used to ascertain the presence of a signal is given by:\n",
    "\\begin{equation}\n",
    "TS (n_s) = 2 \\log \\frac{\\mathcal{L} (n_s)}{\\mathcal{L} (0)}\n",
    "\\end{equation}\n",
    " If the null hypothesis is true, $TS (n_s)$ obeys the $\\chi^2$ distribution for one degree of freedom. We calculated $TS (n_s)$ for all MSPs in the  catalog."
   ]
  },
  {
   "cell_type": "code",
   "execution_count": null,
   "metadata": {},
   "outputs": [],
   "source": []
  },
  {
   "cell_type": "code",
   "execution_count": null,
   "metadata": {},
   "outputs": [],
   "source": [
    "plt.figure(figsize=(8,6))\n",
    "plt.yscale('log')\n",
    "plt.plot(list(ts), list(ns))\n",
    "plt.show()"
   ]
  },
  {
   "cell_type": "code",
   "execution_count": null,
   "metadata": {},
   "outputs": [],
   "source": []
  }
 ],
 "metadata": {
  "kernelspec": {
   "display_name": "Python 3.10.4 64-bit",
   "language": "python",
   "name": "python3"
  },
  "language_info": {
   "codemirror_mode": {
    "name": "ipython",
    "version": 3
   },
   "file_extension": ".py",
   "mimetype": "text/x-python",
   "name": "python",
   "nbconvert_exporter": "python",
   "pygments_lexer": "ipython3",
   "version": "3.10.6"
  },
  "orig_nbformat": 4,
  "vscode": {
   "interpreter": {
    "hash": "916dbcbb3f70747c44a77c7bcd40155683ae19c65e1c03b4aa3499c5328201f1"
   }
  }
 },
 "nbformat": 4,
 "nbformat_minor": 2
}
