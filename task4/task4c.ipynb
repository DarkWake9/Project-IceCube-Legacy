{
 "cells": [
  {
   "cell_type": "code",
   "execution_count": 1,
   "metadata": {},
   "outputs": [],
   "source": [
    "import numpy as np\n",
    "import pandas as pd\n",
    "import os\n",
    "import multiprocessing as mul\n",
    "from multiprocessing import Process\n",
    "import matplotlib.pyplot as plt\n",
    "#import seaborn as sns\n",
    "from scipy.optimize import minimize\n",
    "from scipy.optimize import curve_fit\n",
    "from IPython.display import clear_output\n",
    "from scipy.stats import chi2\n",
    "from scipy.stats import norm\n",
    "from scipy.stats import gaussian_kde\n",
    "import scipy.stats as sct\n",
    "from astropy.coordinates import SkyCoord as scr\n",
    "from astropy import units as u"
   ]
  },
  {
   "cell_type": "code",
   "execution_count": 2,
   "metadata": {},
   "outputs": [],
   "source": [
    "####\n",
    "#### IMPORTING AND SPLITTING ICDATA $$$\n",
    "\n",
    "\n",
    "path = \"/media/darkwake/VIB2/Project-IceCube/icecube_10year_ps/events\"\n",
    "filenames = [\"IC40_exp.csv\", \"IC59_exp.csv\",\"IC79_exp.csv\", \"IC86_I_exp.csv\", \"IC86_II_exp.csv\",\n",
    "\"IC86_III_exp.csv\", \"IC86_IV_exp.csv\", \"IC86_V_exp.csv\", \"IC86_VI_exp.csv\", \"IC86_VII_exp.csv\"]\n",
    "file = filenames[0]\n",
    "f = open(os.path.join(path, file), 'r')\n",
    "lines = f.readlines()\n",
    "column=lines[0].split()\n",
    "column.pop(0)\n",
    "content = []\n",
    "for file in filenames:\n",
    "    f = open(os.path.join(path, file), 'r')\n",
    "    lines = f.readlines()\n",
    "    for line in lines[1:]:\n",
    "        content.append(line.split())\n",
    "    f.close()\n",
    "icdata = pd.DataFrame(content, columns=column)\n",
    "icdata['log10(E/GeV)'] = [float(i) for i in icdata['log10(E/GeV)']]\n"
   ]
  },
  {
   "cell_type": "code",
   "execution_count": 3,
   "metadata": {},
   "outputs": [],
   "source": [
    "\n",
    "\n",
    "#IMPORTING MSPDATA\n",
    "f = open(\"/media/darkwake/VIB2/Project-IceCube/allpsr.txt\", 'r')\n",
    "lines = f.readlines()\n",
    "\n",
    "content=[]\n",
    "column=lines.pop(0).split()\n",
    "for line in lines[:]:\n",
    "    content.append(line.split())\n",
    "    #the INITAL DATABASE IS CLUTTERED SO WE REMOVE THE NULL COLUMNS AND OTHER CLUTTER\n",
    "mspdata = pd.DataFrame(content).dropna().drop_duplicates()#.drop(range(0,6)).dropna().drop([2,6,8,10,11,13,14], axis=1)\n",
    "f.close()\n",
    "line = []\n",
    "lines = []\n",
    "\n",
    "mspdata.columns = column\n",
    "column = []\n",
    "content=[]\n",
    "mspdata = mspdata.sort_values('DECJD')\n",
    "mspdata.dropna(inplace=True)\n",
    "mspdata = mspdata.reset_index()\n",
    "mspdata = mspdata.drop([\"index\", \"#\"], axis=1)"
   ]
  },
  {
   "cell_type": "code",
   "execution_count": 4,
   "metadata": {},
   "outputs": [
    {
     "data": {
      "text/html": [
       "<div>\n",
       "<style scoped>\n",
       "    .dataframe tbody tr th:only-of-type {\n",
       "        vertical-align: middle;\n",
       "    }\n",
       "\n",
       "    .dataframe tbody tr th {\n",
       "        vertical-align: top;\n",
       "    }\n",
       "\n",
       "    .dataframe thead th {\n",
       "        text-align: right;\n",
       "    }\n",
       "</style>\n",
       "<table border=\"1\" class=\"dataframe\">\n",
       "  <thead>\n",
       "    <tr style=\"text-align: right;\">\n",
       "      <th></th>\n",
       "      <th>MJD[days]</th>\n",
       "      <th>log10(E/GeV)</th>\n",
       "      <th>AngErr[deg]</th>\n",
       "      <th>RA[deg]</th>\n",
       "      <th>Dec[deg]</th>\n",
       "      <th>Azimuth[deg]</th>\n",
       "      <th>Zenith[deg]</th>\n",
       "    </tr>\n",
       "  </thead>\n",
       "  <tbody>\n",
       "    <tr>\n",
       "      <th>0</th>\n",
       "      <td>54562.37911273</td>\n",
       "      <td>3.31</td>\n",
       "      <td>0.48</td>\n",
       "      <td>203.024</td>\n",
       "      <td>16.760</td>\n",
       "      <td>218.374</td>\n",
       "      <td>106.712</td>\n",
       "    </tr>\n",
       "    <tr>\n",
       "      <th>1</th>\n",
       "      <td>54562.38662244</td>\n",
       "      <td>5.17</td>\n",
       "      <td>0.62</td>\n",
       "      <td>75.024</td>\n",
       "      <td>-13.371</td>\n",
       "      <td>349.100</td>\n",
       "      <td>76.646</td>\n",
       "    </tr>\n",
       "    <tr>\n",
       "      <th>2</th>\n",
       "      <td>54562.38789162</td>\n",
       "      <td>3.92</td>\n",
       "      <td>0.56</td>\n",
       "      <td>97.501</td>\n",
       "      <td>11.290</td>\n",
       "      <td>327.060</td>\n",
       "      <td>101.291</td>\n",
       "    </tr>\n",
       "    <tr>\n",
       "      <th>3</th>\n",
       "      <td>54562.39267689</td>\n",
       "      <td>5.57</td>\n",
       "      <td>1.13</td>\n",
       "      <td>305.857</td>\n",
       "      <td>-33.932</td>\n",
       "      <td>120.413</td>\n",
       "      <td>56.090</td>\n",
       "    </tr>\n",
       "    <tr>\n",
       "      <th>4</th>\n",
       "      <td>54562.40477593</td>\n",
       "      <td>5.80</td>\n",
       "      <td>1.11</td>\n",
       "      <td>143.516</td>\n",
       "      <td>-38.279</td>\n",
       "      <td>287.171</td>\n",
       "      <td>51.684</td>\n",
       "    </tr>\n",
       "    <tr>\n",
       "      <th>...</th>\n",
       "      <td>...</td>\n",
       "      <td>...</td>\n",
       "      <td>...</td>\n",
       "      <td>...</td>\n",
       "      <td>...</td>\n",
       "      <td>...</td>\n",
       "      <td>...</td>\n",
       "    </tr>\n",
       "    <tr>\n",
       "      <th>1134445</th>\n",
       "      <td>58307.96110988</td>\n",
       "      <td>5.14</td>\n",
       "      <td>0.20</td>\n",
       "      <td>221.246</td>\n",
       "      <td>-59.959</td>\n",
       "      <td>141.239</td>\n",
       "      <td>29.956</td>\n",
       "    </tr>\n",
       "    <tr>\n",
       "      <th>1134446</th>\n",
       "      <td>58307.96266638</td>\n",
       "      <td>2.94</td>\n",
       "      <td>1.23</td>\n",
       "      <td>191.547</td>\n",
       "      <td>4.415</td>\n",
       "      <td>171.627</td>\n",
       "      <td>94.312</td>\n",
       "    </tr>\n",
       "    <tr>\n",
       "      <th>1134447</th>\n",
       "      <td>58307.96355617</td>\n",
       "      <td>2.88</td>\n",
       "      <td>0.30</td>\n",
       "      <td>308.127</td>\n",
       "      <td>42.543</td>\n",
       "      <td>55.437</td>\n",
       "      <td>132.606</td>\n",
       "    </tr>\n",
       "    <tr>\n",
       "      <th>1134448</th>\n",
       "      <td>58307.96397167</td>\n",
       "      <td>2.98</td>\n",
       "      <td>0.21</td>\n",
       "      <td>332.199</td>\n",
       "      <td>44.720</td>\n",
       "      <td>31.489</td>\n",
       "      <td>134.811</td>\n",
       "    </tr>\n",
       "    <tr>\n",
       "      <th>1134449</th>\n",
       "      <td>58307.97260325</td>\n",
       "      <td>3.28</td>\n",
       "      <td>0.25</td>\n",
       "      <td>213.309</td>\n",
       "      <td>4.708</td>\n",
       "      <td>153.453</td>\n",
       "      <td>94.619</td>\n",
       "    </tr>\n",
       "  </tbody>\n",
       "</table>\n",
       "<p>1134450 rows × 7 columns</p>\n",
       "</div>"
      ],
      "text/plain": [
       "              MJD[days]  log10(E/GeV) AngErr[deg]  RA[deg] Dec[deg]  \\\n",
       "0        54562.37911273          3.31        0.48  203.024   16.760   \n",
       "1        54562.38662244          5.17        0.62   75.024  -13.371   \n",
       "2        54562.38789162          3.92        0.56   97.501   11.290   \n",
       "3        54562.39267689          5.57        1.13  305.857  -33.932   \n",
       "4        54562.40477593          5.80        1.11  143.516  -38.279   \n",
       "...                 ...           ...         ...      ...      ...   \n",
       "1134445  58307.96110988          5.14        0.20  221.246  -59.959   \n",
       "1134446  58307.96266638          2.94        1.23  191.547    4.415   \n",
       "1134447  58307.96355617          2.88        0.30  308.127   42.543   \n",
       "1134448  58307.96397167          2.98        0.21  332.199   44.720   \n",
       "1134449  58307.97260325          3.28        0.25  213.309    4.708   \n",
       "\n",
       "        Azimuth[deg] Zenith[deg]  \n",
       "0            218.374     106.712  \n",
       "1            349.100      76.646  \n",
       "2            327.060     101.291  \n",
       "3            120.413      56.090  \n",
       "4            287.171      51.684  \n",
       "...              ...         ...  \n",
       "1134445      141.239      29.956  \n",
       "1134446      171.627      94.312  \n",
       "1134447       55.437     132.606  \n",
       "1134448       31.489     134.811  \n",
       "1134449      153.453      94.619  \n",
       "\n",
       "[1134450 rows x 7 columns]"
      ]
     },
     "execution_count": 4,
     "metadata": {},
     "output_type": "execute_result"
    }
   ],
   "source": [
    "icdata"
   ]
  },
  {
   "cell_type": "code",
   "execution_count": 5,
   "metadata": {},
   "outputs": [
    {
     "data": {
      "text/html": [
       "<div>\n",
       "<style scoped>\n",
       "    .dataframe tbody tr th:only-of-type {\n",
       "        vertical-align: middle;\n",
       "    }\n",
       "\n",
       "    .dataframe tbody tr th {\n",
       "        vertical-align: top;\n",
       "    }\n",
       "\n",
       "    .dataframe thead th {\n",
       "        text-align: right;\n",
       "    }\n",
       "</style>\n",
       "<table border=\"1\" class=\"dataframe\">\n",
       "  <thead>\n",
       "    <tr style=\"text-align: right;\">\n",
       "      <th></th>\n",
       "      <th>NAME</th>\n",
       "      <th>Gl</th>\n",
       "      <th>Gb</th>\n",
       "      <th>RAJD</th>\n",
       "      <th>DECJD</th>\n",
       "      <th>P0</th>\n",
       "      <th>F0</th>\n",
       "      <th>DIST</th>\n",
       "    </tr>\n",
       "  </thead>\n",
       "  <tbody>\n",
       "    <tr>\n",
       "      <th>0</th>\n",
       "      <td>J1852-0000</td>\n",
       "      <td>33.066</td>\n",
       "      <td>-0.277</td>\n",
       "      <td>283.16736</td>\n",
       "      <td>-0.00708</td>\n",
       "      <td>1.92066632921</td>\n",
       "      <td>0.520652642675</td>\n",
       "      <td>5.776</td>\n",
       "    </tr>\n",
       "    <tr>\n",
       "      <th>1</th>\n",
       "      <td>J1843-0000</td>\n",
       "      <td>32.013</td>\n",
       "      <td>1.768</td>\n",
       "      <td>280.86652</td>\n",
       "      <td>-0.01153</td>\n",
       "      <td>0.880334321703</td>\n",
       "      <td>1.13593208324</td>\n",
       "      <td>3.336</td>\n",
       "    </tr>\n",
       "    <tr>\n",
       "      <th>2</th>\n",
       "      <td>J1849-0001</td>\n",
       "      <td>32.638</td>\n",
       "      <td>0.527</td>\n",
       "      <td>282.2568</td>\n",
       "      <td>-0.02151</td>\n",
       "      <td>0.038522586319205</td>\n",
       "      <td>25.958797047369</td>\n",
       "      <td>*</td>\n",
       "    </tr>\n",
       "    <tr>\n",
       "      <th>3</th>\n",
       "      <td>J1852-0002g</td>\n",
       "      <td>32.985</td>\n",
       "      <td>-0.177</td>\n",
       "      <td>283.04</td>\n",
       "      <td>-0.03</td>\n",
       "      <td>0.2451</td>\n",
       "      <td>4.079967</td>\n",
       "      <td>5.591</td>\n",
       "    </tr>\n",
       "    <tr>\n",
       "      <th>4</th>\n",
       "      <td>J1850-0002g</td>\n",
       "      <td>32.738</td>\n",
       "      <td>0.305</td>\n",
       "      <td>282.5</td>\n",
       "      <td>-0.03</td>\n",
       "      <td>0.89336</td>\n",
       "      <td>1.11937</td>\n",
       "      <td>5.732</td>\n",
       "    </tr>\n",
       "    <tr>\n",
       "      <th>...</th>\n",
       "      <td>...</td>\n",
       "      <td>...</td>\n",
       "      <td>...</td>\n",
       "      <td>...</td>\n",
       "      <td>...</td>\n",
       "      <td>...</td>\n",
       "      <td>...</td>\n",
       "      <td>...</td>\n",
       "    </tr>\n",
       "    <tr>\n",
       "      <th>3238</th>\n",
       "      <td>J0152+0948</td>\n",
       "      <td>146.812</td>\n",
       "      <td>-50.221</td>\n",
       "      <td>28.0989</td>\n",
       "      <td>9.8028</td>\n",
       "      <td>2.74664729014</td>\n",
       "      <td>0.364080238329</td>\n",
       "      <td>2.477</td>\n",
       "    </tr>\n",
       "    <tr>\n",
       "      <th>3239</th>\n",
       "      <td>J1908+0949g</td>\n",
       "      <td>43.562</td>\n",
       "      <td>0.797</td>\n",
       "      <td>287.03</td>\n",
       "      <td>9.82</td>\n",
       "      <td>0.00905</td>\n",
       "      <td>110.497238</td>\n",
       "      <td>6.001</td>\n",
       "    </tr>\n",
       "    <tr>\n",
       "      <th>3240</th>\n",
       "      <td>J0550+09</td>\n",
       "      <td>197.055</td>\n",
       "      <td>-8.774</td>\n",
       "      <td>87.6</td>\n",
       "      <td>9.85</td>\n",
       "      <td>1.745</td>\n",
       "      <td>0.573066</td>\n",
       "      <td>1.804</td>\n",
       "    </tr>\n",
       "    <tr>\n",
       "      <th>3241</th>\n",
       "      <td>B1914+09</td>\n",
       "      <td>44.556</td>\n",
       "      <td>-1.019</td>\n",
       "      <td>289.134769</td>\n",
       "      <td>9.857216</td>\n",
       "      <td>0.2702544395645</td>\n",
       "      <td>3.700216735057</td>\n",
       "      <td>1.904</td>\n",
       "    </tr>\n",
       "    <tr>\n",
       "      <th>3242</th>\n",
       "      <td>B0943+10</td>\n",
       "      <td>225.413</td>\n",
       "      <td>43.126</td>\n",
       "      <td>146.532</td>\n",
       "      <td>9.865</td>\n",
       "      <td>1.09770570486</td>\n",
       "      <td>0.91099098381</td>\n",
       "      <td>0.892</td>\n",
       "    </tr>\n",
       "  </tbody>\n",
       "</table>\n",
       "<p>3243 rows × 8 columns</p>\n",
       "</div>"
      ],
      "text/plain": [
       "             NAME       Gl       Gb        RAJD     DECJD                 P0  \\\n",
       "0      J1852-0000   33.066   -0.277   283.16736  -0.00708      1.92066632921   \n",
       "1      J1843-0000   32.013    1.768   280.86652  -0.01153     0.880334321703   \n",
       "2      J1849-0001   32.638    0.527    282.2568  -0.02151  0.038522586319205   \n",
       "3     J1852-0002g   32.985   -0.177      283.04     -0.03             0.2451   \n",
       "4     J1850-0002g   32.738    0.305       282.5     -0.03            0.89336   \n",
       "...           ...      ...      ...         ...       ...                ...   \n",
       "3238   J0152+0948  146.812  -50.221     28.0989    9.8028      2.74664729014   \n",
       "3239  J1908+0949g   43.562    0.797      287.03      9.82            0.00905   \n",
       "3240     J0550+09  197.055   -8.774        87.6      9.85              1.745   \n",
       "3241     B1914+09   44.556   -1.019  289.134769  9.857216    0.2702544395645   \n",
       "3242     B0943+10  225.413   43.126     146.532     9.865      1.09770570486   \n",
       "\n",
       "                   F0   DIST  \n",
       "0      0.520652642675  5.776  \n",
       "1       1.13593208324  3.336  \n",
       "2     25.958797047369      *  \n",
       "3            4.079967  5.591  \n",
       "4             1.11937  5.732  \n",
       "...               ...    ...  \n",
       "3238   0.364080238329  2.477  \n",
       "3239       110.497238  6.001  \n",
       "3240         0.573066  1.804  \n",
       "3241   3.700216735057  1.904  \n",
       "3242    0.91099098381  0.892  \n",
       "\n",
       "[3243 rows x 8 columns]"
      ]
     },
     "execution_count": 5,
     "metadata": {},
     "output_type": "execute_result"
    }
   ],
   "source": [
    "mspdata"
   ]
  },
  {
   "cell_type": "code",
   "execution_count": 6,
   "metadata": {},
   "outputs": [],
   "source": [
    "msra = [float(i) for i in mspdata['RAJD']]\n",
    "msdec = [float(i) for i in mspdata['DECJD']]\n",
    "icra = [float(i) for i in icdata['RA[deg]']]\n",
    "icdec = [float(i) for i in icdata['Dec[deg]']]\n",
    "icang = [float(i) for i in icdata['AngErr[deg]']]\n",
    "global p, lg\n",
    "p = len(msra)\n",
    "lg = len(icra) // p + 1\n",
    "#cut = 20\n",
    "#cone = 3\n",
    "#psrno = 0"
   ]
  },
  {
   "cell_type": "code",
   "execution_count": 7,
   "metadata": {},
   "outputs": [],
   "source": [
    "def hvovec(lon1, lat1, lon2, lat2):\n",
    "\n",
    "    #Convert decimal degrees to Radians:\n",
    "    lon1 = np.deg2rad(lon1)\n",
    "    lat1 = np.deg2rad(lat1)\n",
    "    lon2 = np.deg2rad(lon2)\n",
    "    lat2 = np.deg2rad(lat2)\n",
    "\n",
    "    #Implementing Haversine Formula: \n",
    "    dlon = np.subtract(lon2, lon1)\n",
    "    #dlat = np.subtract(lat2, lat1)\n",
    "\n",
    "    a = np.add(np.multiply(np.sin(lat1), np.sin(lat2)), np.multiply(np.multiply(np.cos(lat1), np.cos(lat2)), np.cos(dlon)))\n",
    "\n",
    "    return np.abs(np.rad2deg(np.arccos(a)))\n",
    "\n",
    "\n",
    "\n",
    "\n",
    "def angfinder(b, cut):\n",
    "    ang = []\n",
    "    for a in range(lg):\n",
    "        \n",
    "        if a != lg - 1:\n",
    "        #try:\n",
    "            ilo = icra[a*p:a*p + p]\n",
    "            ila = icdec[a*p:a*p + p]\n",
    "            lo = msra[b] * np.ones(p)\n",
    "            la = msdec[b] * np.ones(p)\n",
    "            temp = hvovec(ilo, ila, lo, la)\n",
    "            for tt in range(len(temp)):\n",
    "                if temp[tt] > cut:\n",
    "                    temp[tt] = -1\n",
    "            ang.extend(temp)\n",
    "        else:\n",
    "        #except:\n",
    "            ilo = icra[a*p:]\n",
    "            ila = icdec[a*p:]\n",
    "            ext = len(ilo)\n",
    "            lo = msra[b] * np.ones(ext)\n",
    "            la = msdec[b] * np.ones(ext)\n",
    "            temp = hvovec(ilo, ila, lo, la)\n",
    "            #ang.extend(hvovec(ilo, ila, lo, la))\n",
    "            for tt in range(len(temp)):\n",
    "                if temp[tt] > cut:\n",
    "                    temp[tt] = -1\n",
    "            ang.extend(temp)\n",
    "        \n",
    "    return ang\n",
    "\n",
    "\n",
    "def angfinder2(b, declcut):\n",
    "    ang = []\n",
    "    for a in range(lg):\n",
    "        \n",
    "        if a != lg - 1:\n",
    "        #try:\n",
    "            ilo = icra[a*p:a*p + p]\n",
    "            ila = icdec[a*p:a*p + p]\n",
    "            lo = msra[b] * np.ones(p)\n",
    "            la = msdec[b] * np.ones(p)\n",
    "            temp = hvovec(ilo, ila, lo, la)\n",
    "            for tt in range(len(temp)):\n",
    "                if abs(ila[tt] - msdec[b]) > declcut:\n",
    "                    temp[tt] = -1\n",
    "            ang.extend(temp)\n",
    "        else:\n",
    "        #except:\n",
    "            ilo = icra[a*p:]\n",
    "            ila = icdec[a*p:]\n",
    "            ext = len(ilo)\n",
    "            lo = msra[b] * np.ones(ext)\n",
    "            la = msdec[b] * np.ones(ext)\n",
    "            temp = hvovec(ilo, ila, lo, la)\n",
    "            #ang.extend(hvovec(ilo, ila, lo, la))\n",
    "            for tt in range(len(temp)):\n",
    "                if abs(ila[tt] - msdec[b]) > declcut:\n",
    "                    temp[tt] = -1\n",
    "            ang.extend(temp)\n",
    "        \n",
    "    return ang\n",
    "\n",
    "\n",
    "\n",
    "\n",
    "def S_ij(i, aang, cut):### $P_i[a] = \\dfrac{ns[a]}{N} S[a] + \\left(1 - \\dfrac{ns[a]}{N}\\right)B[a]$ if ns \n",
    "        \n",
    "    arr = []\n",
    "    for j in range(0,len(icdata)):\n",
    "        ang = aang[j]\n",
    "        if ang != -1:\n",
    "            if ang < cut:\n",
    "                sg = np.deg2rad(icang[j]) ** 2\n",
    "                ang = np.deg2rad(ang) ** 2\n",
    "                arr.append(np.exp(-1 * ang / (2 * sg)) / (2 * np.pi * sg))\n",
    "    return arr\n",
    "\n",
    "def S2_ij(i, aang, cut):### $P_i[a] = \\dfrac{ns[a]}{N} S[a] + \\left(1 - \\dfrac{ns[a]}{N}\\right)B[a]$ if ns \n",
    "        \n",
    "    arr = []\n",
    "    for j in range(0,len(icdata)):\n",
    "        dec = icdec[j]\n",
    "        if abs(msdec[i] - dec) < cut:\n",
    "            ang = np.deg2rad(aang[j])**2\n",
    "            sg = np.deg2rad(icang[j]) ** 2\n",
    "            ang = np.deg2rad(ang) ** 2\n",
    "            arr.append(np.exp(-1 * ang / (2 * sg)) / (2 * np.pi * sg))\n",
    "    return arr\n",
    "\n",
    "\n",
    "def nsang(aang, cut):\n",
    "    count = 0\n",
    "    for j in aang:\n",
    "        if j != -1:\n",
    "            if j < cut:\n",
    "                count += 1\n",
    "    return count\n",
    "\n",
    "def Ns2(psrno, cut):\n",
    "    count = 0\n",
    "    for i in range(len(icdec)):\n",
    "        if abs(icdec[i] - msdec[psrno]) < cut:\n",
    "            count+=1\n",
    "    return count\n",
    "'''\n",
    "def bg(i, cone, ang,Ns):\n",
    "    icdect = [icdec[i] for i in range(len(ang)) if ang[i] != -1]\n",
    "    #Calculating total no of neutrino events within delta +/- cone of ith PULSAR (not neutrino)\n",
    "    count = np.count_nonzero(np.abs(np.subtract(msdec[i],icdect))<cone)\n",
    "    #calculating solid angle with lt deg conesxipy\n",
    "    sang = 2 * np.pi * (np.sin(np.deg2rad(msdec[i] + cone)) - np.sin(np.deg2rad(msdec[i] - cone)))\n",
    "    return count/sang\n",
    "'''\n",
    "\n",
    "def bg(psrno, cone, ang):\n",
    "    tempnudec = []\n",
    "    for i in range(len(ang)):\n",
    "        if ang[i] != -1:\n",
    "            tempnudec.append(np.sin(np.deg2rad(icdec[i])))#APPENDING SIN(Decl) OF ALL NEUTRINOS WITHIN THE SPECIFIED CUT\n",
    "    \n",
    "    binwidth = np.sin(np.deg2rad(msdec[psrno] + cone)) - np.sin(np.deg2rad(msdec[psrno] - cone))\n",
    "    sin_dpsr = np.sin(np.deg2rad(msdec[psrno]))\n",
    "    bins = np.arange(-1, 1, binwidth)\n",
    "    ht, walls = np.histogram(tempnudec, bins, density=True)\n",
    "    bctr = (bins[1:]+bins[:-1])/2\n",
    "    i=np.argmin(np.abs(bctr-sin_dpsr))\n",
    "    return ht[i]   \n",
    "\n",
    "\n",
    "def bgs(psrno, cone):\n",
    "    binwidth = (np.sin(np.deg2rad(msdec[psrno] + cone)) - np.sin(np.deg2rad(msdec[psrno] - cone)))*2*np.pi\n",
    "    return 1/binwidth\n",
    "#B = bg(psrno)\n",
    "\n",
    "def Pr(x, Ns, S, B):\n",
    "    nsN = x/Ns\n",
    "    return np.add(np.multiply(nsN , S), np.multiply(np.subtract(1, nsN), B))\n",
    "\n",
    "def TS(i, x, S, B, Ns):\n",
    "    return 2*np.sum(np.log(Pr(x,  Ns, S, B)/B))\n",
    "\n",
    "\n",
    "def TSmax(i, S, B, Ns):\n",
    "    #returns the TSmax for i^th GRB\n",
    "    nll = lambda x: -TS(i,x, S, B, Ns)\n",
    "    soln = minimize(nll, 3 ,bounds=((0,None),))\n",
    "    ns = float(soln.x)\n",
    "    return ns"
   ]
  },
  {
   "cell_type": "markdown",
   "metadata": {},
   "source": [
    "psrno = 258\n",
    "cut = 20\n",
    "cone = 3\n",
    "aang = angfinder(psrno, cut)\n",
    "Ns = nsang(aang, cut)\n",
    "S = S_ij(psrno, aang, cut)\n",
    "B = bg(psrno,cone, aang)"
   ]
  },
  {
   "cell_type": "markdown",
   "metadata": {},
   "source": [
    "TSmax(258, S, B, Ns)"
   ]
  },
  {
   "cell_type": "markdown",
   "metadata": {},
   "source": [
    "B"
   ]
  },
  {
   "cell_type": "markdown",
   "metadata": {},
   "source": [
    "TS(258, TSmax(258, S, B, Ns), S, B, Ns)"
   ]
  },
  {
   "cell_type": "markdown",
   "metadata": {},
   "source": [
    "xx = range(0, 1001)\n",
    "tns = [TS(psrno, x, S, B, Ns) for x in range(1001)]\n",
    "plt.plot(xx, tns)"
   ]
  },
  {
   "cell_type": "code",
   "execution_count": 166,
   "metadata": {},
   "outputs": [
    {
     "name": "stderr",
     "output_type": "stream",
     "text": [
      "/tmp/ipykernel_28067/3714485891.py:163: RuntimeWarning: invalid value encountered in log\n",
      "  return 2*np.sum(np.log(Pr(x,  Ns, S, B)/B))\n",
      "/tmp/ipykernel_28067/3714485891.py:163: RuntimeWarning: invalid value encountered in log\n",
      "  return 2*np.sum(np.log(Pr(x,  Ns, S, B)/B))\n",
      "/tmp/ipykernel_28067/3714485891.py:163: RuntimeWarning: invalid value encountered in log\n",
      "  return 2*np.sum(np.log(Pr(x,  Ns, S, B)/B))\n",
      "/tmp/ipykernel_28067/3714485891.py:163: RuntimeWarning: invalid value encountered in log\n",
      "  return 2*np.sum(np.log(Pr(x,  Ns, S, B)/B))\n",
      "/tmp/ipykernel_28067/3714485891.py:163: RuntimeWarning: invalid value encountered in log\n",
      "  return 2*np.sum(np.log(Pr(x,  Ns, S, B)/B))\n",
      "/tmp/ipykernel_28067/3714485891.py:163: RuntimeWarning: invalid value encountered in log\n",
      "  return 2*np.sum(np.log(Pr(x,  Ns, S, B)/B))\n"
     ]
    }
   ],
   "source": [
    "def singpsr2(psrno = 0):\n",
    "    cut = 5\n",
    "    cone = 5\n",
    "    aang = angfinder2(psrno, cut)\n",
    "    #Ns = nsang(aang, cut)\n",
    "    Ns = Ns2(psrno, cut)\n",
    "    S = S2_ij(psrno, aang, cut)\n",
    "    #S = S2_ij(psrno, aang, cut)\n",
    "    #B = bg(psrno,cone, aang)#/(2 * np.pi) FOR STACKED ANALYSIS\n",
    "    B = bgs(psrno, cone) #FOR SINGLE SOURCE ANALYSIS\n",
    "    #TS(psrno, 0)\n",
    "    maxns = TSmax(psrno, S, B, Ns)\n",
    "    return [maxns, np.sqrt(TS(psrno, maxns, S, B, Ns))]\n",
    "tsmax = []\n",
    "errpsr = []\n",
    "pool = mul.Pool(8)#, maxtasksperchild=800)\n",
    "op_async = pool.map_async(singpsr2, range(p))\n",
    "tsmax = op_async.get()\n",
    "op_async = []\n",
    "pool = []\n",
    "'''\n",
    "for i in range(p):\n",
    "    #try:\n",
    "    tsmax.append(singpsr2(i))\n",
    "    #except TypeError:\n",
    "     #   errpsr.append(i)'''\n",
    "maxns = []\n",
    "sqrtts = []\n",
    "for i in tsmax:\n",
    "    maxns.append(i[0])\n",
    "    sqrtts.append(i[1])"
   ]
  },
  {
   "cell_type": "markdown",
   "metadata": {},
   "source": [
    "#### amplitude fixed to total no of events/no of bins between 0 and 1 and then do a fit to this"
   ]
  },
  {
   "cell_type": "markdown",
   "metadata": {},
   "source": [
    "for i in range(p):\n",
    "    if sqrtts[i]**2 < 9 * 10 **(-2):\n",
    "        print([i, sqrtts[i]**2])"
   ]
  },
  {
   "cell_type": "code",
   "execution_count": 167,
   "metadata": {},
   "outputs": [],
   "source": [
    "np.savetxt('tsmax.txt', sqrtts)"
   ]
  },
  {
   "cell_type": "code",
   "execution_count": 168,
   "metadata": {},
   "outputs": [
    {
     "data": {
      "text/plain": [
       "1009.3802108643941"
      ]
     },
     "execution_count": 168,
     "metadata": {},
     "output_type": "execute_result"
    }
   ],
   "source": [
    "max(sqrtts)"
   ]
  },
  {
   "cell_type": "markdown",
   "metadata": {},
   "source": [
    "psrno = 1834\n",
    "cut = 20\n",
    "cone = 3\n",
    "ang = angfinder(psrno, cut)\n",
    "s4 = S_ij(psrno, ang, cut)\n",
    "n4 = nsang(ang, cut)\n",
    "b4 = bg(psrno, cone, ang)\n"
   ]
  },
  {
   "cell_type": "markdown",
   "metadata": {},
   "source": [
    "b4"
   ]
  },
  {
   "cell_type": "markdown",
   "metadata": {},
   "source": [
    "TSmax(psrno, s4, b4, n4)"
   ]
  },
  {
   "cell_type": "markdown",
   "metadata": {},
   "source": [
    "TS(psrno, 1000, s4, b4, n4)"
   ]
  },
  {
   "cell_type": "code",
   "execution_count": 180,
   "metadata": {},
   "outputs": [],
   "source": [
    "#WRITE THE FILTER/CONDITION ASKED BY SHANTANU SIR\n",
    "arr = []\n",
    "for i in range(len(sqrtts)):\n",
    "    if sqrtts[i] >= 1600:\n",
    "        arr.append(i)"
   ]
  },
  {
   "cell_type": "code",
   "execution_count": 181,
   "metadata": {},
   "outputs": [],
   "source": [
    "def psrcustom(arr):\n",
    "    cut = 5\n",
    "    cone = 5\n",
    "    for psrno in arr:\n",
    "        nearcrd=[]\n",
    "        for i in range(len(icdec)):\n",
    "            if abs(icdec[i] - msdec[psrno]) <= cut:\n",
    "                nearcrd.append([icra[i], icdec[i], icang[i]])\n",
    "        print([psrno, msra[psrno], msdec[psrno]])\n",
    "        np.savetxt(f\"outputs/ndecnear{psrno}.txt\", nearcrd)\n",
    "        print(\"len(nearcrd) = \", len(nearcrd))\n",
    "\n",
    "psrcustom(arr)"
   ]
  },
  {
   "cell_type": "code",
   "execution_count": 182,
   "metadata": {},
   "outputs": [
    {
     "data": {
      "text/plain": [
       "1009.3802108643941"
      ]
     },
     "execution_count": 182,
     "metadata": {},
     "output_type": "execute_result"
    }
   ],
   "source": [
    "max(sqrtts)"
   ]
  },
  {
   "cell_type": "code",
   "execution_count": 183,
   "metadata": {},
   "outputs": [
    {
     "data": {
      "text/plain": [
       "[265.25, -21.0]"
      ]
     },
     "execution_count": 183,
     "metadata": {},
     "output_type": "execute_result"
    }
   ],
   "source": [
    "[msra[338], msdec[338]]"
   ]
  },
  {
   "cell_type": "code",
   "execution_count": 184,
   "metadata": {},
   "outputs": [
    {
     "data": {
      "text/plain": [
       "286356.377221673"
      ]
     },
     "execution_count": 184,
     "metadata": {},
     "output_type": "execute_result"
    }
   ],
   "source": [
    "psrno = 338\n",
    "cut = 5\n",
    "cone = 5\n",
    "aang = angfinder2(psrno, cut)\n",
    "#Ns = nsang(aang, cut)\n",
    "Ns = Ns2(psrno, cut)\n",
    "#S = S_ij(psrno, aang, cut)\n",
    "S = S2_ij(psrno, aang, cut)\n",
    "#B = bg(psrno,cone, aang)#/(2 * np.pi) FOR STACKED ANALYSIS\n",
    "B = bgs(psrno, cone) #FOR SINGLE SOURCE ANALYSIS\n",
    "TS(psrno, 10000, S, B, Ns)\n",
    "#B\n",
    "#plt.hist(S)"
   ]
  },
  {
   "cell_type": "code",
   "execution_count": 186,
   "metadata": {},
   "outputs": [
    {
     "data": {
      "text/plain": [
       "78009"
      ]
     },
     "execution_count": 186,
     "metadata": {},
     "output_type": "execute_result"
    }
   ],
   "source": [
    "np.count_nonzero(S)"
   ]
  },
  {
   "cell_type": "code",
   "execution_count": 188,
   "metadata": {},
   "outputs": [
    {
     "name": "stdout",
     "output_type": "stream",
     "text": [
      "78009\n"
     ]
    },
    {
     "data": {
      "image/png": "[encoded data removed]",
      "text/plain": [
       "<Figure size 432x288 with 1 Axes>"
      ]
     },
     "metadata": {
      "needs_background": "light"
     },
     "output_type": "display_data"
    },
    {
     "name": "stdout",
     "output_type": "stream",
     "text": [
      "203740.29674546767\n"
     ]
    }
   ],
   "source": [
    "def plotpsr(psrno):\n",
    "    cut = 5\n",
    "    cone = 5\n",
    "    aang = angfinder2(psrno, cut)\n",
    "    #Ns = nsang(aang, cut)\n",
    "    Ns = Ns2(psrno, cut)\n",
    "    #S = S_ij(psrno, aang, cut)\n",
    "    S = S2_ij(psrno, aang, cut)\n",
    "    #B = bg(psrno,cone, aang)#/(2 * np.pi) FOR STACKED ANALYSIS\n",
    "    B = bgs(psrno, cone)#/(2*np.pi) #FOR SINGLE SOURCE ANALYSIS\n",
    "    tns=[TS(psrno, i, S, B, Ns) for i in range(0, 2000)]\n",
    "    print(Ns)\n",
    "    plt.plot(range(0, 2000), tns)\n",
    "    plt.show()\n",
    "    print(TS(psrno, 2000, S, B, Ns))\n",
    "plotpsr(338)"
   ]
  },
  {
   "cell_type": "code",
   "execution_count": 190,
   "metadata": {},
   "outputs": [
    {
     "data": {
      "text/plain": [
       "78027"
      ]
     },
     "execution_count": 190,
     "metadata": {},
     "output_type": "execute_result"
    }
   ],
   "source": [
    "len(Si)"
   ]
  },
  {
   "cell_type": "code",
   "execution_count": 10,
   "metadata": {},
   "outputs": [
    {
     "data": {
      "text/plain": [
       "78027"
      ]
     },
     "execution_count": 10,
     "metadata": {},
     "output_type": "execute_result"
    }
   ],
   "source": [
    "len(nura)"
   ]
  },
  {
   "cell_type": "code",
   "execution_count": 11,
   "metadata": {},
   "outputs": [
    {
     "name": "stdout",
     "output_type": "stream",
     "text": [
      "[array([0.]), 0.0]\n"
     ]
    },
    {
     "data": {
      "image/png": "[encoded data removed]",
      "text/plain": [
       "<Figure size 432x288 with 1 Axes>"
      ]
     },
     "metadata": {
      "needs_background": "light"
     },
     "output_type": "display_data"
    }
   ],
   "source": [
    "pi = np.pi\n",
    "data=np.loadtxt(\"outputs/ndecnear338.txt\")\n",
    "#data=np.genfromtxt(\"nnear_P0_20cut_3cone.txt\",names=True)\n",
    "\n",
    "nura = []\n",
    "nudec = []\n",
    "angerr = []\n",
    "for i in range(len(icdec)):\n",
    "    if abs(icdec[i] - msdec[338]) <= 5:\n",
    "        nura.append(icra[i])\n",
    "        nudec.append(icdec[i])\n",
    "        angerr.append(icang[i])\n",
    "\n",
    "#nura=data[:,0] #neutrino RA\n",
    "#nudec=data[:,1] #neutrino DEC\n",
    "#angerr=data[:,2] # error in neutrino position\n",
    "#ra=282.5 #pulsar RA\n",
    "#dec=-0.03 # pulsar DEC\n",
    "ra=265.25\n",
    "dec=-21.0\n",
    "nura = np.array(nura)\n",
    "nudec = np.array(nudec)\n",
    "angerr = np.array(angerr)\n",
    "crad=(3.0*np.pi/180)\n",
    "cang=np.sin(dec*pi/180.0)*np.sin(nudec*pi/180.0)+ np.cos(dec*pi/180.0)*np.cos(nudec*pi/180.0)*np.cos((ra-nura)*pi/180.0) \n",
    "ang=(180.0/pi)*np.arccos(cang) # angle between pulsar and neutrino in degrees\n",
    "nura2=nura[(ang<5)]\n",
    "nudec2=nudec[(ang<5)]\n",
    "angerrrad=angerr*pi/180.0 # angle between pulsar and neutrino in radins\n",
    "N=len(nura) # total no of neutrinos  used for analysis\n",
    "bkgct=np.count_nonzero(np.abs(nudec-dec)<5)   # total no of bkgd neutrinos within 3 degrees\n",
    "radconv=(np.pi/180)\n",
    "\n",
    "Bi=1.0/(2*pi*(np.sin((pi/180.0)*(dec+5))- np.sin((pi/180.0)*(dec-5))))\n",
    "\n",
    "Si=np.exp(-0.5*(ang/angerr)**2)/(2.0*pi*angerrrad*angerrrad)\n",
    "\n",
    "\n",
    "# the function rtruns TS(ns) in Zhou paper\n",
    "def L(x):\n",
    "    TS=np.log(x*Si/N  + (1 - x/N)*Bi)-np.log(Bi)\n",
    "    return 2*np.sum(TS)\n",
    "\n",
    "\n",
    "# since scipy.optimize can only do minization calculate negative of L(x) to maximize L(x)\n",
    "nll = lambda x: -L(x)\n",
    "soln = minimize(nll, 0.011,bounds=((0,None),)) # to ensure that ns is > 0\n",
    "ns=soln.x\n",
    "print([ ns,L(ns)])\n",
    "x=np.linspace(0,2000,2000)\n",
    "y=[L(p) for p in x]\n",
    "plt.plot(x,y,'--')\n",
    "plt.show()\n"
   ]
  },
  {
   "cell_type": "code",
   "execution_count": 93,
   "metadata": {},
   "outputs": [
    {
     "data": {
      "image/png": "[encoded data removed]",
      "text/plain": [
       "<Figure size 432x288 with 1 Axes>"
      ]
     },
     "metadata": {
      "needs_background": "light"
     },
     "output_type": "display_data"
    }
   ],
   "source": [
    "binnedsts, wsts, _ = plt.hist(sqrtts, 15)\n",
    "\n",
    "ne01 = 3\n",
    "amp  = p/3.0#np.sum(binnedsts)/ne01\n",
    "#binnedsts = binnedsts/amp\n",
    "yerr = np.sqrt(binnedsts)\n",
    "b2 = binnedsts[(binnedsts>0)]\n",
    "yerr2 = yerr[(binnedsts>0)]\n",
    "x=0.5*(wsts[1:]+ wsts[:-1])\n",
    "x2 = x[(binnedsts>0)]\n",
    "xerr=x[0]-wsts[0]"
   ]
  },
  {
   "cell_type": "code",
   "execution_count": 94,
   "metadata": {},
   "outputs": [],
   "source": [
    "#gaussian = lambda x, mean, var:  amp*norm.pdf(x, mean, var)\n",
    "def gaussian(x,mean,sd):\n",
    "#    mean=0.114\n",
    "    A=p/3.0\n",
    "    return A*np.exp(-(x - mean) ** 2.0 / sd ** 2.0)\n",
    "gparam, gerr = curve_fit(gaussian, x2, b2,  p0=[0.1, 1.0],sigma=yerr2, absolute_sigma=True)#, method='trf')\n",
    "gx = np.linspace(0, wsts[-1], 100)"
   ]
  },
  {
   "cell_type": "markdown",
   "metadata": {},
   "source": [
    "kde = lambda x, binnedsts, var: max(b2)*gaussian_kde.pdf()\n",
    "kparam, kerr = curve_fit(kde, x2, b2,  p0=[0.1, 1.0],sigma=yerr2, absolute_sigma=True, maxfev = 100000, method='dogbox')\n",
    "kx = np.linspace(0, max(wsts), 100)"
   ]
  },
  {
   "cell_type": "code",
   "execution_count": 95,
   "metadata": {},
   "outputs": [
    {
     "data": {
      "text/plain": [
       "array([0.45700081, 0.68464807])"
      ]
     },
     "execution_count": 95,
     "metadata": {},
     "output_type": "execute_result"
    }
   ],
   "source": [
    "gparam"
   ]
  },
  {
   "cell_type": "code",
   "execution_count": 102,
   "metadata": {},
   "outputs": [
    {
     "data": {
      "image/png": "[encoded data removed]",
      "text/plain": [
       "<Figure size 777.6x518.4 with 1 Axes>"
      ]
     },
     "metadata": {
      "needs_background": "light"
     },
     "output_type": "display_data"
    }
   ],
   "source": [
    "font = {'family': 'serif',\n",
    "        'color':  'black',\n",
    "        'weight': 'bold',\n",
    "        'size': 21,\n",
    "        }\n",
    "plt.figure(figsize=(10.8,7.2))\n",
    "#plt.xticks([0, 1, 2, 3, 4, 5, 6, 7, 8, 9], [0, 1, 2, 3, 4, 5, 6, 7, 8, 9], fontsize=18, fontweight='bold')\n",
    "plt.yscale('log')\n",
    "#plt.yticks([1, 10, 100, 1000, 10000], [1, 10, 100, 1000, 10000], fontsize=18, fontweight='bold')\n",
    "\n",
    "plt.errorbar(x, binnedsts, xerr=xerr,yerr=yerr,  aa = True, barsabove = True, fmt='ob',ecolor='blue', elinewidth=1.35, label='$\\sqrt{TS_{max}}$')\n",
    "#plt.plot(gx,gaussian(gx, gparam[0], gparam[1]),'--', alpha=0.6, label=f'Gaussian Fit', color='darkred', lw=2.2)\n",
    "\n",
    "plt.xlabel(\"$\\mathbf{\\sqrt{TS_{max}}}$\", fontweight='bold', fontdict=font)\n",
    "plt.ylabel(\"No.of Events\", fontweight='bold', fontdict=font)\n",
    "#plt.grid(True, which='major')\n",
    "legend =plt.legend(prop={'size':17}, framealpha=0)\n",
    "legend.get_frame().set_facecolor('none')\n",
    "plt.savefig(\"outputs/sqrt(TSmax)final.pdf\")\n",
    "plt.show()"
   ]
  },
  {
   "cell_type": "code",
   "execution_count": null,
   "metadata": {},
   "outputs": [],
   "source": [
    "#arr = [i  for i in range(len(sqrtts)) if sqrtts[i] < 0.01]\n",
    "#len(arr)\n",
    "#psra = [msra[i] for i in arr]\n",
    "#psdec = [msdec[i] for i in arr]\n",
    "psra = msra\n",
    "psdec = msdec\n",
    "psra2 = np.deg2rad([(i + 180)%360 - 180 for i in psra])\n",
    "#[psra[0], psra2[0]]\n",
    "psra = np.deg2rad(psra)\n",
    "psdec = np.deg2rad(psdec)\n",
    "p3 =[]\n",
    "for i in psra2:\n",
    "    if i < 0 and i > np.deg2rad(-110):\n",
    "        p3.append(i)\n",
    "\n",
    "radec = scr(ra = msra * u.degree, dec = msdec * u.degree, frame = 'icrs')           #CONVERSION\n",
    "radec = radec.galactic      #CONVERSION FROM RA,DEC TO GALACTIC COORDINATES\n",
    "\n",
    "gl = [(i + np.pi)%(2*np.pi) - np.pi for i in radec.l.radian]\n",
    "gb = radec.b.radian"
   ]
  },
  {
   "cell_type": "code",
   "execution_count": null,
   "metadata": {},
   "outputs": [],
   "source": [
    "comap = 'copper_r'\n",
    "fig = plt.figure(figsize=(16, 10))\n",
    "plt.rcParams.update({'font.size': 20})\n",
    "ax2 = plt.subplot(projection='hammer')\n",
    "plott = ax2.scatter(gl, gb,marker='o', c=sqrtts, cmap=comap, s = 7, label='Pulsars')\n",
    "#ax2.scatter(msra, msdec,marker='o',color='b', s = 1.2)\n",
    "#ax2.scatter(icra, icdec, marker='.',color='green', alpha=0.05, s = 0.1)\n",
    "ax2.xaxis.set_major_locator(plt.FixedLocator(np.pi / 3 * np.linspace(-2,2, 5)))\n",
    "ax2.xaxis.set_minor_locator(plt.FixedLocator(np.pi / 6 * np.linspace(-5, 5, 11)))\n",
    "ax2.yaxis.set_major_locator(plt.FixedLocator(np.pi / 6 * np.linspace(-2, 2, 5)))\n",
    "ax2.yaxis.set_minor_locator(plt.FixedLocator(np.pi / 12 * np.linspace(-5, 5, 11)))\n",
    "ax2.grid(True, which='both', color='black', lw=0.5, ls='-.')\n",
    "#ax2.axvspan(min(p3), max(p3), color='pink', alpha=0.5)\n",
    "#ax2.set_title('PULSARS WITH TSmax ~0\\nHAMMER projection \\n', fontdict=font)\n",
    "\n",
    "cax = fig.add_axes([ax2.get_position().x1+0.01,ax2.get_position().y0,0.02,ax2.get_position().height])\n",
    "cbar = fig.colorbar(plott, cax=cax)\n",
    "cbar.set_label('$\\sqrt{TS_{max}}$\\n\\n', loc='top', rotation=0,labelpad=-60, fontdict=font)\n",
    "#plt.suptitle(filenamewithpath.replace('icecube_10year_ps/events/','').replace('_exp','') + ' GALACTIC')\n",
    "\n",
    "plt.savefig('outputs/psr-tsmax_hmp-HP-Galactic.pdf')\n",
    "plt.show()"
   ]
  },
  {
   "cell_type": "code",
   "execution_count": null,
   "metadata": {},
   "outputs": [],
   "source": [
    "#PLOT RA, DEC\n",
    "comap = 'copper_r'\n",
    "fig = plt.figure(figsize=(16, 10))\n",
    "plt.rcParams.update({'font.size': 20})\n",
    "ax2 = plt.subplot(projection='hammer')\n",
    "plott = ax2.scatter(psra2, psdec,marker='o', c=sqrtts, cmap=comap, s = 1.2, label='Pulsars')\n",
    "#ax2.scatter(msra, msdec,marker='o',color='b', s = 1.2)\n",
    "#ax2.scatter(icra, icdec, marker='.',color='green', alpha=0.05, s = 0.1)\n",
    "ax2.xaxis.set_major_locator(plt.FixedLocator(np.pi / 3 * np.linspace(-2,2, 5)))\n",
    "ax2.xaxis.set_minor_locator(plt.FixedLocator(np.pi / 6 * np.linspace(-5, 5, 11)))\n",
    "ax2.yaxis.set_major_locator(plt.FixedLocator(np.pi / 6 * np.linspace(-2, 2, 5)))\n",
    "ax2.yaxis.set_minor_locator(plt.FixedLocator(np.pi / 12 * np.linspace(-5, 5, 11)))\n",
    "ax2.grid(True, which='both', color='black', lw=0.5, ls='-.')\n",
    "#ax2.axvspan(min(p3), max(p3), color='pink', alpha=0.5)\n",
    "#ax2.set_title('PULSARS WITH TSmax ~0\\nHAMMER projection \\n', fontdict=font)\n",
    "\n",
    "cax = fig.add_axes([ax2.get_position().x1+0.01,ax2.get_position().y0,0.02,ax2.get_position().height])\n",
    "cbar = fig.colorbar(plott, cax=cax)\n",
    "cbar.set_label('$\\sqrt{TS_{max}}$\\n\\n', loc='top', rotation=0,labelpad=-60, fontdict=font)\n",
    "#plt.suptitle(filenamewithpath.replace('icecube_10year_ps/events/','').replace('_exp','') + ' GALACTIC')\n",
    "\n",
    "plt.savefig('outputs/psr-tsmax_hmp-HP.pdf')\n",
    "plt.show()\n"
   ]
  },
  {
   "cell_type": "code",
   "execution_count": null,
   "metadata": {},
   "outputs": [],
   "source": [
    "plt.hist(sqrtts, 15)\n",
    "plt.xlabel(\"$\\mathbf{\\sqrt{TS_{max}}}$\", fontweight='bold', fontdict=font)\n",
    "plt.xticks([0, 1, 2, 3, 4, 5, 6, 7, 8, 9], [0, 1, 2, 3, 4, 5, 6, 7, 8, 9], fontsize=18)\n",
    "plt.ylabel(\"No.of Events\", fontweight='bold', fontdict=font)\n",
    "plt.yscale('log')\n",
    "plt.show()"
   ]
  },
  {
   "cell_type": "code",
   "execution_count": null,
   "metadata": {},
   "outputs": [],
   "source": [
    "arr = [i  for i in range(len(sqrtts)) if sqrtts[i] < 0.01]\n",
    "len(arr)\n",
    "psra = [msra[i] for i in arr]\n",
    "psdec = [msdec[i] for i in arr]\n",
    "psra2 = np.deg2rad([(i + 180)%360 - 180 for i in psra])\n",
    "#[psra[0], psra2[0]]\n",
    "psra = np.deg2rad(psra)\n",
    "psdec = np.deg2rad(psdec)\n",
    "p3 =[]\n",
    "for i in psra2:\n",
    "    if i < 0 and i > np.deg2rad(-110):\n",
    "        p3.append(i)\n",
    "max(p3)"
   ]
  },
  {
   "cell_type": "code",
   "execution_count": null,
   "metadata": {},
   "outputs": [],
   "source": [
    "#PLOT RA, DEC\n",
    "fig = plt.figure(figsize=(16, 10))\n",
    "plt.rcParams.update({'font.size': 20})\n",
    "ax2 = plt.subplot(projection='hammer')\n",
    "ax2.scatter(psra2, psdec,marker='o',color='r', s = 1.2)\n",
    "ax2.scatter(msra, msdec,marker='o',color='b', s = 1.2)\n",
    "ax2.scatter(icra, icdec, marker='.',color='green', alpha=0.05, s = 0.1)\n",
    "ax2.xaxis.set_major_locator(plt.FixedLocator(np.pi / 3 * np.linspace(-2,2, 5)))\n",
    "ax2.xaxis.set_minor_locpsrno = 258\n",
    "cut = 20\n",
    "cone = 3\n",
    "\n",
    "min = 100\n",
    "mini = 0\n",
    "nearcrd=[]\n",
    "aang = angfinder(psrno, cut)\n",
    "for i in range(len(aang)):\n",
    "    if aang[i] != -1:\n",
    "        nearcrd.append([icra[i], icdec[i], icang[i]])\n",
    "        if min > aang[i]:\n",
    "            min = aang[i]\n",
    "            mini = i\n",
    "np.savetxt(f\"outputs/nnear{psrno}.txt\", nearcrd)ator(plt.FixedLocator(np.pi / 6 * np.linspace(-5, 5, 11)))\n",
    "ax2.yaxis.set_major_locator(plt.FixedLocator(np.pi / 6 * np.linspace(-2, 2, 5)))\n",
    "ax2.yaxis.set_minor_locator(plt.FixedLocator(np.pi / 12 * np.linspace(-5, 5, 11)))\n",
    "ax2.grid(True, which='both', color='r', lw=0.8, ls='-.')\n",
    "#ax2.axvspan(min(p3), max(p3), color='pink', alpha=0.5)\n",
    "ax2.set_title('PULSARS WITH TSmax ~0\\nHAMMER projection \\n', fontdict=font)\n",
    "plt.savefig('outputs/psr-tsmax0-HP.pdf')\n",
    "#plt.suptitle(filenamewithpath.replace('icecube_10year_ps/events/','').replace('_exp','') + ' GALACTIC')\n",
    "plt.show()\n"
   ]
  },
  {
   "cell_type": "code",
   "execution_count": null,
   "metadata": {},
   "outputs": [],
   "source": [
    "plt.figure(figsize=(10,6))\n",
    "plt.hist(np.rad2deg(psra), 15)\n",
    "#plt.hist(msra, 15)\n",
    "plt.xlabel(\"RA(degrees)\", fontdict=font)\n",
    "plt.ylabel(\"No.of Events\", fontdict=font)\n",
    "plt.title(\"DISTRIBUTION OF RA\\n OF PULSARS WITH TSmax ~ 0\")\n",
    "plt.savefig(\"outputs/psr-tsmax0-RA_Dist.pdf\")\n",
    "plt.show()"
   ]
  },
  {
   "cell_type": "code",
   "execution_count": null,
   "metadata": {},
   "outputs": [],
   "source": [
    "plt.figure(figsize=(10,6))\n",
    "plt.hist(np.rad2deg(psdec), 15)\n",
    "#plt.hist(msdec, 15)\n",
    "plt.xlabel(\"Dec(degrees)\", fontdict=font)\n",
    "plt.ylabel(\"No.of Events\", fontdict=font)\n",
    "plt.title(\"DISTRIBUTION OF Dec\\n OF PULSARS WITH TSmax ~ 0\")\n",
    "plt.savefig(\"outputs/psr-tsmax0-Dec_Dist.pdf\")\n",
    "plt.show()"
   ]
  },
  {
   "cell_type": "code",
   "execution_count": null,
   "metadata": {},
   "outputs": [],
   "source": [
    "psra = [msra[i] for i in arr]# ra in degree\n",
    "psdec = [msdec[i] for i in arr] # DEc in degree\n",
    "radec = scr(ra = psra * u.degree, dec = psdec * u.degree, frame = 'icrs')           #CONVERSION\n",
    "radec = radec.galactic      #CONVERSION FROM RA,DEC TO GALACTIC COORDINATES\n",
    "\n",
    "gl = [(i + np.pi)%(2*np.pi) - np.pi for i in radec.l.radian]\n",
    "gb = radec.b.radian\n",
    "\n",
    "fig = plt.figure(figsize=(16, 10))\n",
    "plt.rcParams.update({'font.size': 20})\n",
    "ax2 = plt.subplot(projection='hammer')\n",
    "ax2.scatter(gl, gb,marker='o',color='b', s = 1.2)\n",
    "ax2.xaxis.set_major_locator(plt.FixedLocator(np.pi / 3 * np.linspace(-2,2, 5)))\n",
    "ax2.xaxis.set_minor_locator(plt.FixedLocator(np.pi / 6 * np.linspace(-5, 5, 11)))\n",
    "ax2.yaxis.set_major_locator(plt.FixedLocator(np.pi / 6 * np.linspace(-2, 2, 5)))\n",
    "ax2.yaxis.set_minor_locator(plt.FixedLocator(np.pi / 12 * np.linspace(-5, 5, 11)))\n",
    "ax2.grid(True, which='both', color='r', lw=0.8, ls='-.')\n",
    "#ax2.axvspan(min(p3), max(p3), color='pink', alpha=0.5)\n",
    "ax2.set_title('PULSARS WITH TSmax ~0\\nHAMMER projection \\nGALACTIC', fontdict=font)\n",
    "plt.savefig('outputs/psr-tsmax0-HP-Galactic.pdf')\n",
    "#plt.suptitle(filenamewithpath.replace('icecube_10year_ps/events/','').replace('_exp','') + ' GALACTIC')\n",
    "plt.show()"
   ]
  },
  {
   "cell_type": "code",
   "execution_count": null,
   "metadata": {},
   "outputs": [],
   "source": [
    "radeci = scr(ra = icra * u.degree, dec = icdec * u.degree, frame = 'icrs')           #CONVERSION\n",
    "radeci = radeci.galactic      #CONVERSION FROM RA,DEC TO GALACTIC COORDINATES\n",
    "\n",
    "gli = [(i + np.pi)%(2*np.pi) - np.pi for i in radeci.l.radian]\n",
    "#gli = radeci.l.radian\n",
    "\n",
    "gbi = radeci.b.radian"
   ]
  },
  {
   "cell_type": "code",
   "execution_count": null,
   "metadata": {},
   "outputs": [],
   "source": [
    "fig = plt.figure(figsize=(16, 10))\n",
    "plt.rcParams.update({'font.size': 20})\n",
    "ax2 = plt.subplot(projection='hammer')\n",
    "ax2.scatter(gli, gbi,marker='o',color='green', s = 0.1, alpha=0.15)\n",
    "ax2.scatter(gl, gb, marker='*',color='darkred', s = 2)\n",
    "ax2.xaxis.set_major_locator(plt.FixedLocator(np.pi / 3 * np.linspace(-2,2, 5)))\n",
    "ax2.xaxis.set_minor_locator(plt.FixedLocator(np.pi / 6 * np.linspace(-5, 5, 11)))\n",
    "ax2.yaxis.set_major_locator(plt.FixedLocator(np.pi / 6 * np.linspace(-2, 2, 5)))\n",
    "ax2.yaxis.set_minor_locator(plt.FixedLocator(np.pi / 12 * np.linspace(-5, 5, 11)))\n",
    "ax2.grid(True, which='both', color='r', lw=0.8, ls='-.')\n",
    "#ax2.axvspan(min(p3), max(p3), color='pink', alpha=0.5)\n",
    "ax2.set_title('ALL ICECUBE neutrinos\\nHAMMER projection \\nGALACTIC', fontdict=font)\n",
    "plt.savefig('outputs/all-ICnu-HP-Galactic.pdf')\n",
    "#plt.suptitle(filenamewithpath.replace('icecube_10year_ps/events/','').replace('_exp','') + ' GALACTIC')\n",
    "plt.show()"
   ]
  },
  {
   "cell_type": "code",
   "execution_count": null,
   "metadata": {},
   "outputs": [],
   "source": [
    "[max(np.abs(gl)), max(np.abs(gb))]"
   ]
  },
  {
   "cell_type": "code",
   "execution_count": null,
   "metadata": {},
   "outputs": [],
   "source": [
    "msdec[4]"
   ]
  },
  {
   "cell_type": "code",
   "execution_count": null,
   "metadata": {},
   "outputs": [],
   "source": [
    "(msra[4], msdec[4])"
   ]
  },
  {
   "cell_type": "markdown",
   "metadata": {},
   "source": [
    "### SCRAP!!! TO BE DELETED IN THE FINAL VERSION"
   ]
  },
  {
   "cell_type": "code",
   "execution_count": null,
   "metadata": {},
   "outputs": [],
   "source": [
    "tempnudec = []\n",
    "ang = angfinder(4, 20)\n",
    "cone = 3\n",
    "for i in range(len(ang)):\n",
    "    if ang[i] != -1:\n",
    "        tempnudec.append(np.sin(icdec[i]))#APPENDING SIN(Decl) OF ALL NEUTRINOS WITHIN THE SPECIFIED CUT\n",
    "    \n",
    "binwidth = np.sin(np.deg2rad(msdec[psrno] + cone)) - np.sin(np.deg2rad(msdec[psrno] - cone))\n",
    "sin_dpsr = np.sin(np.deg2rad(msdec[psrno]))\n",
    "bins = np.arange(-1, 1, binwidth)\n",
    "ht, walls = np.histogram(tempnudec, bins, density=True)\n",
    "bctr = (bins[1:]+bins[:-1])/2\n",
    "i=np.argmin(np.abs(bctr-sin_dpsr))\n",
    "print(ht[i])"
   ]
  },
  {
   "cell_type": "code",
   "execution_count": null,
   "metadata": {},
   "outputs": [],
   "source": [
    "psrno = 258\n",
    "cut = 20\n",
    "cone = 3\n",
    "\n",
    "min = 100\n",
    "mini = 0\n",
    "nearcrd=[]\n",
    "aang = angfinder(psrno, cut)\n",
    "for i in range(len(aang)):\n",
    "    if aang[i] != -1:\n",
    "        nearcrd.append([icra[i], icdec[i], icang[i]])\n",
    "        if min > aang[i]:\n",
    "            min = aang[i]\n",
    "            mini = i\n",
    "np.savetxt(f\"outputs/nnear{psrno}.txt\", nearcrd)"
   ]
  },
  {
   "cell_type": "code",
   "execution_count": null,
   "metadata": {},
   "outputs": [],
   "source": [
    "cc = [i for i in aang if i != -1]"
   ]
  },
  {
   "cell_type": "code",
   "execution_count": null,
   "metadata": {},
   "outputs": [],
   "source": [
    "np.min(cc)"
   ]
  },
  {
   "cell_type": "code",
   "execution_count": null,
   "metadata": {},
   "outputs": [],
   "source": [
    "np.savetxt(f\"outputs/nunear{psrno}.txt\", nearcrd)"
   ]
  },
  {
   "cell_type": "code",
   "execution_count": null,
   "metadata": {},
   "outputs": [],
   "source": [
    "hvovec(msra[psrno], msdec[psrno], icra[mini], icdec[mini])"
   ]
  },
  {
   "cell_type": "code",
   "execution_count": null,
   "metadata": {},
   "outputs": [],
   "source": [
    "[msra[psrno], msdec[psrno], icra[mini], icdec[mini]]"
   ]
  },
  {
   "cell_type": "code",
   "execution_count": null,
   "metadata": {},
   "outputs": [],
   "source": [
    "data=np.genfromtxt(\"outputs/nunear4.txt\")\n",
    "pi = np.pi\n",
    "\n",
    "nura=data[:,0] #neutrino RA\n",
    "nudec=data[:,1] #neutrino DEC\n",
    "angerr=data[:,2] # error in neutrino position\n",
    "\n",
    "ra=282.5 #pulsar RA\n",
    "dec= -0.03 # pulsar DEC\n",
    "\n",
    "cang=np.sin(dec*pi/180.0)*np.sin(nudec*pi/180.0)+ np.cos(dec*pi/180.0)*np.cos(nudec*pi/180.0)*np.cos((ra-nura)*pi/180.0)\n",
    "pi = np.pi\n",
    "pdec = msdec[psrno]\n",
    "radconv=pi/180.0\n",
    "decwidth=np.sin(radconv*(pdec+3))-np.sin(radconv*((pdec-3)))\n",
    "sindec=np.sin(nudec)\n",
    "decbins=np.arange(-1,1,decwidth)\n",
    "h,e=np.histogram(sindec,bins=decbins,density=True)\n",
    "c=0.5*(e[1:]+e[:-1]) # get bin centers\n",
    "i=np.argmin(np.abs(c-np.sin(pdec*radconv)))"
   ]
  },
  {
   "cell_type": "code",
   "execution_count": null,
   "metadata": {},
   "outputs": [],
   "source": [
    "h[i]"
   ]
  },
  {
   "cell_type": "code",
   "execution_count": null,
   "metadata": {},
   "outputs": [],
   "source": [
    "t1 = [i for i in aang if i != -1]"
   ]
  },
  {
   "cell_type": "code",
   "execution_count": null,
   "metadata": {},
   "outputs": [],
   "source": [
    "t1[np.argmin(t1)]"
   ]
  },
  {
   "cell_type": "code",
   "execution_count": null,
   "metadata": {},
   "outputs": [],
   "source": [
    "icra2 = [(i + 180)%360 - 180 for i in icra]\n"
   ]
  },
  {
   "cell_type": "code",
   "execution_count": null,
   "metadata": {},
   "outputs": [],
   "source": [
    "np.min(icra)"
   ]
  },
  {
   "cell_type": "markdown",
   "metadata": {},
   "source": [
    "#### >amplitude fixed to total no of events/no of bins between 0 and 1 and then do a fit to this"
   ]
  },
  {
   "cell_type": "code",
   "execution_count": null,
   "metadata": {},
   "outputs": [],
   "source": [
    "data=np.genfromtxt(\"outputs/nunear4.txt\")\n",
    "pi = np.pi\n",
    "\n",
    "nura=data[:,0] #neutrino RA\n",
    "nudec=data[:,1] #neutrino DEC\n",
    "angerr=data[:,2] # error in neutrino position\n",
    "\n",
    "ra=282.5 #pulsar RA\n",
    "dec= -0.03 # pulsar DEC\n",
    "\n",
    "cang=np.sin(dec*pi/180.0)*np.sin(nudec*pi/180.0)+ np.cos(dec*pi/180.0)*np.cos(nudec*pi/180.0)*np.cos((ra-nura)*pi/180.0)\n",
    "\n",
    "ang=(180.0/pi)*np.arccos(cang) # angle between pulsar and neutrino in degrees\n",
    "\n",
    "angerrrad=angerr*pi/180.0 # angle between pulsar and neutrino in radins\n",
    "\n",
    "N=len(nura) # total no of neutrinos  used for analysis\n",
    "bkgct=np.count_nonzero(np.abs(nudec-dec)<3) # total no of bkgd neutrinos within 3 degrees\n",
    "\n",
    "\n",
    "Bi=bkgct/(2.0*pi*N*(np.sin((pi/180)*(dec+3.0))- np.sin((pi/180)*(dec-3.0))))\n",
    "Si=np.exp(-0.5*(ang/angerr)**2)/(2.0*pi*angerrrad*angerrrad)\n",
    "# the function rtruns TS(ns) in Zhou paper\n",
    "\n",
    "\n",
    "def L(x):\n",
    "    TS=np.log(x*Si/N+(1.0-1.0*x/N)*Bi)-np.log(Bi)\n",
    "    return 2.0*np.sum(TS)\n",
    "\n",
    "\n",
    "\n",
    "# since scipy.optimize can only do minization calculate negative of L(x) to maximize L(x)\n",
    "nll = lambda x: -L(x)\n",
    "soln = minimize(nll, 5.0,bounds=((0,None),)) # to ensure that ns is > 0\n",
    "ns=soln.x\n",
    "print(L(ns))\n",
    "print(ns)\n",
    "x=np.linspace(0,600,10)\n",
    "y=[L(p) for p in x]\n",
    "plt.plot(x,y,'-')\n",
    "plt.show()"
   ]
  },
  {
   "cell_type": "code",
   "execution_count": null,
   "metadata": {},
   "outputs": [],
   "source": [
    "b4"
   ]
  },
  {
   "cell_type": "code",
   "execution_count": null,
   "metadata": {},
   "outputs": [],
   "source": [
    "Bi"
   ]
  },
  {
   "cell_type": "markdown",
   "metadata": {},
   "source": [
    "for each source with$n_s$and TS greater\n",
    "than 0, we conduct a Monte Carlo simulation. We randomly generate neutrino events isotropically distributed\n",
    "around the interested source within a distance of 20◦\n",
    "\n",
    "We then assign energies to each simulated event using the\n",
    "kernel density estimation of the observed neutrino energy\n",
    "distribution of each year. The localization error of each\n",
    "event is subsequently determined from its simulated energy from the relationship of observed event energy and\n",
    "angular resolution given in the IceCube data. The same\n",
    "event selection and unbinned likelihood analysis is carried out, and we can get a distribution of$n_s$and TS\n",
    "from this Monte Carlo simulation. We can then infer\n",
    "the significance of observed result by comparing it with\n",
    "the distribution and obtain a p value by calculating the\n",
    "percentile observed values lie in.\n",
    "\n",
    "We use the unbinned method to calculate the TS and\n",
    "corresponding confidence level from Monte Carlo simulations for the association of neutrino events and blazars.\n",
    "The distribution of the calculated TS is presented in Fig.\n",
    "\n",
    "3. A total of 30 blazars display$n_s$and TS greater than 0.\n",
    "The distribution of TS does not deviate too much from\n",
    "normal distribution, as one would expect from a random\n",
    "and isotropic distribution of neutrino events."
   ]
  },
  {
   "cell_type": "markdown",
   "metadata": {},
   "source": []
  }
 ],
 "metadata": {
  "kernelspec": {
   "display_name": "Python 3.10.6 64-bit",
   "language": "python",
   "name": "python3"
  },
  "language_info": {
   "codemirror_mode": {
    "name": "ipython",
    "version": 3
   },
   "file_extension": ".py",
   "mimetype": "text/x-python",
   "name": "python",
   "nbconvert_exporter": "python",
   "pygments_lexer": "ipython3",
   "version": "3.10.6"
  },
  "orig_nbformat": 4,
  "vscode": {
   "interpreter": {
    "hash": "916dbcbb3f70747c44a77c7bcd40155683ae19c65e1c03b4aa3499c5328201f1"
   }
  }
 },
 "nbformat": 4,
 "nbformat_minor": 2
}
