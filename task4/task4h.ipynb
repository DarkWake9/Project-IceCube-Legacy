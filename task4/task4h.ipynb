{
 "cells": [
  {
   "cell_type": "markdown",
   "metadata": {},
   "source": [
    "# STACKING ANALYSIS"
   ]
  },
  {
   "cell_type": "markdown",
   "metadata": {},
   "source": [
    "### sped up stacking analysis using numba.jit decorator with nopython=true"
   ]
  },
  {
   "cell_type": "code",
   "execution_count": 1,
   "metadata": {},
   "outputs": [],
   "source": [
    "import numpy as np\n",
    "import pandas as pd\n",
    "import os\n",
    "import multiprocessing as mul\n",
    "from multiprocessing import Process\n",
    "import matplotlib.pyplot as plt\n",
    "#import seaborn as sns\n",
    "import itertools as itrt\n",
    "from scipy.optimize import minimize\n",
    "from scipy.optimize import curve_fit\n",
    "from IPython.display import clear_output\n",
    "from itertools import repeat\n",
    "from functools import partial\n",
    "from scipy.stats import chi2\n",
    "from scipy.stats import norm\n",
    "from scipy.stats import gaussian_kde\n",
    "import scipy.stats as sct\n",
    "from astropy.coordinates import SkyCoord as scr\n",
    "from astropy import units as u\n",
    "from time import sleep\n",
    "from numba import jit, njit, prange\n",
    "from tqdm import tqdm"
   ]
  },
  {
   "cell_type": "code",
   "execution_count": 2,
   "metadata": {},
   "outputs": [
    {
     "name": "stdout",
     "output_type": "stream",
     "text": [
      "read icdata\n",
      "IC40_exp.csv read\n",
      "IC59_exp.csv read\n",
      "IC79_exp.csv read\n",
      "IC86_I_exp.csv read\n",
      "IC86_II_exp.csv read\n",
      "IC86_III_exp.csv read\n",
      "IC86_IV_exp.csv read\n",
      "IC86_V_exp.csv read\n",
      "IC86_VI_exp.csv read\n",
      "IC86_VII_exp.csv read\n",
      "IC40_effectiveArea.csv read\n",
      "IC59_effectiveArea.csv read\n",
      "IC79_effectiveArea.csv read\n",
      "IC86_I_effectiveArea.csv read\n",
      "IC86_II_effectiveArea.csv read\n"
     ]
    }
   ],
   "source": [
    "####\n",
    "#### IMPORTING AND SPLITTING ICDATA $$$\n",
    "\n",
    "\n",
    "path = \"/media/darkwake/VIB2/Project-IceCube/icecube_10year_ps/events\"\n",
    "t_eff_path = \"/media/darkwake/VIB2/Project-IceCube/icecube_10year_ps/uptime\"\n",
    "irf_path = \"/media/darkwake/VIB2/Project-IceCube/icecube_10year_ps/irfs\"\n",
    "filenames = [\"IC40_exp.csv\", \"IC59_exp.csv\",\"IC79_exp.csv\", \"IC86_I_exp.csv\", \"IC86_II_exp.csv\",\n",
    "\"IC86_III_exp.csv\", \"IC86_IV_exp.csv\", \"IC86_V_exp.csv\", \"IC86_VI_exp.csv\", \"IC86_VII_exp.csv\"]\n",
    "file = filenames[0]\n",
    "f = open(os.path.join(path, file), 'r')\n",
    "lines = f.readlines()\n",
    "column=lines[0].split()\n",
    "column.pop(0)\n",
    "content = []\n",
    "for file in filenames:\n",
    "    f = open(os.path.join(path, file), 'r')\n",
    "    lines = f.readlines()\n",
    "    #print(len(lines) - 1)\n",
    "    for line in lines[1:]:\n",
    "        content.append(line.split())\n",
    "    f.close()\n",
    "icdata = pd.DataFrame(content, columns=column, dtype=float)#.convert_dtypes(infer_objects=True,convert_integer=True,convert_floating=True)\n",
    "icdata['log10(E/GeV)'] = [float(i) for i in icdata['log10(E/GeV)']]\n",
    "icdata['MJD[days]'] = [float(i) for i in icdata['MJD[days]']]\n",
    "\n",
    "print(\"read icdata\")\n",
    "f.close()\n",
    "\n",
    "\n",
    "\n",
    "#Importing UPtime data\n",
    "file = filenames[0]\n",
    "f = open(os.path.join(t_eff_path, file), 'r')\n",
    "lines = f.readlines()\n",
    "column=lines[0].split()\n",
    "column.pop(0)\n",
    "uptdata = []\n",
    "for file in filenames:\n",
    "    content = []\n",
    "    f = open(os.path.join(t_eff_path, file), 'r')\n",
    "    lines = f.readlines()\n",
    "    for line in lines[1:]:\n",
    "        content.append(line.split())\n",
    "    f.close()\n",
    "    temp = pd.DataFrame(content, columns=column)\n",
    "    temp['MJD_start[days]'] = [float(i) for i in temp['MJD_start[days]']]\n",
    "    temp['MJD_stop[days]'] = [float(i) for i in temp['MJD_stop[days]']]\n",
    "    uptdata.append(temp)\n",
    "    temp = []\n",
    "    content = []\n",
    "    print(file + \" read\")\n",
    "f.close()\n",
    "\n",
    "\n",
    "#Importing Aeff data\n",
    "filenames = [\"IC40_effectiveArea.csv\", \"IC59_effectiveArea.csv\",\"IC79_effectiveArea.csv\", \"IC86_I_effectiveArea.csv\", \"IC86_II_effectiveArea.csv\"]\n",
    "file = filenames[0]\n",
    "f = open(os.path.join(irf_path, file), 'r')\n",
    "lines = f.readlines()\n",
    "column=lines[0].split()\n",
    "column.pop(0)\n",
    "eadata = []\n",
    "for file in filenames:\n",
    "    content = []\n",
    "    f = open(os.path.join(irf_path, file), 'r')\n",
    "    lines = f.readlines()\n",
    "    for line in lines[1:]:\n",
    "        content.append(line.split())\n",
    "    f.close()\n",
    "    temp = pd.DataFrame(content, columns=column, dtype=float)\n",
    "    #temp['MJD_start[days]'] = [float(i) for i in temp['MJD_start[days]']]\n",
    "    #temp['MJD_stop[days]'] = [float(i) for i in temp['MJD_stop[days]']]\n",
    "    eadata.append(temp)\n",
    "    temp = []\n",
    "    content = []\n",
    "    print(file + \" read\")\n",
    "f.close()"
   ]
  },
  {
   "attachments": {},
   "cell_type": "markdown",
   "metadata": {},
   "source": [
    "### For calculating Weights effectiveArea files are used\n",
    "\n",
    "#### All effectiveArea files differ only in the effectiveArea column.\n",
    "\n",
    "#### Rest of the columns are the same.\n",
    "\n",
    "#### Energy log(E/GeV) ranges from 2 to 10 in steps of 0.2\n",
    "\n",
    "#### So e_nu = midpoint of (2, 2.2), (2.2, 2.4), (2.4, 2.6) and so on.\n",
    "\n",
    "#### e_nu = $10^9 * 10^{(2.1, 2.3, 2.5, .... 9.9)}$\n",
    "\n",
    "#### de_nu = $10^9 * (10^{(2.2, 2.4, .... 10)} - 10^{(2, 2.2, .... 9.8)})$\n",
    "\n",
    "#### Each energy bin has declination range from -90 to 90 in 51 bins.\n",
    "\n",
    "#### So these variables are generic for all effectiveArea files."
   ]
  },
  {
   "cell_type": "code",
   "execution_count": 3,
   "metadata": {},
   "outputs": [],
   "source": [
    "icwidths = [int(i) for i in \"0 36900 107011 93133 136244 112858 122541 127045 129311 123657 145750\".split(' ')]\n",
    "ictimes = [float(i) for i in icdata['MJD[days]']]\n",
    "icparts = [np.sum(icwidths[:i]) for i in range(1,len(icwidths)+1)]\n",
    "#icparts.pop(-1)\n",
    "#icparts\n",
    "upt_icparts = icparts[:5]\n",
    "upt_icparts.append(icparts[-1])\n",
    "#len(upt_icparts) - 1 == len(eadata)\n",
    "\n",
    "log_e = np.round(np.arange(2, 10.2, 0.2), 2) #log10(E/GeV) values range as in all 'effectiveArea' files\n",
    "\n",
    "#dec_nu = mid point of Dec_nu_min and Dec_nu_max as in all 'effectiveArea' files\n",
    "dec_nu = list(set(eadata[0]['Dec_nu_min[deg]'].values).union(set(eadata[0]['Dec_nu_max[deg]'].values)))\n",
    "\n",
    "dec_nu.sort()\n",
    "dec_nu = np.array(dec_nu)\n",
    "\n",
    "e_nu = ((10**(log_e[:-1])+ 10**(log_e[1:]))/2)*1e9\n",
    "#de_nu = 1e9**0.2"
   ]
  },
  {
   "cell_type": "code",
   "execution_count": 4,
   "metadata": {},
   "outputs": [],
   "source": [
    "de_nu = 1e9*(10**log_e[1:] - 10**log_e[:-1])"
   ]
  },
  {
   "cell_type": "code",
   "execution_count": 5,
   "metadata": {},
   "outputs": [
    {
     "name": "stdout",
     "output_type": "stream",
     "text": [
      "[15, 39]\n"
     ]
    }
   ],
   "source": [
    "#Test case for e_ind\n",
    "nu_e = 5\n",
    "e_ind = 0\n",
    "for i in range(len(log_e) - 1):\n",
    "    if nu_e >= log_e[i] and nu_e < log_e[i+1]:\n",
    "        e_ind = i\n",
    "print([e_ind, i])"
   ]
  },
  {
   "attachments": {},
   "cell_type": "markdown",
   "metadata": {},
   "source": [
    "Importing ATNF Pulsar data"
   ]
  },
  {
   "cell_type": "code",
   "execution_count": 6,
   "metadata": {},
   "outputs": [
    {
     "data": {
      "text/html": [
       "<div>\n",
       "<style scoped>\n",
       "    .dataframe tbody tr th:only-of-type {\n",
       "        vertical-align: middle;\n",
       "    }\n",
       "\n",
       "    .dataframe tbody tr th {\n",
       "        vertical-align: top;\n",
       "    }\n",
       "\n",
       "    .dataframe thead th {\n",
       "        text-align: right;\n",
       "    }\n",
       "</style>\n",
       "<table border=\"1\" class=\"dataframe\">\n",
       "  <thead>\n",
       "    <tr style=\"text-align: right;\">\n",
       "      <th></th>\n",
       "      <th>NAME</th>\n",
       "      <th>RAJD</th>\n",
       "      <th>DECJD</th>\n",
       "    </tr>\n",
       "  </thead>\n",
       "  <tbody>\n",
       "    <tr>\n",
       "      <th>0</th>\n",
       "      <td>J0002+6216</td>\n",
       "      <td>0.74238</td>\n",
       "      <td>62.26928</td>\n",
       "    </tr>\n",
       "    <tr>\n",
       "      <th>1</th>\n",
       "      <td>J0006+1834</td>\n",
       "      <td>1.52</td>\n",
       "      <td>18.5831</td>\n",
       "    </tr>\n",
       "    <tr>\n",
       "      <th>2</th>\n",
       "      <td>J0007+7303</td>\n",
       "      <td>1.7571</td>\n",
       "      <td>73.0521</td>\n",
       "    </tr>\n",
       "    <tr>\n",
       "      <th>3</th>\n",
       "      <td>J0011+08</td>\n",
       "      <td>2.9</td>\n",
       "      <td>8.17</td>\n",
       "    </tr>\n",
       "    <tr>\n",
       "      <th>4</th>\n",
       "      <td>B0011+47</td>\n",
       "      <td>3.57396</td>\n",
       "      <td>47.77594</td>\n",
       "    </tr>\n",
       "    <tr>\n",
       "      <th>...</th>\n",
       "      <td>...</td>\n",
       "      <td>...</td>\n",
       "      <td>...</td>\n",
       "    </tr>\n",
       "    <tr>\n",
       "      <th>3336</th>\n",
       "      <td>J2351+8533</td>\n",
       "      <td>357.764</td>\n",
       "      <td>85.55573</td>\n",
       "    </tr>\n",
       "    <tr>\n",
       "      <th>3337</th>\n",
       "      <td>J2352+65</td>\n",
       "      <td>358</td>\n",
       "      <td>65</td>\n",
       "    </tr>\n",
       "    <tr>\n",
       "      <th>3338</th>\n",
       "      <td>J2354-22</td>\n",
       "      <td>358.60833</td>\n",
       "      <td>-22.86472</td>\n",
       "    </tr>\n",
       "    <tr>\n",
       "      <th>3339</th>\n",
       "      <td>B2351+61</td>\n",
       "      <td>358.5199292</td>\n",
       "      <td>61.9296792</td>\n",
       "    </tr>\n",
       "    <tr>\n",
       "      <th>3340</th>\n",
       "      <td>J2355+2246</td>\n",
       "      <td>358.9575</td>\n",
       "      <td>22.771</td>\n",
       "    </tr>\n",
       "  </tbody>\n",
       "</table>\n",
       "<p>3341 rows × 3 columns</p>\n",
       "</div>"
      ],
      "text/plain": [
       "            NAME         RAJD       DECJD\n",
       "0     J0002+6216      0.74238    62.26928\n",
       "1     J0006+1834         1.52     18.5831\n",
       "2     J0007+7303       1.7571     73.0521\n",
       "3       J0011+08          2.9        8.17\n",
       "4       B0011+47      3.57396    47.77594\n",
       "...          ...          ...         ...\n",
       "3336  J2351+8533      357.764    85.55573\n",
       "3337    J2352+65          358          65\n",
       "3338    J2354-22    358.60833   -22.86472\n",
       "3339    B2351+61  358.5199292  61.9296792\n",
       "3340  J2355+2246     358.9575      22.771\n",
       "\n",
       "[3341 rows x 3 columns]"
      ]
     },
     "execution_count": 6,
     "metadata": {},
     "output_type": "execute_result"
    }
   ],
   "source": [
    "#IMPORTING MSPDATA\n",
    "f = open(\"/media/darkwake/VIB2/Project-IceCube/allpsr1.68.txt\", 'r')\n",
    "lines = f.readlines()\n",
    "content=[]\n",
    "column=lines.pop(0).replace('x', '').replace('#', '').split()\n",
    "for line in lines[:]:\n",
    "    content.append(line.split())\n",
    "    #the INITAL DATABASE IS CLUTTERED SO WE REMOVE THE NULL COLUMNS AND OTHER CLUTTER\n",
    "f.close()\n",
    "mspdata = pd.DataFrame(content).drop(0, axis=1)#.dropna()#.drop_duplicates()#.drop(range(0,6)).dropna()\n",
    "\n",
    "line = []\n",
    "lines = []\n",
    "mspdata.columns = column\n",
    "column = []\n",
    "content=[]\n",
    "#mspdata = mspdata.sort_values('DECJD')\n",
    "mspdata.dropna(inplace=True)\n",
    "#mspdata = mspdata.reset_index()\n",
    "#mspdata = mspdata.drop(\"index\", axis=1)\n",
    "mspdata"
   ]
  },
  {
   "attachments": {},
   "cell_type": "markdown",
   "metadata": {},
   "source": [
    "#### Vectorizing important & frequently used values\n",
    "\n",
    "#### msra/dec store the ra/dec values of the pulsars\n",
    "\n",
    "#### icra/dec store the ra/dec values of the neutrino events\n",
    "\n",
    "#### icang stores the angular uncertainity\n",
    "\n",
    "#### iceng stores the log(energy/GeV) of the neutrino events"
   ]
  },
  {
   "cell_type": "code",
   "execution_count": 7,
   "metadata": {},
   "outputs": [],
   "source": [
    "msra = np.array([float(i) for i in mspdata['RAJD'].values])\n",
    "msdec = np.array([float(i) for i in mspdata['DECJD'].values])\n",
    "icra = np.array([float(i) for i in icdata['RA[deg]']])\n",
    "icdec = np.array([float(i) for i in icdata['Dec[deg]']])\n",
    "icang = np.array([float(i) for i in icdata['AngErr[deg]']])\n",
    "iceng = np.array([float(i) for i in icdata['log10(E/GeV)']])\n",
    "global p, lg, lnu\n",
    "p = len(msra)\n",
    "lg = len(icra) // p + 1\n",
    "lnu = len(icra)"
   ]
  },
  {
   "cell_type": "code",
   "execution_count": 8,
   "metadata": {},
   "outputs": [
    {
     "data": {
      "text/plain": [
       "[-89.957, 89.977]"
      ]
     },
     "execution_count": 8,
     "metadata": {},
     "output_type": "execute_result"
    }
   ],
   "source": [
    "[min(icdec), max(icdec)]"
   ]
  },
  {
   "cell_type": "code",
   "execution_count": 9,
   "metadata": {},
   "outputs": [],
   "source": [
    "upstop_ttt = np.asfarray([uptdata[i]['MJD_stop[days]'].values[-1] for i in range(len(uptdata))])\n",
    "upstart_ttt = np.asfarray([uptdata[i]['MJD_start[days]'].values[0] for i in range(len(uptdata))])\n",
    "earea = np.array([eadata[i]['A_Eff[cm^2]'].values for i in range(len(eadata))]) * 1e-4"
   ]
  },
  {
   "cell_type": "code",
   "execution_count": 10,
   "metadata": {},
   "outputs": [],
   "source": [
    "vec_uptparts = np.asarray(upt_icparts, dtype=np.int64)"
   ]
  },
  {
   "attachments": {},
   "cell_type": "markdown",
   "metadata": {},
   "source": [
    "### weights = \\[$A_{eff}$[i] * $T_{uptime}$[i] * $e_{nu}$ *0.2  for i in range(len($A_{eff}$))\\]\n",
    "\n",
    "#### The weight of a pulsar is constant for a given neutrino sample\n",
    "\n",
    "#### So we can calculate the weight of a pulsar once for all samples (from IC400 to IC86_VII) and store then\n",
    "\n",
    "#### \n",
    "\n",
    "#### \n",
    "\n",
    "#### \n",
    "\n",
    "#### "
   ]
  },
  {
   "cell_type": "code",
   "execution_count": 11,
   "metadata": {},
   "outputs": [],
   "source": [
    "@jit(nopython=True)\n",
    "def psr_wt_quick(nusample_wall, psrno, gamma = 1):\n",
    "\n",
    "    '''\n",
    "    Parameters\n",
    "    ----------\n",
    "    nusample_wall : float\n",
    "        The index of catalogue of the given neutrino\n",
    "    psrno : int\n",
    "        The index of the pulsar in the ATNF catalogue\n",
    "    gamma : float, optional\n",
    "        (default) 1\n",
    "        The spectral index of the power law\n",
    "    Returns the weight of psrno^th pulsar for a given neutrino sample {nusample_wall}\n",
    "    '''\n",
    "    \n",
    "    #nu_e = icdata['log10(E/GeV)'].values[nu]\n",
    "    psr_decl = icdec[psrno]\n",
    "    #upt = upt_icparts[nusample_wall]\n",
    "    t_upt = upstop_ttt[nusample_wall] - upstart_ttt[nusample_wall]\n",
    "    t_upt*=86400\n",
    "    d_ind = 0\n",
    "    for i in range(len(dec_nu) - 1):\n",
    "        if dec_nu[i] <= psr_decl and dec_nu[i+1] >= psr_decl:\n",
    "            d_ind = i\n",
    "            break\n",
    "    ea_temp = earea[nusample_wall][d_ind*40:(d_ind+1)*40]\n",
    "    #earea = np.array(ea_temp['A_Eff[cm^2]'].values) * 1e-4\n",
    "    weight_kj = t_upt * np.sum(np.multiply(np.multiply(ea_temp, np.power(e_nu, gamma)), de_nu))\n",
    "    #sleep(1e-8)\n",
    "    return weight_kj                           \n",
    "            "
   ]
  },
  {
   "cell_type": "code",
   "execution_count": 12,
   "metadata": {},
   "outputs": [
    {
     "data": {
      "text/plain": [
       "1.0648611917333613e+46"
      ]
     },
     "execution_count": 12,
     "metadata": {},
     "output_type": "execute_result"
    }
   ],
   "source": [
    "psr_wt_quick(0, 0, 1)"
   ]
  },
  {
   "cell_type": "code",
   "execution_count": 13,
   "metadata": {},
   "outputs": [
    {
     "name": "stderr",
     "output_type": "stream",
     "text": [
      "100%|██████████| 5/5 [00:00<00:00, 363.17it/s]"
     ]
    },
    {
     "name": "stdout",
     "output_type": "stream",
     "text": [
      "0\n",
      "36900\n",
      "143911\n",
      "237044\n",
      "373288\n"
     ]
    },
    {
     "name": "stderr",
     "output_type": "stream",
     "text": [
      "\n"
     ]
    },
    {
     "data": {
      "text/plain": [
       "array([1.32872417e+52, 1.57592493e+50, 1.59530636e+50, 2.07699567e+50,\n",
       "       1.97632107e+50])"
      ]
     },
     "execution_count": 13,
     "metadata": {},
     "output_type": "execute_result"
    }
   ],
   "source": [
    "all_weights = []\n",
    "gamma = 1\n",
    "for i in tqdm(range(len(upt_icparts)-1)):\n",
    "    print(upt_icparts[i])\n",
    "    all_weights.append([psr_wt_quick(i, psrno, gamma) for psrno in range(p)])\n",
    "all_weights = np.asfarray(all_weights)\n",
    "sum_weights = [np.sum(i) for i in all_weights]\n",
    "sum_weights = np.asfarray(sum_weights)\n",
    "sum_weights"
   ]
  },
  {
   "cell_type": "code",
   "execution_count": 14,
   "metadata": {},
   "outputs": [],
   "source": [
    "@jit(nopython=True)\n",
    "def hvovec(lon1=0.0, lat1=0.0, lon2=0.0, lat2=0.0, rad=False):\n",
    "\n",
    "    '''\n",
    "    Parameters\n",
    "    ----------\n",
    "    lon1 : float\n",
    "        Longitude of first point.\n",
    "    lat1 : float\n",
    "        Latitude of first point.\n",
    "\n",
    "\n",
    "    lon2 : float\n",
    "        Longitude of second point.\n",
    "    lat2 : float\n",
    "        Latitude of second point.\n",
    "\n",
    "    rad : Boolean, optional\n",
    "        (default) False -> Angle is returned in Degrees\n",
    "        True -> Angle is returned in radians\n",
    "    \n",
    "\n",
    "    Returns\n",
    "    -------\n",
    "    float\n",
    "        Returns the haversine angle between two vectors given their latitude and longitude\n",
    "    \n",
    "\n",
    "    Warning\n",
    "    -------\n",
    "        This function assumes the input to be in degrees and of equal length\\n\n",
    "        or one of the input pairs to be a single value and the other pair to be an array\n",
    "    '''\n",
    "\n",
    "    #Convert decimal degrees to Radians:\n",
    "    lon1 = np.deg2rad(lon1)\n",
    "    lat1 = np.deg2rad(lat1)\n",
    "    lon2 = np.deg2rad(lon2)\n",
    "    lat2 = np.deg2rad(lat2)\n",
    "\n",
    "    #Implementing Haversine Formula: \n",
    "    dlon = np.subtract(lon2, lon1)\n",
    "    #dlat = np.subtract(lat2, lat1)\n",
    "\n",
    "    a = np.add(np.multiply(np.sin(lat1), np.sin(lat2)), np.multiply(np.multiply(np.cos(lat1), np.cos(lat2)), np.cos(dlon)))\n",
    "\n",
    "    if rad == True:\n",
    "        return np.arccos(a)\n",
    "    else:\n",
    "        return np.abs(np.rad2deg(np.arccos(a)))\n"
   ]
  },
  {
   "attachments": {},
   "cell_type": "markdown",
   "metadata": {},
   "source": [
    "#### $S_{ij} = \\dfrac{e^{\\frac{ |x_{nu} - x_{psr} | ^ 2}{2 \\sigma^2} } }{2\\pi\\sigma^2}$\n",
    "\n",
    "#### $S_i = \\dfrac{\\sum_j  \\omega_j S_{ij} }{ \\sum_j  \\omega_j }$\n",
    "\n",
    "#### For this project, Cone is $5{\\degree}$\n",
    "\n",
    "#### $B_i = \\dfrac{ \\text{No.of neutrinos within } 5^\\circ \\text{of the declination of the neutrino} }{5 ^\\circ \\text{ Solid angle cone}* \\text{Total no.of neutrinos( = 1134550)}}$"
   ]
  },
  {
   "cell_type": "code",
   "execution_count": 15,
   "metadata": {},
   "outputs": [],
   "source": [
    "@jit(nopython=True)\n",
    "def S_ij(nu): \n",
    "\n",
    "    '''\n",
    "    Parameters\n",
    "    ----------\n",
    "    nu : int\n",
    "        Index of the neutrino in the sample\n",
    "        \n",
    "    \n",
    "    Returns\n",
    "    -------\n",
    "        Returns the signal PDF for the {psrno}th pulsar and nuind_inp neutrino\n",
    "    '''\n",
    "    ang2 = hvovec(msra, msdec, icra[nu], icdec[nu], rad=True) ** 2#, icra[nuind], icdec[nuind], rad=True) ** 2\n",
    "    sg = np.deg2rad(icang[nu]) ** 2\n",
    "    return np.divide(np.exp(-1 * np.divide(ang2, 2*sg)), (2 * np.pi * sg))\n",
    "\n",
    "@jit(nopython=True)\n",
    "def S_i(nu, all_weights, sum_weights, wall):\n",
    "\n",
    "    '''\n",
    "        Parameters\n",
    "        ----------\n",
    "        nu : int\n",
    "            Index of the neutrino in the sample\n",
    "\n",
    "        Returns\n",
    "        -------\n",
    "        Returns the signal PDF for the {nu}th neutrino with all pulsars \n",
    "        i.e S_i = wieghted-sum_j S_ij\n",
    "    '''\n",
    "\n",
    "\n",
    "\n",
    "    sij = S_ij(nu)\n",
    "    \n",
    "    #sleep(1e-8)\n",
    "    return np.sum(np.multiply(sij, all_weights[wall] / sum_weights[wall]))\n",
    "    #return np.dot(sij, all_weights[wall] ) / sum_weights[wall]\n",
    "\n"
   ]
  },
  {
   "cell_type": "code",
   "execution_count": 16,
   "metadata": {},
   "outputs": [],
   "source": [
    "@jit(nopython=True)\n",
    "def Bi_stacked(nu, cone):\n",
    "\n",
    "    '''\n",
    "    Parameters\n",
    "    ----------\n",
    "    nu : int\n",
    "        Index of the neutrino from IceCube sample\n",
    "    cone : float\n",
    "        Cone angle in degrees.\n",
    "    \n",
    "\n",
    "    Returns\n",
    "    -------\n",
    "    float\n",
    "        Returns the background PDF for the {nu}th neutrino\n",
    "    '''\n",
    "\n",
    "    #count = 0\n",
    "    #count = np.count_nonzero(np.abs(np.subtract(icdec, icdec[nu])) <= cone)\n",
    "    #print(count)\n",
    "    count = 0\n",
    "    for i in range(len(icdec)):\n",
    "        if abs(icdec[i] - icdec[nu]) <= cone:\n",
    "            count+=1\n",
    "    #print(count)\n",
    "    binwidth = (np.sin(np.deg2rad(icdec[nu] + cone)) - np.sin(np.deg2rad(icdec[nu] - cone)))*2*np.pi\n",
    "    #sleep(1e-8)\n",
    "    return count/(binwidth * lnu)\n",
    "    \n",
    "\n",
    "@jit(nopython=True)\n",
    "def Pr(x, Ns, S, B):\n",
    "\n",
    "    '''\n",
    "    Parameters\n",
    "    ----------\n",
    "    x : int\n",
    "        Assumed no.of associated events\n",
    "\n",
    "    Ns : int\n",
    "        No.of neutrinos used for analysis\n",
    "\n",
    "    S : float\n",
    "        Signal PDF\n",
    "    B : float\n",
    "        Background PDF\n",
    "    \n",
    "    Returns\n",
    "    -------\n",
    "    float \n",
    "        Returns the probability of the selected set of neutrinos being associated\\n\n",
    "        with a given pulsar with {Ns} neutrinos, {S} signal and {B} background PDF and {x} assumed associated events\n",
    "    '''\n",
    "\n",
    "    nsN = x/Ns\n",
    "    return np.add(np.multiply(nsN , S), np.multiply(np.subtract(1, nsN), B))\n",
    "\n",
    "\n",
    "@jit(nopython=True)\n",
    "def wall_nu(nu):\n",
    "    \n",
    "        '''\n",
    "        Parameters\n",
    "        ----------\n",
    "        nu : int\n",
    "            Index of the neutrino from IceCube sample\n",
    "        \n",
    "    \n",
    "        Returns\n",
    "        -------\n",
    "        int\n",
    "            Returns the index of the wall in which the {nu}th neutrino lies\n",
    "        '''\n",
    "        wall = 0\n",
    "        for i in range(len(vec_uptparts)-1):\n",
    "            if vec_uptparts[i] <= nu and vec_uptparts[i+1] > nu:\n",
    "                wall = i\n",
    "                break        \n",
    "        return wall"
   ]
  },
  {
   "cell_type": "markdown",
   "metadata": {},
   "source": [
    "Find "
   ]
  },
  {
   "cell_type": "code",
   "execution_count": 17,
   "metadata": {},
   "outputs": [
    {
     "data": {
      "text/plain": [
       "0.10819734211672001"
      ]
     },
     "execution_count": 17,
     "metadata": {},
     "output_type": "execute_result"
    }
   ],
   "source": [
    "Bi_stacked(0, 5)"
   ]
  },
  {
   "cell_type": "markdown",
   "metadata": {},
   "source": [
    "#B_i independent of weights\n",
    "all_B_i = np.asarray([Bi_stacked(i, 5) for i in tqdm(range(len(icra)))])"
   ]
  },
  {
   "cell_type": "code",
   "execution_count": 18,
   "metadata": {},
   "outputs": [],
   "source": [
    "pool = mul.Pool(8, maxtasksperchild=100)\n",
    "op_star = pool.starmap_async(Bi_stacked, zip(prange(lnu), 5*np.ones(lnu)) )\n",
    "all_Bi = op_star.get()\n",
    "pool.close()\n",
    "pool = []\n",
    "op_star =[]\n",
    "all_Bi = np.asarray(all_Bi)"
   ]
  },
  {
   "cell_type": "code",
   "execution_count": 19,
   "metadata": {},
   "outputs": [
    {
     "data": {
      "text/plain": [
       "0.1448996049028885"
      ]
     },
     "execution_count": 19,
     "metadata": {},
     "output_type": "execute_result"
    }
   ],
   "source": [
    "S_i(2, all_weights, sum_weights, 1)"
   ]
  },
  {
   "cell_type": "code",
   "execution_count": 20,
   "metadata": {},
   "outputs": [],
   "source": [
    "pool = []\n",
    "op_async = []"
   ]
  },
  {
   "cell_type": "code",
   "execution_count": 21,
   "metadata": {},
   "outputs": [
    {
     "data": {
      "text/plain": [
       "'fork'"
      ]
     },
     "execution_count": 21,
     "metadata": {},
     "output_type": "execute_result"
    }
   ],
   "source": [
    "mul.get_all_start_methods()\n",
    "mul.get_start_method()"
   ]
  },
  {
   "cell_type": "code",
   "execution_count": 22,
   "metadata": {},
   "outputs": [],
   "source": [
    "upt_icparts = np.asarray(upt_icparts)"
   ]
  },
  {
   "cell_type": "code",
   "execution_count": 23,
   "metadata": {},
   "outputs": [
    {
     "data": {
      "text/plain": [
       "array([      0,   36900,  143911,  237044,  373288, 1134450])"
      ]
     },
     "execution_count": 23,
     "metadata": {},
     "output_type": "execute_result"
    }
   ],
   "source": [
    "upt_icparts"
   ]
  },
  {
   "cell_type": "code",
   "execution_count": 24,
   "metadata": {},
   "outputs": [],
   "source": [
    "@jit(nopython=True)\n",
    "def weights_gamma(gamma):\n",
    "    all_weights= []\n",
    "    for i in range(len(upt_icparts)-1):\n",
    "    #print(upt_icparts[i])\n",
    "        all_weights.append([psr_wt_quick(i, psrno, gamma) for psrno in range(p)])\n",
    "    return np.asfarray(all_weights)\n",
    "\n",
    "    \n",
    "all_weights = weights_gamma(2)\n",
    "gamma_list = np.asarray([-1, -2, -2.5, -3])\n",
    "sum_weights = [np.sum(i) for i in all_weights]\n",
    "sum_weights = np.asfarray(sum_weights)\n",
    "cut = 5\n",
    "cone = 5\n",
    "sum_weights_gamma = []\n",
    "all_weights_gamma = np.asfarray([weights_gamma(gamma) for gamma in gamma_list])\n",
    "for i in all_weights_gamma:\n",
    "    sum_weights_gamma.append([np.sum(j) for j in i])\n",
    "sum_weights_gamma = np.asfarray(sum_weights_gamma)\n",
    "all_weights_mgamma = np.asfarray([weights_gamma(-gamma) for gamma in gamma_list])\n",
    "#nuind, ang = angfinder(psrno, cut)\n"
   ]
  },
  {
   "cell_type": "code",
   "execution_count": 25,
   "metadata": {},
   "outputs": [
    {
     "data": {
      "text/plain": [
       "array([[1.06486119e+46, 3.99128321e+48, 2.25622540e+46, ...,\n",
       "        1.67108381e+40, 7.98729866e+47, 2.54128811e+49],\n",
       "       [3.86709142e+44, 8.46303481e+46, 3.86889354e+45, ...,\n",
       "        1.29193052e+42, 2.69580858e+46, 2.03491544e+47],\n",
       "       [4.45925952e+44, 8.60103362e+46, 2.99649286e+45, ...,\n",
       "        1.98169238e+41, 2.21058647e+46, 1.82242898e+47],\n",
       "       [4.88093071e+44, 1.08296022e+47, 3.89860257e+45, ...,\n",
       "        3.09242353e+42, 2.94198359e+46, 2.27293997e+47],\n",
       "       [5.58036122e+44, 1.19373772e+47, 5.21074494e+45, ...,\n",
       "        4.67929077e+41, 3.32959945e+46, 1.89244047e+47]])"
      ]
     },
     "execution_count": 25,
     "metadata": {},
     "output_type": "execute_result"
    }
   ],
   "source": [
    "weights_gamma(1)"
   ]
  },
  {
   "cell_type": "code",
   "execution_count": 26,
   "metadata": {},
   "outputs": [
    {
     "data": {
      "text/plain": [
       "array([False, False, False, False, False])"
      ]
     },
     "execution_count": 26,
     "metadata": {},
     "output_type": "execute_result"
    }
   ],
   "source": [
    "sum_weights == sum_weights_gamma[1]"
   ]
  },
  {
   "cell_type": "code",
   "execution_count": 27,
   "metadata": {},
   "outputs": [],
   "source": [
    "def weights(gamma):\n",
    "    all_weights= []\n",
    "    for i in range(len(upt_icparts)-1):\n",
    "    #print(upt_icparts[i])\n",
    "        all_weights.append([psr_wt_quick(i, psrno, gamma) for psrno in range(p)])\n",
    "    return np.asfarray(all_weights)\n",
    "all_weights = weights(1)\n",
    "\n",
    "sum_weights = [np.sum(i) for i in all_weights]\n",
    "sum_weights = np.asfarray(sum_weights)\n",
    "cut = 5\n",
    "cone = 5"
   ]
  },
  {
   "cell_type": "code",
   "execution_count": 28,
   "metadata": {},
   "outputs": [],
   "source": [
    "\n",
    "#nuind, ang = angfinder(psrno, cut)\n",
    "\n",
    "@jit(nopython=True, cache=True)\n",
    "def sigbag_nu(nu):\n",
    "    '''\n",
    "        Returns the signal and background PDF for the {nu}th neutrino\n",
    "    '''\n",
    "\n",
    "    #sleep(1e-8)\n",
    "\n",
    "    #if nu % 100000 == 0:\n",
    "        #print(nu)\n",
    "        #os.system('clear')\n",
    "    wall = wall_nu(nu)\n",
    "    #Ns = vec_uptparts[wall_nu(nu) + 1] - vec_uptparts[wall_nu(nu)]\n",
    "    return [S_i(nu, all_weights, sum_weights, wall), all_Bi[nu]]#,Ns]"
   ]
  },
  {
   "cell_type": "code",
   "execution_count": 29,
   "metadata": {},
   "outputs": [],
   "source": [
    "all_sig_bag = []"
   ]
  },
  {
   "cell_type": "markdown",
   "metadata": {},
   "source": [
    "#gamma = 1\n",
    "all_weights = weights(1)\n",
    "\n",
    "sum_weights = [np.sum(i) for i in all_weights]\n",
    "sum_weights = np.asfarray(sum_weights)\n",
    "pool = mul.Pool(8, maxtasksperchild=100)\n",
    "op_async = pool.map_async(sigbag_nu, tqdm(range(lnu)))\n",
    "tmp = op_async.get()\n",
    "pool.close()\n",
    "pool = []\n",
    "op_async = []"
   ]
  },
  {
   "cell_type": "markdown",
   "metadata": {},
   "source": [
    "tmp = np.asfarray(tmp)"
   ]
  },
  {
   "cell_type": "markdown",
   "metadata": {},
   "source": [
    "S_all = tmp[:,0]\n",
    "B_all = tmp[:,1]\n",
    "#Ns_all = tmp2[:,2]"
   ]
  },
  {
   "cell_type": "code",
   "execution_count": 30,
   "metadata": {},
   "outputs": [],
   "source": [
    "@jit(nopython=True)\n",
    "def TS_st(x, S, B, Ns):\n",
    "\n",
    "    '''\n",
    "    Returns\n",
    "    ----------\n",
    "        Returns the Test Stastic value at\n",
    "        $n_s$ = {x} for its parameters S, B, Ns\n",
    "    '''\n",
    "    if x >=0:\n",
    "        return np.sum(np.asfarray(2*np.log(Pr(x,  Ns, S, B)/B)))\n",
    "    else:\n",
    "        return -1\n",
    "\n",
    "def ns_for_TSmax_st(S, B, Ns):\n",
    "    '''\n",
    "    Returns the value of $n_s$ for which\n",
    "    the TS is maximum for {i}^th grb\n",
    "    '''\n",
    "\n",
    "    #returns the TSmax for i^th GRB\n",
    "    nll = lambda x: -TS_st(x, S, B, Ns)\n",
    "    soln = minimize(nll, 3 , bounds = [(0, None)], tol=1e-12)\n",
    "    ns = np.round(soln.x, 6)[0]\n",
    "    #print(soln.success)\n",
    "    return ns"
   ]
  },
  {
   "cell_type": "code",
   "execution_count": 31,
   "metadata": {},
   "outputs": [],
   "source": [
    "all_sig_bag = []"
   ]
  },
  {
   "cell_type": "code",
   "execution_count": 32,
   "metadata": {},
   "outputs": [
    {
     "name": "stderr",
     "output_type": "stream",
     "text": [
      "100%|██████████| 1134450/1134450 [00:20<00:00, 56705.62it/s]\n",
      " 16%|█▌        | 177260/1134450 [00:00<00:03, 292623.42it/s]/tmp/ipykernel_12231/1239425148.py:3: NumbaWarning: \u001b[1mCannot cache compiled function \"sigbag_nu\" as it uses dynamic globals (such as ctypes pointers and large global arrays)\u001b[0m\n",
      "  @jit(nopython=True, cache=True)\n",
      " 19%|█▉        | 212712/1134450 [00:00<00:03, 288794.65it/s]/tmp/ipykernel_12231/1239425148.py:3: NumbaWarning: \u001b[1mCannot cache compiled function \"sigbag_nu\" as it uses dynamic globals (such as ctypes pointers and large global arrays)\u001b[0m\n",
      "  @jit(nopython=True, cache=True)\n",
      " 22%|██▏       | 248164/1134450 [00:00<00:03, 279064.87it/s]/tmp/ipykernel_12231/1239425148.py:3: NumbaWarning: \u001b[1mCannot cache compiled function \"sigbag_nu\" as it uses dynamic globals (such as ctypes pointers and large global arrays)\u001b[0m\n",
      "  @jit(nopython=True, cache=True)\n",
      " 25%|██▌       | 283616/1134450 [00:01<00:03, 273758.19it/s]/tmp/ipykernel_12231/1239425148.py:3: NumbaWarning: \u001b[1mCannot cache compiled function \"sigbag_nu\" as it uses dynamic globals (such as ctypes pointers and large global arrays)\u001b[0m\n",
      "  @jit(nopython=True, cache=True)\n",
      "/tmp/ipykernel_12231/1239425148.py:3: NumbaWarning: \u001b[1mCannot cache compiled function \"sigbag_nu\" as it uses dynamic globals (such as ctypes pointers and large global arrays)\u001b[0m\n",
      "  @jit(nopython=True, cache=True)\n",
      "/tmp/ipykernel_12231/1239425148.py:3: NumbaWarning: \u001b[1mCannot cache compiled function \"sigbag_nu\" as it uses dynamic globals (such as ctypes pointers and large global arrays)\u001b[0m\n",
      "  @jit(nopython=True, cache=True)\n",
      "/tmp/ipykernel_12231/1239425148.py:3: NumbaWarning: \u001b[1mCannot cache compiled function \"sigbag_nu\" as it uses dynamic globals (such as ctypes pointers and large global arrays)\u001b[0m\n",
      "  @jit(nopython=True, cache=True)\n",
      "/tmp/ipykernel_12231/1239425148.py:3: NumbaWarning: \u001b[1mCannot cache compiled function \"sigbag_nu\" as it uses dynamic globals (such as ctypes pointers and large global arrays)\u001b[0m\n",
      "  @jit(nopython=True, cache=True)\n",
      "100%|██████████| 1134450/1134450 [00:19<00:00, 58471.02it/s] \n",
      " 16%|█▌        | 177260/1134450 [00:00<00:03, 280250.64it/s]/tmp/ipykernel_12231/1239425148.py:3: NumbaWarning: \u001b[1mCannot cache compiled function \"sigbag_nu\" as it uses dynamic globals (such as ctypes pointers and large global arrays)\u001b[0m\n",
      "  @jit(nopython=True, cache=True)\n",
      " 19%|█▉        | 212712/1134450 [00:00<00:03, 280784.10it/s]/tmp/ipykernel_12231/1239425148.py:3: NumbaWarning: \u001b[1mCannot cache compiled function \"sigbag_nu\" as it uses dynamic globals (such as ctypes pointers and large global arrays)\u001b[0m\n",
      "  @jit(nopython=True, cache=True)\n",
      " 22%|██▏       | 248164/1134450 [00:00<00:03, 275788.51it/s]/tmp/ipykernel_12231/1239425148.py:3: NumbaWarning: \u001b[1mCannot cache compiled function \"sigbag_nu\" as it uses dynamic globals (such as ctypes pointers and large global arrays)\u001b[0m\n",
      "  @jit(nopython=True, cache=True)\n",
      " 25%|██▌       | 283616/1134450 [00:01<00:03, 276214.90it/s]/tmp/ipykernel_12231/1239425148.py:3: NumbaWarning: \u001b[1mCannot cache compiled function \"sigbag_nu\" as it uses dynamic globals (such as ctypes pointers and large global arrays)\u001b[0m\n",
      "  @jit(nopython=True, cache=True)\n",
      "/tmp/ipykernel_12231/1239425148.py:3: NumbaWarning: \u001b[1mCannot cache compiled function \"sigbag_nu\" as it uses dynamic globals (such as ctypes pointers and large global arrays)\u001b[0m\n",
      "  @jit(nopython=True, cache=True)\n",
      "/tmp/ipykernel_12231/1239425148.py:3: NumbaWarning: \u001b[1mCannot cache compiled function \"sigbag_nu\" as it uses dynamic globals (such as ctypes pointers and large global arrays)\u001b[0m\n",
      "  @jit(nopython=True, cache=True)\n",
      "/tmp/ipykernel_12231/1239425148.py:3: NumbaWarning: \u001b[1mCannot cache compiled function \"sigbag_nu\" as it uses dynamic globals (such as ctypes pointers and large global arrays)\u001b[0m\n",
      "  @jit(nopython=True, cache=True)\n",
      "/tmp/ipykernel_12231/1239425148.py:3: NumbaWarning: \u001b[1mCannot cache compiled function \"sigbag_nu\" as it uses dynamic globals (such as ctypes pointers and large global arrays)\u001b[0m\n",
      "  @jit(nopython=True, cache=True)\n",
      "100%|██████████| 1134450/1134450 [00:19<00:00, 58741.97it/s] \n",
      " 16%|█▌        | 177260/1134450 [00:00<00:03, 289678.59it/s]/tmp/ipykernel_12231/1239425148.py:3: NumbaWarning: \u001b[1mCannot cache compiled function \"sigbag_nu\" as it uses dynamic globals (such as ctypes pointers and large global arrays)\u001b[0m\n",
      "  @jit(nopython=True, cache=True)\n",
      " 19%|█▉        | 212712/1134450 [00:00<00:03, 289234.58it/s]/tmp/ipykernel_12231/1239425148.py:3: NumbaWarning: \u001b[1mCannot cache compiled function \"sigbag_nu\" as it uses dynamic globals (such as ctypes pointers and large global arrays)\u001b[0m\n",
      "  @jit(nopython=True, cache=True)\n",
      " 22%|██▏       | 248164/1134450 [00:00<00:03, 285271.80it/s]/tmp/ipykernel_12231/1239425148.py:3: NumbaWarning: \u001b[1mCannot cache compiled function \"sigbag_nu\" as it uses dynamic globals (such as ctypes pointers and large global arrays)\u001b[0m\n",
      "  @jit(nopython=True, cache=True)\n",
      " 25%|██▌       | 283616/1134450 [00:01<00:03, 281950.17it/s]/tmp/ipykernel_12231/1239425148.py:3: NumbaWarning: \u001b[1mCannot cache compiled function \"sigbag_nu\" as it uses dynamic globals (such as ctypes pointers and large global arrays)\u001b[0m\n",
      "  @jit(nopython=True, cache=True)\n",
      "/tmp/ipykernel_12231/1239425148.py:3: NumbaWarning: \u001b[1mCannot cache compiled function \"sigbag_nu\" as it uses dynamic globals (such as ctypes pointers and large global arrays)\u001b[0m\n",
      "  @jit(nopython=True, cache=True)\n",
      "/tmp/ipykernel_12231/1239425148.py:3: NumbaWarning: \u001b[1mCannot cache compiled function \"sigbag_nu\" as it uses dynamic globals (such as ctypes pointers and large global arrays)\u001b[0m\n",
      "  @jit(nopython=True, cache=True)\n",
      "/tmp/ipykernel_12231/1239425148.py:3: NumbaWarning: \u001b[1mCannot cache compiled function \"sigbag_nu\" as it uses dynamic globals (such as ctypes pointers and large global arrays)\u001b[0m\n",
      "  @jit(nopython=True, cache=True)\n",
      "/tmp/ipykernel_12231/1239425148.py:3: NumbaWarning: \u001b[1mCannot cache compiled function \"sigbag_nu\" as it uses dynamic globals (such as ctypes pointers and large global arrays)\u001b[0m\n",
      "  @jit(nopython=True, cache=True)\n",
      "100%|██████████| 1134450/1134450 [00:20<00:00, 56463.88it/s]\n"
     ]
    }
   ],
   "source": [
    "#gamma = 1\n",
    "all_weights = weights(-1)\n",
    "\n",
    "sum_weights = [np.sum(i) for i in all_weights]\n",
    "sum_weights = np.asfarray(sum_weights)\n",
    "pool = mul.Pool(8, maxtasksperchild=100)\n",
    "op_async = pool.map_async(sigbag_nu, tqdm(range(lnu)))\n",
    "tmp = op_async.get()\n",
    "pool.close()\n",
    "pool = []\n",
    "op_async = []\n",
    "tmp = np.asfarray(tmp)\n",
    "all_sig_bag.append(tmp)\n",
    "\n",
    "#gamma = 2\n",
    "all_weights = weights(-2)\n",
    "\n",
    "sum_weights = [np.sum(i) for i in all_weights]\n",
    "sum_weights = np.asfarray(sum_weights)\n",
    "pool = mul.Pool(8, maxtasksperchild=100)\n",
    "op_async = pool.map_async(sigbag_nu, tqdm(range(lnu)))\n",
    "tmp = op_async.get()\n",
    "pool.close()\n",
    "pool = []\n",
    "op_async = []\n",
    "tmp = np.asfarray(tmp)\n",
    "all_sig_bag.append(tmp)\n",
    "\n",
    "#gamma = -2.5\n",
    "all_weights = weights(-2.5)\n",
    "\n",
    "sum_weights = [np.sum(i) for i in all_weights]\n",
    "sum_weights = np.asfarray(sum_weights)\n",
    "pool = mul.Pool(8, maxtasksperchild=100)\n",
    "op_async = pool.map_async(sigbag_nu, tqdm(range(lnu)))\n",
    "tmp = op_async.get()\n",
    "pool.close()\n",
    "pool = []\n",
    "op_async = []\n",
    "tmp = np.asfarray(tmp)\n",
    "all_sig_bag.append(tmp)\n",
    "\n",
    "\n",
    "\n",
    "#gamma = -3\n",
    "all_weights = weights(-3)\n",
    "\n",
    "sum_weights = [np.sum(i) for i in all_weights]\n",
    "sum_weights = np.asfarray(sum_weights)\n",
    "pool = mul.Pool(8, maxtasksperchild=100)\n",
    "op_async = pool.map_async(sigbag_nu, tqdm(range(lnu)))\n",
    "tmp = op_async.get()\n",
    "pool.close()\n",
    "pool = []\n",
    "op_async = []\n",
    "tmp = np.asfarray(tmp)\n",
    "all_sig_bag.append(tmp)"
   ]
  },
  {
   "cell_type": "code",
   "execution_count": 33,
   "metadata": {},
   "outputs": [
    {
     "data": {
      "text/plain": [
       "array([0.00587095, 0.13706247])"
      ]
     },
     "execution_count": 33,
     "metadata": {},
     "output_type": "execute_result"
    }
   ],
   "source": [
    "all_sig_bag[3][760000]"
   ]
  },
  {
   "cell_type": "code",
   "execution_count": 34,
   "metadata": {},
   "outputs": [
    {
     "data": {
      "text/plain": [
       "True"
      ]
     },
     "execution_count": 34,
     "metadata": {},
     "output_type": "execute_result"
    }
   ],
   "source": [
    "all_sig = []\n",
    "\n",
    "for i in all_sig_bag:\n",
    "    all_sig.append(i[:,0])\n",
    "all_sig = np.asfarray(all_sig)\n",
    "all_sig_bag[3][4567][0] == all_sig[3][4567]"
   ]
  },
  {
   "cell_type": "code",
   "execution_count": 35,
   "metadata": {},
   "outputs": [],
   "source": [
    "Ns = lnu#np.count_nonzero(nuind+1)\n",
    "from numba import njit, prange\n",
    "@njit(parallel=True, fastmath=True)\n",
    "def Ts_arr(x, S_all, B_all, Ns):\n",
    "    #Ts_arr = lambda x:\n",
    "    sum = 0.0\n",
    "    for i in range(lnu):\n",
    "        sum += TS_st(x, S_all[i], B_all[i], Ns)\n",
    "    return sum\n"
   ]
  },
  {
   "cell_type": "code",
   "execution_count": 36,
   "metadata": {},
   "outputs": [
    {
     "data": {
      "text/plain": [
       "(4, 1134450)"
      ]
     },
     "execution_count": 36,
     "metadata": {},
     "output_type": "execute_result"
    }
   ],
   "source": [
    "np.shape(all_sig)"
   ]
  },
  {
   "cell_type": "code",
   "execution_count": 37,
   "metadata": {},
   "outputs": [
    {
     "name": "stderr",
     "output_type": "stream",
     "text": [
      "/home/darkwake/.local/lib/python3.10/site-packages/numba/core/typed_passes.py:329: NumbaPerformanceWarning: \u001b[1m\n",
      "The keyword argument 'parallel=True' was specified but no transformation for parallel execution was possible.\n",
      "\n",
      "To find out why, try turning on parallel diagnostics, see https://numba.readthedocs.io/en/stable/user/parallel.html#diagnostics for help.\n",
      "\u001b[1m\n",
      "File \"../../../../../tmp/ipykernel_12231/1171155522.py\", line 3:\u001b[0m\n",
      "\u001b[1m<source missing, REPL/exec in use?>\u001b[0m\n",
      "\u001b[0m\n",
      "  warnings.warn(errors.NumbaPerformanceWarning(msg,\n"
     ]
    },
    {
     "data": {
      "text/plain": [
       "-1.4074029802030583"
      ]
     },
     "execution_count": 37,
     "metadata": {},
     "output_type": "execute_result"
    }
   ],
   "source": [
    "Ts_arr(165, all_sig[3], all_Bi, Ns)"
   ]
  },
  {
   "cell_type": "markdown",
   "metadata": {},
   "source": [
    "all_tns_gamma = []      #Stores the TS values for the neutrino stack for all gamma values\n",
    "for i in tqdm(prange(4)):\n",
    "    tmpp = []\n",
    "    for j in prange(1000):\n",
    "        tmpp.append(Ts_arr(j, all_sig[i], all_Bi, Ns))\n",
    "    all_tns_gamma.append(tmpp)"
   ]
  },
  {
   "cell_type": "markdown",
   "metadata": {},
   "source": [
    "font = {'family': 'serif',\n",
    "        'color':  'black',\n",
    "        'weight': 'bold',\n",
    "        'size': 22,\n",
    "        }\n",
    "plt.figure(figsize=(10.8,7.2))\n",
    "#plt.xticks([0, 1, 2, 3, 4, 5, 6, 7, 8, 9], [0, 1, 2, 3, 4, 5, 6, 7, 8, 9], fontsize=17, fontweight='bold')\n",
    "#plt.xscale('log')\n",
    "#plt.yscale('log')\n",
    "plt.xticks(fontsize=17, fontweight='bold')\n",
    "plt.yticks(fontsize=17, fontweight='bold')\n",
    "lst = ['-.', '--', ':', '-']\n",
    "for i in range(4):\n",
    "    plt.plot(range(1000), all_tns_gamma[i],label=r'$\\Gamma$ = -'+str(gamma_list[i]), ls=lst[i])\n",
    "legend =plt.legend(prop={'size':17}, framealpha=0)\n",
    "legend.get_frame().set_facecolor('none')\n",
    "plt.xlabel('$n_s$', fontdict=font)\n",
    "plt.ylabel('TS', fontdict=font)\n",
    "plt.show()"
   ]
  },
  {
   "cell_type": "code",
   "execution_count": 38,
   "metadata": {},
   "outputs": [
    {
     "data": {
      "text/plain": [
       "1134450"
      ]
     },
     "execution_count": 38,
     "metadata": {},
     "output_type": "execute_result"
    }
   ],
   "source": [
    "Ns"
   ]
  },
  {
   "cell_type": "code",
   "execution_count": 39,
   "metadata": {},
   "outputs": [
    {
     "data": {
      "text/plain": [
       "-1.4074029802030583"
      ]
     },
     "execution_count": 39,
     "metadata": {},
     "output_type": "execute_result"
    }
   ],
   "source": [
    "Ts_arr(165, all_sig[3], all_Bi, Ns)"
   ]
  },
  {
   "cell_type": "markdown",
   "metadata": {},
   "source": [
    "\n",
    "@jit\n",
    "def ns_for_TSmax_st_jit(S, B, Ns):\n",
    "    '''\n",
    "    Returns the value of $n_s$ for which\n",
    "    the TS is maximum for {i}^th grb\n",
    "    '''\n",
    "\n",
    "    #returns the TSmax for i^th GRB\n",
    "    nll = lambda x: -TS_st(x, S, B, Ns)\n",
    "    soln = minimize(nll, 3 , bounds = [(0, None)], tol=1e-12)\n",
    "    ns = np.round(soln.x, 6)[0]"
   ]
  },
  {
   "cell_type": "markdown",
   "metadata": {},
   "source": [
    "ns_for_TSmax_st_jit(all_sig[0][0], all_Bi[0], Ns)"
   ]
  },
  {
   "cell_type": "code",
   "execution_count": 40,
   "metadata": {},
   "outputs": [],
   "source": [
    "all_tsmax_nu_all_gamma = []\n",
    "def all_sig_single_gamma(i):\n",
    "    return all_sig[i]\n",
    "\n",
    "def TS_st_ns_for_TSmax_st_driver(i, j):\n",
    "    '''\n",
    "    Returns the TSmax value for ${i^{th}}$ neutrino\n",
    "    '''\n",
    "    return TS_st(ns_for_TSmax_st(all_sig[j][i], all_Bi[i], Ns), all_sig[j], all_Bi[i], Ns)\n",
    "#for i in prange(4):\n",
    "    #for j in prange(1000):\n",
    "        #all_tsmax_nu_all_gamma.append(max(alll))"
   ]
  },
  {
   "cell_type": "markdown",
   "metadata": {},
   "source": [
    "np.shape(all_tns_gamma)\n",
    "\n"
   ]
  },
  {
   "cell_type": "markdown",
   "metadata": {},
   "source": [
    "i = -1\n",
    "pool = mul.Pool(14, maxtasksperchild=100)\n",
    "op_async = pool.starmap_async(TS_st_ns_for_TSmax_st_driver, zip(range(lnu), [i]*lnu))\n",
    "tmp_ts = op_async.get()\n",
    "pool.close()\n",
    "pool = []\n",
    "op_async = []"
   ]
  },
  {
   "cell_type": "code",
   "execution_count": 41,
   "metadata": {},
   "outputs": [
    {
     "data": {
      "text/plain": [
       "0.00657984714923051"
      ]
     },
     "execution_count": 41,
     "metadata": {},
     "output_type": "execute_result"
    }
   ],
   "source": [
    "all_sig[0][9]"
   ]
  },
  {
   "cell_type": "code",
   "execution_count": 42,
   "metadata": {},
   "outputs": [
    {
     "data": {
      "text/plain": [
       "array([0.00657985, 0.00464862, 0.00303025, 0.0026413 ])"
      ]
     },
     "execution_count": 42,
     "metadata": {},
     "output_type": "execute_result"
    }
   ],
   "source": [
    "all_sig[:,9]"
   ]
  },
  {
   "cell_type": "markdown",
   "metadata": {},
   "source": [
    "@njit(fastmath=True, parallel=True)\n",
    "def TS(x, S, B, Ns):\n",
    "\n",
    "    '''Returns the Test Stastic value for the given value n_s = {x} and its parameters S, B, Ns    '''\n",
    "    \n",
    "    return 2*np.sum(np.log(Pr(x,  Ns, S, B)/B))\n",
    "\n",
    "def all_sig_single_gamma(i):\n",
    "    return all_sig[:,i]\n",
    "\n",
    "@njit(fastmath=True, parallel=True)\n",
    "def TS_driver(i):\n",
    "    '''\n",
    "    Returns the TSmax value for ${i^{th}}$ neutrino\n",
    "    '''\n",
    "    all_max = []\n",
    "    \n",
    "\n",
    "    for j in prange(4):    \n",
    "        single_sig = all_sig[j][i]\n",
    "        max = -np.inf\n",
    "        for x in prange(0, 100):\n",
    "            tmp = TS(x, single_sig, all_Bi, Ns)\n",
    "            if tmp > max and tmp >= -3:\n",
    "                max = tmp\n",
    "        all_max.append(max)\n",
    "    return np.asfarray(all_max)\n",
    "    #return TS(x, all_sig_single_gamma(i), all_Bi, Ns)\n",
    "    #return TS(ns_for_TSmax_st(all_sig_single_gamma(i), all_Bi, Ns), all_sig_single_gamma(i), all_Bi, Ns)\n"
   ]
  },
  {
   "cell_type": "code",
   "execution_count": 43,
   "metadata": {},
   "outputs": [
    {
     "data": {
      "text/plain": [
       "True"
      ]
     },
     "execution_count": 43,
     "metadata": {},
     "output_type": "execute_result"
    }
   ],
   "source": [
    "-np.inf <0"
   ]
  },
  {
   "cell_type": "code",
   "execution_count": 44,
   "metadata": {},
   "outputs": [
    {
     "name": "stderr",
     "output_type": "stream",
     "text": [
      "100%|██████████| 100000/100000 [00:00<00:00, 947334.38it/s]\n"
     ]
    },
    {
     "name": "stdout",
     "output_type": "stream",
     "text": [
      "(1, 100000)\n"
     ]
    },
    {
     "name": "stderr",
     "output_type": "stream",
     "text": [
      "100%|██████████| 100000/100000 [00:00<00:00, 956804.13it/s]\n"
     ]
    },
    {
     "name": "stdout",
     "output_type": "stream",
     "text": [
      "(2, 100000)\n"
     ]
    },
    {
     "name": "stderr",
     "output_type": "stream",
     "text": [
      "100%|██████████| 100000/100000 [00:00<00:00, 957608.03it/s]\n"
     ]
    },
    {
     "name": "stdout",
     "output_type": "stream",
     "text": [
      "(3, 100000)\n"
     ]
    },
    {
     "name": "stderr",
     "output_type": "stream",
     "text": [
      "100%|██████████| 100000/100000 [00:00<00:00, 957579.60it/s]\n"
     ]
    },
    {
     "name": "stdout",
     "output_type": "stream",
     "text": [
      "(4, 100000)\n"
     ]
    }
   ],
   "source": [
    "tmp_ts = []\n",
    "for i in range(4):\n",
    "    pool = mul.Pool(12, maxtasksperchild=100)\n",
    "    op_async = pool.starmap_async(TS_st_ns_for_TSmax_st_driver, zip(tqdm(range(100000)), [i]*100000))\n",
    "    tmp_ts = op_async.get()\n",
    "    pool.close()\n",
    "    pool = []\n",
    "    op_async = []\n",
    "    all_tsmax_nu_all_gamma.append(tmp_ts)\n",
    "    print(np.shape(all_tsmax_nu_all_gamma))\n",
    "    #os.system.clear()\n",
    "    #clear_output(wait=True)"
   ]
  },
  {
   "cell_type": "code",
   "execution_count": 45,
   "metadata": {},
   "outputs": [],
   "source": [
    "@njit(parallel=True, fastmath=True)\n",
    "def e2dnde_nu(nu, gamma):\n",
    "    gammalist = [-1, -2, -2.5, -3]\n",
    "    return (iceng[nu]**2)*(10**(iceng[nu]+9)/(1e14))**gammalist[gamma]"
   ]
  },
  {
   "cell_type": "code",
   "execution_count": 46,
   "metadata": {},
   "outputs": [
    {
     "name": "stderr",
     "output_type": "stream",
     "text": [
      "/home/darkwake/.local/lib/python3.10/site-packages/numba/core/typed_passes.py:329: NumbaPerformanceWarning: \u001b[1m\n",
      "The keyword argument 'parallel=True' was specified but no transformation for parallel execution was possible.\n",
      "\n",
      "To find out why, try turning on parallel diagnostics, see https://numba.readthedocs.io/en/stable/user/parallel.html#diagnostics for help.\n",
      "\u001b[1m\n",
      "File \"../../../../../tmp/ipykernel_12231/2681293921.py\", line 1:\u001b[0m\n",
      "\u001b[1m<source missing, REPL/exec in use?>\u001b[0m\n",
      "\u001b[0m\n",
      "  warnings.warn(errors.NumbaPerformanceWarning(msg,\n"
     ]
    },
    {
     "data": {
      "text/plain": [
       "1287229.5101673102"
      ]
     },
     "execution_count": 46,
     "metadata": {},
     "output_type": "execute_result"
    }
   ],
   "source": [
    "e2dnde_nu(0, -1)"
   ]
  },
  {
   "cell_type": "code",
   "execution_count": 47,
   "metadata": {},
   "outputs": [],
   "source": [
    "first10000 = []\n",
    "for i in prange(4):\n",
    "    temp = []\n",
    "    for j in prange(100000):\n",
    "        temp.append(e2dnde_nu(j, i))\n",
    "    first10000.append(temp)"
   ]
  },
  {
   "cell_type": "code",
   "execution_count": 48,
   "metadata": {},
   "outputs": [
    {
     "data": {
      "image/png": "[encoded data removed]",
      "text/plain": [
       "<Figure size 720x432 with 1 Axes>"
      ]
     },
     "metadata": {
      "needs_background": "light"
     },
     "output_type": "display_data"
    }
   ],
   "source": [
    "font = {'family': 'serif',\n",
    "        'color':  'black',\n",
    "        'weight': 'bold',\n",
    "        'size': 22,\n",
    "        }\n",
    "plt.figure(figsize=(10,6))\n",
    "for i in range(4):\n",
    "    #plt.scatter(all_tsmax_nu_all_gamma[i], first10000[i])\n",
    "    plt.scatter( 10 ** (iceng[0:100000]), first10000[i], label = ['\\u0393 =  -1', '\\u0393 =  -2', '\\u0393 =  -2.5', '\\u0393 =  -3'][i], s = 0.4, alpha=0.6)\n",
    "\n",
    "plt.xscale('log')\n",
    "plt.yscale('log')\n",
    "plt.xlabel('$E_{\\u03BD}$ (GeV)', fontdict=font)\n",
    "plt.ylabel('$E_{\\u03BD}^{2} \\dfrac{dN}{dE_{\\u03BD}}$ (GeV/cm2/s/sr)', fontdict=font)\n",
    "plt.legend()\n",
    "plt.title(\"$E^{2} \\dfrac{dN}{dE_{\\u03BD}}$ vs $E_{\\u03BD}$\", fontdict=font)\n",
    "plt.savefig('outputs/stacking analysis/E2dNdE_nu-vs-E_nu.jpg')\n",
    "plt.show()"
   ]
  },
  {
   "cell_type": "code",
   "execution_count": 60,
   "metadata": {},
   "outputs": [
    {
     "data": {
      "image/png": "[encoded data removed]",
      "text/plain": [
       "<Figure size 1152x648 with 1 Axes>"
      ]
     },
     "metadata": {
      "needs_background": "light"
     },
     "output_type": "display_data"
    }
   ],
   "source": [
    "plt.figure(figsize=(16,9))\n",
    "for i in range(4):\n",
    "    plt.scatter(first10000[i], all_tsmax_nu_all_gamma[i],   label = ['\\u0393 =  -1', '\\u0393 =  -2', '\\u0393 =  -2.5', '\\u0393 =  -3'][i], s = .71)\n",
    "    \n",
    "plt.xscale('log')\n",
    "#plt.yscale('log')\n",
    "plt.ylabel('$TS_{max}$', fontdict=font)\n",
    "plt.xlabel('$E^{2} \\dfrac{dN}{dE_{\\u03BD}}$', fontdict=font)\n",
    "plt.legend()\n",
    "plt.title(\"$TS_{max}$ vs $E^{2} \\dfrac{dN}{dE_{\\u03BD}}$\", fontdict=font)\n",
    "plt.savefig('outputs/stacking analysis/TSmax-vs-E2dNdE_nu.jpg')\n",
    "plt.show()"
   ]
  },
  {
   "cell_type": "code",
   "execution_count": 50,
   "metadata": {},
   "outputs": [
    {
     "data": {
      "text/html": [
       "<div>\n",
       "<style scoped>\n",
       "    .dataframe tbody tr th:only-of-type {\n",
       "        vertical-align: middle;\n",
       "    }\n",
       "\n",
       "    .dataframe tbody tr th {\n",
       "        vertical-align: top;\n",
       "    }\n",
       "\n",
       "    .dataframe thead th {\n",
       "        text-align: right;\n",
       "    }\n",
       "</style>\n",
       "<table border=\"1\" class=\"dataframe\">\n",
       "  <thead>\n",
       "    <tr style=\"text-align: right;\">\n",
       "      <th></th>\n",
       "      <th>MJD[days]</th>\n",
       "      <th>log10(E/GeV)</th>\n",
       "      <th>AngErr[deg]</th>\n",
       "      <th>RA[deg]</th>\n",
       "      <th>Dec[deg]</th>\n",
       "      <th>Azimuth[deg]</th>\n",
       "      <th>Zenith[deg]</th>\n",
       "    </tr>\n",
       "  </thead>\n",
       "  <tbody>\n",
       "    <tr>\n",
       "      <th>0</th>\n",
       "      <td>54562.379113</td>\n",
       "      <td>3.31</td>\n",
       "      <td>0.48</td>\n",
       "      <td>203.024</td>\n",
       "      <td>16.760</td>\n",
       "      <td>218.374</td>\n",
       "      <td>106.712</td>\n",
       "    </tr>\n",
       "    <tr>\n",
       "      <th>1</th>\n",
       "      <td>54562.386622</td>\n",
       "      <td>5.17</td>\n",
       "      <td>0.62</td>\n",
       "      <td>75.024</td>\n",
       "      <td>-13.371</td>\n",
       "      <td>349.100</td>\n",
       "      <td>76.646</td>\n",
       "    </tr>\n",
       "    <tr>\n",
       "      <th>2</th>\n",
       "      <td>54562.387892</td>\n",
       "      <td>3.92</td>\n",
       "      <td>0.56</td>\n",
       "      <td>97.501</td>\n",
       "      <td>11.290</td>\n",
       "      <td>327.060</td>\n",
       "      <td>101.291</td>\n",
       "    </tr>\n",
       "    <tr>\n",
       "      <th>3</th>\n",
       "      <td>54562.392677</td>\n",
       "      <td>5.57</td>\n",
       "      <td>1.13</td>\n",
       "      <td>305.857</td>\n",
       "      <td>-33.932</td>\n",
       "      <td>120.413</td>\n",
       "      <td>56.090</td>\n",
       "    </tr>\n",
       "    <tr>\n",
       "      <th>4</th>\n",
       "      <td>54562.404776</td>\n",
       "      <td>5.80</td>\n",
       "      <td>1.11</td>\n",
       "      <td>143.516</td>\n",
       "      <td>-38.279</td>\n",
       "      <td>287.171</td>\n",
       "      <td>51.684</td>\n",
       "    </tr>\n",
       "    <tr>\n",
       "      <th>...</th>\n",
       "      <td>...</td>\n",
       "      <td>...</td>\n",
       "      <td>...</td>\n",
       "      <td>...</td>\n",
       "      <td>...</td>\n",
       "      <td>...</td>\n",
       "      <td>...</td>\n",
       "    </tr>\n",
       "    <tr>\n",
       "      <th>1134445</th>\n",
       "      <td>58307.961110</td>\n",
       "      <td>5.14</td>\n",
       "      <td>0.20</td>\n",
       "      <td>221.246</td>\n",
       "      <td>-59.959</td>\n",
       "      <td>141.239</td>\n",
       "      <td>29.956</td>\n",
       "    </tr>\n",
       "    <tr>\n",
       "      <th>1134446</th>\n",
       "      <td>58307.962666</td>\n",
       "      <td>2.94</td>\n",
       "      <td>1.23</td>\n",
       "      <td>191.547</td>\n",
       "      <td>4.415</td>\n",
       "      <td>171.627</td>\n",
       "      <td>94.312</td>\n",
       "    </tr>\n",
       "    <tr>\n",
       "      <th>1134447</th>\n",
       "      <td>58307.963556</td>\n",
       "      <td>2.88</td>\n",
       "      <td>0.30</td>\n",
       "      <td>308.127</td>\n",
       "      <td>42.543</td>\n",
       "      <td>55.437</td>\n",
       "      <td>132.606</td>\n",
       "    </tr>\n",
       "    <tr>\n",
       "      <th>1134448</th>\n",
       "      <td>58307.963972</td>\n",
       "      <td>2.98</td>\n",
       "      <td>0.21</td>\n",
       "      <td>332.199</td>\n",
       "      <td>44.720</td>\n",
       "      <td>31.489</td>\n",
       "      <td>134.811</td>\n",
       "    </tr>\n",
       "    <tr>\n",
       "      <th>1134449</th>\n",
       "      <td>58307.972603</td>\n",
       "      <td>3.28</td>\n",
       "      <td>0.25</td>\n",
       "      <td>213.309</td>\n",
       "      <td>4.708</td>\n",
       "      <td>153.453</td>\n",
       "      <td>94.619</td>\n",
       "    </tr>\n",
       "  </tbody>\n",
       "</table>\n",
       "<p>1134450 rows × 7 columns</p>\n",
       "</div>"
      ],
      "text/plain": [
       "            MJD[days]  log10(E/GeV)  AngErr[deg]  RA[deg]  Dec[deg]  \\\n",
       "0        54562.379113          3.31         0.48  203.024    16.760   \n",
       "1        54562.386622          5.17         0.62   75.024   -13.371   \n",
       "2        54562.387892          3.92         0.56   97.501    11.290   \n",
       "3        54562.392677          5.57         1.13  305.857   -33.932   \n",
       "4        54562.404776          5.80         1.11  143.516   -38.279   \n",
       "...               ...           ...          ...      ...       ...   \n",
       "1134445  58307.961110          5.14         0.20  221.246   -59.959   \n",
       "1134446  58307.962666          2.94         1.23  191.547     4.415   \n",
       "1134447  58307.963556          2.88         0.30  308.127    42.543   \n",
       "1134448  58307.963972          2.98         0.21  332.199    44.720   \n",
       "1134449  58307.972603          3.28         0.25  213.309     4.708   \n",
       "\n",
       "         Azimuth[deg]  Zenith[deg]  \n",
       "0             218.374      106.712  \n",
       "1             349.100       76.646  \n",
       "2             327.060      101.291  \n",
       "3             120.413       56.090  \n",
       "4             287.171       51.684  \n",
       "...               ...          ...  \n",
       "1134445       141.239       29.956  \n",
       "1134446       171.627       94.312  \n",
       "1134447        55.437      132.606  \n",
       "1134448        31.489      134.811  \n",
       "1134449       153.453       94.619  \n",
       "\n",
       "[1134450 rows x 7 columns]"
      ]
     },
     "execution_count": 50,
     "metadata": {},
     "output_type": "execute_result"
    }
   ],
   "source": [
    "icdata"
   ]
  },
  {
   "cell_type": "code",
   "execution_count": null,
   "metadata": {},
   "outputs": [],
   "source": []
  }
 ],
 "metadata": {
  "kernelspec": {
   "display_name": "Python 3",
   "language": "python",
   "name": "python3"
  },
  "language_info": {
   "codemirror_mode": {
    "name": "ipython",
    "version": 3
   },
   "file_extension": ".py",
   "mimetype": "text/x-python",
   "name": "python",
   "nbconvert_exporter": "python",
   "pygments_lexer": "ipython3",
   "version": "3.10.6"
  },
  "orig_nbformat": 4,
  "vscode": {
   "interpreter": {
    "hash": "916dbcbb3f70747c44a77c7bcd40155683ae19c65e1c03b4aa3499c5328201f1"
   }
  }
 },
 "nbformat": 4,
 "nbformat_minor": 2
}
