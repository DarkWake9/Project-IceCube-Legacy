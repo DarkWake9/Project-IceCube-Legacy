{
 "cells": [
  {
   "cell_type": "code",
   "execution_count": 2,
   "metadata": {},
   "outputs": [],
   "source": [
    "import numpy as np\n",
    "import pandas as pd\n",
    "import os\n",
    "import multiprocessing as mul\n",
    "from multiprocessing import Process\n",
    "import matplotlib.pyplot as plt\n",
    "#import seaborn as sns\n",
    "import itertools as itrt\n",
    "from scipy.optimize import minimize\n",
    "from scipy.optimize import curve_fit\n",
    "from IPython.display import clear_output\n",
    "from itertools import repeat\n",
    "from functools import partial\n",
    "from scipy.stats import chi2\n",
    "from scipy.stats import norm\n",
    "from scipy import integrate\n",
    "from scipy.stats import gaussian_kde\n",
    "import scipy.stats as sct\n",
    "from astropy.coordinates import SkyCoord as scr\n",
    "from astropy import units as u\n",
    "from time import sleep\n",
    "from numba import jit, njit, prange\n",
    "from tqdm import tqdm"
   ]
  },
  {
   "cell_type": "markdown",
   "metadata": {},
   "source": [
    "#### ALL SIGNAL AND BGND PDFS HAVE BEEN WRITTEN TO .TXT FILES"
   ]
  },
  {
   "cell_type": "code",
   "execution_count": 3,
   "metadata": {},
   "outputs": [
    {
     "name": "stdout",
     "output_type": "stream",
     "text": [
      "read icdata\n",
      "IC40_exp.csv read\n",
      "IC59_exp.csv read\n",
      "IC79_exp.csv read\n",
      "IC86_I_exp.csv read\n",
      "IC86_II_exp.csv read\n",
      "IC86_III_exp.csv read\n",
      "IC86_IV_exp.csv read\n",
      "IC86_V_exp.csv read\n",
      "IC86_VI_exp.csv read\n",
      "IC86_VII_exp.csv read\n",
      "IC40_effectiveArea.csv read\n",
      "IC59_effectiveArea.csv read\n",
      "IC79_effectiveArea.csv read\n",
      "IC86_I_effectiveArea.csv read\n",
      "IC86_II_effectiveArea.csv read\n"
     ]
    }
   ],
   "source": [
    "####\n",
    "#### IMPORTING AND SPLITTING ICDATA $$$\n",
    "\n",
    "\n",
    "path = \"/media/darkwake/VIB2/Project-IceCube/icecube_10year_ps/events\"\n",
    "t_eff_path = \"/media/darkwake/VIB2/Project-IceCube/icecube_10year_ps/uptime\"\n",
    "irf_path = \"/media/darkwake/VIB2/Project-IceCube/icecube_10year_ps/irfs\"\n",
    "filenames = [\"IC40_exp.csv\", \"IC59_exp.csv\",\"IC79_exp.csv\", \"IC86_I_exp.csv\", \"IC86_II_exp.csv\",\n",
    "\"IC86_III_exp.csv\", \"IC86_IV_exp.csv\", \"IC86_V_exp.csv\", \"IC86_VI_exp.csv\", \"IC86_VII_exp.csv\"]\n",
    "file = filenames[0]\n",
    "f = open(os.path.join(path, file), 'r')\n",
    "lines = f.readlines()\n",
    "column=lines[0].split()\n",
    "column.pop(0)\n",
    "content = []\n",
    "for file in filenames:\n",
    "    f = open(os.path.join(path, file), 'r')\n",
    "    lines = f.readlines()\n",
    "    #print(len(lines) - 1)\n",
    "    for line in lines[1:]:\n",
    "        content.append(line.split())\n",
    "    f.close()\n",
    "icdata = pd.DataFrame(content, columns=column, dtype=float)#.convert_dtypes(infer_objects=True,convert_integer=True,convert_floating=True)\n",
    "icdata['log10(E/GeV)'] = [float(i) for i in icdata['log10(E/GeV)']]\n",
    "icdata['MJD[days]'] = [float(i) for i in icdata['MJD[days]']]\n",
    "\n",
    "print(\"read icdata\")\n",
    "f.close()\n",
    "\n",
    "\n",
    "\n",
    "#Importing UPtime data\n",
    "file = filenames[0]\n",
    "f = open(os.path.join(t_eff_path, file), 'r')\n",
    "lines = f.readlines()\n",
    "column=lines[0].split()\n",
    "column.pop(0)\n",
    "uptdata = []\n",
    "for file in filenames:\n",
    "    content = []\n",
    "    f = open(os.path.join(t_eff_path, file), 'r')\n",
    "    lines = f.readlines()\n",
    "    for line in lines[1:]:\n",
    "        content.append(line.split())\n",
    "    f.close()\n",
    "    temp = pd.DataFrame(content, columns=column)\n",
    "    temp['MJD_start[days]'] = [float(i) for i in temp['MJD_start[days]']]\n",
    "    temp['MJD_stop[days]'] = [float(i) for i in temp['MJD_stop[days]']]\n",
    "    uptdata.append(temp)\n",
    "    temp = []\n",
    "    content = []\n",
    "    print(file + \" read\")\n",
    "f.close()\n",
    "\n",
    "\n",
    "#Importing Aeff data\n",
    "filenames = [\"IC40_effectiveArea.csv\", \"IC59_effectiveArea.csv\",\"IC79_effectiveArea.csv\", \"IC86_I_effectiveArea.csv\", \"IC86_II_effectiveArea.csv\"]\n",
    "file = filenames[0]\n",
    "f = open(os.path.join(irf_path, file), 'r')\n",
    "lines = f.readlines()\n",
    "column=lines[0].split()\n",
    "column.pop(0)\n",
    "eadata = []\n",
    "for file in filenames:\n",
    "    content = []\n",
    "    f = open(os.path.join(irf_path, file), 'r')\n",
    "    lines = f.readlines()\n",
    "    for line in lines[1:]:\n",
    "        content.append(line.split())\n",
    "    f.close()\n",
    "    temp = pd.DataFrame(content, columns=column, dtype=float)\n",
    "    #temp['MJD_start[days]'] = [float(i) for i in temp['MJD_start[days]']]\n",
    "    #temp['MJD_stop[days]'] = [float(i) for i in temp['MJD_stop[days]']]\n",
    "    eadata.append(temp)\n",
    "    temp = []\n",
    "    content = []\n",
    "    print(file + \" read\")\n",
    "f.close()"
   ]
  },
  {
   "cell_type": "code",
   "execution_count": 4,
   "metadata": {},
   "outputs": [
    {
     "name": "stdout",
     "output_type": "stream",
     "text": [
      "[15, 39]\n"
     ]
    }
   ],
   "source": [
    "icwidths = [int(i) for i in \"0 36900 107011 93133 136244 112858 122541 127045 129311 123657 145750\".split(' ')]\n",
    "ictimes = [float(i) for i in icdata['MJD[days]']]\n",
    "icparts = [np.sum(icwidths[:i]) for i in range(1,len(icwidths)+1)]  #paritions of icdata for each season (IC40, IC59, IC79, IC86_I, IC86_II)\n",
    "#icparts.pop(-1)\n",
    "#icparts\n",
    "upt_icparts = icparts[:5]\n",
    "upt_icparts.append(icparts[-1])\n",
    "#len(upt_icparts) - 1 == len(eadata)\n",
    "\n",
    "log_e = np.round(np.arange(2, 10.2, 0.2), 2) #log10(E/GeV) values range as in all 'effectiveArea' files\n",
    "\n",
    "#dec_nu = mid point of Dec_nu_min and Dec_nu_max as in all 'effectiveArea' files\n",
    "dec_nu = list(set(eadata[0]['Dec_nu_min[deg]'].values).union(set(eadata[0]['Dec_nu_max[deg]'].values)))\n",
    "\n",
    "dec_nu.sort()\n",
    "dec_nu = np.asarray(dec_nu)\n",
    "\n",
    "e_nu = ((10**(log_e[:-1])+ 10**(log_e[1:]))/2)*1e9\n",
    "#de_nu = 1e9**0.2\n",
    "de_nu = 1e9*(10**log_e[1:] - 10**log_e[:-1])\n",
    "#Test case for e_ind\n",
    "nu_e = 5\n",
    "e_ind = 0\n",
    "for i in range(len(log_e) - 1):\n",
    "    if nu_e >= log_e[i] and nu_e < log_e[i+1]:\n",
    "        e_ind = i\n",
    "print([e_ind, i])"
   ]
  },
  {
   "cell_type": "markdown",
   "metadata": {},
   "source": [
    "Importing ATNF Pulsar data"
   ]
  },
  {
   "cell_type": "code",
   "execution_count": 5,
   "metadata": {},
   "outputs": [
    {
     "data": {
      "text/html": [
       "<div>\n",
       "<style scoped>\n",
       "    .dataframe tbody tr th:only-of-type {\n",
       "        vertical-align: middle;\n",
       "    }\n",
       "\n",
       "    .dataframe tbody tr th {\n",
       "        vertical-align: top;\n",
       "    }\n",
       "\n",
       "    .dataframe thead th {\n",
       "        text-align: right;\n",
       "    }\n",
       "</style>\n",
       "<table border=\"1\" class=\"dataframe\">\n",
       "  <thead>\n",
       "    <tr style=\"text-align: right;\">\n",
       "      <th></th>\n",
       "      <th>NAME</th>\n",
       "      <th>RAJD</th>\n",
       "      <th>DECJD</th>\n",
       "    </tr>\n",
       "  </thead>\n",
       "  <tbody>\n",
       "    <tr>\n",
       "      <th>0</th>\n",
       "      <td>J0002+6216</td>\n",
       "      <td>0.74238</td>\n",
       "      <td>62.26928</td>\n",
       "    </tr>\n",
       "    <tr>\n",
       "      <th>1</th>\n",
       "      <td>J0006+1834</td>\n",
       "      <td>1.52</td>\n",
       "      <td>18.5831</td>\n",
       "    </tr>\n",
       "    <tr>\n",
       "      <th>2</th>\n",
       "      <td>J0007+7303</td>\n",
       "      <td>1.7571</td>\n",
       "      <td>73.0521</td>\n",
       "    </tr>\n",
       "    <tr>\n",
       "      <th>3</th>\n",
       "      <td>J0011+08</td>\n",
       "      <td>2.9</td>\n",
       "      <td>8.17</td>\n",
       "    </tr>\n",
       "    <tr>\n",
       "      <th>4</th>\n",
       "      <td>B0011+47</td>\n",
       "      <td>3.57396</td>\n",
       "      <td>47.77594</td>\n",
       "    </tr>\n",
       "    <tr>\n",
       "      <th>...</th>\n",
       "      <td>...</td>\n",
       "      <td>...</td>\n",
       "      <td>...</td>\n",
       "    </tr>\n",
       "    <tr>\n",
       "      <th>3336</th>\n",
       "      <td>J2351+8533</td>\n",
       "      <td>357.764</td>\n",
       "      <td>85.55573</td>\n",
       "    </tr>\n",
       "    <tr>\n",
       "      <th>3337</th>\n",
       "      <td>J2352+65</td>\n",
       "      <td>358</td>\n",
       "      <td>65</td>\n",
       "    </tr>\n",
       "    <tr>\n",
       "      <th>3338</th>\n",
       "      <td>J2354-22</td>\n",
       "      <td>358.60833</td>\n",
       "      <td>-22.86472</td>\n",
       "    </tr>\n",
       "    <tr>\n",
       "      <th>3339</th>\n",
       "      <td>B2351+61</td>\n",
       "      <td>358.5199292</td>\n",
       "      <td>61.9296792</td>\n",
       "    </tr>\n",
       "    <tr>\n",
       "      <th>3340</th>\n",
       "      <td>J2355+2246</td>\n",
       "      <td>358.9575</td>\n",
       "      <td>22.771</td>\n",
       "    </tr>\n",
       "  </tbody>\n",
       "</table>\n",
       "<p>3341 rows × 3 columns</p>\n",
       "</div>"
      ],
      "text/plain": [
       "            NAME         RAJD       DECJD\n",
       "0     J0002+6216      0.74238    62.26928\n",
       "1     J0006+1834         1.52     18.5831\n",
       "2     J0007+7303       1.7571     73.0521\n",
       "3       J0011+08          2.9        8.17\n",
       "4       B0011+47      3.57396    47.77594\n",
       "...          ...          ...         ...\n",
       "3336  J2351+8533      357.764    85.55573\n",
       "3337    J2352+65          358          65\n",
       "3338    J2354-22    358.60833   -22.86472\n",
       "3339    B2351+61  358.5199292  61.9296792\n",
       "3340  J2355+2246     358.9575      22.771\n",
       "\n",
       "[3341 rows x 3 columns]"
      ]
     },
     "execution_count": 5,
     "metadata": {},
     "output_type": "execute_result"
    }
   ],
   "source": [
    "#IMPORTING MSPDATA\n",
    "f = open(\"/media/darkwake/VIB2/Project-IceCube/allpsr1.68.txt\", 'r')\n",
    "lines = f.readlines()\n",
    "content=[]\n",
    "column=lines.pop(0).replace('x', '').replace('#', '').split()\n",
    "for line in lines[:]:\n",
    "    content.append(line.split())\n",
    "    #the INITAL DATABASE IS CLUTTERED SO WE REMOVE THE NULL COLUMNS AND OTHER CLUTTER\n",
    "f.close()\n",
    "mspdata = pd.DataFrame(content).drop(0, axis=1)#.dropna()#.drop_duplicates()#.drop(range(0,6)).dropna()\n",
    "\n",
    "line = []\n",
    "lines = []\n",
    "mspdata.columns = column\n",
    "column = []\n",
    "content=[]\n",
    "#mspdata = mspdata.sort_values('DECJD')\n",
    "mspdata.dropna(inplace=True)\n",
    "#mspdata = mspdata.reset_index()\n",
    "#mspdata = mspdata.drop(\"index\", axis=1)\n",
    "mspdata"
   ]
  },
  {
   "cell_type": "markdown",
   "metadata": {},
   "source": [
    "#### Vectorizing important & frequently used values\n",
    "\n",
    "#### msra/dec store the ra/dec values of the pulsars\n",
    "\n",
    "#### icra/dec store the ra/dec values of the neutrino events\n",
    "\n",
    "#### icang stores the angular uncertainity\n",
    "\n",
    "#### iceng stores the log(energy/GeV) of the neutrino events"
   ]
  },
  {
   "cell_type": "code",
   "execution_count": 6,
   "metadata": {},
   "outputs": [
    {
     "data": {
      "text/plain": [
       "[-89.957, 89.977]"
      ]
     },
     "execution_count": 6,
     "metadata": {},
     "output_type": "execute_result"
    }
   ],
   "source": [
    "msra = np.array([float(i) for i in mspdata['RAJD'].values])\n",
    "msdec = np.array([float(i) for i in mspdata['DECJD'].values])\n",
    "icra = np.array([float(i) for i in icdata['RA[deg]']])\n",
    "icdec = np.array([float(i) for i in icdata['Dec[deg]']])\n",
    "icang = np.array([float(i) for i in icdata['AngErr[deg]']])\n",
    "iceng = np.array([float(i) for i in icdata['log10(E/GeV)']])\n",
    "global p, lg, lnu\n",
    "p = len(msra)\n",
    "lg = len(icra) // p + 1\n",
    "lnu = len(icra)\n",
    "[min(icdec), max(icdec)]"
   ]
  },
  {
   "cell_type": "code",
   "execution_count": 7,
   "metadata": {},
   "outputs": [],
   "source": [
    "upstop_ttt = np.asfarray([uptdata[i]['MJD_stop[days]'].values[-1] for i in range(len(uptdata))])\n",
    "upstart_ttt = np.asfarray([uptdata[i]['MJD_start[days]'].values[0] for i in range(len(uptdata))])\n",
    "earea = np.array([eadata[i]['A_Eff[cm^2]'].values for i in range(len(eadata))])# * 1e-4\n",
    "vec_uptparts = np.asarray(upt_icparts, dtype=np.int64)\n",
    "upt_icparts = np.asarray(upt_icparts)\n",
    "t_upt = np.asarray([upstop_ttt[season] - upstart_ttt[season] for season in range(len(upstart_ttt))])*86400"
   ]
  },
  {
   "cell_type": "code",
   "execution_count": 8,
   "metadata": {},
   "outputs": [],
   "source": [
    "@jit(nopython=True, fastmath=True)\n",
    "def Pr(x, Ns, S, B):\n",
    "\n",
    "    '''\n",
    "    Parameters\n",
    "    ----------\n",
    "    x : int\n",
    "        Assumed no.of associated events\n",
    "\n",
    "    Ns : int\n",
    "        No.of neutrinos used for analysis\n",
    "\n",
    "    S : float\n",
    "        Signal PDF\n",
    "    B : float\n",
    "        Background PDF\n",
    "    \n",
    "    Returns\n",
    "    -------\n",
    "    float \n",
    "        Returns the probability of the selected set of neutrinos being associated\\n\n",
    "        with a given pulsar with {Ns} neutrinos, {S} signal and {B} background PDF and {x} assumed associated events\n",
    "    '''\n",
    "\n",
    "    nsN = x/Ns\n",
    "    return np.add(np.multiply(nsN , S), np.multiply(np.subtract(1, nsN), B))\n",
    "\n",
    "\n",
    "@jit(nopython=True, fastmath=True)\n",
    "def wall_nu(nu):\n",
    "    \n",
    "        '''\n",
    "        Parameters\n",
    "        ----------\n",
    "        nu : int\n",
    "            Index of the neutrino from IceCube sample\n",
    "        \n",
    "    \n",
    "        Returns\n",
    "        -------\n",
    "        int\n",
    "            Returns the index of the wall in which the {nu}th neutrino lies\n",
    "        '''\n",
    "        wall = 0\n",
    "        for i in range(len(vec_uptparts)-1):\n",
    "            if vec_uptparts[i] <= nu and vec_uptparts[i+1] > nu:\n",
    "                wall = i\n",
    "                break        \n",
    "        return wall\n",
    "\n",
    "\n",
    "@njit(fastmath=True)\n",
    "def TS_st(x, S, B, Ns):\n",
    "\n",
    "    ''' \n",
    "    Returns\n",
    "    ----------\n",
    "        Returns the Test Stastic value at\n",
    "        $n_s$ = {x} for its parameters S, B, Ns\n",
    "    '''\n",
    "    # if x >=0:\n",
    "    #     return np.sum(np.asfarray(2*np.log(Pr(x,  Ns, S, B)/B)))\n",
    "    # else:\n",
    "    #     return -1\n",
    "    return np.sum(np.asfarray(2*np.log(Pr(x,  Ns, S, B)/B)))\n",
    "\n",
    "\n",
    "Ns = lnu#np.count_nonzero(nuind+1)\n",
    "@njit(parallel=True, fastmath=True)\n",
    "def Ts_arr(x, S_all, B_all, Ns):\n",
    "    '''\n",
    "    Parameters\n",
    "    ----------\n",
    "    x : float\n",
    "        The value of x for which the TS is to be calculated\n",
    "\n",
    "    S_all : array\n",
    "        The array of signal PDFs for all the neutrinos\n",
    "\n",
    "    B_all : array\n",
    "        The array of background PDFs for all the neutrinos\n",
    "    \n",
    "    Ns : int\n",
    "        The number of neutrinos\n",
    "\n",
    "    Returns\n",
    "    -------\n",
    "    float\n",
    "        The TS value for the entire stack of neutrinos for the given value of x\n",
    "    \n",
    "    '''\n",
    "\n",
    "\n",
    "    #Ts_arr = lambda x:\n",
    "    sum = 0.0\n",
    "    for i in range(lnu):\n",
    "        sum += TS_st(x, S_all[i], B_all[i], Ns)\n",
    "    return sum\n",
    "\n",
    "@njit(fastmath=True)\n",
    "def Ts_arr2(x, S_all, B_all, Ns):\n",
    "    '''\n",
    "    Parameters\n",
    "    ----------\n",
    "    x : float\n",
    "        The value of x for which the TS is to be calculated\n",
    "\n",
    "    S_all : array\n",
    "        The array of signal PDFs for all the neutrinos\n",
    "\n",
    "    B_all : array\n",
    "        The array of background PDFs for all the neutrinos\n",
    "    \n",
    "    Ns : int\n",
    "        The number of neutrinos\n",
    "\n",
    "    Returns\n",
    "    -------\n",
    "    float\n",
    "        The TS value for the entire stack of neutrinos for the given value of x\n",
    "    \n",
    "    '''\n",
    "\n",
    "\n",
    "    #Ts_arr = lambda x:\n",
    "    sum = 0.0\n",
    "    for i in prange(lnu):\n",
    "        sum += TS_st(x, S_all[i], B_all[i], Ns)\n",
    "    return sum\n",
    "\n"
   ]
  },
  {
   "cell_type": "code",
   "execution_count": 9,
   "metadata": {},
   "outputs": [],
   "source": [
    "sigfilepath = \"/media/darkwake/VIB2/Project-IceCube/task4/outputs/\"\n",
    "bgfilepath = \"/media/darkwake/VIB2/Project-IceCube/task4/outputs/all_Bi.txt\"\n",
    "\n",
    "gamma_arr = [-1, -2, -2.5, -3]\n",
    "all_sig = []\n",
    "for i in range(4):\n",
    "    all_sig.append(np.loadtxt(sigfilepath + \"sigbag_nu\" + str(gamma_arr[i]) + \".txt\"))\n",
    "\n",
    "all_sig = np.asfarray(all_sig)\n",
    "all_bg = np.loadtxt(bgfilepath)\n",
    "all_bg = np.asfarray(all_bg)"
   ]
  },
  {
   "cell_type": "markdown",
   "metadata": {},
   "source": [
    "![SNOWFALL](stnu.png)"
   ]
  },
  {
   "cell_type": "markdown",
   "metadata": {},
   "source": [
    "$\\hat{n}_s = 2\\pi \\sum_k t_k \\sum_j \\dfrac{sin(\\delta_{j+1}) - sin(\\delta_j)}{\\delta_{j+1} - \\delta_j}\\sum_{\\nu} A_{eff}^k (E_\\nu, \\delta_j) \\dfrac{dF}{dE_\\nu}$"
   ]
  },
  {
   "cell_type": "markdown",
   "metadata": {},
   "source": [
    "$\\dfrac{dF}{dE} = \\phi_0 \\{\\dfrac{E_{\\nu}}{100 TeV}\\}^\\Gamma$"
   ]
  },
  {
   "cell_type": "code",
   "execution_count": 10,
   "metadata": {},
   "outputs": [],
   "source": [
    "@njit(fastmath=True)\n",
    "def dfde(e_nu, gamma, phi0 = 1e-40):\n",
    "    '''\n",
    "    Parameters\n",
    "    ----------\n",
    "    e_nu : float\n",
    "        The neutrino energy in eV\n",
    "    \n",
    "    gamma : float\n",
    "        The spectral index of the neutrino flux\n",
    "    \n",
    "    phi0 : float (optional)\n",
    "        The normalization constant of the neutrino flux\n",
    "    \n",
    "    Returns\n",
    "    -------\n",
    "    float\n",
    "        The differential flux of neutrinos\n",
    "    '''\n",
    "\n",
    "    return phi0 * ((e_nu/(10**14))**gamma)\n",
    "\n",
    "@njit(parallel=True, fastmath=True)\n",
    "def dfde_p(e_nu, gamma, phi0 = 1.0):\n",
    "    '''\n",
    "    Parameters\n",
    "    ----------\n",
    "    e_nu : float\n",
    "        The neutrino energy in eV\n",
    "    \n",
    "    gamma : float\n",
    "        The spectral index of the neutrino flux\n",
    "    \n",
    "    phi0 : float (optional)\n",
    "        The normalization constant of the neutrino flux\n",
    "    \n",
    "    Returns\n",
    "    -------\n",
    "    float\n",
    "        The differential flux of neutrinos\n",
    "    '''\n",
    "\n",
    "    return phi0 * ((e_nu/(10**14))**gamma)"
   ]
  },
  {
   "cell_type": "markdown",
   "metadata": {},
   "source": [
    "## THIS IS THE CORRECT WAY!!!!!!!"
   ]
  },
  {
   "cell_type": "code",
   "execution_count": 11,
   "metadata": {},
   "outputs": [
    {
     "data": {
      "text/plain": [
       "10"
      ]
     },
     "execution_count": 11,
     "metadata": {},
     "output_type": "execute_result"
    }
   ],
   "source": [
    "len(t_upt)"
   ]
  },
  {
   "cell_type": "code",
   "execution_count": 12,
   "metadata": {},
   "outputs": [],
   "source": [
    "@njit(fastmath=True)\n",
    "def upt_season(nu):\n",
    "    for i in range(len(upt_icparts)):\n",
    "        if upt_icparts[i] > nu:\n",
    "            return ea_season(i-1)\n",
    "    return -1\n",
    "\n",
    "        \n",
    "@njit(fastmath=True)\n",
    "def ea_season(season):\n",
    "    if season == 0:\n",
    "        return 0\n",
    "    elif season == 1:\n",
    "        return 1\n",
    "    elif season == 2:\n",
    "        return 2\n",
    "    elif season == 3:\n",
    "        return 3\n",
    "    elif season >= 4 and season <= 10:\n",
    "        return 4\n",
    "    else:\n",
    "        return -1"
   ]
  },
  {
   "cell_type": "code",
   "execution_count": 13,
   "metadata": {},
   "outputs": [],
   "source": [
    "@njit(fastmath=True)\n",
    "def earea_r(season, i, j):\n",
    "    se =  np.int32(ea_season(season))\n",
    "    return earea[se][i + 40*j]"
   ]
  },
  {
   "attachments": {},
   "cell_type": "markdown",
   "metadata": {},
   "source": [
    "$n_s = T \\int A_{eff} \\phi(E, \\gamma) dE$"
   ]
  },
  {
   "cell_type": "code",
   "execution_count": 14,
   "metadata": {},
   "outputs": [
    {
     "name": "stdout",
     "output_type": "stream",
     "text": [
      "[35318439.34329611 32497618.3151043  29902901.99932829 31745765.00015999\n",
      " 32053797.00057632 33098838.99984006 34788962.99980783 33936928.00012794\n",
      " 31302372.99945645 36107635.00003202]\n"
     ]
    }
   ],
   "source": [
    "print(t_upt)"
   ]
  },
  {
   "cell_type": "code",
   "execution_count": 15,
   "metadata": {},
   "outputs": [],
   "source": [
    "@njit(fastmath=True)\n",
    "def ns_singleseason_sing_psr_HAT(dec,enu, gamma, phi0 = 1e-40, season=0):\n",
    "    '''\n",
    "    This function returns the number of signal events for a single pulsar as in EQN3 of 2205.15963\n",
    "    -------------------\n",
    "\n",
    "    Parameters\n",
    "    ----------\n",
    "    dec : float\n",
    "        The declination of the pulsar in radians\n",
    "    \n",
    "    enu : float\n",
    "        The neutrino energy in eV\n",
    "\n",
    "    gamma : float\n",
    "        The spectral index of the neutrino flux\n",
    "\n",
    "    phi0 : float (optional)\n",
    "        The normalization constant of the neutrino flux\n",
    "\n",
    "    season : int (optional)\n",
    "        The IceCube season number\n",
    "    \n",
    "    Returns\n",
    "    -------\n",
    "    float\n",
    "        The number of signal events for the given parameters\n",
    "    '''\n",
    "\n",
    "\n",
    "    tt_upt = t_upt[season]\n",
    "    if enu <= 1e11 or enu > 1e19:\n",
    "        return 0.0\n",
    "    else:\n",
    "        k=0\n",
    "        l=0\n",
    "        for i in range(0, len(e_nu)):\n",
    "            if e_nu[i] <= enu and e_nu[i+1] > enu:\n",
    "                for j in range(0, len(dec_nu)):\n",
    "                    if dec_nu[j] <= dec and dec_nu[j+1] > dec:\n",
    "                        k=i\n",
    "                        l=j\n",
    "                        break\n",
    "                break\n",
    "\n",
    "        temp_ea = np.asarray(earea[ea_season(season)])[l*40 + k]\n",
    "        return tt_upt * (enu**2) * temp_ea * dfde(enu, gamma, phi0)\n"
   ]
  },
  {
   "cell_type": "code",
   "execution_count": 16,
   "metadata": {},
   "outputs": [],
   "source": [
    "all_enu = np.logspace(11.001, 19, 1000)"
   ]
  },
  {
   "cell_type": "code",
   "execution_count": 37,
   "metadata": {},
   "outputs": [],
   "source": [
    "phi0m = [1e-46, 1e-43 * 10*(-0.5), 1e-41, 1e-41]"
   ]
  },
  {
   "cell_type": "code",
   "execution_count": 38,
   "metadata": {},
   "outputs": [],
   "source": [
    "#For each energy, find ns for all pulsars summed over all seasons and sum ns over all pulsars for each energy\n",
    "#FIND TS as in eqn 3 of 2205.15963\n",
    "\n",
    "all_TSS = []\n",
    "nss_all_gamma = []\n",
    "for gamma in prange(4):\n",
    "    nss_all_eng = []\n",
    "    for enu in prange(1000):\n",
    "        psrns = 0\n",
    "        for psrdec in prange(p):\n",
    "            for season in range(10):    \n",
    "                psrns += ns_singleseason_sing_psr_HAT(psrdec, all_enu[enu], gamma_arr[gamma], phi0m[gamma],season=season)\n",
    "                # nss.append(ns_singleseason_sing_psr_HAT(psrdec, all_enu[enu], gamma_arr[gamma], season=season))\n",
    "        nss_all_eng.append(psrns)\n",
    "    \n",
    "    @njit\n",
    "    def TS_for_all_psrs2(nsa):\n",
    "        return Ts_arr2(nsa, all_sig[gamma], all_bg, Ns)\n",
    "\n",
    "    pool = mul.Pool(12, maxtasksperchild=200)\n",
    "    op_arr = pool.map_async(TS_for_all_psrs2, nss_all_eng)\n",
    "    temp = op_arr.get()\n",
    "    pool = []\n",
    "    op_arr = []\n",
    "    all_TSS.append(temp)\n",
    "\n",
    "    # nss_all_gamma.append(nss_all_eng)"
   ]
  },
  {
   "cell_type": "code",
   "execution_count": 39,
   "metadata": {},
   "outputs": [
    {
     "name": "stdout",
     "output_type": "stream",
     "text": [
      "-219.26242518260457 3.997246977860233e-11\n",
      "-25.260939382306493 0.4160362733854818\n",
      "-109.41815957632654 0.0\n",
      "-184.87922285428994 0.0\n"
     ]
    }
   ],
   "source": [
    "for i in range(4):\n",
    "    print(min(all_TSS[i]), max(all_TSS[i]))"
   ]
  },
  {
   "cell_type": "code",
   "execution_count": 44,
   "metadata": {},
   "outputs": [
    {
     "data": {
      "image/png": "[encoded data removed]",
      "text/plain": [
       "<Figure size 720x576 with 1 Axes>"
      ]
     },
     "metadata": {
      "needs_background": "light"
     },
     "output_type": "display_data"
    }
   ],
   "source": [
    "all_TSS = np.asarray(all_TSS)\n",
    "gamma_arr = np.asarray(gamma_arr)\n",
    "phi0 = 1e-40\n",
    "e2dfde = [] \n",
    "for i in prange(4):\n",
    "    temp = []\n",
    "    for eng in range(1000):\n",
    "        temp.append((all_enu[eng]**2) * dfde(all_enu[eng], gamma_arr[i], phi0m[i]))\n",
    "    e2dfde.append(temp)\n",
    "\n",
    "e2dfde = np.asarray(e2dfde)\n",
    "\n",
    "plt.figure(figsize=(10,8))\n",
    "for i in [0, 2, 3]:#range(4):\n",
    "    plt.scatter(e2dfde[i], all_TSS[i], label='$\\Gamma$ = ' + str(gamma_arr[i]), s=4)\n",
    "\n",
    "plt.legend()\n",
    "plt.xscale('log')\n",
    "# plt.yscale('log')\n",
    "plt.xlabel('$E^2_{\\u03BD} \\dfrac{d\\phi}{dE_{\\u03BD}}$')\n",
    "plt.ylabel('TS')\n",
    "plt.title('TS vs $E^2_{\\u03BD} \\dfrac{d\\phi}{dE_{\\u03BD}}$')\n",
    "plt.xlim(1e-17, 1e-13)\n",
    "plt.ylim(-100, 0)\n",
    "plt.show()"
   ]
  },
  {
   "cell_type": "code",
   "execution_count": 116,
   "metadata": {},
   "outputs": [
    {
     "data": {
      "image/png": "[encoded data removed]",
      "text/plain": [
       "<Figure size 720x576 with 1 Axes>"
      ]
     },
     "metadata": {
      "needs_background": "light"
     },
     "output_type": "display_data"
    }
   ],
   "source": [
    "plt.figure(figsize=(10,8))\n",
    "for i in range(1,4):\n",
    "    plt.scatter([dfde(e, gamma_arr[i], 1e-50) for e in all_enu], all_TSS[i], label='$\\Gamma$ = ' + str(gamma_arr[i]), s=4)\n",
    "\n",
    "plt.legend()\n",
    "plt.xscale('log')\n",
    "# plt.yscale('log')\n",
    "plt.xlabel('$\\dfrac{d\\phi}{dE_{\\u03BD}}$')\n",
    "plt.ylabel('TS')\n",
    "plt.title('TS vs $\\dfrac{d\\phi}{dE_{\\u03BD}}$')\n",
    "plt.show()"
   ]
  },
  {
   "cell_type": "code",
   "execution_count": 117,
   "metadata": {},
   "outputs": [
    {
     "data": {
      "image/png": "[encoded data removed]",
      "text/plain": [
       "<Figure size 720x576 with 1 Axes>"
      ]
     },
     "metadata": {
      "needs_background": "light"
     },
     "output_type": "display_data"
    }
   ],
   "source": [
    "plt.figure(figsize=(10,8))\n",
    "for i in range(1,4):\n",
    "    plt.scatter(all_enu/1e9, all_TSS[i], label='$\\Gamma$ = ' + str(gamma_arr[i]), s=4)\n",
    "\n",
    "plt.legend()\n",
    "plt.xscale('log')\n",
    "# plt.yscale('log')\n",
    "plt.xlabel('$E_{\\u03BD}$ / GeV')\n",
    "plt.ylabel('TS')\n",
    "plt.title('TS vs $E_{\\u03BD}$')\n",
    "plt.show()"
   ]
  },
  {
   "attachments": {},
   "cell_type": "markdown",
   "metadata": {},
   "source": [
    "## ANALYSIS WITH WEIGHTS"
   ]
  },
  {
   "cell_type": "code",
   "execution_count": 42,
   "metadata": {},
   "outputs": [],
   "source": [
    "weights1 = pd.read_csv('/media/darkwake/VIB2/Project-IceCube/task4/outputs/stacking analysis/weights_gamma-1.csv').to_numpy()\n",
    "weights2 = pd.read_csv('/media/darkwake/VIB2/Project-IceCube/task4/outputs/stacking analysis/weights_gamma-2.csv').to_numpy()\n",
    "weights25 = pd.read_csv('/media/darkwake/VIB2/Project-IceCube/task4/outputs/stacking analysis/weights_gamma-2.5.csv').to_numpy()\n",
    "weights3 = pd.read_csv('/media/darkwake/VIB2/Project-IceCube/task4/outputs/stacking analysis/weights_gamma-3.csv').to_numpy()"
   ]
  },
  {
   "cell_type": "code",
   "execution_count": 44,
   "metadata": {},
   "outputs": [],
   "source": [
    "weights = np.asarray([weights1, weights2, weights25, weights3])"
   ]
  },
  {
   "cell_type": "code",
   "execution_count": 47,
   "metadata": {},
   "outputs": [],
   "source": [
    "phi0m = [1e-50, 1e-45, 1e-38, 1e-38]"
   ]
  },
  {
   "cell_type": "code",
   "execution_count": 48,
   "metadata": {},
   "outputs": [],
   "source": [
    "#For each energy, find ns for all pulsars summed over all seasons and sum ns over all pulsars for each energy\n",
    "\n",
    "nss_all_gamma = []\n",
    "for gamma in prange(4):\n",
    "    nss_all_eng = []\n",
    "    for enu in prange(1000):\n",
    "        psrns = 0\n",
    "        for psrdec in prange(p):\n",
    "            temp = 1/np.sum([weights[gamma][psrdec][ea_season(ss)] for ss in range(10)])\n",
    "            for season in prange(10):    \n",
    "                psrns += weights[gamma][psrdec][ea_season(season)] * ns_singleseason_sing_psr_HAT(msdec[psrdec], all_enu[enu], gamma_arr[gamma], phi0=phi0m[gamma],season=season) * temp\n",
    "                # nss.append(ns_singleseason_sing_psr_HAT(psrdec, all_enu[enu], gamma_arr[gamma], season=season))\n",
    "        nss_all_eng.append(psrns)\n",
    "    nss_all_gamma.append(nss_all_eng)"
   ]
  },
  {
   "cell_type": "code",
   "execution_count": 49,
   "metadata": {},
   "outputs": [],
   "source": [
    "nss_all_gamma = np.asfarray(nss_all_gamma)"
   ]
  },
  {
   "cell_type": "code",
   "execution_count": 50,
   "metadata": {},
   "outputs": [
    {
     "data": {
      "text/plain": [
       "(4, 1000)"
      ]
     },
     "execution_count": 50,
     "metadata": {},
     "output_type": "execute_result"
    }
   ],
   "source": [
    "np.shape(nss_all_gamma)"
   ]
  },
  {
   "cell_type": "markdown",
   "metadata": {},
   "source": [
    "@njit(parallel=True, fastmath=True)\n",
    "def TS_for_all_psrs(nss_all_gamma):\n",
    "    for i in prange(4):\n",
    "        for psrns in range(p):\n",
    "            Ts_arr(nss_all_gamma[i][psrns], all_sig[i], all_bg, Ns)\n",
    "        "
   ]
  },
  {
   "cell_type": "code",
   "execution_count": 53,
   "metadata": {},
   "outputs": [],
   "source": [
    "all_TSS  = []\n",
    "for gamma in range(4):\n",
    "    \n",
    "    def TS_for_all_psrs2(nsm):\n",
    "        return Ts_arr2(nsm, all_sig[gamma], all_bg, Ns)\n",
    "\n",
    "    pool = mul.Pool(12, maxtasksperchild=200)\n",
    "    op_arr = pool.map_async(TS_for_all_psrs2, nss_all_gamma[gamma])\n",
    "    temp = op_arr.get()\n",
    "    pool = []\n",
    "    op_arr = []\n",
    "    all_TSS.append(temp)\n",
    "\n"
   ]
  },
  {
   "cell_type": "code",
   "execution_count": 54,
   "metadata": {},
   "outputs": [],
   "source": [
    "#@njit(parallel=True, fastmath=True)\n",
    "#def e2dfdde(phi0 = 1e-40):\n",
    "phi0 = 1e-40\n",
    "e2dfde = [] \n",
    "for i in prange(4):\n",
    "    temp = []\n",
    "    for eng in range(1000):\n",
    "        temp.append((all_enu[eng]**2) * dfde(all_enu[eng], gamma_arr[i], phi0m[i]))\n",
    "    e2dfde.append(temp)\n",
    "\n",
    "    # return e2dfde\n",
    "\n",
    "# e2dfdde = e2dfdde()"
   ]
  },
  {
   "cell_type": "code",
   "execution_count": 55,
   "metadata": {},
   "outputs": [
    {
     "data": {
      "text/plain": [
       "(4, 1000)"
      ]
     },
     "execution_count": 55,
     "metadata": {},
     "output_type": "execute_result"
    }
   ],
   "source": [
    "np.shape(all_TSS)"
   ]
  },
  {
   "cell_type": "code",
   "execution_count": 61,
   "metadata": {},
   "outputs": [
    {
     "data": {
      "image/png": "[encoded data removed]",
      "text/plain": [
       "<Figure size 720x576 with 1 Axes>"
      ]
     },
     "metadata": {
      "needs_background": "light"
     },
     "output_type": "display_data"
    }
   ],
   "source": [
    "plt.figure(figsize=(10,8))\n",
    "for i in range(1,4):\n",
    "    plt.scatter(e2dfde[i], all_TSS[i], label='$\\Gamma$ = ' + str(gamma_arr[i]), s=4)\n",
    "\n",
    "plt.legend()\n",
    "plt.xscale('log')\n",
    "# plt.yscale('log')\n",
    "plt.xlabel('$E^2_{\\u03BD} \\dfrac{d\\phi}{dE_{\\u03BD}}$')\n",
    "plt.ylabel('TS')\n",
    "plt.title('TS vs $E^2_{\\u03BD} \\dfrac{d\\phi}{dE_{\\u03BD}}$')\n",
    "plt.show()"
   ]
  },
  {
   "cell_type": "code",
   "execution_count": 83,
   "metadata": {},
   "outputs": [
    {
     "data": {
      "image/png": "[encoded data removed]",
      "text/plain": [
       "<Figure size 720x576 with 1 Axes>"
      ]
     },
     "metadata": {
      "needs_background": "light"
     },
     "output_type": "display_data"
    }
   ],
   "source": [
    "plt.figure(figsize=(10,8))\n",
    "for i in range(1,4):\n",
    "    plt.scatter([dfde(e, gamma_arr[i], 1e-50) for e in all_enu], all_TSS[i], label='$\\Gamma$ = ' + str(gamma_arr[i]), s=4)\n",
    "\n",
    "plt.legend()\n",
    "plt.xscale('log')\n",
    "# plt.yscale('log')\n",
    "plt.xlabel('$\\dfrac{d\\phi}{dE_{\\u03BD}}$')\n",
    "plt.ylabel('TS')\n",
    "plt.title('TS vs $\\dfrac{d\\phi}{dE_{\\u03BD}}$')\n",
    "plt.show()"
   ]
  },
  {
   "cell_type": "code",
   "execution_count": 84,
   "metadata": {},
   "outputs": [
    {
     "data": {
      "image/png": "[encoded data removed]",
      "text/plain": [
       "<Figure size 720x576 with 1 Axes>"
      ]
     },
     "metadata": {
      "needs_background": "light"
     },
     "output_type": "display_data"
    }
   ],
   "source": [
    "plt.figure(figsize=(10,8))\n",
    "for i in range(1,4):\n",
    "    plt.scatter(all_enu/1e9, all_TSS[i], label='$\\Gamma$ = ' + str(gamma_arr[i]), s=4)\n",
    "\n",
    "plt.legend()\n",
    "plt.xscale('log')\n",
    "# plt.yscale('log')\n",
    "plt.xlabel('$E_{\\u03BD}$ / GeV')\n",
    "plt.ylabel('TS')\n",
    "plt.title('TS vs $E_{\\u03BD}$')\n",
    "plt.show()"
   ]
  },
  {
   "cell_type": "code",
   "execution_count": null,
   "metadata": {},
   "outputs": [],
   "source": []
  }
 ],
 "metadata": {
  "kernelspec": {
   "display_name": "Python 3",
   "language": "python",
   "name": "python3"
  },
  "language_info": {
   "codemirror_mode": {
    "name": "ipython",
    "version": 3
   },
   "file_extension": ".py",
   "mimetype": "text/x-python",
   "name": "python",
   "nbconvert_exporter": "python",
   "pygments_lexer": "ipython3",
   "version": "3.10.6"
  },
  "orig_nbformat": 4
 },
 "nbformat": 4,
 "nbformat_minor": 2
}
