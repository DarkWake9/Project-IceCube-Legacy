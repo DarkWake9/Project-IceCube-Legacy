{
 "cells": [
  {
   "cell_type": "code",
   "execution_count": 1,
   "metadata": {},
   "outputs": [],
   "source": [
    "import numpy as np\n",
    "import pandas as pd\n",
    "import os\n",
    "import multiprocessing as mul\n",
    "from multiprocessing import Process\n",
    "import matplotlib.pyplot as plt\n",
    "#import seaborn as sns\n",
    "from scipy.optimize import minimize\n",
    "from scipy.optimize import curve_fit\n",
    "from IPython.display import clear_output\n",
    "from scipy.stats import chi2\n",
    "from scipy.stats import norm\n",
    "from scipy.stats import gaussian_kde\n",
    "import scipy.stats as sct\n",
    "from astropy.coordinates import SkyCoord as scr\n",
    "from astropy import units as u\n",
    "from time import sleep"
   ]
  },
  {
   "cell_type": "code",
   "execution_count": 2,
   "metadata": {},
   "outputs": [
    {
     "name": "stdout",
     "output_type": "stream",
     "text": [
      "read icdata\n",
      "IC40_exp.csv read\n",
      "IC59_exp.csv read\n",
      "IC79_exp.csv read\n",
      "IC86_I_exp.csv read\n",
      "IC86_II_exp.csv read\n",
      "IC86_III_exp.csv read\n",
      "IC86_IV_exp.csv read\n",
      "IC86_V_exp.csv read\n",
      "IC86_VI_exp.csv read\n",
      "IC86_VII_exp.csv read\n",
      "IC40_effectiveArea.csv read\n",
      "IC59_effectiveArea.csv read\n",
      "IC79_effectiveArea.csv read\n",
      "IC86_I_effectiveArea.csv read\n",
      "IC86_II_effectiveArea.csv read\n"
     ]
    }
   ],
   "source": [
    "####\n",
    "#### IMPORTING AND SPLITTING ICDATA $$$\n",
    "\n",
    "\n",
    "path = \"/media/darkwake/VIB2/Project-IceCube/icecube_10year_ps/events\"\n",
    "t_eff_path = \"/media/darkwake/VIB2/Project-IceCube/icecube_10year_ps/uptime\"\n",
    "irf_path = \"/media/darkwake/VIB2/Project-IceCube/icecube_10year_ps/irfs\"\n",
    "filenames = [\"IC40_exp.csv\", \"IC59_exp.csv\",\"IC79_exp.csv\", \"IC86_I_exp.csv\", \"IC86_II_exp.csv\",\n",
    "\"IC86_III_exp.csv\", \"IC86_IV_exp.csv\", \"IC86_V_exp.csv\", \"IC86_VI_exp.csv\", \"IC86_VII_exp.csv\"]\n",
    "file = filenames[0]\n",
    "f = open(os.path.join(path, file), 'r')\n",
    "lines = f.readlines()\n",
    "column=lines[0].split()\n",
    "column.pop(0)\n",
    "content = []\n",
    "for file in filenames:\n",
    "    f = open(os.path.join(path, file), 'r')\n",
    "    lines = f.readlines()\n",
    "    #print(len(lines) - 1)\n",
    "    for line in lines[1:]:\n",
    "        content.append(line.split())\n",
    "    f.close()\n",
    "icdata = pd.DataFrame(content, columns=column, dtype=float)#.convert_dtypes(infer_objects=True,convert_integer=True,convert_floating=True)\n",
    "icdata['log10(E/GeV)'] = [float(i) for i in icdata['log10(E/GeV)']]\n",
    "icdata['MJD[days]'] = [float(i) for i in icdata['MJD[days]']]\n",
    "\n",
    "print(\"read icdata\")\n",
    "f.close()\n",
    "\n",
    "\n",
    "\n",
    "#Importing UPtime data\n",
    "file = filenames[0]\n",
    "f = open(os.path.join(t_eff_path, file), 'r')\n",
    "lines = f.readlines()\n",
    "column=lines[0].split()\n",
    "column.pop(0)\n",
    "uptdata = []\n",
    "for file in filenames:\n",
    "    content = []\n",
    "    f = open(os.path.join(t_eff_path, file), 'r')\n",
    "    lines = f.readlines()\n",
    "    for line in lines[1:]:\n",
    "        content.append(line.split())\n",
    "    f.close()\n",
    "    temp = pd.DataFrame(content, columns=column)\n",
    "    temp['MJD_start[days]'] = [float(i) for i in temp['MJD_start[days]']]\n",
    "    temp['MJD_stop[days]'] = [float(i) for i in temp['MJD_stop[days]']]\n",
    "    uptdata.append(temp)\n",
    "    temp = []\n",
    "    content = []\n",
    "    print(file + \" read\")\n",
    "f.close()\n",
    "\n",
    "\n",
    "\n",
    "filenames = [\"IC40_effectiveArea.csv\", \"IC59_effectiveArea.csv\",\"IC79_effectiveArea.csv\", \"IC86_I_effectiveArea.csv\", \"IC86_II_effectiveArea.csv\"]\n",
    "file = filenames[0]\n",
    "f = open(os.path.join(irf_path, file), 'r')\n",
    "lines = f.readlines()\n",
    "column=lines[0].split()\n",
    "column.pop(0)\n",
    "eadata = []\n",
    "for file in filenames:\n",
    "    content = []\n",
    "    f = open(os.path.join(irf_path, file), 'r')\n",
    "    lines = f.readlines()\n",
    "    for line in lines[1:]:\n",
    "        content.append(line.split())\n",
    "    f.close()\n",
    "    temp = pd.DataFrame(content, columns=column, dtype=float)\n",
    "    #temp['MJD_start[days]'] = [float(i) for i in temp['MJD_start[days]']]\n",
    "    #temp['MJD_stop[days]'] = [float(i) for i in temp['MJD_stop[days]']]\n",
    "    eadata.append(temp)\n",
    "    temp = []\n",
    "    content = []\n",
    "    print(file + \" read\")\n",
    "f.close()"
   ]
  },
  {
   "cell_type": "code",
   "execution_count": 3,
   "metadata": {},
   "outputs": [
    {
     "data": {
      "text/plain": [
       "MJD[days]       float64\n",
       "log10(E/GeV)    float64\n",
       "AngErr[deg]     float64\n",
       "RA[deg]         float64\n",
       "Dec[deg]        float64\n",
       "Azimuth[deg]    float64\n",
       "Zenith[deg]     float64\n",
       "dtype: object"
      ]
     },
     "execution_count": 3,
     "metadata": {},
     "output_type": "execute_result"
    }
   ],
   "source": [
    "icdata.dtypes"
   ]
  },
  {
   "cell_type": "code",
   "execution_count": 4,
   "metadata": {},
   "outputs": [
    {
     "data": {
      "text/plain": [
       "log10(E_nu/GeV)_min    float64\n",
       "log10(E_nu/GeV)_max    float64\n",
       "Dec_nu_min[deg]        float64\n",
       "Dec_nu_max[deg]        float64\n",
       "A_Eff[cm^2]            float64\n",
       "dtype: object"
      ]
     },
     "execution_count": 4,
     "metadata": {},
     "output_type": "execute_result"
    }
   ],
   "source": [
    "eadata[0].dtypes"
   ]
  },
  {
   "cell_type": "code",
   "execution_count": 5,
   "metadata": {},
   "outputs": [
    {
     "name": "stdout",
     "output_type": "stream",
     "text": [
      "1134450\n"
     ]
    }
   ],
   "source": [
    "icwidths = [int(i) for i in \"0 36900 107011 93133 136244 112858 122541 127045 129311 123657 145750\".split(' ')]\n",
    "print(np.sum(icwidths))"
   ]
  },
  {
   "cell_type": "code",
   "execution_count": 7,
   "metadata": {},
   "outputs": [
    {
     "data": {
      "text/html": [
       "<div>\n",
       "<style scoped>\n",
       "    .dataframe tbody tr th:only-of-type {\n",
       "        vertical-align: middle;\n",
       "    }\n",
       "\n",
       "    .dataframe tbody tr th {\n",
       "        vertical-align: top;\n",
       "    }\n",
       "\n",
       "    .dataframe thead th {\n",
       "        text-align: right;\n",
       "    }\n",
       "</style>\n",
       "<table border=\"1\" class=\"dataframe\">\n",
       "  <thead>\n",
       "    <tr style=\"text-align: right;\">\n",
       "      <th></th>\n",
       "      <th>MJD[days]</th>\n",
       "      <th>log10(E/GeV)</th>\n",
       "      <th>AngErr[deg]</th>\n",
       "      <th>RA[deg]</th>\n",
       "      <th>Dec[deg]</th>\n",
       "      <th>Azimuth[deg]</th>\n",
       "      <th>Zenith[deg]</th>\n",
       "    </tr>\n",
       "  </thead>\n",
       "  <tbody>\n",
       "    <tr>\n",
       "      <th>0</th>\n",
       "      <td>54562.379113</td>\n",
       "      <td>3.31</td>\n",
       "      <td>0.48</td>\n",
       "      <td>203.024</td>\n",
       "      <td>16.760</td>\n",
       "      <td>218.374</td>\n",
       "      <td>106.712</td>\n",
       "    </tr>\n",
       "    <tr>\n",
       "      <th>1</th>\n",
       "      <td>54562.386622</td>\n",
       "      <td>5.17</td>\n",
       "      <td>0.62</td>\n",
       "      <td>75.024</td>\n",
       "      <td>-13.371</td>\n",
       "      <td>349.100</td>\n",
       "      <td>76.646</td>\n",
       "    </tr>\n",
       "    <tr>\n",
       "      <th>2</th>\n",
       "      <td>54562.387892</td>\n",
       "      <td>3.92</td>\n",
       "      <td>0.56</td>\n",
       "      <td>97.501</td>\n",
       "      <td>11.290</td>\n",
       "      <td>327.060</td>\n",
       "      <td>101.291</td>\n",
       "    </tr>\n",
       "    <tr>\n",
       "      <th>3</th>\n",
       "      <td>54562.392677</td>\n",
       "      <td>5.57</td>\n",
       "      <td>1.13</td>\n",
       "      <td>305.857</td>\n",
       "      <td>-33.932</td>\n",
       "      <td>120.413</td>\n",
       "      <td>56.090</td>\n",
       "    </tr>\n",
       "    <tr>\n",
       "      <th>4</th>\n",
       "      <td>54562.404776</td>\n",
       "      <td>5.80</td>\n",
       "      <td>1.11</td>\n",
       "      <td>143.516</td>\n",
       "      <td>-38.279</td>\n",
       "      <td>287.171</td>\n",
       "      <td>51.684</td>\n",
       "    </tr>\n",
       "    <tr>\n",
       "      <th>...</th>\n",
       "      <td>...</td>\n",
       "      <td>...</td>\n",
       "      <td>...</td>\n",
       "      <td>...</td>\n",
       "      <td>...</td>\n",
       "      <td>...</td>\n",
       "      <td>...</td>\n",
       "    </tr>\n",
       "    <tr>\n",
       "      <th>1134445</th>\n",
       "      <td>58307.961110</td>\n",
       "      <td>5.14</td>\n",
       "      <td>0.20</td>\n",
       "      <td>221.246</td>\n",
       "      <td>-59.959</td>\n",
       "      <td>141.239</td>\n",
       "      <td>29.956</td>\n",
       "    </tr>\n",
       "    <tr>\n",
       "      <th>1134446</th>\n",
       "      <td>58307.962666</td>\n",
       "      <td>2.94</td>\n",
       "      <td>1.23</td>\n",
       "      <td>191.547</td>\n",
       "      <td>4.415</td>\n",
       "      <td>171.627</td>\n",
       "      <td>94.312</td>\n",
       "    </tr>\n",
       "    <tr>\n",
       "      <th>1134447</th>\n",
       "      <td>58307.963556</td>\n",
       "      <td>2.88</td>\n",
       "      <td>0.30</td>\n",
       "      <td>308.127</td>\n",
       "      <td>42.543</td>\n",
       "      <td>55.437</td>\n",
       "      <td>132.606</td>\n",
       "    </tr>\n",
       "    <tr>\n",
       "      <th>1134448</th>\n",
       "      <td>58307.963972</td>\n",
       "      <td>2.98</td>\n",
       "      <td>0.21</td>\n",
       "      <td>332.199</td>\n",
       "      <td>44.720</td>\n",
       "      <td>31.489</td>\n",
       "      <td>134.811</td>\n",
       "    </tr>\n",
       "    <tr>\n",
       "      <th>1134449</th>\n",
       "      <td>58307.972603</td>\n",
       "      <td>3.28</td>\n",
       "      <td>0.25</td>\n",
       "      <td>213.309</td>\n",
       "      <td>4.708</td>\n",
       "      <td>153.453</td>\n",
       "      <td>94.619</td>\n",
       "    </tr>\n",
       "  </tbody>\n",
       "</table>\n",
       "<p>1134450 rows × 7 columns</p>\n",
       "</div>"
      ],
      "text/plain": [
       "            MJD[days]  log10(E/GeV)  AngErr[deg]  RA[deg]  Dec[deg]  \\\n",
       "0        54562.379113          3.31         0.48  203.024    16.760   \n",
       "1        54562.386622          5.17         0.62   75.024   -13.371   \n",
       "2        54562.387892          3.92         0.56   97.501    11.290   \n",
       "3        54562.392677          5.57         1.13  305.857   -33.932   \n",
       "4        54562.404776          5.80         1.11  143.516   -38.279   \n",
       "...               ...           ...          ...      ...       ...   \n",
       "1134445  58307.961110          5.14         0.20  221.246   -59.959   \n",
       "1134446  58307.962666          2.94         1.23  191.547     4.415   \n",
       "1134447  58307.963556          2.88         0.30  308.127    42.543   \n",
       "1134448  58307.963972          2.98         0.21  332.199    44.720   \n",
       "1134449  58307.972603          3.28         0.25  213.309     4.708   \n",
       "\n",
       "         Azimuth[deg]  Zenith[deg]  \n",
       "0             218.374      106.712  \n",
       "1             349.100       76.646  \n",
       "2             327.060      101.291  \n",
       "3             120.413       56.090  \n",
       "4             287.171       51.684  \n",
       "...               ...          ...  \n",
       "1134445       141.239       29.956  \n",
       "1134446       171.627       94.312  \n",
       "1134447        55.437      132.606  \n",
       "1134448        31.489      134.811  \n",
       "1134449       153.453       94.619  \n",
       "\n",
       "[1134450 rows x 7 columns]"
      ]
     },
     "execution_count": 7,
     "metadata": {},
     "output_type": "execute_result"
    }
   ],
   "source": [
    "icdata"
   ]
  },
  {
   "cell_type": "code",
   "execution_count": 8,
   "metadata": {},
   "outputs": [
    {
     "data": {
      "text/plain": [
       "[0,\n",
       " 36900,\n",
       " 143911,\n",
       " 237044,\n",
       " 373288,\n",
       " 486146,\n",
       " 608687,\n",
       " 735732,\n",
       " 865043,\n",
       " 988700,\n",
       " 1134450]"
      ]
     },
     "execution_count": 8,
     "metadata": {},
     "output_type": "execute_result"
    }
   ],
   "source": [
    "ictimes = [float(i) for i in icdata['MJD[days]']]\n",
    "icparts = [np.sum(icwidths[:i]) for i in range(1,len(icwidths)+1)]\n",
    "#icparts.pop(-1)\n",
    "icparts"
   ]
  },
  {
   "cell_type": "code",
   "execution_count": 9,
   "metadata": {},
   "outputs": [],
   "source": [
    "#If icdata[mjddays] > tstop[i], go to next one till < tstop[i] then uptime = icdata[mjddays] - tstart[i]\n",
    "uptime = []\n",
    "#for nu_time in ictimes:\n",
    "def nu_upt(nu):\n",
    "\n",
    "    '''\n",
    "    Returns the detector uptime corresponding to a neutrino time\n",
    "    '''\n",
    "\n",
    "    ind = -1\n",
    "    for wall in range(len(icparts) - 1):\n",
    "        if nu >= icparts[wall] and nu < icparts[wall+1]:\n",
    "            #break\n",
    "            for i in range(len(uptdata[wall])):\n",
    "                if ictimes[nu] <= uptdata[wall]['MJD_stop[days]'].values[i] and ictimes[nu] >= uptdata[wall]['MJD_start[days]'].values[i]:\n",
    "                #    continue\n",
    "                #else:\n",
    "                    #print(i)\n",
    "                    ind = i\n",
    "                    break\n",
    "            break\n",
    "    #print(nu)\n",
    "    #clear_output(wait=True)\n",
    "    sleep(0.0000001)\n",
    "    return ictimes[nu] - uptdata[wall]['MJD_start[days]'].values[ind]\n",
    "    \n",
    "\n",
    "pool = mul.Pool(8, maxtasksperchild=150)\n",
    "op_async = pool.map_async(nu_upt, range(len(ictimes)))\n",
    "uptime = op_async.get()\n",
    "op_async = []\n",
    "pool= []"
   ]
  },
  {
   "cell_type": "code",
   "execution_count": 10,
   "metadata": {},
   "outputs": [
    {
     "data": {
      "text/plain": [
       "0.00496436999674188"
      ]
     },
     "execution_count": 10,
     "metadata": {},
     "output_type": "execute_result"
    }
   ],
   "source": [
    "uptime[-1]"
   ]
  },
  {
   "cell_type": "code",
   "execution_count": 11,
   "metadata": {},
   "outputs": [
    {
     "name": "stdout",
     "output_type": "stream",
     "text": [
      "All values are present\n"
     ]
    }
   ],
   "source": [
    "try:\n",
    "    uptime.index(None)\n",
    "except ValueError:\n",
    "    print(\"All values are present\")   "
   ]
  },
  {
   "cell_type": "code",
   "execution_count": 13,
   "metadata": {},
   "outputs": [
    {
     "data": {
      "text/plain": [
       "True"
      ]
     },
     "execution_count": 13,
     "metadata": {},
     "output_type": "execute_result"
    }
   ],
   "source": [
    "upt_icparts = icparts[:5]\n",
    "upt_icparts.append(icparts[-1])\n",
    "len(upt_icparts) - 1 == len(eadata)"
   ]
  },
  {
   "cell_type": "code",
   "execution_count": 15,
   "metadata": {},
   "outputs": [
    {
     "data": {
      "text/html": [
       "<div>\n",
       "<style scoped>\n",
       "    .dataframe tbody tr th:only-of-type {\n",
       "        vertical-align: middle;\n",
       "    }\n",
       "\n",
       "    .dataframe tbody tr th {\n",
       "        vertical-align: top;\n",
       "    }\n",
       "\n",
       "    .dataframe thead th {\n",
       "        text-align: right;\n",
       "    }\n",
       "</style>\n",
       "<table border=\"1\" class=\"dataframe\">\n",
       "  <thead>\n",
       "    <tr style=\"text-align: right;\">\n",
       "      <th></th>\n",
       "      <th>MJD[days]</th>\n",
       "      <th>log10(E/GeV)</th>\n",
       "      <th>AngErr[deg]</th>\n",
       "      <th>RA[deg]</th>\n",
       "      <th>Dec[deg]</th>\n",
       "      <th>Azimuth[deg]</th>\n",
       "      <th>Zenith[deg]</th>\n",
       "    </tr>\n",
       "  </thead>\n",
       "  <tbody>\n",
       "    <tr>\n",
       "      <th>0</th>\n",
       "      <td>54562.379113</td>\n",
       "      <td>3.31</td>\n",
       "      <td>0.48</td>\n",
       "      <td>203.024</td>\n",
       "      <td>16.760</td>\n",
       "      <td>218.374</td>\n",
       "      <td>106.712</td>\n",
       "    </tr>\n",
       "    <tr>\n",
       "      <th>1</th>\n",
       "      <td>54562.386622</td>\n",
       "      <td>5.17</td>\n",
       "      <td>0.62</td>\n",
       "      <td>75.024</td>\n",
       "      <td>-13.371</td>\n",
       "      <td>349.100</td>\n",
       "      <td>76.646</td>\n",
       "    </tr>\n",
       "  </tbody>\n",
       "</table>\n",
       "</div>"
      ],
      "text/plain": [
       "      MJD[days]  log10(E/GeV)  AngErr[deg]  RA[deg]  Dec[deg]  Azimuth[deg]  \\\n",
       "0  54562.379113          3.31         0.48  203.024    16.760       218.374   \n",
       "1  54562.386622          5.17         0.62   75.024   -13.371       349.100   \n",
       "\n",
       "   Zenith[deg]  \n",
       "0      106.712  \n",
       "1       76.646  "
      ]
     },
     "execution_count": 15,
     "metadata": {},
     "output_type": "execute_result"
    }
   ],
   "source": [
    "icdata[0:2]"
   ]
  },
  {
   "cell_type": "code",
   "execution_count": 16,
   "metadata": {},
   "outputs": [
    {
     "data": {
      "text/html": [
       "<div>\n",
       "<style scoped>\n",
       "    .dataframe tbody tr th:only-of-type {\n",
       "        vertical-align: middle;\n",
       "    }\n",
       "\n",
       "    .dataframe tbody tr th {\n",
       "        vertical-align: top;\n",
       "    }\n",
       "\n",
       "    .dataframe thead th {\n",
       "        text-align: right;\n",
       "    }\n",
       "</style>\n",
       "<table border=\"1\" class=\"dataframe\">\n",
       "  <thead>\n",
       "    <tr style=\"text-align: right;\">\n",
       "      <th></th>\n",
       "      <th>log10(E_nu/GeV)_min</th>\n",
       "      <th>log10(E_nu/GeV)_max</th>\n",
       "      <th>Dec_nu_min[deg]</th>\n",
       "      <th>Dec_nu_max[deg]</th>\n",
       "      <th>A_Eff[cm^2]</th>\n",
       "    </tr>\n",
       "  </thead>\n",
       "  <tbody>\n",
       "    <tr>\n",
       "      <th>0</th>\n",
       "      <td>2.0</td>\n",
       "      <td>2.2</td>\n",
       "      <td>-90.00</td>\n",
       "      <td>-73.74</td>\n",
       "      <td>0.0</td>\n",
       "    </tr>\n",
       "    <tr>\n",
       "      <th>1</th>\n",
       "      <td>2.2</td>\n",
       "      <td>2.4</td>\n",
       "      <td>-90.00</td>\n",
       "      <td>-73.74</td>\n",
       "      <td>0.0</td>\n",
       "    </tr>\n",
       "    <tr>\n",
       "      <th>2</th>\n",
       "      <td>2.4</td>\n",
       "      <td>2.6</td>\n",
       "      <td>-90.00</td>\n",
       "      <td>-73.74</td>\n",
       "      <td>0.0</td>\n",
       "    </tr>\n",
       "    <tr>\n",
       "      <th>3</th>\n",
       "      <td>2.6</td>\n",
       "      <td>2.8</td>\n",
       "      <td>-90.00</td>\n",
       "      <td>-73.74</td>\n",
       "      <td>0.0</td>\n",
       "    </tr>\n",
       "    <tr>\n",
       "      <th>4</th>\n",
       "      <td>2.8</td>\n",
       "      <td>3.0</td>\n",
       "      <td>-90.00</td>\n",
       "      <td>-73.74</td>\n",
       "      <td>0.0</td>\n",
       "    </tr>\n",
       "    <tr>\n",
       "      <th>...</th>\n",
       "      <td>...</td>\n",
       "      <td>...</td>\n",
       "      <td>...</td>\n",
       "      <td>...</td>\n",
       "      <td>...</td>\n",
       "    </tr>\n",
       "    <tr>\n",
       "      <th>1995</th>\n",
       "      <td>9.0</td>\n",
       "      <td>9.2</td>\n",
       "      <td>73.74</td>\n",
       "      <td>90.00</td>\n",
       "      <td>0.0</td>\n",
       "    </tr>\n",
       "    <tr>\n",
       "      <th>1996</th>\n",
       "      <td>9.2</td>\n",
       "      <td>9.4</td>\n",
       "      <td>73.74</td>\n",
       "      <td>90.00</td>\n",
       "      <td>0.0</td>\n",
       "    </tr>\n",
       "    <tr>\n",
       "      <th>1997</th>\n",
       "      <td>9.4</td>\n",
       "      <td>9.6</td>\n",
       "      <td>73.74</td>\n",
       "      <td>90.00</td>\n",
       "      <td>0.0</td>\n",
       "    </tr>\n",
       "    <tr>\n",
       "      <th>1998</th>\n",
       "      <td>9.6</td>\n",
       "      <td>9.8</td>\n",
       "      <td>73.74</td>\n",
       "      <td>90.00</td>\n",
       "      <td>0.0</td>\n",
       "    </tr>\n",
       "    <tr>\n",
       "      <th>1999</th>\n",
       "      <td>9.8</td>\n",
       "      <td>10.0</td>\n",
       "      <td>73.74</td>\n",
       "      <td>90.00</td>\n",
       "      <td>0.0</td>\n",
       "    </tr>\n",
       "  </tbody>\n",
       "</table>\n",
       "<p>2000 rows × 5 columns</p>\n",
       "</div>"
      ],
      "text/plain": [
       "      log10(E_nu/GeV)_min  log10(E_nu/GeV)_max  Dec_nu_min[deg]  \\\n",
       "0                     2.0                  2.2           -90.00   \n",
       "1                     2.2                  2.4           -90.00   \n",
       "2                     2.4                  2.6           -90.00   \n",
       "3                     2.6                  2.8           -90.00   \n",
       "4                     2.8                  3.0           -90.00   \n",
       "...                   ...                  ...              ...   \n",
       "1995                  9.0                  9.2            73.74   \n",
       "1996                  9.2                  9.4            73.74   \n",
       "1997                  9.4                  9.6            73.74   \n",
       "1998                  9.6                  9.8            73.74   \n",
       "1999                  9.8                 10.0            73.74   \n",
       "\n",
       "      Dec_nu_max[deg]  A_Eff[cm^2]  \n",
       "0              -73.74          0.0  \n",
       "1              -73.74          0.0  \n",
       "2              -73.74          0.0  \n",
       "3              -73.74          0.0  \n",
       "4              -73.74          0.0  \n",
       "...               ...          ...  \n",
       "1995            90.00          0.0  \n",
       "1996            90.00          0.0  \n",
       "1997            90.00          0.0  \n",
       "1998            90.00          0.0  \n",
       "1999            90.00          0.0  \n",
       "\n",
       "[2000 rows x 5 columns]"
      ]
     },
     "execution_count": 16,
     "metadata": {},
     "output_type": "execute_result"
    }
   ],
   "source": [
    "eadata[0]"
   ]
  },
  {
   "cell_type": "code",
   "execution_count": 17,
   "metadata": {},
   "outputs": [],
   "source": [
    "log_e = np.arange(2, 10.2, 0.2)\n",
    "dec_nu = list(set(eadata[0]['Dec_nu_min[deg]'].values).union(set(eadata[0]['Dec_nu_max[deg]'].values)))\n",
    "dec_nu.sort()\n",
    "dec_nu = np.array(dec_nu)"
   ]
  },
  {
   "cell_type": "code",
   "execution_count": 18,
   "metadata": {},
   "outputs": [
    {
     "data": {
      "text/plain": [
       "3.4000000000000012"
      ]
     },
     "execution_count": 18,
     "metadata": {},
     "output_type": "execute_result"
    }
   ],
   "source": [
    "log_e[np.argmin(np.abs(log_e - 3.31))]"
   ]
  },
  {
   "cell_type": "code",
   "execution_count": 30,
   "metadata": {},
   "outputs": [
    {
     "data": {
      "text/plain": [
       "10"
      ]
     },
     "execution_count": 30,
     "metadata": {},
     "output_type": "execute_result"
    }
   ],
   "source": [
    "xaa = [1,2,3,4,5,6,7,7,9,10]\n",
    "\n",
    "xaa[len(xaa) -1]"
   ]
  },
  {
   "cell_type": "code",
   "execution_count": 49,
   "metadata": {},
   "outputs": [
    {
     "data": {
      "text/plain": [
       "[0, 36900, 143911, 237044, 373288, 1134450]"
      ]
     },
     "execution_count": 49,
     "metadata": {},
     "output_type": "execute_result"
    }
   ],
   "source": [
    "upt_icparts"
   ]
  },
  {
   "cell_type": "code",
   "execution_count": 110,
   "metadata": {},
   "outputs": [],
   "source": [
    "def nu_ea_quick(nu):\n",
    "\n",
    "    '''\n",
    "    Returns the detector effective area corresponding to a neutrino\n",
    "    '''\n",
    "    \n",
    "    aeff = -1\n",
    "    nu_e = icdata['log10(E/GeV)'].values[nu]\n",
    "    nu_decl = icdata['Dec[deg]'].values[nu]\n",
    "    for wall in range(len(upt_icparts) - 1):\n",
    "        if nu >= upt_icparts[wall] and nu < upt_icparts[wall+1]:\n",
    "            e_ind = 0\n",
    "            d_ind = 0\n",
    "            for i in range(len(log_e) - 1):\n",
    "                if nu_e >= log_e[i] and nu_e < log_e[i+1]:\n",
    "                    e_ind = i\n",
    "                    \n",
    "                \n",
    "            for i in range(len(dec_nu) - 1):\n",
    "                if nu_decl >= dec_nu[i] and nu_decl < dec_nu[i+1]:\n",
    "                    d_ind = i\n",
    "                    \n",
    "            #print([np.round(log_e[e_ind], 1), np.round(log_e[e_ind+1], 1)])\n",
    "            #print([np.round(dec_nu[d_ind], 2), np.round(dec_nu[d_ind+1], 2)])\n",
    "            #print([icdata['Dec[deg]'].values[nu], icdata['log10(E/GeV)'].values[nu]])\n",
    "            i = 0\n",
    "\n",
    "            while i < (len(eadata[wall]) - 1) and eadata[wall]['Dec_nu_min[deg]'].values[i] != np.round(dec_nu[d_ind], 2):\n",
    "                i += 1\n",
    "            #rint(i)\n",
    "            while i < (len(eadata[wall]) - 1) and eadata[wall]['Dec_nu_max[deg]'].values[i] != np.round(dec_nu[d_ind+1], 2):\n",
    "                i += 1\n",
    "            #print(i)\n",
    "            while i < (len(eadata[wall]) - 1) and eadata[wall]['log10(E_nu/GeV)_min'].values[i] != np.round(log_e[e_ind], 1):\n",
    "                i += 1\n",
    "            #print(i)\n",
    "            while i < (len(eadata[wall]) - 1) and eadata[wall]['log10(E_nu/GeV)_max'].values[i] != np.round(log_e[e_ind+1], 1):\n",
    "                i += 1\n",
    "            #print(i)\n",
    "            aeff = eadata[wall]['A_Eff[cm^2]'].values[i]\n",
    "            return aeff"
   ]
  },
  {
   "cell_type": "code",
   "execution_count": 111,
   "metadata": {},
   "outputs": [
    {
     "data": {
      "text/plain": [
       "array([-90.  , -90.  , -90.  , ...,  73.74,  73.74,  73.74])"
      ]
     },
     "execution_count": 111,
     "metadata": {},
     "output_type": "execute_result"
    }
   ],
   "source": [
    "eadata[0]['Dec_nu_min[deg]'].values"
   ]
  },
  {
   "cell_type": "code",
   "execution_count": 112,
   "metadata": {},
   "outputs": [
    {
     "name": "stdout",
     "output_type": "stream",
     "text": [
      "2094.33\n"
     ]
    }
   ],
   "source": [
    "print(nu_ea_quick(0))"
   ]
  },
  {
   "cell_type": "code",
   "execution_count": 113,
   "metadata": {},
   "outputs": [],
   "source": [
    "def nu_ea(nu):\n",
    "\n",
    "    '''\n",
    "    Returns the detector effective area corresponding to a neutrino\n",
    "    '''\n",
    "    \n",
    "    aeff = -1\n",
    "    for wall in range(len(upt_icparts) - 1):\n",
    "        if nu >= upt_icparts[wall] and nu < upt_icparts[wall+1]:\n",
    "            for i in range(len(eadata[wall])):\n",
    "                if icdata['Dec[deg]'].values[nu] >= eadata[wall]['Dec_nu_min[deg]'].values[i] and icdata['Dec[deg]'].values[nu] < eadata[wall]['Dec_nu_max[deg]'].values[i]:\n",
    "                    if icdata['log10(E/GeV)'].values[nu] <= eadata[wall]['log10(E_nu/GeV)_max'].values[i] and icdata['log10(E/GeV)'].values[nu] >= eadata[wall]['log10(E_nu/GeV)_min'].values[i]:\n",
    "                        aeff = eadata[wall]['A_Eff[cm^2]'].values[i]\n",
    "                        #break\n",
    "                        sleep(0.00001)\n",
    "                        return aeff\n"
   ]
  },
  {
   "cell_type": "code",
   "execution_count": 114,
   "metadata": {},
   "outputs": [],
   "source": [
    "\n",
    "#mul.set_start_method('spawn', force=True)\n",
    "op_async = []\n",
    "pool= []\n",
    "pool = mul.Pool(8, maxtasksperchild=150)\n",
    "op_async = pool.map_async(nu_ea_quick, range(len(icdata)))\n",
    "aeff = op_async.get()\n",
    "op_async = []\n",
    "pool= []"
   ]
  },
  {
   "cell_type": "markdown",
   "metadata": {},
   "source": [
    "                      return aeff\n",
    "\n",
    "#mul.set_start_method('spawn', force=True)\n",
    "pool = mul.Pool(8, maxtasksperchild=150)\n",
    "op_async = pool.map_async(nu_ea, range(len(icdata)))\n",
    "aeff = op_async.get()\n",
    "op_async = []\n",
    "pool= []"
   ]
  },
  {
   "cell_type": "markdown",
   "metadata": {},
   "source": [
    "icdata.insert(0, \"Uptime[days]\", uptime)\n",
    "icdata"
   ]
  },
  {
   "cell_type": "code",
   "execution_count": 115,
   "metadata": {},
   "outputs": [
    {
     "name": "stdout",
     "output_type": "stream",
     "text": [
      "0\n"
     ]
    }
   ],
   "source": [
    "try:\n",
    "    print(aeff.count(None))\n",
    "except ValueError:\n",
    "    print(\"All values are present\")   "
   ]
  },
  {
   "cell_type": "code",
   "execution_count": 117,
   "metadata": {},
   "outputs": [],
   "source": [
    "#IMPORTING MSPDATA\n",
    "f = open(\"/media/darkwake/VIB2/Project-IceCube/allpsr1.68.txt\", 'r')\n",
    "lines = f.readlines()\n",
    "content=[]\n",
    "column=lines.pop(0).replace('x', '').replace('#', '').split()\n",
    "for line in lines[:]:\n",
    "    content.append(line.split())\n",
    "    #the INITAL DATABASE IS CLUTTERED SO WE REMOVE THE NULL COLUMNS AND OTHER CLUTTER\n",
    "f.close()\n",
    "mspdata = pd.DataFrame(content).drop(0, axis=1)#.dropna()#.drop_duplicates()#.drop(range(0,6)).dropna()\n",
    "\n",
    "line = []\n",
    "lines = []\n",
    "mspdata.columns = column\n",
    "column = []\n",
    "content=[]\n",
    "#mspdata = mspdata.sort_values('DECJD')\n",
    "mspdata.dropna(inplace=True)\n",
    "#mspdata = mspdata.reset_index()\n",
    "#mspdata = mspdata.drop(\"index\", axis=1)"
   ]
  },
  {
   "cell_type": "code",
   "execution_count": 118,
   "metadata": {},
   "outputs": [
    {
     "data": {
      "text/html": [
       "<div>\n",
       "<style scoped>\n",
       "    .dataframe tbody tr th:only-of-type {\n",
       "        vertical-align: middle;\n",
       "    }\n",
       "\n",
       "    .dataframe tbody tr th {\n",
       "        vertical-align: top;\n",
       "    }\n",
       "\n",
       "    .dataframe thead th {\n",
       "        text-align: right;\n",
       "    }\n",
       "</style>\n",
       "<table border=\"1\" class=\"dataframe\">\n",
       "  <thead>\n",
       "    <tr style=\"text-align: right;\">\n",
       "      <th></th>\n",
       "      <th>NAME</th>\n",
       "      <th>RAJD</th>\n",
       "      <th>DECJD</th>\n",
       "    </tr>\n",
       "  </thead>\n",
       "  <tbody>\n",
       "    <tr>\n",
       "      <th>0</th>\n",
       "      <td>J0002+6216</td>\n",
       "      <td>0.74238</td>\n",
       "      <td>62.26928</td>\n",
       "    </tr>\n",
       "    <tr>\n",
       "      <th>1</th>\n",
       "      <td>J0006+1834</td>\n",
       "      <td>1.52</td>\n",
       "      <td>18.5831</td>\n",
       "    </tr>\n",
       "    <tr>\n",
       "      <th>2</th>\n",
       "      <td>J0007+7303</td>\n",
       "      <td>1.7571</td>\n",
       "      <td>73.0521</td>\n",
       "    </tr>\n",
       "    <tr>\n",
       "      <th>3</th>\n",
       "      <td>J0011+08</td>\n",
       "      <td>2.9</td>\n",
       "      <td>8.17</td>\n",
       "    </tr>\n",
       "    <tr>\n",
       "      <th>4</th>\n",
       "      <td>B0011+47</td>\n",
       "      <td>3.57396</td>\n",
       "      <td>47.77594</td>\n",
       "    </tr>\n",
       "    <tr>\n",
       "      <th>...</th>\n",
       "      <td>...</td>\n",
       "      <td>...</td>\n",
       "      <td>...</td>\n",
       "    </tr>\n",
       "    <tr>\n",
       "      <th>3336</th>\n",
       "      <td>J2351+8533</td>\n",
       "      <td>357.764</td>\n",
       "      <td>85.55573</td>\n",
       "    </tr>\n",
       "    <tr>\n",
       "      <th>3337</th>\n",
       "      <td>J2352+65</td>\n",
       "      <td>358</td>\n",
       "      <td>65</td>\n",
       "    </tr>\n",
       "    <tr>\n",
       "      <th>3338</th>\n",
       "      <td>J2354-22</td>\n",
       "      <td>358.60833</td>\n",
       "      <td>-22.86472</td>\n",
       "    </tr>\n",
       "    <tr>\n",
       "      <th>3339</th>\n",
       "      <td>B2351+61</td>\n",
       "      <td>358.5199292</td>\n",
       "      <td>61.9296792</td>\n",
       "    </tr>\n",
       "    <tr>\n",
       "      <th>3340</th>\n",
       "      <td>J2355+2246</td>\n",
       "      <td>358.9575</td>\n",
       "      <td>22.771</td>\n",
       "    </tr>\n",
       "  </tbody>\n",
       "</table>\n",
       "<p>3341 rows × 3 columns</p>\n",
       "</div>"
      ],
      "text/plain": [
       "            NAME         RAJD       DECJD\n",
       "0     J0002+6216      0.74238    62.26928\n",
       "1     J0006+1834         1.52     18.5831\n",
       "2     J0007+7303       1.7571     73.0521\n",
       "3       J0011+08          2.9        8.17\n",
       "4       B0011+47      3.57396    47.77594\n",
       "...          ...          ...         ...\n",
       "3336  J2351+8533      357.764    85.55573\n",
       "3337    J2352+65          358          65\n",
       "3338    J2354-22    358.60833   -22.86472\n",
       "3339    B2351+61  358.5199292  61.9296792\n",
       "3340  J2355+2246     358.9575      22.771\n",
       "\n",
       "[3341 rows x 3 columns]"
      ]
     },
     "execution_count": 118,
     "metadata": {},
     "output_type": "execute_result"
    }
   ],
   "source": [
    "mspdata"
   ]
  },
  {
   "cell_type": "code",
   "execution_count": 119,
   "metadata": {},
   "outputs": [],
   "source": [
    "msra = np.array([float(i) for i in mspdata['RAJD'].values])\n",
    "msdec = np.array([float(i) for i in mspdata['DECJD'].values])\n",
    "icra = np.array([float(i) for i in icdata['RA[deg]']])\n",
    "icdec = np.array([float(i) for i in icdata['Dec[deg]']])\n",
    "icang = np.array([float(i) for i in icdata['AngErr[deg]']])\n",
    "global p, lg\n",
    "p = len(msra)\n",
    "lg = len(icra) // p + 1\n",
    "#cut = 20\n",
    "#cone = 3\n",
    "#psrno = 0"
   ]
  },
  {
   "cell_type": "code",
   "execution_count": 120,
   "metadata": {},
   "outputs": [
    {
     "data": {
      "text/plain": [
       "[-83.298894, 86.720335]"
      ]
     },
     "execution_count": 120,
     "metadata": {},
     "output_type": "execute_result"
    }
   ],
   "source": [
    "[min(msdec), max(msdec)]"
   ]
  },
  {
   "cell_type": "code",
   "execution_count": 121,
   "metadata": {},
   "outputs": [
    {
     "data": {
      "text/plain": [
       "array([203.024, 147.017, 236.214])"
      ]
     },
     "execution_count": 121,
     "metadata": {},
     "output_type": "execute_result"
    }
   ],
   "source": [
    "icra[[0, 6, 8] ]"
   ]
  },
  {
   "cell_type": "code",
   "execution_count": 194,
   "metadata": {},
   "outputs": [],
   "source": [
    "def hvovec(lon1=0.0, lat1=0.0, lon2=0.0, lat2=0.0, rad=False):\n",
    "\n",
    "    '''\n",
    "    Parameters\n",
    "    ----------\n",
    "    lon1 : float\n",
    "        Longitude of first point.\n",
    "    lat1 : float\n",
    "        Latitude of first point.\n",
    "\n",
    "\n",
    "    lon2 : float\n",
    "        Longitude of second point.\n",
    "    lat2 : float\n",
    "        Latitude of second point.\n",
    "\n",
    "    rad : Boolean, optional\n",
    "        (default) False -> Angle is returned in Degrees\n",
    "        True -> Angle is returned in radians\n",
    "    \n",
    "\n",
    "    Returns\n",
    "    -------\n",
    "    float\n",
    "        Returns the haversine angle between two vectors given their latitude and longitude\n",
    "    \n",
    "\n",
    "    Warning\n",
    "    -------\n",
    "        This function assumes the input to be in degrees and of equal length\\n\n",
    "        or one of the input pairs to be a single value and the other pair to be an array\n",
    "    '''\n",
    "\n",
    "    #Convert decimal degrees to Radians:\n",
    "    lon1 = np.deg2rad(lon1)\n",
    "    lat1 = np.deg2rad(lat1)\n",
    "    lon2 = np.deg2rad(lon2)\n",
    "    lat2 = np.deg2rad(lat2)\n",
    "\n",
    "    #Implementing Haversine Formula: \n",
    "    dlon = np.subtract(lon2, lon1)\n",
    "    #dlat = np.subtract(lat2, lat1)\n",
    "\n",
    "    a = np.add(np.multiply(np.sin(lat1), np.sin(lat2)), np.multiply(np.multiply(np.cos(lat1), np.cos(lat2)), np.cos(dlon)))\n",
    "\n",
    "    if rad == True:\n",
    "        return np.arccos(a)\n",
    "    else:\n",
    "        return np.abs(np.rad2deg(np.arccos(a)))\n",
    "\n",
    "\n",
    "def angdecfinder(psrno, declcut):\n",
    "\n",
    "    '''\n",
    "\n",
    "    Parameters\n",
    "    ----------\n",
    "    psrno : int\n",
    "        Pulsar number from the ATNF catalogue.\n",
    "    \n",
    "    declcut : float\n",
    "        Declination cut-off in degrees.\n",
    "\n",
    "\n",
    "\n",
    "    Returns\n",
    "    -------\n",
    "    float\n",
    "    Returns the absolute difference between the declinations of pulsar {psrno}\\n\n",
    "    and each of the neutrinos within the specified declcut\n",
    "    '''\n",
    "\n",
    "    #aang = hvovec(msra[psrno], msdec[psrno], icra, icdec)\n",
    "    decdf = list(np.abs(np.subtract(icdec, msdec[psrno])))\n",
    "    nuind = []\n",
    "    for i in range(0, len(decdf)):\n",
    "        if decdf[i] < declcut:\n",
    "            nuind.append(i)\n",
    "            #decdf.pop(i)\n",
    "            #aang[i] = -1\n",
    "    fdecdf = list(np.abs(np.subtract(icdec[nuind], msdec[psrno])))\n",
    "    return [nuind, decdf]\n",
    "\n",
    "def S_ij(psrno, nuind): \n",
    "\n",
    "    f'''\n",
    "    Returns the signal PDF for the {psrno}th pulsar \n",
    "    and the all neutrinos within the specified declcut as given in {nuind}\n",
    "    '''\n",
    "\n",
    "    ang2 = hvovec(msra[psrno], msdec[psrno], icra[nuind], icdec[nuind], rad=True) ** 2\n",
    "    sg = np.deg2rad(icang[nuind]) ** 2\n",
    "    return np.exp(-1 * ang2 / (2 * sg)) / (2 * np.pi * sg)\n",
    "\n",
    "\n",
    "def S_i(psrno, nuind, weights):\n",
    "\n",
    "        '''\n",
    "        Parameters\n",
    "        ----------\n",
    "        psrno : int\n",
    "            Pulsar number from the ATNF catalogue.\n",
    "        nuind : list\n",
    "            List of indices of neutrinos within the specified declination cut-off.\n",
    "        weights : list\n",
    "            List of weights of each neutrino.\n",
    "\n",
    "        Returns\n",
    "        -------\n",
    "        Returns the signal PDF for the {psrno}th pulsar \n",
    "        '''\n",
    "\n",
    "\n",
    "        sij = S_ij(psrno, nuind)\n",
    "        return np.sum(np.multiply(sij, weights)) / np.sum(weights)\n",
    "\n",
    "def Bi(psrno, cone):\n",
    "\n",
    "    '''\n",
    "    Parameters\n",
    "    ----------\n",
    "    psrno : int\n",
    "        Pulsar number from the ATNF catalogue.\n",
    "    cone : float\n",
    "        Cone angle in degrees.\n",
    "    \n",
    "\n",
    "    Returns\n",
    "    -------\n",
    "    float\n",
    "        Returns the background PDF for the {psrno}th pulsar \n",
    "    '''\n",
    "\n",
    "    binwidth = (np.sin(np.deg2rad(msdec[psrno] + cone)) - np.sin(np.deg2rad(msdec[psrno] - cone)))*2*np.pi\n",
    "\n",
    "    return\n",
    "\n",
    "\n",
    "\n",
    "def bgs(psrno, cone, twopi = False):\n",
    "\n",
    "    '''\n",
    "    Returns the background PDF for a given pulsar {psrno} within\\n\n",
    "    a cone of {cone} degrees for SINGLE STACKED ANALYSIS\n",
    "    '''\n",
    "\n",
    "    if twopi == True:\n",
    "        s_ang = (np.sin(np.deg2rad(msdec[psrno] + cone)) - np.sin(np.deg2rad(msdec[psrno] - cone)))*(2 * np.pi)\n",
    "        return 1/s_ang\n",
    "    else:\n",
    "        s_ang = (np.sin(np.deg2rad(msdec[psrno] + cone)) - np.sin(np.deg2rad(msdec[psrno] - cone)))\n",
    "        return 1/s_ang\n",
    "\n",
    "def Pr(x, Ns, S, B):\n",
    "\n",
    "    '''\n",
    "    Parameters\n",
    "    ----------\n",
    "    x : int\n",
    "        Assumed no.of associated events\n",
    "\n",
    "    Ns : int\n",
    "        No.of neutrinos used for analysis\n",
    "\n",
    "    S : float\n",
    "        Signal PDF\n",
    "    B : float\n",
    "        Background PDF\n",
    "    \n",
    "    Returns\n",
    "    -------\n",
    "    float \n",
    "        Returns the probability of the selected set of neutrinos being associated\\n\n",
    "        with a given pulsar with {Ns} neutrinos, {S} signal and {B} background PDF and {x} assumed associated events\n",
    "    '''\n",
    "\n",
    "    nsN = x/Ns\n",
    "    return np.add(np.multiply(nsN , S), np.multiply(np.subtract(1, nsN), B))\n",
    "\n",
    "\n",
    "def TS(i, x, S, B, Ns):\n",
    "\n",
    "    '''Returns the Test Stastic value fot {i}^th grb\n",
    "    at $n_s$ = {x} for its parameters S, B, Ns    '''\n",
    "    \n",
    "    return 2*np.sum(np.log(Pr(x,  Ns, S, B)/B))\n",
    "\n",
    "\n",
    "def ns_for_TSmax(i, S, B, Ns):\n",
    "\n",
    "    '''\n",
    "    Returns the value of $n_s$ for which\n",
    "    the TS is maximum for {i}^th grb\n",
    "    '''\n",
    "\n",
    "    #returns the TSmax for i^th GRB\n",
    "    nll = lambda x: -TS(i,x, S, B, Ns)\n",
    "    soln = minimize(nll, 6 ,bounds=((0,None),))\n",
    "    ns = float(soln.x)\n",
    "    return ns\n"
   ]
  },
  {
   "cell_type": "code",
   "execution_count": 147,
   "metadata": {},
   "outputs": [],
   "source": [
    "def singpsr(psrno):\n",
    "    cut = 5\n",
    "    cone = 5\n",
    "    nuind, decdf = angdecfinder(psrno, cut)\n",
    "    S = S_ij(psrno, nuind)\n",
    "    B = bgs(psrno, cone, True)\n",
    "    Ns = len(nuind)\n",
    "    maxns = ns_for_TSmax(psrno, S, B, Ns)\n",
    "    return [maxns, np.sqrt(TS(psrno, maxns, S, B, Ns))]\n",
    "\n",
    "tsmax = []\n",
    "errpsr = []\n",
    "pool = mul.Pool(8, maxtasksperchild=800)\n",
    "op_async = pool.map_async(singpsr, range(p))\n",
    "tsmax = op_async.get()\n",
    "op_async = []\n",
    "pool = []\n",
    "'''\n",
    "for i in range(p):\n",
    "    #try:\n",
    "    tsmax.append(singpsr2(i))\n",
    "    #except TypeError:\n",
    "     #   errpsr.append(i)'''\n",
    "maxns = []\n",
    "sqrtts = []\n",
    "for i in tsmax:\n",
    "    maxns.append(i[0])\n",
    "    sqrtts.append(i[1])\n",
    "\n"
   ]
  },
  {
   "cell_type": "markdown",
   "metadata": {},
   "source": [
    "sqrtt = np.sqrt(sqrtts)"
   ]
  },
  {
   "cell_type": "markdown",
   "metadata": {},
   "source": [
    "np.argmax(sqrtt)"
   ]
  },
  {
   "cell_type": "code",
   "execution_count": 124,
   "metadata": {},
   "outputs": [],
   "source": [
    "psrno = 0\n",
    "cut = 5\n",
    "cone = 5\n",
    "nuind, decdf = angdecfinder(psrno, cut)\n",
    "S = S_ij(psrno, nuind)\n",
    "B = bgs(psrno, cone, True)\n",
    "Ns = len(nuind)\n",
    "maxns = ns_for_TSmax(psrno, S, B, Ns)"
   ]
  },
  {
   "cell_type": "code",
   "execution_count": 125,
   "metadata": {},
   "outputs": [
    {
     "data": {
      "text/plain": [
       "38525"
      ]
     },
     "execution_count": 125,
     "metadata": {},
     "output_type": "execute_result"
    }
   ],
   "source": [
    "len(S)"
   ]
  },
  {
   "cell_type": "code",
   "execution_count": 126,
   "metadata": {},
   "outputs": [
    {
     "data": {
      "text/plain": [
       "[0.0, 0.0]"
      ]
     },
     "execution_count": 126,
     "metadata": {},
     "output_type": "execute_result"
    }
   ],
   "source": [
    "singpsr(971)"
   ]
  },
  {
   "cell_type": "code",
   "execution_count": 127,
   "metadata": {},
   "outputs": [
    {
     "name": "stdout",
     "output_type": "stream",
     "text": [
      "38855\n"
     ]
    },
    {
     "data": {
      "image/png": "[encoded data removed]",
      "text/plain": [
       "<Figure size 432x288 with 1 Axes>"
      ]
     },
     "metadata": {
      "needs_background": "light"
     },
     "output_type": "display_data"
    },
    {
     "name": "stdout",
     "output_type": "stream",
     "text": [
      "[0.0, 0.0]\n"
     ]
    }
   ],
   "source": [
    "def plotpsr(psrno):\n",
    "    cut = 5\n",
    "    cone = 5\n",
    "    nuind, decdf = angdecfinder(psrno, cut)\n",
    "    S = S_ij(psrno, nuind)\n",
    "    B = bgs(psrno, cone)\n",
    "    Ns = len(nuind)\n",
    "    tns=[TS(psrno, i, S, B, Ns) for i in range(0, 1000)]\n",
    "    print(Ns)\n",
    "    plt.plot(range(0, 1000), tns)\n",
    "    plt.show()\n",
    "    print([ns_for_TSmax(psrno, S, B, Ns), TS(psrno, ns_for_TSmax(psrno, S, B, Ns), S, B, Ns)])\n",
    "plotpsr(971)"
   ]
  },
  {
   "cell_type": "code",
   "execution_count": 128,
   "metadata": {},
   "outputs": [
    {
     "name": "stdout",
     "output_type": "stream",
     "text": [
      "[971, 228.43658, -59.77553]\n",
      "len(nearcrd) =  38855\n"
     ]
    }
   ],
   "source": [
    "def psrcustom(arr):\n",
    "    cut = 5\n",
    "    cone = 5\n",
    "    for psrno in arr:\n",
    "        nearcrd=[]\n",
    "        for i in range(len(icdec)):\n",
    "            if abs(icdec[i] - msdec[psrno]) <= cut:\n",
    "                nearcrd.append([icra[i], icdec[i], icang[i]])\n",
    "        print([psrno, msra[psrno], msdec[psrno]])\n",
    "        np.savetxt(f\"outputs/ndecnear{psrno}.txt\", nearcrd)\n",
    "        print(\"len(nearcrd) = \", len(nearcrd))\n",
    "\n",
    "psrcustom([971])"
   ]
  },
  {
   "cell_type": "markdown",
   "metadata": {},
   "source": [
    "## STACKING ANALYSIS"
   ]
  },
  {
   "cell_type": "code",
   "execution_count": 202,
   "metadata": {},
   "outputs": [],
   "source": [
    "weights = [aeff[i] * uptime[i] * icdata['log10(E/GeV)'][i]*0.2  for i in range(len(aeff))]"
   ]
  },
  {
   "cell_type": "code",
   "execution_count": 203,
   "metadata": {},
   "outputs": [],
   "source": [
    "def angfinder(b, cut):\n",
    "    ang = []\n",
    "    \n",
    "    for a in range(lg):\n",
    "        \n",
    "        if a != lg - 1:\n",
    "        #try:\n",
    "            ilo = icra[a*p:a*p + p]\n",
    "            ila = icdec[a*p:a*p + p]\n",
    "            lo = msra[b] * np.ones(p)\n",
    "            la = msdec[b] * np.ones(p)\n",
    "            temp = np.abs(hvovec(ilo, ila, lo, la, rad=True))\n",
    "            ntemp = len(temp)\n",
    "            for tt in range(len(temp)):\n",
    "                if temp[tt] > cut:\n",
    "                    temp[tt] = -1\n",
    "            ang.extend(temp)\n",
    "        else:\n",
    "        #except:\n",
    "            ilo = icra[a*p:]\n",
    "            ila = icdec[a*p:]\n",
    "            ext = len(ilo)\n",
    "            lo = msra[b] * np.ones(ext)\n",
    "            la = msdec[b] * np.ones(ext)\n",
    "            temp = np.abs(hvovec(ilo, ila, lo, la, rad=True))\n",
    "            #ang.extend(hvovec(ilo, ila, lo, la))\n",
    "            for tt in range(len(temp)):\n",
    "                if temp[tt] > cut:\n",
    "                    temp[tt] = -1\n",
    "            ang.extend(temp)\n",
    "        \n",
    "    return [ang, nuind]\n",
    "'''\n",
    "def S_i(psrno, aang, cut, weights): \n",
    "\n",
    "    '''\n",
    "    #Returns the signal PDF for the {psrno}th pulsar \n",
    "    #and the all neutrinos within the specified declcut as given in {nuind}\n",
    "'''\n",
    "    signal = 0\n",
    "    for j in range(len(icdata)):\n",
    "        if aang[j] <= cut:\n",
    "            ang2 = aang[j] ** 2\n",
    "            sg = np.deg2rad(icang[j]) ** 2\n",
    "            signal += weights[j] * np.exp(-1 * ang2 / (2 * sg)) / (2 * np.pi * sg)\n",
    "        \n",
    "        return signal/np.sum(weights)\n",
    "\n",
    "\n",
    "'''\n",
    "\n",
    "def S_i(psrno, nuind, weights):\n",
    "\n",
    "        '''\n",
    "        Parameters\n",
    "        ----------\n",
    "        psrno : int\n",
    "            Pulsar number from the ATNF catalogue.\n",
    "        nuind : list\n",
    "            List of indices of neutrinos within the specified declination cut-off.\n",
    "        weights : list\n",
    "            List of weights of each neutrino.\n",
    "\n",
    "        Returns\n",
    "        -------\n",
    "        Returns the signal PDF for the {psrno}th pulsar \n",
    "        '''\n",
    "\n",
    "\n",
    "        sij = S_ij(psrno, nuind)\n",
    "        wts = weights[nuind]\n",
    "        return np.sum(np.multiply(sij, wts)) / np.sum(wts)\n",
    "\n",
    "\n",
    "\n",
    "def Ns2(psrno, cut):\n",
    "    count = 0\n",
    "    for i in range(len(icdec)):\n",
    "        if abs(icdec[i] - msdec[psrno]) < cut:\n",
    "            count+=1\n",
    "    return count\n",
    "\n",
    "\n",
    "def Bi(psrno, cone):\n",
    "\n",
    "    '''\n",
    "    Parameters\n",
    "    ----------\n",
    "    psrno : int\n",
    "        Pulsar number from the ATNF catalogue.\n",
    "    cone : float\n",
    "        Cone angle in degrees.\n",
    "    \n",
    "\n",
    "    Returns\n",
    "    -------\n",
    "    float\n",
    "        Returns the background PDF for the {psrno}th pulsar \n",
    "    '''\n",
    "    count = 0\n",
    "    for i in range(len(icdec)):\n",
    "        if abs(icdec[i] - msdec[psrno]) < cone:\n",
    "            count+=1\n",
    "    binwidth = (np.sin(np.deg2rad(msdec[psrno] + cone)) - np.sin(np.deg2rad(msdec[psrno] - cone)))*2*np.pi\n",
    "\n",
    "    return count / (binwidth*len(icdata))\n",
    "\n",
    "\n",
    "def TS(i, x, S, B, Ns):\n",
    "\n",
    "    '''Returns the Test Stastic value fot {i}^th grb\n",
    "    at $n_s$ = {x} for its parameters S, B, Ns    '''\n",
    "    \n",
    "    return 2*np.sum(np.log(Pr(x,  Ns, S, B)/B))\n",
    "\n",
    "\n",
    "def ns_for_TSmax(i, S, B, Ns):\n",
    "\n",
    "    '''\n",
    "    Returns the value of $n_s$ for which\n",
    "    the TS is maximum for {i}^th grb\n",
    "    '''\n",
    "\n",
    "    #returns the TSmax for i^th GRB\n",
    "    nll = lambda x: -TS(i,x, S, B, Ns)\n",
    "    soln = minimize(nll, 3 ,bounds=((0,None),))\n",
    "    ns = float(soln.x)\n",
    "    return ns"
   ]
  },
  {
   "cell_type": "code",
   "execution_count": 204,
   "metadata": {},
   "outputs": [
    {
     "data": {
      "text/plain": [
       "1134450"
      ]
     },
     "execution_count": 204,
     "metadata": {},
     "output_type": "execute_result"
    }
   ],
   "source": [
    "len(weights)"
   ]
  },
  {
   "cell_type": "code",
   "execution_count": 205,
   "metadata": {},
   "outputs": [],
   "source": [
    "weights = np.array(weights)\n",
    "def singpsr_stacked(psrno):\n",
    "    cut = 5\n",
    "    cone = 5\n",
    "    nuind, decdf = angdecfinder(psrno, cut)\n",
    "    S = S_i(psrno, nuind, weights)\n",
    "    B = bgs(psrno, cone)\n",
    "    Ns = len(nuind)\n",
    "    maxns = ns_for_TSmax(psrno, S, B, Ns)\n",
    "    sqrtts = np.sqrt(TS(psrno, np.round(maxns, 4), S, B, Ns))\n",
    "    return [maxns, sqrtts]"
   ]
  },
  {
   "cell_type": "code",
   "execution_count": 206,
   "metadata": {},
   "outputs": [
    {
     "name": "stderr",
     "output_type": "stream",
     "text": [
      "/tmp/ipykernel_1062504/2847988121.py:10: RuntimeWarning: invalid value encountered in sqrt\n",
      "  sqrtts = np.sqrt(TS(psrno, np.round(maxns, 4), S, B, Ns))\n"
     ]
    }
   ],
   "source": [
    "aa, b = singpsr_stacked(1)"
   ]
  },
  {
   "cell_type": "code",
   "execution_count": 207,
   "metadata": {},
   "outputs": [
    {
     "data": {
      "text/plain": [
       "2.9999874320381155"
      ]
     },
     "execution_count": 207,
     "metadata": {},
     "output_type": "execute_result"
    }
   ],
   "source": [
    "aa"
   ]
  },
  {
   "cell_type": "code",
   "execution_count": 183,
   "metadata": {},
   "outputs": [],
   "source": [
    "tsmax = []\n",
    "pool = mul.Pool(8, maxtasksperchild=800)\n",
    "op_async = pool.map_async(singpsr_stacked, range(p))\n",
    "tsmax = op_async.get()\n",
    "op_async = []\n",
    "pool = []\n",
    "maxns = []\n",
    "maxts = []\n",
    "for i in tsmax:\n",
    "    maxns.append(i[0])\n",
    "    maxts.append(i[1])"
   ]
  },
  {
   "cell_type": "code",
   "execution_count": 187,
   "metadata": {},
   "outputs": [
    {
     "name": "stdout",
     "output_type": "stream",
     "text": [
      "38525\n"
     ]
    },
    {
     "data": {
      "image/png": "[encoded data removed]",
      "text/plain": [
       "<Figure size 432x288 with 1 Axes>"
      ]
     },
     "metadata": {
      "needs_background": "light"
     },
     "output_type": "display_data"
    },
    {
     "name": "stdout",
     "output_type": "stream",
     "text": [
      "[2.999954522163817, -0.00013641163765055065, 0.0]\n"
     ]
    }
   ],
   "source": [
    "def plotpsr_st(psrno):\n",
    "    cut = 5\n",
    "    cone = 5\n",
    "    nuind, decdf = angdecfinder(psrno, cut)\n",
    "    S = S_i(psrno, nuind, weights)\n",
    "    B = bgs(psrno, cone)\n",
    "    Ns = len(nuind)\n",
    "    tns=[TS(psrno, i, S, B, Ns) for i in range(0, 1000)]\n",
    "    print(Ns)\n",
    "    plt.plot(range(0, 1000), tns)\n",
    "    plt.show()\n",
    "    print([ns_for_TSmax(psrno, S, B, Ns), TS(psrno, ns_for_TSmax(psrno, S, B, Ns), S, B, Ns), TS(psrno, 0, S, B, Ns)])\n",
    "plotpsr_st(0)"
   ]
  },
  {
   "cell_type": "code",
   "execution_count": 185,
   "metadata": {},
   "outputs": [],
   "source": [
    "binnedsts, wsts = np.histogram(maxts, 10)\n",
    "\n",
    "ne01 = 3\n",
    "amp  = p/3.0#np.sum(binnedsts)/ne01\n",
    "#binnedsts = binnedsts/amp\n",
    "yerr = np.sqrt(binnedsts)\n",
    "b2 = binnedsts[(binnedsts>10)]\n",
    "yerr2 = yerr[(binnedsts>10)]\n",
    "x=0.5*(wsts[1:]+ wsts[:-1])\n",
    "x2 = x[(binnedsts>10)]\n",
    "xerr=x[0]-wsts[0]"
   ]
  },
  {
   "cell_type": "code",
   "execution_count": 150,
   "metadata": {},
   "outputs": [
    {
     "data": {
      "text/plain": [
       "array([ 0.        ,  0.        ,  0.        ,  0.        ,  0.        ,\n",
       "       57.80138407,  0.        ,  0.        ,  0.        ,  0.        ])"
      ]
     },
     "execution_count": 150,
     "metadata": {},
     "output_type": "execute_result"
    }
   ],
   "source": [
    "yerr"
   ]
  },
  {
   "cell_type": "code",
   "execution_count": 151,
   "metadata": {},
   "outputs": [
    {
     "data": {
      "text/plain": [
       "array([-0.5, -0.4, -0.3, -0.2, -0.1,  0. ,  0.1,  0.2,  0.3,  0.4,  0.5])"
      ]
     },
     "execution_count": 151,
     "metadata": {},
     "output_type": "execute_result"
    }
   ],
   "source": [
    "wsts"
   ]
  },
  {
   "cell_type": "code",
   "execution_count": 152,
   "metadata": {},
   "outputs": [],
   "source": [
    "#gaussian = lambda x, mean, var:  amp*norm.pdf(x, mean, var)\n",
    "def gaussian(x,mean,sd):\n",
    "#    mean=0.114\n",
    "    A=p/3.0\n",
    "    return A*np.exp(-(x - mean) ** 2.0 / sd ** 2.0)\n",
    "loggaussian = lambda x, mean, var:  np.log(gaussian(x, mean, var))\n",
    "gparam, gerr = curve_fit(gaussian, x2, b2,  p0=[0.1, 1.0],sigma=yerr2, absolute_sigma=True, maxfev = 10000, method='dogbox')\n",
    "gx = np.linspace(0, wsts[-1], 100)"
   ]
  },
  {
   "cell_type": "code",
   "execution_count": 153,
   "metadata": {},
   "outputs": [
    {
     "data": {
      "text/plain": [
       "array([0.05001221, 1.0033327 ])"
      ]
     },
     "execution_count": 153,
     "metadata": {},
     "output_type": "execute_result"
    }
   ],
   "source": [
    "gparam"
   ]
  },
  {
   "cell_type": "code",
   "execution_count": 154,
   "metadata": {},
   "outputs": [
    {
     "data": {
      "text/plain": [
       "0.0"
      ]
     },
     "execution_count": 154,
     "metadata": {},
     "output_type": "execute_result"
    }
   ],
   "source": [
    "max(maxts)"
   ]
  },
  {
   "cell_type": "code",
   "execution_count": 155,
   "metadata": {},
   "outputs": [
    {
     "data": {
      "image/png": "[encoded data removed]",
      "text/plain": [
       "<Figure size 777.6x518.4 with 1 Axes>"
      ]
     },
     "metadata": {
      "needs_background": "light"
     },
     "output_type": "display_data"
    }
   ],
   "source": [
    "font = {'family': 'serif',\n",
    "        'color':  'black',\n",
    "        'weight': 'bold',\n",
    "        'size': 22,\n",
    "        }\n",
    "plt.figure(figsize=(10.8,7.2))\n",
    "plt.xticks([0, 1, 2, 3, 4, 5, 6, 7, 8, 9], [0, 1, 2, 3, 4, 5, 6, 7, 8, 9], fontsize=17, fontweight='bold')\n",
    "plt.yscale('log')\n",
    "plt.yticks([1, 10, 100, 1000, 10000], [1, 10, 100, 1000, 10000], fontsize=17, fontweight='bold')\n",
    "\n",
    "plt.errorbar(x, binnedsts, xerr=xerr,yerr=yerr,  aa = True, barsabove = True, fmt='ob',ecolor='blue', elinewidth=1.35, label='$\\sqrt{TS_{max}}$')\n",
    "plt.plot(gx,gaussian(gx, gparam[0], gparam[1]),'--', alpha=0.6, label=f'Gaussian Fit', color='darkred', lw=2.2)\n",
    "\n",
    "plt.xlabel(\"$\\mathbf{\\sqrt{TS_{max}}}$\", fontweight='bold', fontdict=font)\n",
    "plt.ylabel(\"No.of Events\", fontweight='bold', fontdict=font)\n",
    "#plt.grid(True, which='major')\n",
    "legend =plt.legend(prop={'size':17}, framealpha=0)\n",
    "legend.get_frame().set_facecolor('none')\n",
    "plt.savefig(\"outputs/sqrt(TSmax)stacked.pdf\")\n",
    "plt.show()"
   ]
  },
  {
   "cell_type": "code",
   "execution_count": null,
   "metadata": {},
   "outputs": [],
   "source": []
  }
 ],
 "metadata": {
  "kernelspec": {
   "display_name": "Python 3.10.6 64-bit",
   "language": "python",
   "name": "python3"
  },
  "language_info": {
   "codemirror_mode": {
    "name": "ipython",
    "version": 3
   },
   "file_extension": ".py",
   "mimetype": "text/x-python",
   "name": "python",
   "nbconvert_exporter": "python",
   "pygments_lexer": "ipython3",
   "version": "3.10.6"
  },
  "orig_nbformat": 4,
  "vscode": {
   "interpreter": {
    "hash": "916dbcbb3f70747c44a77c7bcd40155683ae19c65e1c03b4aa3499c5328201f1"
   }
  }
 },
 "nbformat": 4,
 "nbformat_minor": 2
}
