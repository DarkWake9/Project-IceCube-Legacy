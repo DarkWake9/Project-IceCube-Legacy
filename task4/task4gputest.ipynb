{
 "cells": [
  {
   "cell_type": "markdown",
   "metadata": {},
   "source": [
    "# STACKING ANALYSIS"
   ]
  },
  {
   "cell_type": "markdown",
   "metadata": {},
   "source": [
    "### sped up stacking analysis using numba.jit decorator with nopython=true"
   ]
  },
  {
   "cell_type": "code",
   "execution_count": 1,
   "metadata": {},
   "outputs": [],
   "source": [
    "import numpy as np\n",
    "import pandas as pd\n",
    "import os\n",
    "import multiprocessing as mul\n",
    "from multiprocessing import Process\n",
    "import matplotlib.pyplot as plt\n",
    "#import seaborn as sns\n",
    "from scipy.optimize import minimize\n",
    "from scipy.optimize import curve_fit\n",
    "from IPython.display import clear_output\n",
    "from scipy.stats import chi2\n",
    "from scipy.stats import norm\n",
    "from scipy.stats import gaussian_kde\n",
    "import scipy.stats as sct\n",
    "from astropy.coordinates import SkyCoord as scr\n",
    "from astropy import units as u\n",
    "from time import sleep\n"
   ]
  },
  {
   "cell_type": "code",
   "execution_count": 2,
   "metadata": {},
   "outputs": [],
   "source": [
    "#import cupy as cp\n",
    "from numba import jit"
   ]
  },
  {
   "cell_type": "code",
   "execution_count": 3,
   "metadata": {},
   "outputs": [
    {
     "name": "stdout",
     "output_type": "stream",
     "text": [
      "read icdata\n",
      "IC40_exp.csv read\n",
      "IC59_exp.csv read\n",
      "IC79_exp.csv read\n",
      "IC86_I_exp.csv read\n",
      "IC86_II_exp.csv read\n",
      "IC86_III_exp.csv read\n",
      "IC86_IV_exp.csv read\n",
      "IC86_V_exp.csv read\n",
      "IC86_VI_exp.csv read\n",
      "IC86_VII_exp.csv read\n",
      "IC40_effectiveArea.csv read\n",
      "IC59_effectiveArea.csv read\n",
      "IC79_effectiveArea.csv read\n",
      "IC86_I_effectiveArea.csv read\n",
      "IC86_II_effectiveArea.csv read\n"
     ]
    }
   ],
   "source": [
    "####\n",
    "#### IMPORTING AND SPLITTING ICDATA $$$\n",
    "\n",
    "\n",
    "path = \"/media/darkwake/VIB2/Project-IceCube/icecube_10year_ps/events\"\n",
    "t_eff_path = \"/media/darkwake/VIB2/Project-IceCube/icecube_10year_ps/uptime\"\n",
    "irf_path = \"/media/darkwake/VIB2/Project-IceCube/icecube_10year_ps/irfs\"\n",
    "filenames = [\"IC40_exp.csv\", \"IC59_exp.csv\",\"IC79_exp.csv\", \"IC86_I_exp.csv\", \"IC86_II_exp.csv\",\n",
    "\"IC86_III_exp.csv\", \"IC86_IV_exp.csv\", \"IC86_V_exp.csv\", \"IC86_VI_exp.csv\", \"IC86_VII_exp.csv\"]\n",
    "file = filenames[0]\n",
    "f = open(os.path.join(path, file), 'r')\n",
    "lines = f.readlines()\n",
    "column=lines[0].split()\n",
    "column.pop(0)\n",
    "content = []\n",
    "for file in filenames:\n",
    "    f = open(os.path.join(path, file), 'r')\n",
    "    lines = f.readlines()\n",
    "    #print(len(lines) - 1)\n",
    "    for line in lines[1:]:\n",
    "        content.append(line.split())\n",
    "    f.close()\n",
    "icdata = pd.DataFrame(content, columns=column, dtype=float)#.convert_dtypes(infer_objects=True,convert_integer=True,convert_floating=True)\n",
    "icdata['log10(E/GeV)'] = [float(i) for i in icdata['log10(E/GeV)']]\n",
    "icdata['MJD[days]'] = [float(i) for i in icdata['MJD[days]']]\n",
    "\n",
    "print(\"read icdata\")\n",
    "f.close()\n",
    "\n",
    "\n",
    "\n",
    "#Importing UPtime data\n",
    "file = filenames[0]\n",
    "f = open(os.path.join(t_eff_path, file), 'r')\n",
    "lines = f.readlines()\n",
    "column=lines[0].split()\n",
    "column.pop(0)\n",
    "uptdata = []\n",
    "for file in filenames:\n",
    "    content = []\n",
    "    f = open(os.path.join(t_eff_path, file), 'r')\n",
    "    lines = f.readlines()\n",
    "    for line in lines[1:]:\n",
    "        content.append(line.split())\n",
    "    f.close()\n",
    "    temp = pd.DataFrame(content, columns=column)\n",
    "    temp['MJD_start[days]'] = [float(i) for i in temp['MJD_start[days]']]\n",
    "    temp['MJD_stop[days]'] = [float(i) for i in temp['MJD_stop[days]']]\n",
    "    uptdata.append(temp)\n",
    "    temp = []\n",
    "    content = []\n",
    "    print(file + \" read\")\n",
    "f.close()\n",
    "\n",
    "\n",
    "#Importing Aeff data\n",
    "filenames = [\"IC40_effectiveArea.csv\", \"IC59_effectiveArea.csv\",\"IC79_effectiveArea.csv\", \"IC86_I_effectiveArea.csv\", \"IC86_II_effectiveArea.csv\"]\n",
    "file = filenames[0]\n",
    "f = open(os.path.join(irf_path, file), 'r')\n",
    "lines = f.readlines()\n",
    "column=lines[0].split()\n",
    "column.pop(0)\n",
    "eadata = []\n",
    "for file in filenames:\n",
    "    content = []\n",
    "    f = open(os.path.join(irf_path, file), 'r')\n",
    "    lines = f.readlines()\n",
    "    for line in lines[1:]:\n",
    "        content.append(line.split())\n",
    "    f.close()\n",
    "    temp = pd.DataFrame(content, columns=column, dtype=float)\n",
    "    #temp['MJD_start[days]'] = [float(i) for i in temp['MJD_start[days]']]\n",
    "    #temp['MJD_stop[days]'] = [float(i) for i in temp['MJD_stop[days]']]\n",
    "    eadata.append(temp)\n",
    "    temp = []\n",
    "    content = []\n",
    "    print(file + \" read\")\n",
    "f.close()"
   ]
  },
  {
   "cell_type": "code",
   "execution_count": 4,
   "metadata": {},
   "outputs": [
    {
     "name": "stdout",
     "output_type": "stream",
     "text": [
      "1134450\n"
     ]
    }
   ],
   "source": [
    "icwidths = [int(i) for i in \"0 36900 107011 93133 136244 112858 122541 127045 129311 123657 145750\".split(' ')]\n",
    "print(np.sum(icwidths))"
   ]
  },
  {
   "cell_type": "code",
   "execution_count": 5,
   "metadata": {},
   "outputs": [
    {
     "data": {
      "text/html": [
       "<div>\n",
       "<style scoped>\n",
       "    .dataframe tbody tr th:only-of-type {\n",
       "        vertical-align: middle;\n",
       "    }\n",
       "\n",
       "    .dataframe tbody tr th {\n",
       "        vertical-align: top;\n",
       "    }\n",
       "\n",
       "    .dataframe thead th {\n",
       "        text-align: right;\n",
       "    }\n",
       "</style>\n",
       "<table border=\"1\" class=\"dataframe\">\n",
       "  <thead>\n",
       "    <tr style=\"text-align: right;\">\n",
       "      <th></th>\n",
       "      <th>MJD[days]</th>\n",
       "      <th>log10(E/GeV)</th>\n",
       "      <th>AngErr[deg]</th>\n",
       "      <th>RA[deg]</th>\n",
       "      <th>Dec[deg]</th>\n",
       "      <th>Azimuth[deg]</th>\n",
       "      <th>Zenith[deg]</th>\n",
       "    </tr>\n",
       "  </thead>\n",
       "  <tbody>\n",
       "    <tr>\n",
       "      <th>0</th>\n",
       "      <td>54562.379113</td>\n",
       "      <td>3.31</td>\n",
       "      <td>0.48</td>\n",
       "      <td>203.024</td>\n",
       "      <td>16.760</td>\n",
       "      <td>218.374</td>\n",
       "      <td>106.712</td>\n",
       "    </tr>\n",
       "    <tr>\n",
       "      <th>1</th>\n",
       "      <td>54562.386622</td>\n",
       "      <td>5.17</td>\n",
       "      <td>0.62</td>\n",
       "      <td>75.024</td>\n",
       "      <td>-13.371</td>\n",
       "      <td>349.100</td>\n",
       "      <td>76.646</td>\n",
       "    </tr>\n",
       "    <tr>\n",
       "      <th>2</th>\n",
       "      <td>54562.387892</td>\n",
       "      <td>3.92</td>\n",
       "      <td>0.56</td>\n",
       "      <td>97.501</td>\n",
       "      <td>11.290</td>\n",
       "      <td>327.060</td>\n",
       "      <td>101.291</td>\n",
       "    </tr>\n",
       "    <tr>\n",
       "      <th>3</th>\n",
       "      <td>54562.392677</td>\n",
       "      <td>5.57</td>\n",
       "      <td>1.13</td>\n",
       "      <td>305.857</td>\n",
       "      <td>-33.932</td>\n",
       "      <td>120.413</td>\n",
       "      <td>56.090</td>\n",
       "    </tr>\n",
       "    <tr>\n",
       "      <th>4</th>\n",
       "      <td>54562.404776</td>\n",
       "      <td>5.80</td>\n",
       "      <td>1.11</td>\n",
       "      <td>143.516</td>\n",
       "      <td>-38.279</td>\n",
       "      <td>287.171</td>\n",
       "      <td>51.684</td>\n",
       "    </tr>\n",
       "    <tr>\n",
       "      <th>...</th>\n",
       "      <td>...</td>\n",
       "      <td>...</td>\n",
       "      <td>...</td>\n",
       "      <td>...</td>\n",
       "      <td>...</td>\n",
       "      <td>...</td>\n",
       "      <td>...</td>\n",
       "    </tr>\n",
       "    <tr>\n",
       "      <th>1134445</th>\n",
       "      <td>58307.961110</td>\n",
       "      <td>5.14</td>\n",
       "      <td>0.20</td>\n",
       "      <td>221.246</td>\n",
       "      <td>-59.959</td>\n",
       "      <td>141.239</td>\n",
       "      <td>29.956</td>\n",
       "    </tr>\n",
       "    <tr>\n",
       "      <th>1134446</th>\n",
       "      <td>58307.962666</td>\n",
       "      <td>2.94</td>\n",
       "      <td>1.23</td>\n",
       "      <td>191.547</td>\n",
       "      <td>4.415</td>\n",
       "      <td>171.627</td>\n",
       "      <td>94.312</td>\n",
       "    </tr>\n",
       "    <tr>\n",
       "      <th>1134447</th>\n",
       "      <td>58307.963556</td>\n",
       "      <td>2.88</td>\n",
       "      <td>0.30</td>\n",
       "      <td>308.127</td>\n",
       "      <td>42.543</td>\n",
       "      <td>55.437</td>\n",
       "      <td>132.606</td>\n",
       "    </tr>\n",
       "    <tr>\n",
       "      <th>1134448</th>\n",
       "      <td>58307.963972</td>\n",
       "      <td>2.98</td>\n",
       "      <td>0.21</td>\n",
       "      <td>332.199</td>\n",
       "      <td>44.720</td>\n",
       "      <td>31.489</td>\n",
       "      <td>134.811</td>\n",
       "    </tr>\n",
       "    <tr>\n",
       "      <th>1134449</th>\n",
       "      <td>58307.972603</td>\n",
       "      <td>3.28</td>\n",
       "      <td>0.25</td>\n",
       "      <td>213.309</td>\n",
       "      <td>4.708</td>\n",
       "      <td>153.453</td>\n",
       "      <td>94.619</td>\n",
       "    </tr>\n",
       "  </tbody>\n",
       "</table>\n",
       "<p>1134450 rows × 7 columns</p>\n",
       "</div>"
      ],
      "text/plain": [
       "            MJD[days]  log10(E/GeV)  AngErr[deg]  RA[deg]  Dec[deg]  \\\n",
       "0        54562.379113          3.31         0.48  203.024    16.760   \n",
       "1        54562.386622          5.17         0.62   75.024   -13.371   \n",
       "2        54562.387892          3.92         0.56   97.501    11.290   \n",
       "3        54562.392677          5.57         1.13  305.857   -33.932   \n",
       "4        54562.404776          5.80         1.11  143.516   -38.279   \n",
       "...               ...           ...          ...      ...       ...   \n",
       "1134445  58307.961110          5.14         0.20  221.246   -59.959   \n",
       "1134446  58307.962666          2.94         1.23  191.547     4.415   \n",
       "1134447  58307.963556          2.88         0.30  308.127    42.543   \n",
       "1134448  58307.963972          2.98         0.21  332.199    44.720   \n",
       "1134449  58307.972603          3.28         0.25  213.309     4.708   \n",
       "\n",
       "         Azimuth[deg]  Zenith[deg]  \n",
       "0             218.374      106.712  \n",
       "1             349.100       76.646  \n",
       "2             327.060      101.291  \n",
       "3             120.413       56.090  \n",
       "4             287.171       51.684  \n",
       "...               ...          ...  \n",
       "1134445       141.239       29.956  \n",
       "1134446       171.627       94.312  \n",
       "1134447        55.437      132.606  \n",
       "1134448        31.489      134.811  \n",
       "1134449       153.453       94.619  \n",
       "\n",
       "[1134450 rows x 7 columns]"
      ]
     },
     "execution_count": 5,
     "metadata": {},
     "output_type": "execute_result"
    }
   ],
   "source": [
    "icdata"
   ]
  },
  {
   "cell_type": "code",
   "execution_count": 6,
   "metadata": {},
   "outputs": [],
   "source": [
    "ictimes = [float(i) for i in icdata['MJD[days]']]\n",
    "icparts = [np.sum(icwidths[:i]) for i in range(1,len(icwidths)+1)]\n",
    "#icparts.pop(-1)\n",
    "#icparts"
   ]
  },
  {
   "cell_type": "code",
   "execution_count": 7,
   "metadata": {},
   "outputs": [
    {
     "data": {
      "text/plain": [
       "True"
      ]
     },
     "execution_count": 7,
     "metadata": {},
     "output_type": "execute_result"
    }
   ],
   "source": [
    "upt_icparts = icparts[:5]\n",
    "upt_icparts.append(icparts[-1])\n",
    "len(upt_icparts) - 1 == len(eadata)"
   ]
  },
  {
   "cell_type": "code",
   "execution_count": 8,
   "metadata": {},
   "outputs": [],
   "source": [
    "log_e = np.round(np.arange(2, 10.2, 0.2), 2)\n",
    "dec_nu = list(set(eadata[0]['Dec_nu_min[deg]'].values).union(set(eadata[0]['Dec_nu_max[deg]'].values)))\n",
    "dec_nu.sort()\n",
    "dec_nu = np.array(dec_nu)"
   ]
  },
  {
   "cell_type": "code",
   "execution_count": 9,
   "metadata": {},
   "outputs": [
    {
     "name": "stdout",
     "output_type": "stream",
     "text": [
      "[15, 39]\n"
     ]
    }
   ],
   "source": [
    "nu_e = 5\n",
    "e_ind = 0\n",
    "for i in range(len(log_e) - 1):\n",
    "    if nu_e >= log_e[i] and nu_e < log_e[i+1]:\n",
    "        e_ind = i\n",
    "print([e_ind, i])"
   ]
  },
  {
   "cell_type": "code",
   "execution_count": 10,
   "metadata": {},
   "outputs": [
    {
     "data": {
      "text/html": [
       "<div>\n",
       "<style scoped>\n",
       "    .dataframe tbody tr th:only-of-type {\n",
       "        vertical-align: middle;\n",
       "    }\n",
       "\n",
       "    .dataframe tbody tr th {\n",
       "        vertical-align: top;\n",
       "    }\n",
       "\n",
       "    .dataframe thead th {\n",
       "        text-align: right;\n",
       "    }\n",
       "</style>\n",
       "<table border=\"1\" class=\"dataframe\">\n",
       "  <thead>\n",
       "    <tr style=\"text-align: right;\">\n",
       "      <th></th>\n",
       "      <th>NAME</th>\n",
       "      <th>RAJD</th>\n",
       "      <th>DECJD</th>\n",
       "    </tr>\n",
       "  </thead>\n",
       "  <tbody>\n",
       "    <tr>\n",
       "      <th>0</th>\n",
       "      <td>J0002+6216</td>\n",
       "      <td>0.74238</td>\n",
       "      <td>62.26928</td>\n",
       "    </tr>\n",
       "    <tr>\n",
       "      <th>1</th>\n",
       "      <td>J0006+1834</td>\n",
       "      <td>1.52</td>\n",
       "      <td>18.5831</td>\n",
       "    </tr>\n",
       "    <tr>\n",
       "      <th>2</th>\n",
       "      <td>J0007+7303</td>\n",
       "      <td>1.7571</td>\n",
       "      <td>73.0521</td>\n",
       "    </tr>\n",
       "    <tr>\n",
       "      <th>3</th>\n",
       "      <td>J0011+08</td>\n",
       "      <td>2.9</td>\n",
       "      <td>8.17</td>\n",
       "    </tr>\n",
       "    <tr>\n",
       "      <th>4</th>\n",
       "      <td>B0011+47</td>\n",
       "      <td>3.57396</td>\n",
       "      <td>47.77594</td>\n",
       "    </tr>\n",
       "    <tr>\n",
       "      <th>...</th>\n",
       "      <td>...</td>\n",
       "      <td>...</td>\n",
       "      <td>...</td>\n",
       "    </tr>\n",
       "    <tr>\n",
       "      <th>3336</th>\n",
       "      <td>J2351+8533</td>\n",
       "      <td>357.764</td>\n",
       "      <td>85.55573</td>\n",
       "    </tr>\n",
       "    <tr>\n",
       "      <th>3337</th>\n",
       "      <td>J2352+65</td>\n",
       "      <td>358</td>\n",
       "      <td>65</td>\n",
       "    </tr>\n",
       "    <tr>\n",
       "      <th>3338</th>\n",
       "      <td>J2354-22</td>\n",
       "      <td>358.60833</td>\n",
       "      <td>-22.86472</td>\n",
       "    </tr>\n",
       "    <tr>\n",
       "      <th>3339</th>\n",
       "      <td>B2351+61</td>\n",
       "      <td>358.5199292</td>\n",
       "      <td>61.9296792</td>\n",
       "    </tr>\n",
       "    <tr>\n",
       "      <th>3340</th>\n",
       "      <td>J2355+2246</td>\n",
       "      <td>358.9575</td>\n",
       "      <td>22.771</td>\n",
       "    </tr>\n",
       "  </tbody>\n",
       "</table>\n",
       "<p>3341 rows × 3 columns</p>\n",
       "</div>"
      ],
      "text/plain": [
       "            NAME         RAJD       DECJD\n",
       "0     J0002+6216      0.74238    62.26928\n",
       "1     J0006+1834         1.52     18.5831\n",
       "2     J0007+7303       1.7571     73.0521\n",
       "3       J0011+08          2.9        8.17\n",
       "4       B0011+47      3.57396    47.77594\n",
       "...          ...          ...         ...\n",
       "3336  J2351+8533      357.764    85.55573\n",
       "3337    J2352+65          358          65\n",
       "3338    J2354-22    358.60833   -22.86472\n",
       "3339    B2351+61  358.5199292  61.9296792\n",
       "3340  J2355+2246     358.9575      22.771\n",
       "\n",
       "[3341 rows x 3 columns]"
      ]
     },
     "execution_count": 10,
     "metadata": {},
     "output_type": "execute_result"
    }
   ],
   "source": [
    "#IMPORTING MSPDATA\n",
    "f = open(\"/media/darkwake/VIB2/Project-IceCube/allpsr1.68.txt\", 'r')\n",
    "lines = f.readlines()\n",
    "content=[]\n",
    "column=lines.pop(0).replace('x', '').replace('#', '').split()\n",
    "for line in lines[:]:\n",
    "    content.append(line.split())\n",
    "    #the INITAL DATABASE IS CLUTTERED SO WE REMOVE THE NULL COLUMNS AND OTHER CLUTTER\n",
    "f.close()\n",
    "mspdata = pd.DataFrame(content).drop(0, axis=1)#.dropna()#.drop_duplicates()#.drop(range(0,6)).dropna()\n",
    "\n",
    "line = []\n",
    "lines = []\n",
    "mspdata.columns = column\n",
    "column = []\n",
    "content=[]\n",
    "#mspdata = mspdata.sort_values('DECJD')\n",
    "mspdata.dropna(inplace=True)\n",
    "#mspdata = mspdata.reset_index()\n",
    "#mspdata = mspdata.drop(\"index\", axis=1)\n",
    "mspdata"
   ]
  },
  {
   "cell_type": "code",
   "execution_count": 11,
   "metadata": {},
   "outputs": [],
   "source": [
    "msra = np.array([float(i) for i in mspdata['RAJD'].values])\n",
    "msdec = np.array([float(i) for i in mspdata['DECJD'].values])\n",
    "icra = np.array([float(i) for i in icdata['RA[deg]']])\n",
    "icdec = np.array([float(i) for i in icdata['Dec[deg]']])\n",
    "icang = np.array([float(i) for i in icdata['AngErr[deg]']])\n",
    "global p, lg\n",
    "p = len(msra)\n",
    "lg = len(icra) // p + 1"
   ]
  },
  {
   "cell_type": "code",
   "execution_count": 12,
   "metadata": {},
   "outputs": [
    {
     "data": {
      "text/plain": [
       "[-89.957, 89.977]"
      ]
     },
     "execution_count": 12,
     "metadata": {},
     "output_type": "execute_result"
    }
   ],
   "source": [
    "[min(icdec), max(icdec)]"
   ]
  },
  {
   "cell_type": "code",
   "execution_count": 13,
   "metadata": {},
   "outputs": [
    {
     "data": {
      "text/plain": [
       "array([203.024, 147.017, 236.214])"
      ]
     },
     "execution_count": 13,
     "metadata": {},
     "output_type": "execute_result"
    }
   ],
   "source": [
    "icra[[0, 6, 8] ]"
   ]
  },
  {
   "cell_type": "markdown",
   "metadata": {},
   "source": [
    "## STACKING ANALYSIS"
   ]
  },
  {
   "cell_type": "markdown",
   "metadata": {},
   "source": [
    "gamma = 2.0\n",
    "e_nu = 1e11 ** gamma\n",
    "weights = [aeff[i] * uptime[i] * e_nu *0.2  for i in range(len(aeff))]"
   ]
  },
  {
   "cell_type": "code",
   "execution_count": 15,
   "metadata": {},
   "outputs": [
    {
     "data": {
      "text/plain": [
       "51"
      ]
     },
     "execution_count": 15,
     "metadata": {},
     "output_type": "execute_result"
    }
   ],
   "source": [
    "len(dec_nu)"
   ]
  },
  {
   "cell_type": "markdown",
   "metadata": {},
   "source": [
    "![SNOWFALL](test.png)"
   ]
  },
  {
   "cell_type": "code",
   "execution_count": 16,
   "metadata": {},
   "outputs": [],
   "source": [
    "e_nu = 1e9**(log_e[:-1] + 0.1)\n",
    "de_nu = 1e9**0.2"
   ]
  },
  {
   "cell_type": "code",
   "execution_count": 17,
   "metadata": {},
   "outputs": [
    {
     "data": {
      "text/plain": [
       "40"
      ]
     },
     "execution_count": 17,
     "metadata": {},
     "output_type": "execute_result"
    }
   ],
   "source": [
    "len(e_nu)"
   ]
  },
  {
   "cell_type": "code",
   "execution_count": 18,
   "metadata": {},
   "outputs": [],
   "source": [
    "#@jit(nopython=True)\n",
    "def psr_wt_quick(nusample_wall, psrno, gamma = 1):\n",
    "\n",
    "    '''\n",
    "    Parameters\n",
    "    ----------\n",
    "    nusample_wall : float\n",
    "        The index of catalogue of the given neutrino\n",
    "    psrno : int\n",
    "        The index of the pulsar in the ATNF catalogue\n",
    "    gamma : float, optional\n",
    "        (default) 1\n",
    "        The spectral index of the power law\n",
    "    Returns the weight of psrno^th pulsar for a given neutrino sample {nusample_wall}\n",
    "    '''\n",
    "    \n",
    "    aeff = -1\n",
    "    #nu_e = icdata['log10(E/GeV)'].values[nu]\n",
    "    psr_decl = icdec[psrno]\n",
    "    #upt = upt_icparts[nusample_wall]\n",
    "    t_upt = uptdata[nusample_wall]['MJD_stop[days]'].values[-1] - uptdata[nusample_wall]['MJD_start[days]'].values[0]\n",
    "    t_upt*=86400\n",
    "    d_ind = 0\n",
    "    for i in range(len(dec_nu) - 1):\n",
    "        if dec_nu[i] <= psr_decl and dec_nu[i+1] >= psr_decl:\n",
    "            d_ind = i\n",
    "            break\n",
    "    ea_temp = eadata[nusample_wall][d_ind*40:(d_ind+1)*40]\n",
    "    earea = np.array(ea_temp['A_Eff[cm^2]'].values)\n",
    "    weight_kj = t_upt * np.sum(np.multiply(np.multiply(earea, np.power(e_nu, gamma)), de_nu))\n",
    "    sleep(1e-8)\n",
    "    return weight_kj                           \n",
    "            "
   ]
  },
  {
   "cell_type": "markdown",
   "metadata": {},
   "source": [
    "all_weights[i][j] = weight of pulsar i in j^th partition of uptime data (upt_part)"
   ]
  },
  {
   "cell_type": "code",
   "execution_count": 19,
   "metadata": {},
   "outputs": [
    {
     "name": "stdout",
     "output_type": "stream",
     "text": [
      "0\n",
      "36900\n",
      "143911\n",
      "237044\n",
      "373288\n"
     ]
    },
    {
     "data": {
      "text/plain": [
       "array([2.27942460e+109, 2.77350069e+100, 2.82228563e+100, 3.67191758e+100,\n",
       "       3.49821314e+100])"
      ]
     },
     "execution_count": 19,
     "metadata": {},
     "output_type": "execute_result"
    }
   ],
   "source": [
    "all_weights = []\n",
    "for i in range(len(upt_icparts)-1):\n",
    "    print(upt_icparts[i])\n",
    "    all_weights.append([psr_wt_quick(i, psrno) for psrno in range(p)])\n",
    "all_weights = np.asfarray(all_weights)\n",
    "sum_weights = [np.sum(i) for i in all_weights]\n",
    "sum_weights = np.asfarray(sum_weights)\n",
    "sum_weights"
   ]
  },
  {
   "cell_type": "code",
   "execution_count": 20,
   "metadata": {},
   "outputs": [
    {
     "data": {
      "text/plain": [
       "numpy.ndarray"
      ]
     },
     "execution_count": 20,
     "metadata": {},
     "output_type": "execute_result"
    }
   ],
   "source": [
    "type(all_weights[0])"
   ]
  },
  {
   "cell_type": "code",
   "execution_count": 21,
   "metadata": {},
   "outputs": [],
   "source": [
    "vec_uptparts = np.asfarray(upt_icparts)"
   ]
  },
  {
   "cell_type": "code",
   "execution_count": 25,
   "metadata": {},
   "outputs": [],
   "source": [
    "@jit(nopython=True)\n",
    "def hvovec(lon1=0.0, lat1=0.0, lon2=0.0, lat2=0.0, rad=False):\n",
    "\n",
    "    '''\n",
    "    Parameters\n",
    "    ----------\n",
    "    lon1 : float\n",
    "        Longitude of first point.\n",
    "    lat1 : float\n",
    "        Latitude of first point.\n",
    "\n",
    "\n",
    "    lon2 : float\n",
    "        Longitude of second point.\n",
    "    lat2 : float\n",
    "        Latitude of second point.\n",
    "\n",
    "    rad : Boolean, optional\n",
    "        (default) False -> Angle is returned in Degrees\n",
    "        True -> Angle is returned in radians\n",
    "    \n",
    "\n",
    "    Returns\n",
    "    -------\n",
    "    float\n",
    "        Returns the haversine angle between two vectors given their latitude and longitude\n",
    "    \n",
    "\n",
    "    Warning\n",
    "    -------\n",
    "        This function assumes the input to be in degrees and of equal length\\n\n",
    "        or one of the input pairs to be a single value and the other pair to be an array\n",
    "    '''\n",
    "\n",
    "    #Convert decimal degrees to Radians:\n",
    "    lon1 = np.deg2rad(lon1)\n",
    "    lat1 = np.deg2rad(lat1)\n",
    "    lon2 = np.deg2rad(lon2)\n",
    "    lat2 = np.deg2rad(lat2)\n",
    "\n",
    "    #Implementing Haversine Formula: \n",
    "    dlon = np.subtract(lon2, lon1)\n",
    "    #dlat = np.subtract(lat2, lat1)\n",
    "\n",
    "    a = np.add(np.multiply(np.sin(lat1), np.sin(lat2)), np.multiply(np.multiply(np.cos(lat1), np.cos(lat2)), np.cos(dlon)))\n",
    "\n",
    "    if rad == True:\n",
    "        return np.arccos(a)\n",
    "    else:\n",
    "        return np.abs(np.rad2deg(np.arccos(a)))\n"
   ]
  },
  {
   "cell_type": "code",
   "execution_count": 26,
   "metadata": {},
   "outputs": [],
   "source": [
    "@jit(nopython=True)\n",
    "def S_ij(nu): \n",
    "\n",
    "    '''\n",
    "    Returns the signal PDF for the {psrno}th pulsar and nuind_inp neutrino\n",
    "    '''\n",
    "    ang2 = hvovec(msra, msdec, icra[nu], icdec[nu]) ** 2#, icra[nuind], icdec[nuind], rad=True) ** 2\n",
    "    sg = np.deg2rad(icang[nu]) ** 2\n",
    "    return np.divide(np.exp(-1 * np.divide(ang2, np.multiply(2, sg))), (2 * np.pi * sg))\n",
    "\n",
    "@jit(nopython=True)\n",
    "def S_i(nu):\n",
    "\n",
    "    '''\n",
    "        Parameters\n",
    "        ----------\n",
    "        nu : int\n",
    "            Index of the neutrino in the sample\n",
    "\n",
    "        Returns\n",
    "        -------\n",
    "        Returns the signal PDF for the {nu}th neutrino with all pulsars \n",
    "        i.e S_i = wieghted-sum_j S_ij\n",
    "    '''\n",
    "\n",
    "\n",
    "\n",
    "    sij = S_ij(nu)\n",
    "    wall = 0\n",
    "    for i in range(len(vec_uptparts)-1):\n",
    "        if vec_uptparts[i] <= nu and vec_uptparts[i+1] > nu:\n",
    "            wall = i\n",
    "            break\n",
    "    #sleep(1e-8)\n",
    "    return np.sum(np.multiply(sij, all_weights[wall] / sum_weights[wall]))\n",
    "    #return np.dot(sij, all_weights[wall] ) / sum_weights[wall]\n",
    "\n"
   ]
  },
  {
   "cell_type": "markdown",
   "metadata": {},
   "source": [
    "![SNOWFALL](bg.png)"
   ]
  },
  {
   "cell_type": "markdown",
   "metadata": {},
   "source": [
    "### For this project, Cone is $5{\\degree}$"
   ]
  },
  {
   "cell_type": "code",
   "execution_count": 47,
   "metadata": {},
   "outputs": [],
   "source": [
    "@jit(nopython=True)\n",
    "def Bi_stacked(nu, cone):\n",
    "\n",
    "    '''\n",
    "    Parameters\n",
    "    ----------\n",
    "    nu : int\n",
    "        Index of the neutrino from IceCube sample\n",
    "    cone : float\n",
    "        Cone angle in degrees.\n",
    "    \n",
    "\n",
    "    Returns\n",
    "    -------\n",
    "    float\n",
    "        Returns the background PDF for the {nu}th neutrino\n",
    "    '''\n",
    "\n",
    "    count = 0\n",
    "    for i in range(len(icdec)):\n",
    "        if abs(icdec[i] - icdec[nu]) <= cone:\n",
    "            count+=1\n",
    "    binwidth = (np.sin(np.deg2rad(icdec[nu] + cone)) - np.sin(np.deg2rad(icdec[nu] - cone)))*2*np.pi\n",
    "    #sleep(1e-8)\n",
    "    return count / (binwidth*len(icdec))\n",
    "\n",
    "def Pr(x, Ns, S, B):\n",
    "\n",
    "    '''\n",
    "    Parameters\n",
    "    ----------\n",
    "    x : int\n",
    "        Assumed no.of associated events\n",
    "\n",
    "    Ns : int\n",
    "        No.of neutrinos used for analysis\n",
    "\n",
    "    S : float\n",
    "        Signal PDF\n",
    "    B : float\n",
    "        Background PDF\n",
    "    \n",
    "    Returns\n",
    "    -------\n",
    "    float \n",
    "        Returns the probability of the selected set of neutrinos being associated\\n\n",
    "        with a given pulsar with {Ns} neutrinos, {S} signal and {B} background PDF and {x} assumed associated events\n",
    "    '''\n",
    "\n",
    "    nsN = x/Ns\n",
    "    return np.add(np.multiply(nsN , S), np.multiply(np.subtract(1, nsN), B))\n",
    "\n",
    "    \n",
    "def TS_st(x, S, B, Ns):\n",
    "\n",
    "    '''\n",
    "    Returns\n",
    "    ----------\n",
    "        Returns the Test Stastic value at\n",
    "        $n_s$ = {x} for its parameters S, B, Ns\n",
    "    '''\n",
    "    if x >=0:\n",
    "        return 2*np.sum(np.log(Pr(x,  Ns, S, B)/B))\n",
    "    else:\n",
    "        return -1\n",
    "\n",
    "\n",
    "def ns_for_TSmax_st(S, B, Ns):\n",
    "    '''\n",
    "    Returns the value of $n_s$ for which\n",
    "    the TS is maximum for {i}^th grb\n",
    "    '''\n",
    "\n",
    "    #returns the TSmax for i^th GRB\n",
    "    nll = lambda x: -TS_st(x, S, B, Ns)\n",
    "    soln = minimize(nll, 3 , bounds = [(0, None)], tol=1e-12)\n",
    "    ns = np.round(soln.x, 6)[0]\n",
    "    #print(soln.success)\n",
    "    return ns"
   ]
  },
  {
   "cell_type": "markdown",
   "metadata": {},
   "source": [
    "Find "
   ]
  },
  {
   "cell_type": "code",
   "execution_count": 28,
   "metadata": {},
   "outputs": [
    {
     "data": {
      "text/plain": [
       "array([0., 0., 0., ..., 0., 0., 0.])"
      ]
     },
     "execution_count": 28,
     "metadata": {},
     "output_type": "execute_result"
    }
   ],
   "source": [
    "S_ij(5)"
   ]
  },
  {
   "cell_type": "code",
   "execution_count": 29,
   "metadata": {},
   "outputs": [
    {
     "data": {
      "text/plain": [
       "44.725492216613134"
      ]
     },
     "execution_count": 29,
     "metadata": {},
     "output_type": "execute_result"
    }
   ],
   "source": [
    "hvovec(1, 2, 45.6, 7.06)"
   ]
  },
  {
   "cell_type": "code",
   "execution_count": 30,
   "metadata": {},
   "outputs": [
    {
     "data": {
      "text/plain": [
       "0"
      ]
     },
     "execution_count": 30,
     "metadata": {},
     "output_type": "execute_result"
    }
   ],
   "source": [
    "np.count_nonzero(S_ij(5))"
   ]
  },
  {
   "cell_type": "code",
   "execution_count": 31,
   "metadata": {},
   "outputs": [
    {
     "data": {
      "text/plain": [
       "0.06787054547032863"
      ]
     },
     "execution_count": 31,
     "metadata": {},
     "output_type": "execute_result"
    }
   ],
   "source": [
    "Bi_stacked(5, 5)"
   ]
  },
  {
   "cell_type": "code",
   "execution_count": 32,
   "metadata": {},
   "outputs": [
    {
     "data": {
      "text/plain": [
       "0.0"
      ]
     },
     "execution_count": 32,
     "metadata": {},
     "output_type": "execute_result"
    }
   ],
   "source": [
    "S_i(1444)"
   ]
  },
  {
   "cell_type": "markdown",
   "metadata": {},
   "source": [
    "This method takes ~30 minutes for 100000 neutrinos\n",
    "\n",
    "$\\implies$ 1134450 neutrinos take ~6.5 to 7hrs!!\n",
    "\n",
    "UNACCEPTABLE!!!\n",
    "\n",
    "NEED FASTER METHOD\n",
    "\n",
    "USING @jit(nopython=True) SPEEDS UP A LOT!!!\n",
    "\n",
    "NEW EXECUTION TIME IS: 10mins"
   ]
  },
  {
   "cell_type": "code",
   "execution_count": 33,
   "metadata": {},
   "outputs": [],
   "source": [
    "pool = []\n",
    "op_async = []"
   ]
  },
  {
   "cell_type": "code",
   "execution_count": 34,
   "metadata": {},
   "outputs": [],
   "source": [
    "mul.set_start_method('spawn', force=True)"
   ]
  },
  {
   "cell_type": "code",
   "execution_count": 35,
   "metadata": {},
   "outputs": [
    {
     "name": "stdout",
     "output_type": "stream",
     "text": [
      "0\n",
      "200000\n",
      "100000\n",
      "500000\n",
      "400000\n",
      "300000\n",
      "800000\n",
      "700000\n",
      "600000\n",
      "1100000\n",
      "1000000\n",
      "900000\n"
     ]
    },
    {
     "ename": "TypeError",
     "evalue": "list indices must be integers or slices, not tuple",
     "output_type": "error",
     "traceback": [
      "\u001b[0;31m---------------------------------------------------------------------------\u001b[0m",
      "\u001b[0;31mTypeError\u001b[0m                                 Traceback (most recent call last)",
      "\u001b[0;32m/tmp/ipykernel_54115/4081228256.py\u001b[0m in \u001b[0;36m<module>\u001b[0;34m\u001b[0m\n\u001b[1;32m     20\u001b[0m \u001b[0mpool\u001b[0m \u001b[0;34m=\u001b[0m \u001b[0;34m[\u001b[0m\u001b[0;34m]\u001b[0m\u001b[0;34m\u001b[0m\u001b[0;34m\u001b[0m\u001b[0m\n\u001b[1;32m     21\u001b[0m \u001b[0mop_async\u001b[0m \u001b[0;34m=\u001b[0m \u001b[0;34m[\u001b[0m\u001b[0;34m]\u001b[0m\u001b[0;34m\u001b[0m\u001b[0;34m\u001b[0m\u001b[0m\n\u001b[0;32m---> 22\u001b[0;31m \u001b[0mS_all\u001b[0m \u001b[0;34m=\u001b[0m \u001b[0mtmp\u001b[0m\u001b[0;34m[\u001b[0m\u001b[0;34m:\u001b[0m\u001b[0;34m,\u001b[0m\u001b[0;36m0\u001b[0m\u001b[0;34m]\u001b[0m\u001b[0;34m\u001b[0m\u001b[0;34m\u001b[0m\u001b[0m\n\u001b[0m\u001b[1;32m     23\u001b[0m \u001b[0mB_all\u001b[0m \u001b[0;34m=\u001b[0m \u001b[0mtmp\u001b[0m\u001b[0;34m[\u001b[0m\u001b[0;34m:\u001b[0m\u001b[0;34m,\u001b[0m\u001b[0;36m1\u001b[0m\u001b[0;34m]\u001b[0m\u001b[0;34m\u001b[0m\u001b[0;34m\u001b[0m\u001b[0m\n",
      "\u001b[0;31mTypeError\u001b[0m: list indices must be integers or slices, not tuple"
     ]
    }
   ],
   "source": [
    "cut = 5\n",
    "cone = 5\n",
    "#nuind, ang = angfinder(psrno, cut)\n",
    "\n",
    "@jit(nopython=True)\n",
    "def sigbag_nu(nu):\n",
    "    '''\n",
    "        Returns the signal and background PDF for the {nu}th neutrino\n",
    "    '''\n",
    "\n",
    "    #sleep(1e-8)\n",
    "    if nu % 100000 == 0:\n",
    "        print(nu)\n",
    "    return [S_i(nu), Bi_stacked(nu, cone)]\n",
    "\n",
    "pool = mul.Pool(8, maxtasksperchild=100)\n",
    "op_async = pool.map_async(sigbag_nu, range(len(icdec)))\n",
    "tmp = op_async.get()\n",
    "pool.close()\n",
    "pool = []\n",
    "op_async = []"
   ]
  },
  {
   "cell_type": "code",
   "execution_count": 40,
   "metadata": {},
   "outputs": [],
   "source": [
    "tmp2 = np.asfarray(tmp)"
   ]
  },
  {
   "cell_type": "code",
   "execution_count": 41,
   "metadata": {},
   "outputs": [
    {
     "data": {
      "text/plain": [
       "array([0., 0., 0., ..., 0., 0., 0.])"
      ]
     },
     "execution_count": 41,
     "metadata": {},
     "output_type": "execute_result"
    }
   ],
   "source": [
    "tmp2[:,0]"
   ]
  },
  {
   "cell_type": "code",
   "execution_count": 42,
   "metadata": {},
   "outputs": [],
   "source": [
    "S_all = tmp2[:,0]\n",
    "B_all = tmp2[:,1]"
   ]
  },
  {
   "cell_type": "code",
   "execution_count": 48,
   "metadata": {},
   "outputs": [],
   "source": [
    "#S = [S_i(i) for i in range(len(icdata))]\n",
    "#B = [Bi_stacked(i, cone) for i in range(len(icdata))]\n",
    "#nuind = np.array(nuind)\n",
    "Ns = len(icdata)#np.count_nonzero(nuind+1)\n",
    "Ts_arr = lambda x: np.sum([TS_st(x, S_all[i], B_all[i], Ns) for i in range(len(icdata))])\n",
    "nll = lambda x: -TS_st(x, S_all, B_all, Ns)\n",
    "soln = minimize(nll, 3 , bounds = [(0, None)], tol=1e-12)\n",
    "ns = np.round(soln.x, 6)[0]\n",
    "\n",
    "#tns=[Ts_arr(i) for i in range(0, 1000)]\n",
    "#print([ns_for_TSmax(psrno, S, B, Ns), TS(psrno, ns_for_TSmax(psrno, S, B, Ns), S, B, Ns), TS(psrno, 0, S, B, Ns)])\n",
    "#print(Ns)"
   ]
  },
  {
   "cell_type": "code",
   "execution_count": 49,
   "metadata": {},
   "outputs": [
    {
     "data": {
      "text/plain": [
       "0.0"
      ]
     },
     "execution_count": 49,
     "metadata": {},
     "output_type": "execute_result"
    }
   ],
   "source": [
    "ns"
   ]
  },
  {
   "cell_type": "markdown",
   "metadata": {},
   "source": [
    "def plotpsr_st(psrno):\n",
    "    cut = 5\n",
    "    cone = 5\n",
    "    nuind, ang = angfinder(psrno, cut)\n",
    "    S = sig_fn(psrno)\n",
    "    B = bgs(psrno, cone)\n",
    "    nuind = np.array(nuind)\n",
    "    Ns = len(icdata)\n",
    "    tns=[TS(psrno, i, S, B, Ns) for i in range(0, 1000)]\n",
    "    print(Ns)\n",
    "    plt.plot(range(0, 1000), tns)\n",
    "    plt.show()\n",
    "    print([ns_for_TSmax(psrno, S, B, Ns), TS(psrno, ns_for_TSmax(psrno, S, B, Ns), S, B, Ns), TS(psrno, 0, S, B, Ns)])\n",
    "plotpsr_st(1)"
   ]
  },
  {
   "cell_type": "code",
   "execution_count": null,
   "metadata": {},
   "outputs": [],
   "source": [
    "binnedsts, wsts = np.histogram(maxts, 10)\n",
    "\n",
    "ne01 = 3\n",
    "amp  = p/3.0#np.sum(binnedsts)/ne01\n",
    "#binnedsts = binnedsts/amp\n",
    "yerr = np.sqrt(binnedsts)\n",
    "b2 = binnedsts[(binnedsts>10)]\n",
    "yerr2 = yerr[(binnedsts>10)]\n",
    "x=0.5*(wsts[1:]+ wsts[:-1])\n",
    "x2 = x[(binnedsts>10)]\n",
    "xerr=x[0]-wsts[0]"
   ]
  },
  {
   "cell_type": "code",
   "execution_count": null,
   "metadata": {},
   "outputs": [],
   "source": [
    "yerr"
   ]
  },
  {
   "cell_type": "code",
   "execution_count": null,
   "metadata": {},
   "outputs": [],
   "source": [
    "wsts"
   ]
  },
  {
   "cell_type": "code",
   "execution_count": null,
   "metadata": {},
   "outputs": [],
   "source": [
    "#gaussian = lambda x, mean, var:  amp*norm.pdf(x, mean, var)\n",
    "def gaussian(x,mean,sd):\n",
    "#    mean=0.114\n",
    "    A=p/3.0\n",
    "    return A*np.exp(-(x - mean) ** 2.0 / sd ** 2.0)\n",
    "loggaussian = lambda x, mean, var:  np.log(gaussian(x, mean, var))\n",
    "gparam, gerr = curve_fit(gaussian, x2, b2,  p0=[0.1, 1.0],sigma=yerr2, absolute_sigma=True, maxfev = 10000, method='dogbox')\n",
    "gx = np.linspace(0, wsts[-1], 100)"
   ]
  },
  {
   "cell_type": "code",
   "execution_count": null,
   "metadata": {},
   "outputs": [],
   "source": [
    "gparam"
   ]
  },
  {
   "cell_type": "code",
   "execution_count": null,
   "metadata": {},
   "outputs": [],
   "source": [
    "max(maxts)"
   ]
  },
  {
   "cell_type": "code",
   "execution_count": null,
   "metadata": {},
   "outputs": [],
   "source": [
    "font = {'family': 'serif',\n",
    "        'color':  'black',\n",
    "        'weight': 'bold',\n",
    "        'size': 22,\n",
    "        }\n",
    "plt.figure(figsize=(10.8,7.2))\n",
    "plt.xticks([0, 1, 2, 3, 4, 5, 6, 7, 8, 9], [0, 1, 2, 3, 4, 5, 6, 7, 8, 9], fontsize=17, fontweight='bold')\n",
    "plt.yscale('log')\n",
    "plt.yticks([1, 10, 100, 1000, 10000], [1, 10, 100, 1000, 10000], fontsize=17, fontweight='bold')\n",
    "\n",
    "plt.errorbar(x, binnedsts, xerr=xerr,yerr=yerr,  aa = True, barsabove = True, fmt='ob',ecolor='blue', elinewidth=1.35, label='$\\sqrt{TS_{max}}$')\n",
    "plt.plot(gx,gaussian(gx, gparam[0], gparam[1]),'--', alpha=0.6, label=f'Gaussian Fit', color='darkred', lw=2.2)\n",
    "\n",
    "plt.xlabel(\"$\\mathbf{\\sqrt{TS_{max}}}$\", fontweight='bold', fontdict=font)\n",
    "plt.ylabel(\"No.of Events\", fontweight='bold', fontdict=font)\n",
    "#plt.grid(True, which='major')\n",
    "legend =plt.legend(prop={'size':17}, framealpha=0)\n",
    "legend.get_frame().set_facecolor('none')\n",
    "plt.savefig(\"outputs/sqrt(TSmax)stacked.pdf\")\n",
    "plt.show()"
   ]
  },
  {
   "cell_type": "code",
   "execution_count": null,
   "metadata": {},
   "outputs": [],
   "source": []
  }
 ],
 "metadata": {
  "kernelspec": {
   "display_name": "Python 3.10.6 64-bit",
   "language": "python",
   "name": "python3"
  },
  "language_info": {
   "codemirror_mode": {
    "name": "ipython",
    "version": 3
   },
   "file_extension": ".py",
   "mimetype": "text/x-python",
   "name": "python",
   "nbconvert_exporter": "python",
   "pygments_lexer": "ipython3",
   "version": "3.10.6"
  },
  "orig_nbformat": 4,
  "vscode": {
   "interpreter": {
    "hash": "916dbcbb3f70747c44a77c7bcd40155683ae19c65e1c03b4aa3499c5328201f1"
   }
  }
 },
 "nbformat": 4,
 "nbformat_minor": 2
}
