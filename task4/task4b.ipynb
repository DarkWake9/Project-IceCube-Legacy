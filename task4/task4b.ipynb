{
 "cells": [
  {
   "cell_type": "code",
   "execution_count": 176,
   "metadata": {},
   "outputs": [],
   "source": [
    "import numpy as np\n",
    "import pandas as pd\n",
    "import os\n",
    "import multiprocessing as mul\n",
    "from multiprocessing import Process\n",
    "import matplotlib.pyplot as plt\n",
    "#import seaborn as sns\n",
    "from scipy.optimize import minimize\n",
    "from IPython.display import clear_output\n",
    "from scipy.stats import chi2\n",
    "from scipy.stats import norm"
   ]
  },
  {
   "cell_type": "code",
   "execution_count": 2,
   "metadata": {},
   "outputs": [],
   "source": [
    "####\n",
    "#### IMPORTING AND SPLITTING ICDATA $$$\n",
    "\n",
    "\n",
    "path = \"/media/darkwake/VIB2/Project-IceCube/icecube_10year_ps/events\"\n",
    "filenames = [\"IC40_exp.csv\", \"IC59_exp.csv\",\"IC79_exp.csv\", \"IC86_I_exp.csv\", \"IC86_II_exp.csv\",\n",
    "\"IC86_III_exp.csv\", \"IC86_IV_exp.csv\", \"IC86_V_exp.csv\", \"IC86_VI_exp.csv\", \"IC86_VII_exp.csv\"]\n",
    "file = filenames[0]\n",
    "f = open(os.path.join(path, file), 'r')\n",
    "lines = f.readlines()\n",
    "column=lines[0].split()\n",
    "column.pop(0)\n",
    "content = []\n",
    "for file in filenames:\n",
    "    f = open(os.path.join(path, file), 'r')\n",
    "    lines = f.readlines()\n",
    "    for line in lines[1:]:\n",
    "        content.append(line.split())\n",
    "    f.close()\n",
    "icdata = pd.DataFrame(content, columns=column)\n",
    "icdata['log10(E/GeV)'] = [float(i) for i in icdata['log10(E/GeV)']]\n"
   ]
  },
  {
   "cell_type": "code",
   "execution_count": 3,
   "metadata": {},
   "outputs": [],
   "source": [
    "\n",
    "\n",
    "#IMPORTING MSPDATA\n",
    "f = open(\"/media/darkwake/VIB2/Project-IceCube/allpsr.txt\", 'r')\n",
    "lines = f.readlines()\n",
    "\n",
    "content=[]\n",
    "column=lines.pop(0).split()\n",
    "for line in lines[:]:\n",
    "    content.append(line.split())\n",
    "    #the INITAL DATABASE IS CLUTTERED SO WE REMOVE THE NULL COLUMNS AND OTHER CLUTTER\n",
    "mspdata = pd.DataFrame(content).dropna().drop_duplicates()#.drop(range(0,6)).dropna().drop([2,6,8,10,11,13,14], axis=1)\n",
    "f.close()\n",
    "line = []\n",
    "lines = []\n",
    "\n",
    "mspdata.columns = column\n",
    "column = []\n",
    "content=[]\n",
    "mspdata = mspdata.sort_values('DECJD')\n",
    "mspdata.dropna(inplace=True)\n",
    "mspdata = mspdata.reset_index()\n",
    "mspdata = mspdata.drop([\"index\", \"#\"], axis=1)"
   ]
  },
  {
   "cell_type": "code",
   "execution_count": 4,
   "metadata": {},
   "outputs": [
    {
     "data": {
      "text/html": [
       "<div>\n",
       "<style scoped>\n",
       "    .dataframe tbody tr th:only-of-type {\n",
       "        vertical-align: middle;\n",
       "    }\n",
       "\n",
       "    .dataframe tbody tr th {\n",
       "        vertical-align: top;\n",
       "    }\n",
       "\n",
       "    .dataframe thead th {\n",
       "        text-align: right;\n",
       "    }\n",
       "</style>\n",
       "<table border=\"1\" class=\"dataframe\">\n",
       "  <thead>\n",
       "    <tr style=\"text-align: right;\">\n",
       "      <th></th>\n",
       "      <th>NAME</th>\n",
       "      <th>Gl</th>\n",
       "      <th>Gb</th>\n",
       "      <th>RAJD</th>\n",
       "      <th>DECJD</th>\n",
       "      <th>P0</th>\n",
       "      <th>F0</th>\n",
       "      <th>DIST</th>\n",
       "    </tr>\n",
       "  </thead>\n",
       "  <tbody>\n",
       "    <tr>\n",
       "      <th>0</th>\n",
       "      <td>J1852-0000</td>\n",
       "      <td>33.066</td>\n",
       "      <td>-0.277</td>\n",
       "      <td>283.16736</td>\n",
       "      <td>-0.00708</td>\n",
       "      <td>1.92066632921</td>\n",
       "      <td>0.520652642675</td>\n",
       "      <td>5.776</td>\n",
       "    </tr>\n",
       "    <tr>\n",
       "      <th>1</th>\n",
       "      <td>J1843-0000</td>\n",
       "      <td>32.013</td>\n",
       "      <td>1.768</td>\n",
       "      <td>280.86652</td>\n",
       "      <td>-0.01153</td>\n",
       "      <td>0.880334321703</td>\n",
       "      <td>1.13593208324</td>\n",
       "      <td>3.336</td>\n",
       "    </tr>\n",
       "    <tr>\n",
       "      <th>2</th>\n",
       "      <td>J1849-0001</td>\n",
       "      <td>32.638</td>\n",
       "      <td>0.527</td>\n",
       "      <td>282.2568</td>\n",
       "      <td>-0.02151</td>\n",
       "      <td>0.038522586319205</td>\n",
       "      <td>25.958797047369</td>\n",
       "      <td>*</td>\n",
       "    </tr>\n",
       "    <tr>\n",
       "      <th>3</th>\n",
       "      <td>J1852-0002g</td>\n",
       "      <td>32.985</td>\n",
       "      <td>-0.177</td>\n",
       "      <td>283.04</td>\n",
       "      <td>-0.03</td>\n",
       "      <td>0.2451</td>\n",
       "      <td>4.079967</td>\n",
       "      <td>5.591</td>\n",
       "    </tr>\n",
       "    <tr>\n",
       "      <th>4</th>\n",
       "      <td>J1850-0002g</td>\n",
       "      <td>32.738</td>\n",
       "      <td>0.305</td>\n",
       "      <td>282.5</td>\n",
       "      <td>-0.03</td>\n",
       "      <td>0.89336</td>\n",
       "      <td>1.11937</td>\n",
       "      <td>5.732</td>\n",
       "    </tr>\n",
       "    <tr>\n",
       "      <th>...</th>\n",
       "      <td>...</td>\n",
       "      <td>...</td>\n",
       "      <td>...</td>\n",
       "      <td>...</td>\n",
       "      <td>...</td>\n",
       "      <td>...</td>\n",
       "      <td>...</td>\n",
       "      <td>...</td>\n",
       "    </tr>\n",
       "    <tr>\n",
       "      <th>3238</th>\n",
       "      <td>J0152+0948</td>\n",
       "      <td>146.812</td>\n",
       "      <td>-50.221</td>\n",
       "      <td>28.0989</td>\n",
       "      <td>9.8028</td>\n",
       "      <td>2.74664729014</td>\n",
       "      <td>0.364080238329</td>\n",
       "      <td>2.477</td>\n",
       "    </tr>\n",
       "    <tr>\n",
       "      <th>3239</th>\n",
       "      <td>J1908+0949g</td>\n",
       "      <td>43.562</td>\n",
       "      <td>0.797</td>\n",
       "      <td>287.03</td>\n",
       "      <td>9.82</td>\n",
       "      <td>0.00905</td>\n",
       "      <td>110.497238</td>\n",
       "      <td>6.001</td>\n",
       "    </tr>\n",
       "    <tr>\n",
       "      <th>3240</th>\n",
       "      <td>J0550+09</td>\n",
       "      <td>197.055</td>\n",
       "      <td>-8.774</td>\n",
       "      <td>87.6</td>\n",
       "      <td>9.85</td>\n",
       "      <td>1.745</td>\n",
       "      <td>0.573066</td>\n",
       "      <td>1.804</td>\n",
       "    </tr>\n",
       "    <tr>\n",
       "      <th>3241</th>\n",
       "      <td>B1914+09</td>\n",
       "      <td>44.556</td>\n",
       "      <td>-1.019</td>\n",
       "      <td>289.134769</td>\n",
       "      <td>9.857216</td>\n",
       "      <td>0.2702544395645</td>\n",
       "      <td>3.700216735057</td>\n",
       "      <td>1.904</td>\n",
       "    </tr>\n",
       "    <tr>\n",
       "      <th>3242</th>\n",
       "      <td>B0943+10</td>\n",
       "      <td>225.413</td>\n",
       "      <td>43.126</td>\n",
       "      <td>146.532</td>\n",
       "      <td>9.865</td>\n",
       "      <td>1.09770570486</td>\n",
       "      <td>0.91099098381</td>\n",
       "      <td>0.892</td>\n",
       "    </tr>\n",
       "  </tbody>\n",
       "</table>\n",
       "<p>3243 rows × 8 columns</p>\n",
       "</div>"
      ],
      "text/plain": [
       "             NAME       Gl       Gb        RAJD     DECJD                 P0  \\\n",
       "0      J1852-0000   33.066   -0.277   283.16736  -0.00708      1.92066632921   \n",
       "1      J1843-0000   32.013    1.768   280.86652  -0.01153     0.880334321703   \n",
       "2      J1849-0001   32.638    0.527    282.2568  -0.02151  0.038522586319205   \n",
       "3     J1852-0002g   32.985   -0.177      283.04     -0.03             0.2451   \n",
       "4     J1850-0002g   32.738    0.305       282.5     -0.03            0.89336   \n",
       "...           ...      ...      ...         ...       ...                ...   \n",
       "3238   J0152+0948  146.812  -50.221     28.0989    9.8028      2.74664729014   \n",
       "3239  J1908+0949g   43.562    0.797      287.03      9.82            0.00905   \n",
       "3240     J0550+09  197.055   -8.774        87.6      9.85              1.745   \n",
       "3241     B1914+09   44.556   -1.019  289.134769  9.857216    0.2702544395645   \n",
       "3242     B0943+10  225.413   43.126     146.532     9.865      1.09770570486   \n",
       "\n",
       "                   F0   DIST  \n",
       "0      0.520652642675  5.776  \n",
       "1       1.13593208324  3.336  \n",
       "2     25.958797047369      *  \n",
       "3            4.079967  5.591  \n",
       "4             1.11937  5.732  \n",
       "...               ...    ...  \n",
       "3238   0.364080238329  2.477  \n",
       "3239       110.497238  6.001  \n",
       "3240         0.573066  1.804  \n",
       "3241   3.700216735057  1.904  \n",
       "3242    0.91099098381  0.892  \n",
       "\n",
       "[3243 rows x 8 columns]"
      ]
     },
     "execution_count": 4,
     "metadata": {},
     "output_type": "execute_result"
    }
   ],
   "source": [
    "mspdata"
   ]
  },
  {
   "cell_type": "code",
   "execution_count": 5,
   "metadata": {},
   "outputs": [],
   "source": [
    "msra = [float(i) for i in mspdata['RAJD']]\n",
    "msdec = [float(i) for i in mspdata['DECJD']]\n",
    "icra = [float(i) for i in icdata['RA[deg]']]\n",
    "icdec = [float(i) for i in icdata['Dec[deg]']]\n",
    "icang = [float(i) for i in icdata['AngErr[deg]']]\n",
    "global p, lg\n",
    "p = len(msra)\n",
    "lg = len(icra) // p + 1\n",
    "#cut = 20\n",
    "#cone = 3\n",
    "#psrno = 0"
   ]
  },
  {
   "cell_type": "code",
   "execution_count": 6,
   "metadata": {},
   "outputs": [],
   "source": [
    "def hvovec(lon1, lat1, lon2, lat2):\n",
    "\n",
    "    #Convert decimal degrees to Radians:\n",
    "    lon1 = np.deg2rad(lon1)\n",
    "    lat1 = np.deg2rad(lat1)\n",
    "    lon2 = np.deg2rad(lon2)\n",
    "    lat2 = np.deg2rad(lat2)\n",
    "\n",
    "    #Implementing Haversine Formula: \n",
    "    dlon = np.subtract(lon2, lon1)\n",
    "    #dlat = np.subtract(lat2, lat1)\n",
    "\n",
    "    a = np.add(np.multiply(np.sin(lat1), np.sin(lat2)), np.multiply(np.multiply(np.cos(lat1), np.cos(lat2)), np.cos(dlon)))\n",
    "\n",
    "    return np.abs(np.rad2deg(np.arccos(a)))\n",
    "\n",
    "\n",
    "\n",
    "\n",
    "def angfinder(b, cut):\n",
    "    ang = []\n",
    "    for a in range(lg):\n",
    "        \n",
    "        if a != lg - 1:\n",
    "        #try:\n",
    "            ilo = icra[a*p:a*p + p]\n",
    "            ila = icdec[a*p:a*p + p]\n",
    "            lo = msra[b] * np.ones(p)\n",
    "            la = msdec[b] * np.ones(p)\n",
    "            temp = hvovec(ilo, ila, lo, la)\n",
    "            for tt in range(len(temp)):\n",
    "                if temp[tt] > cut:\n",
    "                    temp[tt] = -1\n",
    "            ang.extend(temp)\n",
    "        else:\n",
    "        #except:\n",
    "            ilo = icra[a*p:]\n",
    "            ila = icdec[a*p:]\n",
    "            ext = len(ilo)\n",
    "            lo = msra[b] * np.ones(ext)\n",
    "            la = msdec[b] * np.ones(ext)\n",
    "            temp = hvovec(ilo, ila, lo, la)\n",
    "            #ang.extend(hvovec(ilo, ila, lo, la))\n",
    "            for tt in range(len(temp)):\n",
    "                if temp[tt] > cut:\n",
    "                    temp[tt] = -1\n",
    "            ang.extend(temp)\n",
    "        \n",
    "    return ang\n",
    "\n",
    "\n",
    "#aang = angfinder(psrno)\n",
    "\n",
    "def S_ij(i, aang, cut):### $P_i[a] = \\dfrac{ns[a]}{N} S[a] + \\left(1 - \\dfrac{ns[a]}{N}\\right)B[a]$ if ns \n",
    "        \n",
    "    if len(aang) < p*1.1:\n",
    "        arr = []\n",
    "        for j in range(0,len(icdata)):\n",
    "            ang = aang[i][j]\n",
    "            if ang != -1:\n",
    "                if True and ang < cut:\n",
    "                    sg = np.deg2rad(icang[j]) ** 2\n",
    "                    ang = np.deg2rad(ang) ** 2\n",
    "                    arr.append(np.exp(-1 * ang / (2 * sg)) / (2 * np.pi * sg))\n",
    "        return arr\n",
    "    else:\n",
    "        arr = []\n",
    "        for j in range(0,len(icdata)):\n",
    "            ang = aang[j]\n",
    "            if ang != -1:\n",
    "                if True and ang < cut:\n",
    "                    sg = np.deg2rad(icang[j]) ** 2\n",
    "                    ang = np.deg2rad(ang) ** 2\n",
    "                    arr.append(np.exp(-1 * ang / (2 * sg)) / (2 * np.pi * sg))\n",
    "        return arr\n",
    "\n",
    "#S = S_ij(psrno)\n",
    "\n",
    "def nsang(aang, cut):\n",
    "    Ns = []\n",
    "    if len(aang) < p* 1.1:\n",
    "        for i in aang:\n",
    "            count = 0\n",
    "            for j in i:\n",
    "                if j != -1:\n",
    "                    if j < cut:\n",
    "                        count += 1\n",
    "            Ns.append(count)\n",
    "        Ns = np.array(Ns)\n",
    "        return Ns\n",
    "    else:\n",
    "        count = 0\n",
    "        for j in aang:\n",
    "            if j != -1:\n",
    "                if j < cut:\n",
    "                    count += 1\n",
    "        return count\n",
    "#Ns = nsang(aang)\n",
    "\n",
    "\n",
    "def bg(i, cone, Ns):\n",
    "    #Calculating total no of neutrino events within delta +/- 6 of ith PULSAR (not neutrino)\n",
    "    count = 0\n",
    "    \n",
    "    '''for j in icdec:\n",
    "        if abs(msdec[i] - j) <= 6:\n",
    "            count+=1 '''\n",
    "    count = np.count_nonzero(np.abs(np.subtract(msdec[i],icdec))<cone)\n",
    "    #calculating solid angle with lt deg conesxipy\n",
    "\n",
    "#B = bg(psrno)\n",
    "\n",
    "def Pr(x, Ns, S, B):\n",
    "    nsN = x/Ns\n",
    "    return np.add(np.multiply(nsN , S), np.multiply(np.subtract(1, nsN), B))\n",
    "\n",
    "def TS(i, x, S, B, Ns):\n",
    "    if len(S) < p:\n",
    "        return 2*np.sum(np.log(Pr(x,  Ns[i], S[i], B[i])/B[i]))\n",
    "    else:\n",
    "        return 2*np.sum(np.log(Pr(x,  Ns, S, B)/B))\n",
    "#TS = lambda i, x: \n",
    "\n",
    "def TSmax(i, S, B, Ns):\n",
    "    #returns the TSmax for i^th GRB\n",
    "    #a = []\n",
    "    #for j in range(1000):\n",
    "        #a.append(TS(i,j))\n",
    "         \n",
    "    #init_guess = a.index(max(a))\n",
    "    nll = lambda x: -TS(i,x, S, B, Ns)\n",
    "    soln = minimize(nll, 3 ,bounds=((0,None),))#313, 314, 349, 370, 374, 378, 381, 394, 396, 397, 423, 434\n",
    "    ns = float(soln.x)\n",
    "    #print(f\"Pulsar {i} done\")\n",
    "    return ns"
   ]
  },
  {
   "cell_type": "markdown",
   "metadata": {},
   "source": [
    "def singpsr(psrno = 0, cut = 20, cone = 3):\n",
    "    aang = angfinder(psrno, cut)\n",
    "    Ns = nsang(aang, cut)\n",
    "    S = S_ij(psrno, aang, cut)\n",
    "    B = bg(psrno,cone, Ns)\n",
    "    #TS(psrno, 0)\n",
    "    maxns = TSmax(psrno, S, B, Ns)\n",
    "    if maxns > 0:\n",
    "        f = open(f\"outputs/plots/{cut}cut/{cone}cone/problematic/Prob{cut}cut{cone}cone-TS({psrno}).txt\", \"w\")\n",
    "        f.write(\"nura, nudec, angerr\\n\")\n",
    "        for i in range(len(aang)):\n",
    "            if aang[i] != -1:\n",
    "                f.write(str([icra[i], icdec[i], icang[i]]).replace('[', '').replace(']',''))\n",
    "                f.write('\\n')\n",
    "        f.close()\n",
    "\n",
    "        tms = TS(psrno, maxns, S, B, Ns)\n",
    "        n = np.array(range(0, 1000))\n",
    "        ts = [TS(psrno, x, S, B, Ns) for x in range(1000)]\n",
    "        plt.figure(figsize=(8,6))\n",
    "        plt.xscale('log')\n",
    "        plt.plot(n, ts)\n",
    "        plt.xlabel('x')\n",
    "        plt.ylabel(f'TS({psrno}, x)')\n",
    "        plt.title(f\"{cut} cut {cone} cone TS({psrno})\")\n",
    "        plt.text(6, 3, s = f\"TSmax = {tms} at ns = {maxns}\")\n",
    "        plt.savefig(f\"outputs/plots/{cut}cut/{cone}cone/problematic/Prob{cut}cut{cone}cone-TS({psrno}).jpg\")\n",
    "        plt.show()\n",
    "        plt.close()\n",
    "        aang = None\n",
    "        Ns = None\n",
    "        S = None\n",
    "        B = None\n",
    "        tms = None\n",
    "        ts = None\n",
    "        n = None\n",
    "    else:\n",
    "        tms = TS(psrno, maxns, S, B, Ns)\n",
    "        n = np.array(range(0, 1000))\n",
    "        ts = [TS(psrno, x, S, B, Ns) for x in range(1000)]\n",
    "        plt.figure(figsize=(8,6))\n",
    "        plt.xscale('log')\n",
    "        plt.plot(n, ts)\n",
    "        plt.xlabel('x')\n",
    "        plt.ylabel(f'TS({psrno}, x)')\n",
    "        plt.title(f\"{cut} cut {cone} cone TS({psrno})\")\n",
    "        plt.text(6, 3, s = f\"TSmax = {tms} at ndef singpsr(psrno = 0, cut = 20, cone = 3\")\n",
    "        aang = angfinder(psrno, cut)\n",
    "        Ns = nsang(aang, cut)\n",
    "        S = S_ij(psrno, aang, cut)\n",
    "        B = bg(psrno,cone, Ns)\n",
    "        #TS(psrno, 0)\n",
    "        maxns = TSmax(psrno, S, B, Ns)\n",
    "        S = None\n",
    "        B = None\n",
    "        tms = None\n",
    "        ts = None\n",
    "        n = None\n",
    "        \n",
    "    #if showplot == True"
   ]
  },
  {
   "cell_type": "markdown",
   "metadata": {},
   "source": [
    "for psrno in range(p):\n",
    "    #psrno = np.random.randint(0, p)\n",
    "    pfn = f\"Prob20cut3cone-TS({psrno}).jpg\"\n",
    "    #/media/darkwake/VIB2/Project-IceCube/task4/outputs/plots/20cut/3cone/20cut3cone-TS(12).jpg\n",
    "    fn = f\"20cut3cone-TS({psrno}).jpg\"\n",
    "    if not(pfn in os.listdir(\"outputs/plots/20cut/3cone/\")):\n",
    "        if not(pfn in os.listdir(\"outputs/plots/20cut/3cone/problematic\")):\n",
    "            singpsr(psrno,  cut = 20, cone = 3)\n",
    "    \n",
    "    clear_output(wait=True)"
   ]
  },
  {
   "cell_type": "code",
   "execution_count": 7,
   "metadata": {},
   "outputs": [],
   "source": [
    "def singpsr2(psrno = 0):\n",
    "    cut = 20\n",
    "    cone = 3\n",
    "    aang = angfinder(psrno, cut)\n",
    "    Ns = nsang(aang, cut)\n",
    "    S = S_ij(psrno, aang, cut)\n",
    "    B = bg(psrno,cone, Ns)\n",
    "    #TS(psrno, 0)\n",
    "    maxns = TSmax(psrno, S, B, Ns)\n",
    "    return [maxns, np.sqrt(TS(psrno, maxns, S, B, Ns))]\n",
    "tsmax = []\n",
    "pool = mul.Pool(6, maxtasksperchild= 800)\n",
    "op_async = pool.map_async(singpsr2, range(p))\n",
    "tsmax = op_async.get()\n",
    "op_async = []\n",
    "pool = []\n",
    "maxns = []\n",
    "sqrtts = []\n",
    "for i in tsmax:\n",
    "    maxns.append(i[0])\n",
    "    sqrtts.append(i[1])"
   ]
  },
  {
   "cell_type": "code",
   "execution_count": 13,
   "metadata": {},
   "outputs": [
    {
     "data": {
      "image/png": "[encoded data removed]",
      "text/plain": [
       "<Figure size 648x432 with 1 Axes>"
      ]
     },
     "metadata": {
      "needs_background": "light"
     },
     "output_type": "display_data"
    }
   ],
   "source": [
    "\n",
    "plt.figure(figsize=(9,6))\n",
    "plt.yscale('log')\n",
    "plt.yticks([1, 10, 100, 1000, 10000], [1, 10, 100, 1000, 10000])\n",
    "#plt.\n",
    "plt.xticks([0, 1, 2, 3, 4], [0, 1, 2, 3, 4])\n",
    "plt.hist(sqrtts, 15)\n",
    "plt.xlabel(\"$\\sqrt{TS_{max}}$\")\n",
    "plt.ylabel(\"Density\")\n",
    "plt.savefig(\"outputs/sqrt(TSmax).jpg\")\n",
    "plt.show()"
   ]
  },
  {
   "cell_type": "code",
   "execution_count": 148,
   "metadata": {},
   "outputs": [],
   "source": [
    "np.savetxt('tsmax.txt', sqrtts)"
   ]
  },
  {
   "cell_type": "code",
   "execution_count": 157,
   "metadata": {},
   "outputs": [],
   "source": [
    "binnedsts, wsts = np.histogram(sqrtts, 15)"
   ]
  },
  {
   "cell_type": "code",
   "execution_count": 158,
   "metadata": {},
   "outputs": [
    {
     "data": {
      "text/plain": [
       "array([1989,  261,  199,  207,  189,  117,  108,   68,   56,   28,   13,\n",
       "          3,    3,    0,    2])"
      ]
     },
     "execution_count": 158,
     "metadata": {},
     "output_type": "execute_result"
    }
   ],
   "source": [
    "binnedsts"
   ]
  },
  {
   "cell_type": "code",
   "execution_count": 159,
   "metadata": {},
   "outputs": [
    {
     "data": {
      "text/plain": [
       "array([1989,  261,  199,  207,  189,  117,  108,   68,   56,   28,   13,\n",
       "          3,    3,    0,    2])"
      ]
     },
     "execution_count": 159,
     "metadata": {},
     "output_type": "execute_result"
    }
   ],
   "source": [
    "binnedsts"
   ]
  },
  {
   "cell_type": "code",
   "execution_count": 160,
   "metadata": {},
   "outputs": [],
   "source": [
    "nerr = np.sqrt(binnedsts/np.sum(binnedsts))"
   ]
  },
  {
   "cell_type": "code",
   "execution_count": 161,
   "metadata": {},
   "outputs": [
    {
     "data": {
      "text/plain": [
       "array([0.        , 0.22799328, 0.45598656, 0.68397984, 0.91197311,\n",
       "       1.13996639, 1.36795967, 1.59595295, 1.82394623, 2.05193951,\n",
       "       2.27993278, 2.50792606, 2.73591934, 2.96391262, 3.1919059 ,\n",
       "       3.41989918])"
      ]
     },
     "execution_count": 161,
     "metadata": {},
     "output_type": "execute_result"
    }
   ],
   "source": [
    "wsts"
   ]
  },
  {
   "cell_type": "code",
   "execution_count": 163,
   "metadata": {},
   "outputs": [
    {
     "data": {
      "image/png": "[encoded data removed]",
      "text/plain": [
       "<Figure size 1152x720 with 1 Axes>"
      ]
     },
     "metadata": {
      "needs_background": "light"
     },
     "output_type": "display_data"
    }
   ],
   "source": [
    "df = 1\n",
    "x = np.linspace(chi2.ppf(0.3, df),chi2.ppf(0.935, df), 15)\n",
    "plt.figure(figsize=(16,10))\n",
    "#plt.yscale('log')\n",
    "#plt.yticks([1, 10, 100, 1000, 10000], [1, 10, 100, 1000, 10000])\n",
    "\n",
    "plt.plot(x, chi2.pdf(x, df),'r-', alpha=0.6, label=f'$\\chi^2$ with {df} D.O.F')\n",
    "plt.plot(x, norm.pdf(x, 0, np.mean(wsts)),'-', alpha=0.6, label=f'Gaussian distibution with $\\mu = 0$')\n",
    "plt.xticks([0, 1, 2, 3, 4], [0, 1, 2, 3, 4])\n",
    "plt.errorbar(np.linspace(0, max(wsts), 15), binnedsts/np.sum(binnedsts), nerr,  aa = True, barsabove = True, fmt='Hb',ecolor='blue', elinewidth=1, label='$\\sqrt{TS_{max}}$')\n",
    "plt.xlabel(\"$\\sqrt{TS_{max}}$\")\n",
    "plt.ylabel(\"Density\")\n",
    "plt.legend()\n",
    "plt.savefig(\"outputs/sqrt(TSmax)errbar.jpg\")\n",
    "plt.show()"
   ]
  },
  {
   "cell_type": "code",
   "execution_count": 184,
   "metadata": {},
   "outputs": [],
   "source": [
    "sqbin, sqwt = np.histogram(np.square(sqrtts), 15)"
   ]
  },
  {
   "cell_type": "code",
   "execution_count": 186,
   "metadata": {},
   "outputs": [
    {
     "data": {
      "text/plain": [
       "array([ 0.        ,  0.77971402,  1.55942805,  2.33914207,  3.1188561 ,\n",
       "        3.89857012,  4.67828415,  5.45799817,  6.2377122 ,  7.01742622,\n",
       "        7.79714025,  8.57685427,  9.3565683 , 10.13628232, 10.91599635,\n",
       "       11.69571037])"
      ]
     },
     "execution_count": 186,
     "metadata": {},
     "output_type": "execute_result"
    }
   ],
   "source": [
    "sqwt"
   ]
  },
  {
   "cell_type": "code",
   "execution_count": 187,
   "metadata": {},
   "outputs": [
    {
     "data": {
      "text/plain": [
       "16"
      ]
     },
     "execution_count": 187,
     "metadata": {},
     "output_type": "execute_result"
    }
   ],
   "source": [
    "len(sqwt)"
   ]
  },
  {
   "cell_type": "code",
   "execution_count": 201,
   "metadata": {},
   "outputs": [],
   "source": [
    "sqerr = np.sqrt(sqbin/np.sum(sqbin))"
   ]
  },
  {
   "cell_type": "code",
   "execution_count": 202,
   "metadata": {},
   "outputs": [
    {
     "data": {
      "image/png": "[encoded data removed]",
      "text/plain": [
       "<Figure size 1152x720 with 1 Axes>"
      ]
     },
     "metadata": {
      "needs_background": "light"
     },
     "output_type": "display_data"
    }
   ],
   "source": [
    "df = 1\n",
    "x = np.linspace(chi2.ppf(0.3, df),chi2.ppf(0.9999, df), 100)\n",
    "plt.figure(figsize=(16,10))\n",
    "#plt.yscale('log')\n",
    "#plt.yticks([1, 10, 100, 1000, 10000], [1, 10, 100, 1000, 10000])\n",
    "\n",
    "plt.plot(x, chi2.pdf(x, df),'r-', alpha=0.6, label=f'$\\chi^2$ with {df} D.O.F')\n",
    "#plt.plot(x, norm.pdf(x, 0, np.mean(sqwt)),'-', alpha=0.6, label=f'Gaussian distibution with $\\mu = 0$')\n",
    "#plt.xticks([0, 1, 2, 3, 4], [0, 1, 2, 3, 4])\n",
    "plt.errorbar(np.linspace(0, max(sqwt), 15), sqbin/np.sum(sqbin), sqerr,  aa = True, barsabove = True, fmt='Hb',ecolor='blue', elinewidth=1, label='${TS_{max}}$')\n",
    "plt.xlabel(\"${TS_{max}}$\")\n",
    "plt.ylabel(\"Density\")\n",
    "plt.legend()\n",
    "plt.savefig(\"outputs/sqrt(TSmax)errbar2.jpg\")\n",
    "plt.show()"
   ]
  },
  {
   "cell_type": "code",
   "execution_count": null,
   "metadata": {},
   "outputs": [],
   "source": []
  }
 ],
 "metadata": {
  "kernelspec": {
   "display_name": "Python 3.10.6 64-bit",
   "language": "python",
   "name": "python3"
  },
  "language_info": {
   "codemirror_mode": {
    "name": "ipython",
    "version": 3
   },
   "file_extension": ".py",
   "mimetype": "text/x-python",
   "name": "python",
   "nbconvert_exporter": "python",
   "pygments_lexer": "ipython3",
   "version": "3.10.6"
  },
  "orig_nbformat": 4,
  "vscode": {
   "interpreter": {
    "hash": "916dbcbb3f70747c44a77c7bcd40155683ae19c65e1c03b4aa3499c5328201f1"
   }
  }
 },
 "nbformat": 4,
 "nbformat_minor": 2
}
