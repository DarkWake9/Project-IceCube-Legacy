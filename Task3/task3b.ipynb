{
 "cells": [
  {
   "cell_type": "code",
   "execution_count": 2,
   "metadata": {},
   "outputs": [],
   "source": [
    "import numpy as np\n",
    "import pandas as pd\n",
    "import os\n",
    "import load\n",
    "import multiprocessing as mul\n",
    "from multiprocessing import Process"
   ]
  },
  {
   "cell_type": "markdown",
   "metadata": {},
   "source": [
    "## IMPORTING AND SORTING THE DATA\n",
    "\n",
    "WE HAVE CHOSEN ICECUBE 2008-18 DATA FOR THIS STUDY\n",
    "\n",
    "\n",
    "THE ICE CUBE DATA SET HAS 1134450 NEUTRINO EVENTS\n",
    "\n",
    "\n",
    "We select neutrino events with Energy >= 100TeV = 10^5 GeV\n",
    "\n",
    "i.e log10(E/GeV) > 5\n",
    "\n",
    "\n",
    "There are 192107 such neutrino events in this data\n",
    "\n",
    "The ms pulsars are taken from the ATNF Catalogue\n",
    "\n",
    "There are 441 pulsars (as of May 2022 when the study started)\n",
    "\n",
    "All the pulsars lie in the declination range of -87 to +87 degrees"
   ]
  },
  {
   "cell_type": "code",
   "execution_count": 3,
   "metadata": {},
   "outputs": [],
   "source": [
    "####\n",
    "#### IMPORTING AND SPLITTING ICDATA $$$\n",
    "\n",
    "\n",
    "path = \"/media/darkwake/VIB2/Project-IceCube/icecube_10year_ps/events\"\n",
    "filenames = [\"IC40_exp.csv\", \"IC59_exp.csv\",\"IC79_exp.csv\", \"IC86_I_exp.csv\", \"IC86_II_exp.csv\",\n",
    "\"IC86_III_exp.csv\", \"IC86_IV_exp.csv\", \"IC86_V_exp.csv\", \"IC86_VI_exp.csv\", \"IC86_VII_exp.csv\"]\n",
    "file = filenames[0]\n",
    "f = open(os.path.join(path, file), 'r')\n",
    "lines = f.readlines()\n",
    "column=lines[0].split()\n",
    "column.pop(0)\n",
    "content = []\n",
    "for file in filenames:\n",
    "    f = open(os.path.join(path, file), 'r')\n",
    "    lines = f.readlines()\n",
    "    for line in lines[1:]:\n",
    "        content.append(line.split())\n",
    "    f.close()\n",
    "icdata = pd.DataFrame(content, columns=column)\n",
    "icdata['log10(E/GeV)'] = [float(i) for i in icdata['log10(E/GeV)']]\n",
    "\n",
    "icdata = icdata.sort_values('log10(E/GeV)')\n",
    "icdata = icdata.reset_index()\n",
    "icdata = icdata.drop('index', axis=1)\n",
    "icdata2 = icdata[icdata['log10(E/GeV)'] > 5]\n",
    "icdata2 = icdata2.reset_index()\n",
    "icdata2 = icdata2.drop('index', axis=1)\n",
    "icdata2\n",
    "\n",
    "#IMPORTING MSPDATA\n",
    "f = open(\"/media/darkwake/VIB2/Project-IceCube/10milsecpsr.txt\", 'r')\n",
    "lines = f.readlines()\n",
    "\n",
    "content=[]\n",
    "column=lines[3].split()\n",
    "for line in lines[:]:\n",
    "    content.append(line.split())\n",
    "    #the INITAL DATABASE IS CLUTTERED SO WE REMOVE THE NULL COLUMNS AND OTHER CLUTTER\n",
    "mspdata = pd.DataFrame(content).drop(range(0,6)).dropna().drop([2,6,8,10,11,13,14], axis=1)\n",
    "f.close()\n",
    "line = []\n",
    "lines = []\n",
    "\n",
    "mspdata.columns = column\n",
    "column = []\n",
    "content=[]\n",
    "mspdata.dropna(inplace=True)\n",
    "mspdata = mspdata.reset_index()\n",
    "mspdata = mspdata.drop([\"index\", \"#\"], axis=1)"
   ]
  },
  {
   "cell_type": "code",
   "execution_count": 4,
   "metadata": {},
   "outputs": [],
   "source": [
    "\n",
    "msra = [float(i) for i in mspdata['RAJD']]\n",
    "msdec = [float(i) for i in mspdata['DECJD']]\n",
    "extensions = 441 - len(icdata2)%441\n",
    "icra = [float(i) for i in icdata2['RA[deg]']]\n",
    "icdec = [float(i) for i in icdata2['Dec[deg]']]\n",
    "icra.extend([0]*extensions)\n",
    "icdec.extend([0]*extensions)"
   ]
  },
  {
   "cell_type": "markdown",
   "metadata": {},
   "source": [
    "Selecting events which are at an angular distance < $20^\\circ$ from a particular ms psr source = $N$"
   ]
  },
  {
   "cell_type": "code",
   "execution_count": null,
   "metadata": {},
   "outputs": [],
   "source": []
  },
  {
   "cell_type": "code",
   "execution_count": 5,
   "metadata": {},
   "outputs": [],
   "source": [
    "def S_i(i, s, x, xs, sg):\n",
    "    return np.exp((x - xs[s])**2 / (2 * (sg[i])**2)) / (2 * np.pi * (sg[i] ** 2))"
   ]
  },
  {
   "cell_type": "markdown",
   "metadata": {},
   "source": [
    "$B_i$ = No.of Events in a dataset/Solid angle average acrpss a band of +-6 deg in declination around the $i^{th}$ source\n",
    "\n",
    "Solid angle span = $2\\pi\\cos(\\cos(\\delta + 3) - cos(\\delta - 3))$"
   ]
  },
  {
   "cell_type": "markdown",
   "metadata": {},
   "source": [
    "We estimate the background PDF by calculating the ratio of average number of events per steradian at each\n",
    "declination and the total number of events. "
   ]
  },
  {
   "cell_type": "code",
   "execution_count": 6,
   "metadata": {},
   "outputs": [],
   "source": [
    "def b_ivec(lon1, lat1, lon2, lat2):\n",
    "\n",
    "    #Convert decimal degrees to Radians:\n",
    "    lon1 = np.radians(lon1)\n",
    "    lat1 = np.radians(lat1)\n",
    "    lon2 = np.radians(lon2)\n",
    "    lat2 = np.radians(lat2)\n",
    "\n",
    "    #Implementing Haversine Formula: \n",
    "    dlon = np.subtract(lon2, lon1)\n",
    "    #dlat = np.subtract(lat2, lat1)\n",
    "\n",
    "\n",
    "    a = np.add(np.multiply(np.sin(lat1), np.sin(lat2)), np.multiply(np.multiply(np.cos(lat1), np.cos(lat2)), np.cos(dlon)))\n",
    "\n",
    "    return (np.rad2deg(np.arccos(a)), a)"
   ]
  },
  {
   "cell_type": "code",
   "execution_count": 10,
   "metadata": {},
   "outputs": [],
   "source": [
    "B = []\n",
    "l_ic = len(icdata2)\n",
    "for i in range(len(mspdata)):\n",
    "#returns $B_i$ as defined above\n",
    "#def B_i(i):\n",
    "\n",
    "    r = []\n",
    "    psra = float(mspdata['RAJD'][i])\n",
    "    psdec = float(mspdata['DECJD'][i])\n",
    "    pssa = np.cos(np.cos(np.deg2rad(psdec) + np.cos(np.deg2rad(3))) - np.cos(np.deg2rad(psdec) - np.cos(np.deg2rad(3))))\n",
    "    for j in range(l_ic):\n",
    "        if icdec[j] > np.deg2rad(psdec) - pssa and icdec[j] < np.deg2rad(psdec) + pssa:\n",
    "            r.append(j)\n",
    "    B.append([i,r])\n",
    "\n",
    "    "
   ]
  },
  {
   "cell_type": "code",
   "execution_count": 12,
   "metadata": {},
   "outputs": [
    {
     "data": {
      "text/plain": [
       "[0,\n",
       " [7677,\n",
       "  10754,\n",
       "  12348,\n",
       "  13195,\n",
       "  20126,\n",
       "  23695,\n",
       "  25087,\n",
       "  35553,\n",
       "  35612,\n",
       "  41128,\n",
       "  46566,\n",
       "  47024,\n",
       "  47574,\n",
       "  56511,\n",
       "  56530,\n",
       "  58542,\n",
       "  94046,\n",
       "  102327,\n",
       "  114574,\n",
       "  124081,\n",
       "  138373,\n",
       "  165675,\n",
       "  166100,\n",
       "  187073]]"
      ]
     },
     "execution_count": 12,
     "metadata": {},
     "output_type": "execute_result"
    }
   ],
   "source": [
    "B[0]"
   ]
  },
  {
   "cell_type": "markdown",
   "metadata": {},
   "source": [
    "n_s = Signal Events from point source"
   ]
  },
  {
   "cell_type": "code",
   "execution_count": null,
   "metadata": {},
   "outputs": [],
   "source": [
    "5 in range(4,10)"
   ]
  },
  {
   "cell_type": "code",
   "execution_count": null,
   "metadata": {},
   "outputs": [],
   "source": [
    "def P_i(i,s, S, B, n, N):\n",
    "    return n[s] * S[i] / N + (1 - n[s]/N)*B[i]\n"
   ]
  },
  {
   "cell_type": "code",
   "execution_count": null,
   "metadata": {},
   "outputs": [],
   "source": [
    "def L_i(N, i, P, s):\n",
    "    L = 1\n",
    "    for j in range(N):\n",
    "        L *= P_i(j,s,S,B,n,N)\n",
    "    return L"
   ]
  },
  {
   "cell_type": "code",
   "execution_count": null,
   "metadata": {},
   "outputs": [],
   "source": [
    "def TS(ns, L):\n",
    "    return 2 * np.log10(L_i())"
   ]
  }
 ],
 "metadata": {
  "kernelspec": {
   "display_name": "Python 3.10.4 64-bit",
   "language": "python",
   "name": "python3"
  },
  "language_info": {
   "codemirror_mode": {
    "name": "ipython",
    "version": 3
   },
   "file_extension": ".py",
   "mimetype": "text/x-python",
   "name": "python",
   "nbconvert_exporter": "python",
   "pygments_lexer": "ipython3",
   "version": "3.10.4"
  },
  "orig_nbformat": 4,
  "vscode": {
   "interpreter": {
    "hash": "916dbcbb3f70747c44a77c7bcd40155683ae19c65e1c03b4aa3499c5328201f1"
   }
  }
 },
 "nbformat": 4,
 "nbformat_minor": 2
}
