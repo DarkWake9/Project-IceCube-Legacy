{
 "cells": [
  {
   "cell_type": "code",
   "execution_count": 1,
   "metadata": {},
   "outputs": [],
   "source": [
    "import numpy as np\n",
    "import math\n",
    "import pandas as pd\n",
    "import matplotlib.pyplot as plt\n",
    "import os\n",
    "from astropy import units as u\n",
    "from astropy.coordinates import SkyCoord as scr\n",
    "import seaborn as sns\n",
    "import scipy as sp\n",
    "import load"
   ]
  },
  {
   "cell_type": "code",
   "execution_count": 2,
   "metadata": {},
   "outputs": [],
   "source": [
    "####\n",
    "def task3():    \n",
    "    path = \"/media/darkwake/VIB2/Project-IceCube/icecube_10year_ps/events\"\n",
    "    filenames = [\"IC40_exp.csv\", \"IC59_exp.csv\",\"IC79_exp.csv\", \"IC86_I_exp.csv\", \"IC86_II_exp.csv\",\n",
    "    \"IC86_III_exp.csv\", \"IC86_IV_exp.csv\", \"IC86_V_exp.csv\", \"IC86_VI_exp.csv\", \"IC86_VII_exp.csv\"]\n",
    "    file = filenames[0]\n",
    "    f = open(os.path.join(path, file), 'r')\n",
    "\n",
    "    lines = f.readlines()\n",
    "    column=lines[0].split()\n",
    "    column.pop(0)\n",
    "    content = []\n",
    "    for file in filenames:\n",
    "        f = open(os.path.join(path, file), 'r')\n",
    "        lines = f.readlines()\n",
    "        for line in lines[1:]:\n",
    "            content.append(line.split())\n",
    "        f.close()\n",
    "    icdata = pd.DataFrame(content, columns=column)\n",
    "    icdata['log10(E/GeV)'] = [float(i) for i in icdata['log10(E/GeV)']]\n",
    "\n",
    "    icdata = icdata.sort_values('log10(E/GeV)')\n",
    "    icdata = icdata.reset_index()\n",
    "    icdata = icdata.drop('index', axis=1)\n",
    "\n",
    "    ###\n",
    "    icdata\n",
    "\n",
    "    ###\n",
    "    icpartitions = (np.log10(300), np.log10(1000), np.log10(3000), np.log10(10000))\n",
    "    lwall = [0]\n",
    "    rwall = []\n",
    "    for i in range(0,len(icpartitions)):\n",
    "        lwall.append(min(icdata[icdata['log10(E/GeV)'] > icpartitions[i]].index))\n",
    "        rwall.append(max(icdata[icdata['log10(E/GeV)'] <= icpartitions[i]].index))\n",
    "    lwall.pop(-1)\n",
    "\n",
    "    ###\n",
    "    ic = [icdata[lwall[i]:rwall[i] + 1] for i in range(len(lwall))]\n",
    "\n",
    "    ####\n",
    "    ic.pop(0)\n",
    "    for i in range(3):\n",
    "        ic[i] = ic[i].reset_index()\n",
    "        ic[i] = ic[i].rename(columns={'index': 'oindex'})\n",
    "\n",
    "    extensions = [441 - len(ic[i])%441 for i in range(3)]\n",
    "\n",
    "    icra = [[float(i) for i in ic[j]['RA[deg]']] for j in range(3)]\n",
    "    icdec = [[float(i) for i in ic[j]['Dec[deg]']] for j in range(3)]\n",
    "    icang = [[float(i) for i in ic[j]['AngErr[deg]']] for j in range(3)]\n",
    "\n",
    "    for i in range(3):\n",
    "        icra[i].extend([0]*extensions[i])\n",
    "        icdec[i].extend([0]*extensions[i])\n",
    "        icang[i].extend([0]*extensions[i])\n",
    "\n",
    "    #IMPORTING AND CLEANING MSPDATA\n",
    "    f = open(\"/media/darkwake/VIB2/Project-IceCube/10milsecpsr.txt\", 'r')\n",
    "    lines = f.readlines()\n",
    "\n",
    "    content=[]\n",
    "    column=lines[3].split()\n",
    "\n",
    "    for line in lines[:]:\n",
    "        content.append(line.split())\n",
    "\n",
    "    #the INITAL DATABASE IS CLUTTERED SO WE REMOVE THE NULL COLUMNS AND OTHER CLUTTER\n",
    "    mspdata = pd.DataFrame(content).drop(range(0,6)).dropna().drop([2,6,8,10,11,13,14], axis=1)\n",
    "    f.close()\n",
    "    line = []\n",
    "    lines = []\n",
    "\n",
    "    mspdata.columns = column\n",
    "    column = []\n",
    "    content=[]\n",
    "    mspdata.dropna(inplace=True)\n",
    "    mspdata = mspdata.reset_index()\n",
    "    mspdata = mspdata.drop([\"index\", \"#\"], axis=1)\n",
    "\n",
    "\n",
    "    msra = [float(i) for i in mspdata['RAJD']]\n",
    "    msdec = [float(i) for i in mspdata['DECJD']]\n",
    "    cos5 = np.cos(np.deg2rad(5))\n",
    "    minra = min(msra)\n",
    "    maxra = max(msra)\n",
    "    mindec = min(msdec)\n",
    "    maxdec = max(msdec)\n",
    "    titles = ['0.3TeV - 1 TeV', '1 TeV - 3 TeV', '3 TeV - 10 TeV']\n",
    "\n",
    "\n",
    "    output3 = []\n",
    "    for i in range(50):\n",
    "    # #### GENERATING SYNTHTIC CATALOGUE\n",
    "    # ####\n",
    "        msra2, msdec2 = load.gen_cat(minra, maxra, mindec, maxdec)\n",
    "        msra3, msdec3 = load.gen_cat(minra, maxra, mindec, maxdec)\n",
    "\n",
    "    # #### TASK 2B OUTPUT\n",
    "    # #### COSINE OF SPACE ANGLE DISTRIBUTION\n",
    "        cosp_ang = load.t2a2b(icra, icdec, msra2, msdec2, extensions, 'b')\n",
    "        cosp_ang2 = load.t2a2b(icra, icdec, msra2, msdec2, extensions, 'b')\n",
    "        freq, nbins, bground, signal = load.t2bs(cosp_ang)\n",
    "        freq2, nbins, bground2, signal2 = load.t2bs(cosp_ang2)\n",
    "        cosp_ang=[]\n",
    "        cosp_ang2=[]\n",
    "\n",
    "    # ## TASK 2C\n",
    "    # ### OUTPUT\n",
    "\n",
    "        match = load.t2c(icra,icdec, icang, msra2, msdec2, extensions)\n",
    "        match2 = load.t2c(icra,icdec, icang, msra3, msdec3, extensions)\n",
    "\n",
    "        '''for i in range(3):\n",
    "            print(f\"{titles[i]}: {match[i]}\")'''\n",
    "\n",
    "    # ## TASK 2D\n",
    "    # ### OUTPUT\n",
    "\n",
    "        background = load.t2d(icra, icdec, icang, msra2, msdec2, extensions)\n",
    "        background2 = load.t2d(icra, icdec, icang, msra3, msdec3, extensions)\n",
    "\n",
    "        '''for i in range(3):\n",
    "            print(f\"{titles[i]}: {background[i]}\")'''\n",
    "        output3.append([freq, bground, signal, match, background])\n",
    "        output3.append([freq2, bground2, signal2, match2, background2])   \n",
    "\n",
    "    return(output3)    \n",
    "         "
   ]
  },
  {
   "cell_type": "code",
   "execution_count": 3,
   "metadata": {},
   "outputs": [
    {
     "ename": "KeyboardInterrupt",
     "evalue": "",
     "output_type": "error",
     "traceback": [
      "\u001b[0;31m---------------------------------------------------------------------------\u001b[0m",
      "\u001b[0;31mKeyboardInterrupt\u001b[0m                         Traceback (most recent call last)",
      "\u001b[1;32m/media/darkwake/VIB2/Project-IceCube/Task3/task32f.ipynb Cell 3'\u001b[0m in \u001b[0;36m<cell line: 1>\u001b[0;34m()\u001b[0m\n\u001b[0;32m----> <a href='vscode-notebook-cell:/media/darkwake/VIB2/Project-IceCube/Task3/task32f.ipynb#ch0000002?line=0'>1</a>\u001b[0m task3o \u001b[39m=\u001b[39m task3()\n",
      "\u001b[1;32m/media/darkwake/VIB2/Project-IceCube/Task3/task32f.ipynb Cell 2'\u001b[0m in \u001b[0;36mtask3\u001b[0;34m()\u001b[0m\n\u001b[1;32m    <a href='vscode-notebook-cell:/media/darkwake/VIB2/Project-IceCube/Task3/task32f.ipynb#ch0000001?line=101'>102</a>\u001b[0m     cosp_ang\u001b[39m=\u001b[39m[]\n\u001b[1;32m    <a href='vscode-notebook-cell:/media/darkwake/VIB2/Project-IceCube/Task3/task32f.ipynb#ch0000001?line=103'>104</a>\u001b[0m \u001b[39m# ## TASK 2C\u001b[39;00m\n\u001b[1;32m    <a href='vscode-notebook-cell:/media/darkwake/VIB2/Project-IceCube/Task3/task32f.ipynb#ch0000001?line=104'>105</a>\u001b[0m \u001b[39m# ### OUTPUT\u001b[39;00m\n\u001b[0;32m--> <a href='vscode-notebook-cell:/media/darkwake/VIB2/Project-IceCube/Task3/task32f.ipynb#ch0000001?line=106'>107</a>\u001b[0m     match \u001b[39m=\u001b[39m load\u001b[39m.\u001b[39;49mt2c(icra,icdec, icang, msra2, msdec2, extensions)\n\u001b[1;32m    <a href='vscode-notebook-cell:/media/darkwake/VIB2/Project-IceCube/Task3/task32f.ipynb#ch0000001?line=108'>109</a>\u001b[0m     \u001b[39m'''for i in range(3):\u001b[39;00m\n\u001b[1;32m    <a href='vscode-notebook-cell:/media/darkwake/VIB2/Project-IceCube/Task3/task32f.ipynb#ch0000001?line=109'>110</a>\u001b[0m \u001b[39m        print(f\"{titles[i]}: {match[i]}\")'''\u001b[39;00m\n\u001b[1;32m    <a href='vscode-notebook-cell:/media/darkwake/VIB2/Project-IceCube/Task3/task32f.ipynb#ch0000001?line=111'>112</a>\u001b[0m \u001b[39m# ## TASK 2D\u001b[39;00m\n\u001b[1;32m    <a href='vscode-notebook-cell:/media/darkwake/VIB2/Project-IceCube/Task3/task32f.ipynb#ch0000001?line=112'>113</a>\u001b[0m \u001b[39m# ### OUTPUT\u001b[39;00m\n",
      "File \u001b[0;32m/media/darkwake/VIB2/Project-IceCube/Task3/load.py:158\u001b[0m, in \u001b[0;36mt2c\u001b[0;34m(icra, icdec, icangerr, msra, msdec, extensions)\u001b[0m\n\u001b[1;32m    156\u001b[0m                 \u001b[39mfor\u001b[39;00m l \u001b[39min\u001b[39;00m \u001b[39mrange\u001b[39m(p):\n\u001b[1;32m    157\u001b[0m                     \u001b[39mif\u001b[39;00m hvsang[l] \u001b[39m!=\u001b[39m \u001b[39mNone\u001b[39;00m \u001b[39mand\u001b[39;00m l \u001b[39m<\u001b[39m extensions[x]:\n\u001b[0;32m--> 158\u001b[0m                         \u001b[39mif\u001b[39;00m \u001b[39mabs\u001b[39;49m(hvsang[l]) \u001b[39m<\u001b[39m\u001b[39m=\u001b[39m icangerr[x][k\u001b[39m*\u001b[39mp \u001b[39m+\u001b[39m l]:\n\u001b[1;32m    159\u001b[0m                             \u001b[39m#r.append([k,j,l, hvsang[l], icangerr[k*p + l]])\u001b[39;00m\n\u001b[1;32m    160\u001b[0m                             r\u001b[39m=\u001b[39mr \u001b[39m+\u001b[39m \u001b[39m1\u001b[39m\n\u001b[1;32m    161\u001b[0m bgcount\u001b[39m.\u001b[39mappend(r)\n",
      "\u001b[0;31mKeyboardInterrupt\u001b[0m: "
     ]
    }
   ],
   "source": [
    "task3o = task3()"
   ]
  },
  {
   "cell_type": "code",
   "execution_count": 5,
   "metadata": {},
   "outputs": [
    {
     "ename": "NameError",
     "evalue": "name 'task3o' is not defined",
     "output_type": "error",
     "traceback": [
      "\u001b[0;31m---------------------------------------------------------------------------\u001b[0m",
      "\u001b[0;31mNameError\u001b[0m                                 Traceback (most recent call last)",
      "\u001b[1;32m/media/darkwake/VIB2/Project-IceCube/Task3/task32f.ipynb Cell 4'\u001b[0m in \u001b[0;36m<cell line: 1>\u001b[0;34m()\u001b[0m\n\u001b[0;32m----> <a href='vscode-notebook-cell:/media/darkwake/VIB2/Project-IceCube/Task3/task32f.ipynb#ch0000003?line=0'>1</a>\u001b[0m task3o\n",
      "\u001b[0;31mNameError\u001b[0m: name 'task3o' is not defined"
     ]
    }
   ],
   "source": [
    "task3o"
   ]
  },
  {
   "cell_type": "code",
   "execution_count": null,
   "metadata": {},
   "outputs": [],
   "source": []
  }
 ],
 "metadata": {
  "kernelspec": {
   "display_name": "Python 3.10.4 64-bit",
   "language": "python",
   "name": "python3"
  },
  "language_info": {
   "codemirror_mode": {
    "name": "ipython",
    "version": 3
   },
   "file_extension": ".py",
   "mimetype": "text/x-python",
   "name": "python",
   "nbconvert_exporter": "python",
   "pygments_lexer": "ipython3",
   "version": "3.10.6"
  },
  "orig_nbformat": 4,
  "vscode": {
   "interpreter": {
    "hash": "916dbcbb3f70747c44a77c7bcd40155683ae19c65e1c03b4aa3499c5328201f1"
   }
  }
 },
 "nbformat": 4,
 "nbformat_minor": 2
}
