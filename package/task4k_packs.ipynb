{
 "cells": [
  {
   "cell_type": "code",
   "execution_count": 1,
   "metadata": {},
   "outputs": [],
   "source": [
    "from core import download_IC"
   ]
  },
  {
   "cell_type": "code",
   "execution_count": 2,
   "metadata": {},
   "outputs": [
    {
     "name": "stdout",
     "output_type": "stream",
     "text": [
      "read icdata\n",
      "read uptdata\n",
      "read eadata\n",
      "read mspdata\n"
     ]
    }
   ],
   "source": [
    "from core import readfiles\n",
    "import numpy as np\n",
    "import pandas as pd\n",
    "import os\n",
    "import multiprocessing as mul\n",
    "from multiprocessing import Process\n",
    "import matplotlib.pyplot as plt\n",
    "from scipy.stats import gaussian_kde\n",
    "import scipy.stats as sct\n",
    "from astropy.coordinates import SkyCoord as scr\n",
    "from astropy import units as u\n",
    "from time import sleep\n",
    "from numba import jit, njit, prange\n",
    "from tqdm import tqdm\n",
    "from core.signal_bag import *\n",
    "from core.stacking_analysis import *\n",
    "from core.req_arrays import *"
   ]
  },
  {
   "cell_type": "markdown",
   "metadata": {},
   "source": [
    "@njit(fastmath=True)\n",
    "def earea_r(season, i, j):\n",
    "    se =  np.int32(ea_season(season))\n",
    "    return earea[se][i + 40*j]"
   ]
  },
  {
   "cell_type": "code",
   "execution_count": 3,
   "metadata": {},
   "outputs": [],
   "source": [
    "all_enu = np.logspace(11.001, 19, 1000)\n",
    "gamma_arr = [-1, -2.2, -2.5, -3]\n",
    "phi0m = [1e-46, 1e-45, 1e-41, 1e-41]"
   ]
  },
  {
   "cell_type": "code",
   "execution_count": 4,
   "metadata": {},
   "outputs": [],
   "source": [
    "all_Bi = signals(4).compute_background()"
   ]
  },
  {
   "cell_type": "code",
   "execution_count": 5,
   "metadata": {},
   "outputs": [
    {
     "name": "stderr",
     "output_type": "stream",
     "text": [
      "100%|██████████| 4/4 [01:34<00:00, 23.72s/it]\n"
     ]
    }
   ],
   "source": [
    "all_Si = np.asfarray([signals(gamma_arr[i]).compute_signal() for i in tqdm(prange(4))])"
   ]
  },
  {
   "cell_type": "code",
   "execution_count": 16,
   "metadata": {},
   "outputs": [
    {
     "data": {
      "text/plain": [
       "array([1.35652808e-012, 2.91694886e-004, 3.31550137e-002, ...,\n",
       "       3.06243494e-005, 7.80886092e-068, 9.42751921e-153])"
      ]
     },
     "execution_count": 16,
     "metadata": {},
     "output_type": "execute_result"
    }
   ],
   "source": [
    "all_Si[2]"
   ]
  },
  {
   "cell_type": "code",
   "execution_count": 6,
   "metadata": {},
   "outputs": [],
   "source": [
    "#For each energy, find ns for all pulsars summed over all seasons and sum ns over all pulsars for each energy\n",
    "#FIND TS as in eqn 3 of 2205.15963\n",
    "\n",
    "@njit(fastmath=True)\n",
    "def ns_singleseason_sing_psr_HAT(dec,enu, gamma, phi0 = 1e-40, season=0):\n",
    "    '''\n",
    "    This function returns the number of signal events for a single pulsar as in EQN3 of 2205.15963\n",
    "    -------------------\n",
    "\n",
    "    Parameters\n",
    "    ----------\n",
    "    dec : float\n",
    "        The declination of the pulsar in radians\n",
    "    \n",
    "    enu : float\n",
    "        The neutrino energy in eV\n",
    "\n",
    "    gamma : float\n",
    "        The spectral index of the neutrino flux\n",
    "\n",
    "    phi0 : float (optional)\n",
    "        The normalization constant of the neutrino flux\n",
    "\n",
    "    season : int (optional)\n",
    "        The IceCube season number\n",
    "    \n",
    "    Returns\n",
    "    -------\n",
    "    float\n",
    "        The number of signal events for the given parameters\n",
    "    '''\n",
    "\n",
    "\n",
    "    tt_upt = t_upt[season]\n",
    "    if enu <= 1e11 or enu > 1e19:\n",
    "        return 0.0\n",
    "    else:\n",
    "        k=0\n",
    "        l=0\n",
    "        for i in range(0, len(e_nu)):\n",
    "            if e_nu[i] <= enu and e_nu[i+1] > enu:\n",
    "                for j in range(0, len(dec_nu)):\n",
    "                    if dec_nu[j] <= dec and dec_nu[j+1] > dec:\n",
    "                        k=i\n",
    "                        l=j\n",
    "                        break\n",
    "                break\n",
    "\n",
    "        temp_ea = np.asarray(earea[ea_season(season)])[l*40 + k]\n",
    "        return tt_upt * (enu**2) * temp_ea * dfde(enu, gamma, phi0)\n"
   ]
  },
  {
   "cell_type": "code",
   "execution_count": 7,
   "metadata": {},
   "outputs": [],
   "source": [
    "#For each energy, find ns for all pulsars summed over all seasons and sum ns over all pulsars for each energy\n",
    "#FIND TS as in eqn 3 of 2205.15963\n",
    "\n",
    "all_TSS = []\n",
    "nss_all_gamma = []\n",
    "for gamma in prange(4):\n",
    "    nss_all_eng = []\n",
    "    for enu in prange(len(all_enu)):\n",
    "        psrns = 0\n",
    "        for psrdec in prange(p):\n",
    "            for season in range(10):    \n",
    "                psrns += ns_singleseason_sing_psr_HAT(psrdec, all_enu[enu], gamma_arr[gamma], phi0m[gamma],season=season)\n",
    "                # nss.append(ns_singleseason_sing_psr_HAT(psrdec, all_enu[enu], gamma_arr[gamma], season=season))\n",
    "        nss_all_eng.append(psrns)\n",
    "    \n",
    "    @njit\n",
    "    def TS_for_all_psrs2(nsa):\n",
    "        return Ts_arr2(nsa, all_Si[gamma], all_Bi, Ns)\n",
    "\n",
    "    pool = mul.Pool(12, maxtasksperchild=200)\n",
    "    op_arr = pool.map_async(TS_for_all_psrs2, nss_all_eng)\n",
    "    temp = op_arr.get()\n",
    "    pool = []\n",
    "    op_arr = []\n",
    "    all_TSS.append(temp)\n",
    "\n",
    "    # nss_all_gamma.append(nss_all_eng)"
   ]
  },
  {
   "cell_type": "code",
   "execution_count": 8,
   "metadata": {},
   "outputs": [
    {
     "name": "stdout",
     "output_type": "stream",
     "text": [
      "-219.26242518260503 3.997246977860233e-11\n",
      "-1134450.0 0.0\n",
      "-109.41815957632622 0.0\n",
      "-184.87922285428985 0.0\n"
     ]
    }
   ],
   "source": [
    "for i in range(4):\n",
    "    print(min(all_TSS[i]), max(all_TSS[i]))"
   ]
  },
  {
   "cell_type": "code",
   "execution_count": 9,
   "metadata": {},
   "outputs": [
    {
     "data": {
      "image/png": "[encoded data removed]",
      "text/plain": [
       "<Figure size 720x576 with 1 Axes>"
      ]
     },
     "metadata": {
      "needs_background": "light"
     },
     "output_type": "display_data"
    }
   ],
   "source": [
    "all_TSS = np.asarray(all_TSS)\n",
    "gamma_arr = np.asarray(gamma_arr)\n",
    "phi0 = 1e-40\n",
    "e2dfde = [] \n",
    "for i in prange(4):\n",
    "    temp = []\n",
    "    for eng in range(1000):\n",
    "        temp.append((all_enu[eng]**2) * dfde(all_enu[eng], gamma_arr[i], phi0m[i]))\n",
    "    e2dfde.append(temp)\n",
    "\n",
    "e2dfde = np.asarray(e2dfde)\n",
    "mark = ['^', 'o', 's', 'd']\n",
    "plt.figure(figsize=(10,8))\n",
    "for i in [0, 1, 2, 3]:#range(4):\n",
    "    plt.scatter(e2dfde[i], all_TSS[i], label='$\\Gamma$ = ' + str(gamma_arr[i]), s=4 + i*(i-2)*(i-3), marker= mark[i])\n",
    "\n",
    "plt.legend()\n",
    "plt.xscale('log')\n",
    "# plt.yscale('log')\n",
    "plt.xlabel('$E^2_{\\u03BD} \\dfrac{d\\phi}{dE_{\\u03BD}}$')\n",
    "plt.ylabel('TS')\n",
    "plt.title('TS vs $E^2_{\\u03BD} \\dfrac{d\\phi}{dE_{\\u03BD}}$')\n",
    "plt.xlim(1e-17, 1e-13)\n",
    "plt.ylim(-100, 10)\n",
    "plt.show()"
   ]
  }
 ],
 "metadata": {
  "kernelspec": {
   "display_name": "Python 3",
   "language": "python",
   "name": "python3"
  },
  "language_info": {
   "codemirror_mode": {
    "name": "ipython",
    "version": 3
   },
   "file_extension": ".py",
   "mimetype": "text/x-python",
   "name": "python",
   "nbconvert_exporter": "python",
   "pygments_lexer": "ipython3",
   "version": "3.10.6"
  },
  "orig_nbformat": 4
 },
 "nbformat": 4,
 "nbformat_minor": 2
}
