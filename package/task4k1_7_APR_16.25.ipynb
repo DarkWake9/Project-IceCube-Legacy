{
 "cells": [
  {
   "cell_type": "code",
   "execution_count": 1,
   "metadata": {},
   "outputs": [
    {
     "name": "stdout",
     "output_type": "stream",
     "text": [
      "read icdata\n",
      "read uptdata\n",
      "read eadata\n",
      "read mspdata\n"
     ]
    }
   ],
   "source": [
    "from core import download_IC\n",
    "from core import download_ATNF\n",
    "from core import readfiles\n",
    "import numpy as np\n",
    "import pandas as pd\n",
    "import os\n",
    "import multiprocessing as mul\n",
    "from multiprocessing import Process\n",
    "import matplotlib.pyplot as plt\n",
    "from scipy.stats import gaussian_kde\n",
    "import scipy.stats as sct\n",
    "from astropy.coordinates import SkyCoord as scr\n",
    "from astropy import units as u\n",
    "from time import sleep\n",
    "from numba import jit, njit, prange\n",
    "from tqdm import tqdm\n",
    "from core.signal_bag import *\n",
    "from core.stacking_analysis import *\n",
    "from core.req_arrays import *\n",
    "import bisect\n",
    "\n",
    "\n",
    "# UNCOMMENT FOR LINEAR BINS\n",
    "# all_enu = np.linspace(10**11.001, 10**18.999, 1000)\n",
    "\n",
    "# UNCOMMENT FOR LOGARITHMIC BINS of WIDTH 0.2 from logE/GeV = 2 to 10 AS GIVEN IN THE ICECUBE DATA\n",
    "all_enu = e_nu_wall\n",
    "\n",
    "# UNCOMMENT FOR LOGARITHMIC BINS\n",
    "# all_enu = np.logspace(11.001, 18.999, 1000)\n",
    "gamma_arr = [-1, -2.2, -2.5, -3]\n",
    "phio = np.logspace(-38, -26, 1000) #CHANGING TO LINEAR BINS RESULTS IN STRAIGHT LINES"
   ]
  },
  {
   "cell_type": "code",
   "execution_count": 2,
   "metadata": {},
   "outputs": [],
   "source": [
    "weight_obj =  [weights.weights(gamma).all_weights for gamma in gamma_arr]\n",
    "sum_weights = [weights.weights(gamma).sum_weights for gamma in gamma_arr]\n",
    "#Calculating weight/sum(weights) to avoid wrong ns = 0 entries \n",
    "normalized_wt = []\n",
    "for gamma in range(4):\n",
    "    temp = []\n",
    "    for season in range(len(weight_obj[gamma])):\n",
    "        temp.append(weight_obj[gamma][ea_season(season)]/sum_weights[gamma][ea_season(season)])\n",
    "    normalized_wt.append(temp)"
   ]
  },
  {
   "cell_type": "code",
   "execution_count": 3,
   "metadata": {},
   "outputs": [],
   "source": [
    "#generates ns^ for a single pulsar a single season and a single energy\n",
    "\n",
    "@njit(fastmath=True)\n",
    "def ns_singleseason_sing_psr_HAT(dec,enu, gamma, phi0 = 1, season=0):\n",
    "    '''\n",
    "    This function returns the number of signal events for a single pulsar as in EQN3 of 2205.15963\n",
    "    -------------------\n",
    "\n",
    "    Parameters\n",
    "    ----------\n",
    "    dec : float\n",
    "        The declination of the pulsar in radians\n",
    "    \n",
    "    enu : float\n",
    "        The neutrino energy in eV\n",
    "\n",
    "    gamma : float\n",
    "        The spectral index of the neutrino flux\n",
    "\n",
    "    phi0 : float (optional)\n",
    "        The normalization constant of the neutrino flux\n",
    "\n",
    "    season : int (optional)\n",
    "        The IceCube season number\n",
    "    \n",
    "    Returns\n",
    "    -------\n",
    "    float\n",
    "        The number of signal events for the given parameters\n",
    "    '''\n",
    "\n",
    "\n",
    "    tt_upt = t_upt[season]\n",
    "    if enu <= 1e11 or enu >= 1e19:\n",
    "        return 0.0\n",
    "    else:\n",
    "        k=0\n",
    "        l=0\n",
    "        for i in range(0, len(e_nu_wall)):\n",
    "            if e_nu_wall[i] <= enu and e_nu_wall[i+1] > enu:\n",
    "                for j in range(0, len(dec_nu)):\n",
    "                    if dec_nu[j] <= dec and dec_nu[j+1] > dec:\n",
    "                        k=i\n",
    "                        l=j\n",
    "                        break\n",
    "                break\n",
    "\n",
    "        temp_ea = np.asarray(earea[ea_season(season)])[l*40 + k]\n",
    "        return tt_upt * temp_ea * dfde(enu, gamma, phi0)     #in s cm2 eV\n"
   ]
  },
  {
   "cell_type": "code",
   "execution_count": 8,
   "metadata": {},
   "outputs": [
    {
     "name": "stdout",
     "output_type": "stream",
     "text": [
      "Decl =  62.26928\n",
      "ns^ =  0.16697202155008206\n",
      "ns^ =  0.0007650673449810183\n"
     ]
    }
   ],
   "source": [
    "phi0t = 1e-30\n",
    "season = 0\n",
    "dec = msdec[0]\n",
    "print(\"Decl = \", dec)\n",
    "tmp = [ns_singleseason_sing_psr_HAT(dec, all_enu[i], gamma_arr[gamma], phi0t ,season=season) for i in range(len(all_enu))]\n",
    "\n",
    "#UNEQUAL BINWIDTHS IN LINEAR SPACE BUT EQUAL IN LOGARITHMIC SPACE\n",
    "print(\"ns^ = \",np.trapz(y=tmp, dx=np.diff(all_enu)))\n",
    "\n",
    "#EQUAL BINWIDTHS IN BOTH LINEAR 10^9.2 AND LOGARITHMIC SPACE of 0.2\n",
    "print(\"ns^ = \",np.trapz(y=tmp, dx = 1e9* (10**0.2)))"
   ]
  },
  {
   "cell_type": "code",
   "execution_count": null,
   "metadata": {},
   "outputs": [],
   "source": []
  }
 ],
 "metadata": {
  "kernelspec": {
   "display_name": "Python 3",
   "language": "python",
   "name": "python3"
  },
  "language_info": {
   "codemirror_mode": {
    "name": "ipython",
    "version": 3
   },
   "file_extension": ".py",
   "mimetype": "text/x-python",
   "name": "python",
   "nbconvert_exporter": "python",
   "pygments_lexer": "ipython3",
   "version": "3.10.6"
  },
  "orig_nbformat": 4
 },
 "nbformat": 4,
 "nbformat_minor": 2
}
