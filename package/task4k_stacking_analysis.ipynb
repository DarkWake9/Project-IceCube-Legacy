{
 "cells": [
  {
   "cell_type": "code",
   "execution_count": 1,
   "metadata": {},
   "outputs": [],
   "source": [
    "from core import download_IC"
   ]
  },
  {
   "cell_type": "code",
   "execution_count": 2,
   "metadata": {},
   "outputs": [
    {
     "name": "stdout",
     "output_type": "stream",
     "text": [
      "read icdata\n",
      "read uptdata\n",
      "read eadata\n",
      "read mspdata\n"
     ]
    }
   ],
   "source": [
    "from core import readfiles\n",
    "import numpy as np\n",
    "import pandas as pd\n",
    "import os\n",
    "import multiprocessing as mul\n",
    "from multiprocessing import Process\n",
    "import matplotlib.pyplot as plt\n",
    "from scipy.stats import gaussian_kde\n",
    "import scipy.stats as sct\n",
    "from astropy.coordinates import SkyCoord as scr\n",
    "from astropy import units as u\n",
    "from time import sleep\n",
    "from numba import jit, njit, prange\n",
    "from tqdm import tqdm\n",
    "from core.signal_bag import *\n",
    "from core.stacking_analysis import *\n",
    "from core.req_arrays import *\n",
    "import bisect"
   ]
  },
  {
   "cell_type": "code",
   "execution_count": 35,
   "metadata": {},
   "outputs": [],
   "source": [
    "all_enu = np.logspace(11.001, 18.999, 1000)\n",
    "gamma_arr = [-1, -2.2, -2.5, -3]\n",
    "phio = np.logspace(-27, -17, 1000)"
   ]
  },
  {
   "attachments": {},
   "cell_type": "markdown",
   "metadata": {},
   "source": [
    "#Compute the background PDF for all neutrinos as per eqn 9 of 2205.15963\n",
    "#and store them at /data/all_Bi.dat\n",
    "\n",
    "\n",
    "all_Bi = signals(4).compute_background()\n",
    "all_Bi.tofile(os.getcwd() + 'data/all_Bi.dat', sep=',')"
   ]
  },
  {
   "cell_type": "code",
   "execution_count": 4,
   "metadata": {},
   "outputs": [],
   "source": [
    "all_Bi = np.loadtxt(os.getcwd() + '/data/all_Bi.dat', delimiter=',')"
   ]
  },
  {
   "cell_type": "code",
   "execution_count": 5,
   "metadata": {},
   "outputs": [],
   "source": [
    "weight_obj =  [weights.weights(gamma).all_weights for gamma in gamma_arr]\n",
    "sum_weights = [weights.weights(gamma).sum_weights for gamma in gamma_arr]"
   ]
  },
  {
   "cell_type": "code",
   "execution_count": 6,
   "metadata": {},
   "outputs": [],
   "source": [
    "normalized_wt = []\n",
    "for gamma in range(4):\n",
    "    temp = []\n",
    "    for season in range(len(weight_obj[gamma])):\n",
    "        temp.append(weight_obj[gamma][ea_season(season)]/sum_weights[gamma][ea_season(season)])\n",
    "    normalized_wt.append(temp)"
   ]
  },
  {
   "cell_type": "code",
   "execution_count": 7,
   "metadata": {},
   "outputs": [
    {
     "name": "stderr",
     "output_type": "stream",
     "text": [
      "100%|██████████| 4/4 [01:34<00:00, 23.52s/it]\n"
     ]
    }
   ],
   "source": [
    "#Compute the signal PDF for all neutrinos as per eqns 6, 7 and weights as per eqn 8 of 2205.15963\n",
    "all_Si = np.asfarray([signals(gamma_arr[i]).compute_signal() for i in tqdm(prange(4))])"
   ]
  },
  {
   "cell_type": "code",
   "execution_count": 9,
   "metadata": {},
   "outputs": [],
   "source": [
    "#find ns for all pulsars summed over all seasons and energies and sum ns over all pulsars\n",
    "#multiply ns with \n",
    "#FIND ns^ as in eqn 3 of 2205.15963\n",
    "\n",
    "\n",
    "#use np.digitize for binary search for BETTER READABILITY\n",
    "\n",
    "\n",
    "@njit(fastmath=True)\n",
    "def ns_singleseason_sing_psr_HAT(dec,enu, gamma, phi0 = 1e-40, season=0):\n",
    "    '''\n",
    "    This function returns the number of signal events for a single pulsar as in EQN3 of 2205.15963\n",
    "    -------------------\n",
    "\n",
    "    Parameters\n",
    "    ----------\n",
    "    dec : float\n",
    "        The declination of the pulsar in radians\n",
    "    \n",
    "    enu : float\n",
    "        The neutrino energy in eV\n",
    "\n",
    "    gamma : float\n",
    "        The spectral index of the neutrino flux\n",
    "\n",
    "    phi0 : float (optional)\n",
    "        The normalization constant of the neutrino flux\n",
    "\n",
    "    season : int (optional)\n",
    "        The IceCube season number\n",
    "    \n",
    "    Returns\n",
    "    -------\n",
    "    float\n",
    "        The number of signal events for the given parameters\n",
    "    '''\n",
    "\n",
    "\n",
    "    tt_upt = t_upt[season]\n",
    "    if enu <= 1e11 or enu >= 1e19:\n",
    "        return 0.0\n",
    "    else:\n",
    "        k=0\n",
    "        l=0\n",
    "        for i in range(0, len(e_nu_wall)):\n",
    "            if e_nu_wall[i] <= enu and e_nu_wall[i+1] > enu:\n",
    "                for j in range(0, len(dec_nu)):\n",
    "                    if dec_nu[j] <= dec and dec_nu[j+1] > dec:\n",
    "                        k=i\n",
    "                        l=j\n",
    "                        break\n",
    "                break\n",
    "\n",
    "        temp_ea = np.asarray(earea[ea_season(season)])[l*40 + k]\n",
    "        return tt_upt * temp_ea * dfde(enu, gamma, phi0)     #in s cm2 eV\n"
   ]
  },
  {
   "cell_type": "code",
   "execution_count": 36,
   "metadata": {},
   "outputs": [],
   "source": [
    "#For each gamma, find ns and find TS(ns*phi0)\n",
    "#FIND TS as in eqn 3 of 2205.15963\n",
    "\n",
    "#28032023 SD suggestion - USE trapz\n",
    "\n",
    "all_TSS = []\n",
    "all_TSS_with_wt = []\n",
    "nss_all_gamma = []\n",
    "for gamma in prange(4):\n",
    "    nss_all_eng = []\n",
    "    psrns = 0\n",
    "    for psrdec in range(p):\n",
    "        for enu in prange(len(all_enu)):\n",
    "            for season in range(10):    \n",
    "                psrns += ns_singleseason_sing_psr_HAT(msdec[psrdec], all_enu[enu], gamma_arr[gamma], 1 ,season=season)\n",
    "                # nss.append(ns_singleseason_sing_psr_HAT(psrdec, all_enu[enu], gamma_arr[gamma], season=season))\n",
    "    nss_all_eng.append(psrns)\n",
    "    \n",
    "    @njit\n",
    "    def TS_for_all_psrs2(nsa):  \n",
    "        return Ts_arr2(nsa, all_Si[gamma], all_Bi, Ns)      #No units\n",
    "\n",
    "    pool = mul.Pool(12, maxtasksperchild=200)\n",
    "    op_arr = pool.map_async(TS_for_all_psrs2, nss_all_eng*phio) #No units\n",
    "    temp = op_arr.get()\n",
    "    pool = []\n",
    "    op_arr = []\n",
    "    all_TSS.append(temp)\n",
    "\n",
    "    nss_all_gamma.append(nss_all_eng)"
   ]
  },
  {
   "cell_type": "code",
   "execution_count": 37,
   "metadata": {},
   "outputs": [
    {
     "data": {
      "text/plain": [
       "[[1.5931316825292292e+20],\n",
       " [5.123590133329921e+21],\n",
       " [2.1826809530530503e+22],\n",
       " [3.149219705046723e+23]]"
      ]
     },
     "execution_count": 37,
     "metadata": {},
     "output_type": "execute_result"
    }
   ],
   "source": [
    "nss_all_gamma #without weights"
   ]
  },
  {
   "attachments": {},
   "cell_type": "markdown",
   "metadata": {},
   "source": [
    "### $N \\approx 10^6$\n",
    "### $\\hat{n}_s < N$ So $\\phi_0 < [10^{-17}$, $10^{-14} ]$"
   ]
  },
  {
   "cell_type": "code",
   "execution_count": 38,
   "metadata": {},
   "outputs": [],
   "source": [
    "#For each gamma, find ns and find TS(ns*phi0)\n",
    "#FIND TS as in eqn 3 of 2205.15963\n",
    "\n",
    "#28032023 SD suggestion - USE trapz\n",
    "\n",
    "# all_TSS = []\n",
    "all_TSS_with_wt = []\n",
    "nss_all_gamma = []\n",
    "for gamma in prange(4):\n",
    "    nss_all_eng = []\n",
    "    psrns = 0\n",
    "    for psrdec in range(p):\n",
    "        for enu in prange(len(all_enu)):\n",
    "            for season in range(10):    \n",
    "                psrns += ns_singleseason_sing_psr_HAT(msdec[psrdec], all_enu[enu], gamma_arr[gamma], 1 ,season=season)*normalized_wt[gamma][ea_season(season)][psrdec]\n",
    "                # nss.append(ns_singleseason_sing_psr_HAT(psrdec, all_enu[enu], gamma_arr[gamma], season=season))\n",
    "    nss_all_eng.append(psrns)\n",
    "    \n",
    "    @njit\n",
    "    def TS_for_all_psrs2(nsa):  \n",
    "        return Ts_arr2(nsa, all_Si[gamma], all_Bi, Ns)      #No units\n",
    "\n",
    "    pool = mul.Pool(12, maxtasksperchild=200)\n",
    "    op_arr = pool.map_async(TS_for_all_psrs2, nss_all_eng*phio) #No units\n",
    "    temp = op_arr.get()\n",
    "    pool = []\n",
    "    op_arr = []\n",
    "    all_TSS_with_wt.append(temp)\n",
    "\n",
    "    # nss_all_gamma.append(nss_all_eng)"
   ]
  },
  {
   "cell_type": "code",
   "execution_count": 39,
   "metadata": {},
   "outputs": [
    {
     "name": "stdout",
     "output_type": "stream",
     "text": [
      "-119.47527234312635 -3.9292542562410165e-09\n",
      "-31595.355479885955 -2.7121432474719298e-08\n",
      "-259092.17833103135 -7.554506265136489e-08\n",
      "-6982681.461057785 -7.473228052696051e-07\n"
     ]
    }
   ],
   "source": [
    "for i in range(4):\n",
    "    print(min(all_TSS[i]), max(all_TSS[i]))"
   ]
  },
  {
   "cell_type": "code",
   "execution_count": 40,
   "metadata": {},
   "outputs": [
    {
     "name": "stdout",
     "output_type": "stream",
     "text": [
      "-0.011748290453155216 1.0276801631903251e-10\n",
      "-0.09026851723044045 9.134248912716442e-12\n",
      "-0.38567192839084286 -1.5505818852739495e-11\n",
      "-33.469086107565154 -2.259517021425252e-10\n"
     ]
    }
   ],
   "source": [
    "for i in range(4):\n",
    "    print(min(all_TSS_with_wt[i]), max(all_TSS_with_wt[i]))"
   ]
  },
  {
   "cell_type": "code",
   "execution_count": 41,
   "metadata": {},
   "outputs": [
    {
     "data": {
      "image/png": "[encoded data removed]",
      "text/plain": [
       "<Figure size 720x576 with 1 Axes>"
      ]
     },
     "metadata": {
      "needs_background": "light"
     },
     "output_type": "display_data"
    }
   ],
   "source": [
    "all_TSS = np.asarray(all_TSS)\n",
    "gamma_arr = np.asarray(gamma_arr)\n",
    "e2dfde = []\n",
    "\n",
    "for i in prange(4):\n",
    "    temp = []\n",
    "    for phi in range(len(phio)):\n",
    "        temp.append( 1e28 * dfde(1e14, gamma_arr[i], phio[phi]))        #in eV\n",
    "    e2dfde.append(temp)\n",
    "\n",
    "e2dfde = np.asarray(e2dfde)\n",
    "mark = ['^', 'o', 's', 'd']\n",
    "plt.figure(figsize=(10,8))\n",
    "for i in [0, 1, 2, 3]:#range(4):\n",
    "    plt.plot(e2dfde[i]/1e9, all_TSS[i], label='$\\Gamma$ = ' + str(gamma_arr[i]))    #in GeV\n",
    "    plt.plot(e2dfde[i]/1e9, all_TSS_with_wt[i], ls='--',label='$\\Gamma$ = ' + str(gamma_arr[i]) + ' with wt')    #in GeV\n",
    "\n",
    "plt.legend()\n",
    "plt.xscale('log')\n",
    "plt.xlabel('$E^2_{\\u03BD} \\dfrac{dN}{dE_{\\u03BD}}$ (GeV)')\n",
    "plt.ylabel('TS')\n",
    "plt.title('TS vs $E^2_{\\u03BD} \\dfrac{dN}{dE_{\\u03BD}}$')\n",
    "# plt.xlim(1e-30, 1e-22)\n",
    "plt.ylim(-1e1, 0.5)\n",
    "plt.show()"
   ]
  }
 ],
 "metadata": {
  "kernelspec": {
   "display_name": "Python 3",
   "language": "python",
   "name": "python3"
  },
  "language_info": {
   "codemirror_mode": {
    "name": "ipython",
    "version": 3
   },
   "file_extension": ".py",
   "mimetype": "text/x-python",
   "name": "python",
   "nbconvert_exporter": "python",
   "pygments_lexer": "ipython3",
   "version": "3.10.6"
  },
  "orig_nbformat": 4
 },
 "nbformat": 4,
 "nbformat_minor": 2
}
