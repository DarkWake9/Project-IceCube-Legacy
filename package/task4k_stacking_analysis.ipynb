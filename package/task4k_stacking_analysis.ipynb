{
 "cells": [
  {
   "cell_type": "code",
   "execution_count": 1,
   "metadata": {},
   "outputs": [],
   "source": [
    "from core import download_IC\n",
    "from core import download_ATNF"
   ]
  },
  {
   "cell_type": "code",
   "execution_count": 2,
   "metadata": {},
   "outputs": [
    {
     "name": "stdout",
     "output_type": "stream",
     "text": [
      "read icdata\n",
      "read uptdata\n",
      "read eadata\n",
      "read mspdata\n"
     ]
    }
   ],
   "source": [
    "from core import readfiles\n",
    "import numpy as np\n",
    "import pandas as pd\n",
    "import os\n",
    "import multiprocessing as mul\n",
    "import matplotlib.pyplot as plt\n",
    "import scipy.stats as sct\n",
    "from numba import jit, njit, prange, set_num_threads, vectorize\n",
    "from tqdm import tqdm\n",
    "from core.signal_bag import *\n",
    "from core.stacking_analysis import *\n",
    "from core.req_arrays import *"
   ]
  },
  {
   "cell_type": "code",
   "execution_count": 3,
   "metadata": {},
   "outputs": [],
   "source": [
    "set_num_threads(int(mul.cpu_count()*0.9))"
   ]
  },
  {
   "cell_type": "code",
   "execution_count": 4,
   "metadata": {},
   "outputs": [],
   "source": [
    "# UNCOMMENT FOR LINEAR BINS\n",
    "# all_enu = np.linspace(10**11.001, 10**18.999, 1000)\n",
    "all_enu = e_nu_wall\n",
    "\n",
    "# enus = 0.5*(all_enu[1:]+all_enu[:-1])\n",
    "# UNCOMMENT FOR DENSER LOGARITHMIC BINS, optimal nbins is 1e6\n",
    "enus = np.logspace(11.001, 18.999, 2000)"
   ]
  },
  {
   "cell_type": "code",
   "execution_count": 5,
   "metadata": {},
   "outputs": [
    {
     "data": {
      "text/plain": [
       "(40,)"
      ]
     },
     "execution_count": 5,
     "metadata": {},
     "output_type": "execute_result"
    }
   ],
   "source": [
    "np.diff(all_enu).shape"
   ]
  },
  {
   "cell_type": "code",
   "execution_count": 6,
   "metadata": {},
   "outputs": [],
   "source": [
    "gamma_arr = [-1, -2.2, -2.5, -3]\n",
    "phio = np.logspace(-38, -26, 1000) #CHANGING TO LINEAR BINS RESULTS IN STRAIGHT LINES"
   ]
  },
  {
   "attachments": {},
   "cell_type": "markdown",
   "metadata": {},
   "source": [
    "#Uncomment to compute the background PDF for all neutrinos as per eqn 9 of 2205.15963\n",
    "\n",
    "#and store them at /data/all_Bi.dat\n",
    "\n",
    "#then recomment it\n",
    "\n",
    "\n",
    "all_Bi = signals(4).compute_background()\n",
    "all_Bi.tofile(os.getcwd() + '/data/all_Bi.dat', sep=',')"
   ]
  },
  {
   "cell_type": "code",
   "execution_count": 7,
   "metadata": {},
   "outputs": [],
   "source": [
    "#\n",
    "all_Bi = np.loadtxt(os.getcwd() + '/data/all_Bi.dat', delimiter=',')"
   ]
  },
  {
   "cell_type": "code",
   "execution_count": 8,
   "metadata": {},
   "outputs": [],
   "source": [
    "weight_obj =  [weights.weights(gamma).all_weights for gamma in gamma_arr]\n",
    "sum_weights = [weights.weights(gamma).sum_weights for gamma in gamma_arr]"
   ]
  },
  {
   "cell_type": "code",
   "execution_count": 11,
   "metadata": {},
   "outputs": [],
   "source": [
    "#Calculating weight/sum(weights) to avoid wrong ns = 0 entries \n",
    "normalized_wt = []\n",
    "for gamma in range(4):\n",
    "    temp = []\n",
    "    for season in range(len(weight_obj[gamma])):\n",
    "        temp.append(weight_obj[gamma][ea_season(season)]/sum_weights[gamma][ea_season(season)])\n",
    "    normalized_wt.append(temp)"
   ]
  },
  {
   "cell_type": "code",
   "execution_count": 12,
   "metadata": {},
   "outputs": [
    {
     "name": "stderr",
     "output_type": "stream",
     "text": [
      "100%|██████████| 4/4 [01:25<00:00, 21.46s/it]\n"
     ]
    }
   ],
   "source": [
    "#Compute the signal PDF for all neutrinos as per eqns 6, 7 and weights as per eqn 8 of 2205.15963\n",
    "all_Si = np.asfarray([signals(gamma_arr[i]).compute_signal() for i in tqdm(prange(4))])"
   ]
  },
  {
   "cell_type": "code",
   "execution_count": 13,
   "metadata": {},
   "outputs": [],
   "source": [
    "#generates ns^ for a single pulsar a single season and a single energy\n",
    "\n",
    "# @njit()\n",
    "@vectorize(['float64(float64, float64, float64, float64, int64)'], target='parallel')\n",
    "def ns_singleseason_sing_psr_HAT(dec,enu, gamma, phi0 = 1, season=0):\n",
    "    '''\n",
    "    This function returns the number of signal events for a single pulsar as in EQN3 of 2205.15963\n",
    "    -------------------\n",
    "\n",
    "    Parameters\n",
    "    ----------\n",
    "    dec : float\n",
    "        The declination of the pulsar in radians\n",
    "    \n",
    "    enu : float\n",
    "        The neutrino energy in eV\n",
    "\n",
    "    gamma : float\n",
    "        The spectral index of the neutrino flux\n",
    "\n",
    "    phi0 : float (optional)\n",
    "        The normalization constant of the neutrino flux\n",
    "\n",
    "    season : int (optional)\n",
    "        The IceCube season number\n",
    "    \n",
    "    Returns\n",
    "    -------\n",
    "    float\n",
    "        The number of signal events for the given parameters\n",
    "    '''\n",
    "\n",
    "\n",
    "    tt_upt = t_upt[season]\n",
    "    if enu <= 1e11 or enu >= 1e19:\n",
    "        return 0.0\n",
    "    else:\n",
    "        k=0\n",
    "        l=0\n",
    "        for i in range(0, len(e_nu_wall)):\n",
    "            if e_nu_wall[i] <= enu and e_nu_wall[i+1] > enu:\n",
    "                k=i\n",
    "                break\n",
    "\n",
    "        for j in range(0, len(dec_nu)):\n",
    "            if dec_nu[j] <= dec and dec_nu[j+1] > dec:\n",
    "                l=j\n",
    "                break\n",
    "\n",
    "            \n",
    "        temp_ea = np.asarray(earea[ea_season(season)])[l*40 + k]\n",
    "        return tt_upt * temp_ea * phi0 * ((enu/(10**14))**gamma)     #in s cm2 eV\n"
   ]
  },
  {
   "cell_type": "code",
   "execution_count": 14,
   "metadata": {},
   "outputs": [
    {
     "name": "stderr",
     "output_type": "stream",
     "text": [
      "100%|██████████| 10/10 [00:09<00:00,  1.05it/s]\n",
      "100%|██████████| 10/10 [00:09<00:00,  1.02it/s]\n",
      "100%|██████████| 10/10 [00:09<00:00,  1.02it/s]\n",
      "100%|██████████| 10/10 [00:10<00:00,  1.01s/it]\n"
     ]
    }
   ],
   "source": [
    "t = np.logspace(11.001, 18.999, int(1e4))\n",
    "\n",
    "def ns_HAT_all_season_all_psr_sing_gamma_wt_wtht_weights(gamma, e_nus=enus, phi0=1):\n",
    "    ns_hat = 0\n",
    "    ns_hat_wt = 0\n",
    "    for season in tqdm(prange(10)):\n",
    "        for psr in prange(p):\n",
    "            wt = normalized_wt[gamma_arr.index(gamma)][ea_season(season)][psr]\n",
    "            nsop = ns_singleseason_sing_psr_HAT(msdec[psr], e_nus, gamma, phi0, season)\n",
    "            ns_hat_wt += wt * np.trapz(nsop, x=e_nus)\n",
    "            ns_hat += np.trapz(nsop, x=e_nus)\n",
    "    return np.array([ns_hat, ns_hat_wt], dtype=np.float64)\n",
    "\n",
    "\n",
    "pool = mul.Pool(int(mul.cpu_count()*0.9))\n",
    "op_async = pool.map_async(ns_HAT_all_season_all_psr_sing_gamma_wt_wtht_weights, gamma_arr)\n",
    "arr= op_async.get()\n",
    "pool.close()\n",
    "pool.join()"
   ]
  },
  {
   "cell_type": "code",
   "execution_count": 15,
   "metadata": {},
   "outputs": [],
   "source": [
    "all_TSS = []\n",
    "for wt in range(2):\n",
    "    tmp = []\n",
    "    for gamma in range(4):\n",
    "        @njit\n",
    "        def TS_for_all_psrs2(nsa):  \n",
    "            return Ts_arr2(nsa, all_Si[gamma], all_Bi, Ns)      #No units\n",
    "\n",
    "        pool = mul.Pool(int(mul.cpu_count()*0.9), maxtasksperchild=200)\n",
    "        op_arr = pool.map_async(TS_for_all_psrs2, arr[gamma][wt]*phio) #No units\n",
    "        temp = op_arr.get()\n",
    "        pool = []\n",
    "        op_arr = []\n",
    "        tmp.append(temp)\n",
    "\n",
    "    all_TSS.append(tmp)"
   ]
  },
  {
   "attachments": {},
   "cell_type": "markdown",
   "metadata": {},
   "source": [
    "### $N \\approx 10^6$"
   ]
  },
  {
   "cell_type": "code",
   "execution_count": 16,
   "metadata": {},
   "outputs": [
    {
     "data": {
      "text/plain": [
       "(2, 4, 1000)"
      ]
     },
     "execution_count": 16,
     "metadata": {},
     "output_type": "execute_result"
    }
   ],
   "source": [
    "np.shape(all_TSS)"
   ]
  },
  {
   "cell_type": "code",
   "execution_count": 17,
   "metadata": {},
   "outputs": [
    {
     "name": "stdout",
     "output_type": "stream",
     "text": [
      "-6038807.601822323 -1.973796663133825e-06\n",
      "-7602597.21434315 -3.1812273270715196e-08\n",
      "-5952172.174411158 -5.2345615550700175e-08\n",
      "-8628926.314222315 -2.5940178378912916e-07\n",
      "wt\n",
      "\n",
      "-16998.301290361127 -5.049978213863906e-10\n",
      "-45.41772174446817 1.3143353072560776e-10\n",
      "-144.1622026391086 9.929101984999526e-11\n",
      "-3260.3639501734056 3.311417806019252e-11\n",
      "wt\n",
      "\n"
     ]
    }
   ],
   "source": [
    "for w in range(2):\n",
    "    for g in range(4):\n",
    "        print(min(all_TSS[w][g]), max(all_TSS[w][g]))\n",
    "    print('wt\\n')"
   ]
  },
  {
   "cell_type": "code",
   "execution_count": 18,
   "metadata": {},
   "outputs": [
    {
     "data": {
      "image/png": "[encoded data removed]",
      "text/plain": [
       "<Figure size 864x576 with 1 Axes>"
      ]
     },
     "metadata": {
      "needs_background": "light"
     },
     "output_type": "display_data"
    }
   ],
   "source": [
    "#Plotting\n",
    "\n",
    "all_TSS = np.asarray(all_TSS)\n",
    "gamma_arr = np.asarray(gamma_arr)\n",
    "e2dfde = []\n",
    "\n",
    "for gamma in prange(4):\n",
    "    temp = []\n",
    "    for phi in range(len(phio)):\n",
    "        temp.append( 1e28 * dfde(1e14, gamma_arr[gamma], phio[phi]))        #in eV\n",
    "    e2dfde.append(temp)\n",
    "\n",
    "e2dfde = np.asarray(e2dfde)\n",
    "mark = ['^', 'o', 's', 'd']\n",
    "plt.figure(figsize=(12,8))\n",
    "for gamma in [0, 1, 2, 3]:#range(4):\n",
    "    plt.plot(e2dfde[gamma]/1e9, all_TSS[0][gamma], label='$\\Gamma$ = ' + str(gamma_arr[gamma]))    #in GeV\n",
    "    plt.plot(e2dfde[gamma]/1e9, all_TSS[1][gamma], ls='--',label='$\\Gamma$ = ' + str(gamma_arr[gamma]) + ' with wt')    #in GeV\n",
    "\n",
    "plt.legend()\n",
    "plt.xscale('log')\n",
    "plt.xlabel('$E^2_{\\u03BD} \\dfrac{dF}{dE_{\\u03BD}}$ (GeV)')\n",
    "plt.ylabel('TS')\n",
    "plt.title('TS vs $E^2_{\\u03BD} \\dfrac{dF}{dE_{\\u03BD}}$')\n",
    "# plt.xlim(1e-30, 1e-22)\n",
    "plt.ylim(-20, 5)\n",
    "plt.show()"
   ]
  },
  {
   "cell_type": "code",
   "execution_count": null,
   "metadata": {},
   "outputs": [],
   "source": []
  }
 ],
 "metadata": {
  "kernelspec": {
   "display_name": "Python 3",
   "language": "python",
   "name": "python3"
  },
  "language_info": {
   "codemirror_mode": {
    "name": "ipython",
    "version": 3
   },
   "file_extension": ".py",
   "mimetype": "text/x-python",
   "name": "python",
   "nbconvert_exporter": "python",
   "pygments_lexer": "ipython3",
   "version": "3.10.6"
  },
  "orig_nbformat": 4
 },
 "nbformat": 4,
 "nbformat_minor": 2
}
