{
 "cells": [
  {
   "cell_type": "code",
   "execution_count": 1,
   "metadata": {},
   "outputs": [],
   "source": [
    "from core import download_IC\n",
    "from core import download_ATNF"
   ]
  },
  {
   "cell_type": "code",
   "execution_count": 2,
   "metadata": {},
   "outputs": [
    {
     "name": "stdout",
     "output_type": "stream",
     "text": [
      "read icdata\n",
      "read uptdata\n",
      "read eadata\n",
      "read mspdata\n"
     ]
    }
   ],
   "source": [
    "from core import readfiles\n",
    "import numpy as np\n",
    "import pandas as pd\n",
    "import os\n",
    "import multiprocessing as mul\n",
    "from multiprocessing import Process\n",
    "import matplotlib.pyplot as plt\n",
    "from scipy.stats import gaussian_kde\n",
    "import scipy.stats as sct\n",
    "from astropy.coordinates import SkyCoord as scr\n",
    "from astropy import units as u\n",
    "from time import sleep\n",
    "from numba import jit, njit, prange\n",
    "from tqdm import tqdm\n",
    "from core.signal_bag import *\n",
    "from core.stacking_analysis import *\n",
    "from core.req_arrays import *\n",
    "import bisect"
   ]
  },
  {
   "cell_type": "code",
   "execution_count": 10,
   "metadata": {},
   "outputs": [],
   "source": [
    "# UNCOMMENT FOR LINEAR BINS\n",
    "# all_enu = np.linspace(10**11.001, 10**18.999, 1000)\n",
    "all_enu = e_nu_wall\n",
    "\n",
    "# UNCOMMENT FOR LOGARITHMIC BINS\n",
    "# all_enu = np.logspace(11.001, 18.999, 1000)"
   ]
  },
  {
   "cell_type": "code",
   "execution_count": 5,
   "metadata": {},
   "outputs": [],
   "source": [
    "gamma_arr = [-1, -2.2, -2.5, -3]\n",
    "phio = np.logspace(-38, -26, 1000) #CHANGING TO LINEAR BINS RESULTS IN STRAIGHT LINES"
   ]
  },
  {
   "attachments": {},
   "cell_type": "markdown",
   "metadata": {},
   "source": [
    "#Uncomment to compute the background PDF for all neutrinos as per eqn 9 of 2205.15963\n",
    "\n",
    "#and store them at /data/all_Bi.dat\n",
    "\n",
    "#then recomment it\n",
    "\n",
    "\n",
    "all_Bi = signals(4).compute_background()\n",
    "all_Bi.tofile(os.getcwd() + '/data/all_Bi.dat', sep=',')"
   ]
  },
  {
   "cell_type": "code",
   "execution_count": 27,
   "metadata": {},
   "outputs": [
    {
     "data": {
      "text/plain": [
       "array([5.84893192e+10, 9.26993239e+10, 1.46918527e+11, 2.32850174e+11,\n",
       "       3.69042656e+11, 5.84893192e+11, 9.26993239e+11, 1.46918527e+12,\n",
       "       2.32850174e+12, 3.69042656e+12, 5.84893192e+12, 9.26993239e+12,\n",
       "       1.46918527e+13, 2.32850174e+13, 3.69042656e+13, 5.84893192e+13,\n",
       "       9.26993239e+13, 1.46918527e+14, 2.32850174e+14, 3.69042656e+14,\n",
       "       5.84893192e+14, 9.26993239e+14, 1.46918527e+15, 2.32850174e+15,\n",
       "       3.69042656e+15, 5.84893192e+15, 9.26993239e+15, 1.46918527e+16,\n",
       "       2.32850174e+16, 3.69042656e+16, 5.84893192e+16, 9.26993239e+16,\n",
       "       1.46918527e+17, 2.32850174e+17, 3.69042656e+17, 5.84893192e+17,\n",
       "       9.26993239e+17, 1.46918527e+18, 2.32850174e+18, 3.69042656e+18])"
      ]
     },
     "execution_count": 27,
     "metadata": {},
     "output_type": "execute_result"
    }
   ],
   "source": [
    "np.diff(all_enu)"
   ]
  },
  {
   "cell_type": "code",
   "execution_count": 6,
   "metadata": {},
   "outputs": [],
   "source": [
    "#\n",
    "all_Bi = np.loadtxt(os.getcwd() + '/data/all_Bi.dat', delimiter=',')"
   ]
  },
  {
   "cell_type": "code",
   "execution_count": 7,
   "metadata": {},
   "outputs": [],
   "source": [
    "weight_obj =  [weights.weights(gamma).all_weights for gamma in gamma_arr]\n",
    "sum_weights = [weights.weights(gamma).sum_weights for gamma in gamma_arr]"
   ]
  },
  {
   "cell_type": "code",
   "execution_count": 8,
   "metadata": {},
   "outputs": [],
   "source": [
    "#Calculating weight/sum(weights) to avoid wrong ns = 0 entries \n",
    "normalized_wt = []\n",
    "for gamma in range(4):\n",
    "    temp = []\n",
    "    for season in range(len(weight_obj[gamma])):\n",
    "        temp.append(weight_obj[gamma][ea_season(season)]/sum_weights[gamma][ea_season(season)])\n",
    "    normalized_wt.append(temp)"
   ]
  },
  {
   "cell_type": "code",
   "execution_count": 9,
   "metadata": {},
   "outputs": [
    {
     "name": "stderr",
     "output_type": "stream",
     "text": [
      "100%|██████████| 4/4 [01:34<00:00, 23.66s/it]\n"
     ]
    }
   ],
   "source": [
    "#Compute the signal PDF for all neutrinos as per eqns 6, 7 and weights as per eqn 8 of 2205.15963\n",
    "all_Si = np.asfarray([signals(gamma_arr[i]).compute_signal() for i in tqdm(prange(4))])"
   ]
  },
  {
   "cell_type": "code",
   "execution_count": 12,
   "metadata": {},
   "outputs": [],
   "source": [
    "#generates ns^ for a single pulsar a single season and a single energy\n",
    "\n",
    "@njit(fastmath=True)\n",
    "def ns_singleseason_sing_psr_HAT(dec,enu, gamma, phi0 = 1, season=0):\n",
    "    '''\n",
    "    This function returns the number of signal events for a single pulsar as in EQN3 of 2205.15963\n",
    "    -------------------\n",
    "\n",
    "    Parameters\n",
    "    ----------\n",
    "    dec : float\n",
    "        The declination of the pulsar in radians\n",
    "    \n",
    "    enu : float\n",
    "        The neutrino energy in eV\n",
    "\n",
    "    gamma : float\n",
    "        The spectral index of the neutrino flux\n",
    "\n",
    "    phi0 : float (optional)\n",
    "        The normalization constant of the neutrino flux\n",
    "\n",
    "    season : int (optional)\n",
    "        The IceCube season number\n",
    "    \n",
    "    Returns\n",
    "    -------\n",
    "    float\n",
    "        The number of signal events for the given parameters\n",
    "    '''\n",
    "\n",
    "\n",
    "    tt_upt = t_upt[season]\n",
    "    if enu <= 1e11 or enu >= 1e19:\n",
    "        return 0.0\n",
    "    else:\n",
    "        k=0\n",
    "        l=0\n",
    "        for i in range(0, len(e_nu_wall)):\n",
    "            if e_nu_wall[i] <= enu and e_nu_wall[i+1] > enu:\n",
    "                for j in range(0, len(dec_nu)):\n",
    "                    if dec_nu[j] <= dec and dec_nu[j+1] > dec:\n",
    "                        k=i\n",
    "                        l=j\n",
    "                        break\n",
    "                break\n",
    "\n",
    "        temp_ea = np.asarray(earea[ea_season(season)])[l*40 + k]\n",
    "        return tt_upt * temp_ea * dfde(enu, gamma, phi0)     #in s cm2 eV\n"
   ]
  },
  {
   "cell_type": "code",
   "execution_count": 13,
   "metadata": {},
   "outputs": [],
   "source": [
    "#For each gamma, find ns and find TS(ns*phi0)\n",
    "#FIND TS as in eqn 3 of 2205.15963 WIHTOUT w_acc\n",
    "\n",
    "#28032023 SD suggestion - USE trapz\n",
    "\n",
    "all_TSS = []\n",
    "all_TSS_with_wt = []\n",
    "nss_all_gamma = []\n",
    "for gamma in prange(4):\n",
    "    nss_all_eng = []\n",
    "    psrns = 0\n",
    "    for psrdec in range(p):\n",
    "        for season in prange(10):\n",
    "            tmp = [ns_singleseason_sing_psr_HAT(msdec[psrdec], all_enu[i], gamma_arr[gamma], 1 ,season=season) for i in range(len(all_enu))]\n",
    "            # psrns += np.trapz(y=tmp, x=all_enu)\n",
    "            psrns += np.trapz(y=tmp, dx=np.diff(all_enu))\n",
    "    nss_all_eng.append(psrns)\n",
    "    \n",
    "    @njit\n",
    "    def TS_for_all_psrs2(nsa):  \n",
    "        return Ts_arr2(nsa, all_Si[gamma], all_Bi, Ns)      #No units\n",
    "\n",
    "    pool = mul.Pool(12, maxtasksperchild=200)\n",
    "    op_arr = pool.map_async(TS_for_all_psrs2, nss_all_eng*phio) #No units\n",
    "    temp = op_arr.get()\n",
    "    pool = []\n",
    "    op_arr = []\n",
    "    all_TSS.append(temp)\n",
    "\n",
    "    nss_all_gamma.append(nss_all_eng)"
   ]
  },
  {
   "cell_type": "code",
   "execution_count": null,
   "metadata": {},
   "outputs": [],
   "source": [
    "ns_singleseason_sing_psr_HAT()"
   ]
  },
  {
   "cell_type": "code",
   "execution_count": 38,
   "metadata": {},
   "outputs": [
    {
     "name": "stdout",
     "output_type": "stream",
     "text": [
      "Decl =  62.26928\n",
      "0.1311373925117263\n",
      "0.0003249283944427698\n"
     ]
    }
   ],
   "source": [
    "phi0t = 1e-30\n",
    "season = 0\n",
    "dec = msdec[0]\n",
    "print(\"Decl = \", dec)\n",
    "tmp = [ns_singleseason_sing_psr_HAT(msdec[psrdec], all_enu[i], gamma_arr[gamma], phi0t ,season=season) for i in range(len(all_enu))]\n",
    "print(np.trapz(y=tmp, dx=np.diff(all_enu)))\n",
    "print(np.trapz(y=tmp, dx = 1e9* (10**0.2)))"
   ]
  },
  {
   "cell_type": "code",
   "execution_count": 14,
   "metadata": {},
   "outputs": [
    {
     "data": {
      "text/plain": [
       "[[1.2862713324684008e+34],\n",
       " [4.90689698875283e+32],\n",
       " [9.84932063295231e+32],\n",
       " [6.190342154843736e+33]]"
      ]
     },
     "execution_count": 14,
     "metadata": {},
     "output_type": "execute_result"
    }
   ],
   "source": [
    "nss_all_gamma #without weights"
   ]
  },
  {
   "attachments": {},
   "cell_type": "markdown",
   "metadata": {},
   "source": [
    "### $N \\approx 10^6$"
   ]
  },
  {
   "cell_type": "code",
   "execution_count": 47,
   "metadata": {},
   "outputs": [
    {
     "data": {
      "text/plain": [
       "(5, 2000)"
      ]
     },
     "execution_count": 47,
     "metadata": {},
     "output_type": "execute_result"
    }
   ],
   "source": [
    "earea.shape"
   ]
  },
  {
   "cell_type": "code",
   "execution_count": 31,
   "metadata": {},
   "outputs": [],
   "source": [
    "#For each gamma, find ns and find TS(ns*phi0)\n",
    "#FIND TS as in eqn 3 of 2205.15963 INCLUDING w_acc\n",
    "\n",
    "#28032023 SD suggestion - USE trapz\n",
    "\n",
    "\n",
    "# all_TSS = []\n",
    "all_TSS_with_wt = []\n",
    "nss_all_gamma = []\n",
    "for gamma in prange(4):\n",
    "    nss_all_eng = []\n",
    "    psrns = 0\n",
    "    for psrdec in range(p):\n",
    "        for season in prange(10):    \n",
    "            # for enu in range(len(all_enu)):\n",
    "            tmp = [ns_singleseason_sing_psr_HAT(msdec[psrdec], all_enu[i], gamma_arr[gamma], 1 ,season=season) for i in range(len(all_enu))]\n",
    "            # wt = normalized_wt[gamma][ea_season(season)][psrdec]\n",
    "            # tmp = [wt * ns_singleseason_sing_psr_HAT(msdec[psrdec], all_enu[i], gamma_arr[gamma], 1 ,season=season) for i in range(len(all_enu))]\n",
    "            psrns += np.trapz(y=tmp, dx=1e9 * (10**0.2))\n",
    "    nss_all_eng.append(psrns)\n",
    "    \n",
    "    @njit\n",
    "    def TS_for_all_psrs2(nsa):  \n",
    "        return Ts_arr2(nsa, all_Si[gamma], all_Bi, Ns)      #No units\n",
    "\n",
    "    pool = mul.Pool(12, maxtasksperchild=200)\n",
    "    op_arr = pool.map_async(TS_for_all_psrs2, nss_all_eng*phio) #No units\n",
    "    temp = op_arr.get()\n",
    "    pool = []\n",
    "    op_arr = []\n",
    "    all_TSS_with_wt.append(temp)\n",
    "\n",
    "    nss_all_gamma.append(nss_all_eng)"
   ]
  },
  {
   "cell_type": "code",
   "execution_count": 33,
   "metadata": {},
   "outputs": [
    {
     "data": {
      "text/plain": [
       "[[1.310325925182532e+28],\n",
       " [5.058502949128222e+29],\n",
       " [2.2035232073353446e+30],\n",
       " [3.2137009485554804e+31]]"
      ]
     },
     "execution_count": 33,
     "metadata": {},
     "output_type": "execute_result"
    }
   ],
   "source": [
    "nss_all_gamma"
   ]
  },
  {
   "cell_type": "code",
   "execution_count": 34,
   "metadata": {},
   "outputs": [
    {
     "name": "stdout",
     "output_type": "stream",
     "text": [
      "-5770046.567530383 -6.700279992073946e-07\n",
      "-10056438.664036427 0.31081377984207614\n",
      "-6227487.13316004 0.3972334946681238\n",
      "-7580392.187670537 0.41843329021536596\n"
     ]
    }
   ],
   "source": [
    "for i in range(4):\n",
    "    print(min(all_TSS[i]), max(all_TSS[i]))"
   ]
  },
  {
   "cell_type": "code",
   "execution_count": 35,
   "metadata": {},
   "outputs": [
    {
     "name": "stdout",
     "output_type": "stream",
     "text": [
      "-1.3277046089384044 5.4299231777575546e-11\n",
      "-646.5250609881108 0.3108262106460978\n",
      "-8624.167427169534 0.3971784434588998\n",
      "-451433.7944650374 0.4184551744918847\n"
     ]
    }
   ],
   "source": [
    "for i in range(4):\n",
    "    print(min(all_TSS_with_wt[i]), max(all_TSS_with_wt[i]))"
   ]
  },
  {
   "cell_type": "code",
   "execution_count": 36,
   "metadata": {},
   "outputs": [
    {
     "data": {
      "image/png": "[encoded data removed]",
      "text/plain": [
       "<Figure size 720x576 with 1 Axes>"
      ]
     },
     "metadata": {
      "needs_background": "light"
     },
     "output_type": "display_data"
    }
   ],
   "source": [
    "#Plotting\n",
    "\n",
    "all_TSS = np.asarray(all_TSS)\n",
    "gamma_arr = np.asarray(gamma_arr)\n",
    "e2dfde = []\n",
    "\n",
    "for i in prange(4):\n",
    "    temp = []\n",
    "    for phi in range(len(phio)):\n",
    "        temp.append( 1e28 * dfde(1e14, gamma_arr[i], phio[phi]))        #in eV\n",
    "    e2dfde.append(temp)\n",
    "\n",
    "e2dfde = np.asarray(e2dfde)\n",
    "mark = ['^', 'o', 's', 'd']\n",
    "plt.figure(figsize=(10,8))\n",
    "for i in [0, 1, 2, 3]:#range(4):\n",
    "    plt.plot(e2dfde[i]/1e9, all_TSS[i], label='$\\Gamma$ = ' + str(gamma_arr[i]))    #in GeV\n",
    "    plt.plot(e2dfde[i]/1e9, all_TSS_with_wt[i], ls='--',label='$\\Gamma$ = ' + str(gamma_arr[i]) + ' with wt')    #in GeV\n",
    "\n",
    "plt.legend()\n",
    "plt.xscale('log')\n",
    "plt.xlabel('$E^2_{\\u03BD} \\dfrac{dF}{dE_{\\u03BD}}$ (GeV)')\n",
    "plt.ylabel('TS')\n",
    "plt.title('TS vs $E^2_{\\u03BD} \\dfrac{dF}{dE_{\\u03BD}}$')\n",
    "# plt.xlim(1e-30, 1e-22)\n",
    "plt.ylim(-20, 5)\n",
    "plt.show()"
   ]
  },
  {
   "cell_type": "markdown",
   "metadata": {},
   "source": [
    "x1 = np.logspace(1, 10, 1000)"
   ]
  },
  {
   "cell_type": "markdown",
   "metadata": {},
   "source": [
    "y1 = lambda f, xx: np.trapz(y=f(xx), x= xx)\n",
    "y2 = lambda f1, xx1: np.trapz(y=f1(xx1), dx= np.diff(xx1))"
   ]
  },
  {
   "cell_type": "markdown",
   "metadata": {},
   "source": [
    "np.log10(y1(np.square, x1))"
   ]
  },
  {
   "cell_type": "markdown",
   "metadata": {},
   "source": [
    "np.log10(y2(np.square, xx1=x1))"
   ]
  },
  {
   "cell_type": "markdown",
   "metadata": {},
   "source": [
    "x1 = np.linspace(1e1, 1e10, 1000)"
   ]
  },
  {
   "cell_type": "markdown",
   "metadata": {},
   "source": [
    "np.log10(y1(np.square, x1))"
   ]
  },
  {
   "cell_type": "markdown",
   "metadata": {},
   "source": [
    "np.log10(y2(np.square, x1))"
   ]
  },
  {
   "cell_type": "markdown",
   "metadata": {},
   "source": [
    "aa =np.linspace(1e1, 1e10, num=1000)\n",
    "np.trapz(aa**2, dx = np.diff(aa))"
   ]
  },
  {
   "cell_type": "markdown",
   "metadata": {},
   "source": [
    "np.trapz(aa**2, x=aa)"
   ]
  },
  {
   "cell_type": "markdown",
   "metadata": {},
   "source": [
    "aa =np.logspace(1, 10, num=1000)\n",
    "np.trapz(aa**2, dx = np.diff(aa))"
   ]
  },
  {
   "cell_type": "markdown",
   "metadata": {},
   "source": [
    "np.trapz(aa**2, x=aa)"
   ]
  },
  {
   "cell_type": "markdown",
   "metadata": {},
   "source": [
    "import scipy.integrate as scint"
   ]
  },
  {
   "cell_type": "markdown",
   "metadata": {},
   "source": [
    "scint.quad(np.square, 1e1, 1e10)"
   ]
  }
 ],
 "metadata": {
  "kernelspec": {
   "display_name": "Python 3",
   "language": "python",
   "name": "python3"
  },
  "language_info": {
   "codemirror_mode": {
    "name": "ipython",
    "version": 3
   },
   "file_extension": ".py",
   "mimetype": "text/x-python",
   "name": "python",
   "nbconvert_exporter": "python",
   "pygments_lexer": "ipython3",
   "version": "3.10.6"
  },
  "orig_nbformat": 4
 },
 "nbformat": 4,
 "nbformat_minor": 2
}
