{
 "cells": [
  {
   "cell_type": "code",
   "execution_count": 1,
   "metadata": {},
   "outputs": [
    {
     "name": "stdout",
     "output_type": "stream",
     "text": [
      "Data downloaded successfully\n"
     ]
    }
   ],
   "source": [
    "from core import download_IC"
   ]
  },
  {
   "cell_type": "code",
   "execution_count": 2,
   "metadata": {},
   "outputs": [
    {
     "name": "stdout",
     "output_type": "stream",
     "text": [
      "read icdata\n",
      "read uptdata\n",
      "read eadata\n",
      "read mspdata\n"
     ]
    }
   ],
   "source": [
    "from core import readfiles\n",
    "import numpy as np\n",
    "import pandas as pd\n",
    "import os\n",
    "import multiprocessing as mul\n",
    "from multiprocessing import Process\n",
    "import matplotlib.pyplot as plt\n",
    "from scipy.stats import gaussian_kde\n",
    "import scipy.stats as sct\n",
    "from astropy.coordinates import SkyCoord as scr\n",
    "from astropy import units as u\n",
    "from time import sleep\n",
    "from numba import jit, njit, prange\n",
    "from tqdm import tqdm\n",
    "from core.signal_bag import *\n",
    "from core.stacking_analysis import *\n",
    "from core.req_arrays import *\n",
    "import bisect"
   ]
  },
  {
   "cell_type": "code",
   "execution_count": 3,
   "metadata": {},
   "outputs": [],
   "source": [
    "all_enu = np.logspace(11.001, 18.999, 1000)\n",
    "gamma_arr = [-1, -2.2, -2.5, -3]\n",
    "phi0m = [1e-49, 1e-44, 1e-43, 1e-43]"
   ]
  },
  {
   "attachments": {},
   "cell_type": "markdown",
   "metadata": {},
   "source": [
    "#Compute the background PDF for all neutrinos as per eqn 9 of 2205.15963\n",
    "#and store them at /data/all_Bi.dat\n",
    "\n",
    "\n",
    "all_Bi = signals(4).compute_background()\n",
    "all_Bi.tofile(os.getcwd() + 'data/all_Bi.dat', sep=',')"
   ]
  },
  {
   "cell_type": "code",
   "execution_count": 4,
   "metadata": {},
   "outputs": [],
   "source": [
    "all_Bi = np.loadtxt(os.getcwd() + '/data/all_Bi.dat', delimiter=',')"
   ]
  },
  {
   "cell_type": "code",
   "execution_count": 5,
   "metadata": {},
   "outputs": [
    {
     "name": "stderr",
     "output_type": "stream",
     "text": [
      "100%|██████████| 4/4 [01:30<00:00, 22.60s/it]\n"
     ]
    }
   ],
   "source": [
    "#Compute the signal PDF for all neutrinos as per eqns 6, 7 and weights as per eqn 8 of 2205.15963\n",
    "all_Si = np.asfarray([signals(gamma_arr[i]).compute_signal() for i in tqdm(prange(4))])"
   ]
  },
  {
   "cell_type": "code",
   "execution_count": 6,
   "metadata": {},
   "outputs": [
    {
     "data": {
      "text/plain": [
       "array([1.00000000e+11, 1.58489319e+11, 2.51188643e+11, 3.98107171e+11,\n",
       "       6.30957344e+11, 1.00000000e+12, 1.58489319e+12, 2.51188643e+12,\n",
       "       3.98107171e+12, 6.30957344e+12, 1.00000000e+13, 1.58489319e+13,\n",
       "       2.51188643e+13, 3.98107171e+13, 6.30957344e+13, 1.00000000e+14,\n",
       "       1.58489319e+14, 2.51188643e+14, 3.98107171e+14, 6.30957344e+14,\n",
       "       1.00000000e+15, 1.58489319e+15, 2.51188643e+15, 3.98107171e+15,\n",
       "       6.30957344e+15, 1.00000000e+16, 1.58489319e+16, 2.51188643e+16,\n",
       "       3.98107171e+16, 6.30957344e+16, 1.00000000e+17, 1.58489319e+17,\n",
       "       2.51188643e+17, 3.98107171e+17, 6.30957344e+17, 1.00000000e+18,\n",
       "       1.58489319e+18, 2.51188643e+18, 3.98107171e+18, 6.30957344e+18,\n",
       "       1.00000000e+19])"
      ]
     },
     "execution_count": 6,
     "metadata": {},
     "output_type": "execute_result"
    }
   ],
   "source": [
    "e_nu_wall"
   ]
  },
  {
   "cell_type": "code",
   "execution_count": 7,
   "metadata": {},
   "outputs": [
    {
     "data": {
      "text/plain": [
       "array([1.29244660e+11, 2.04838981e+11, 3.24647907e+11, 5.14532258e+11,\n",
       "       8.15478672e+11, 1.29244660e+12, 2.04838981e+12, 3.24647907e+12,\n",
       "       5.14532258e+12, 8.15478672e+12, 1.29244660e+13, 2.04838981e+13,\n",
       "       3.24647907e+13, 5.14532258e+13, 8.15478672e+13, 1.29244660e+14,\n",
       "       2.04838981e+14, 3.24647907e+14, 5.14532258e+14, 8.15478672e+14,\n",
       "       1.29244660e+15, 2.04838981e+15, 3.24647907e+15, 5.14532258e+15,\n",
       "       8.15478672e+15, 1.29244660e+16, 2.04838981e+16, 3.24647907e+16,\n",
       "       5.14532258e+16, 8.15478672e+16, 1.29244660e+17, 2.04838981e+17,\n",
       "       3.24647907e+17, 5.14532258e+17, 8.15478672e+17, 1.29244660e+18,\n",
       "       2.04838981e+18, 3.24647907e+18, 5.14532258e+18, 8.15478672e+18])"
      ]
     },
     "execution_count": 7,
     "metadata": {},
     "output_type": "execute_result"
    }
   ],
   "source": [
    "e_nu"
   ]
  },
  {
   "cell_type": "code",
   "execution_count": 8,
   "metadata": {},
   "outputs": [],
   "source": [
    "#For each energy, find ns for all pulsars summed over all seasons and sum ns over all pulsars for each energy\n",
    "#FIND ns^ as in eqn 3 of 2205.15963\n",
    "\n",
    "\n",
    "#use np.digitize for binary search for BETTER READABILITY\n",
    "\n",
    "\n",
    "@njit(fastmath=True)\n",
    "def ns_singleseason_sing_psr_HAT(dec,enu, gamma, phi0 = 1e-40, season=0):\n",
    "    '''\n",
    "    This function returns the number of signal events for a single pulsar as in EQN3 of 2205.15963\n",
    "    -------------------\n",
    "\n",
    "    Parameters\n",
    "    ----------\n",
    "    dec : float\n",
    "        The declination of the pulsar in radians\n",
    "    \n",
    "    enu : float\n",
    "        The neutrino energy in eV\n",
    "\n",
    "    gamma : float\n",
    "        The spectral index of the neutrino flux\n",
    "\n",
    "    phi0 : float (optional)\n",
    "        The normalization constant of the neutrino flux\n",
    "\n",
    "    season : int (optional)\n",
    "        The IceCube season number\n",
    "    \n",
    "    Returns\n",
    "    -------\n",
    "    float\n",
    "        The number of signal events for the given parameters\n",
    "    '''\n",
    "\n",
    "\n",
    "    tt_upt = t_upt[season]\n",
    "    if enu <= 1e11 or enu >= 1e19:\n",
    "        return 0.0\n",
    "    else:\n",
    "        k=0\n",
    "        l=0\n",
    "        for i in range(0, len(e_nu_wall)):\n",
    "            if e_nu_wall[i] <= enu and e_nu_wall[i+1] > enu:\n",
    "                for j in range(0, len(dec_nu)):\n",
    "                    if dec_nu[j] <= dec and dec_nu[j+1] > dec:\n",
    "                        k=i\n",
    "                        l=j\n",
    "                        break\n",
    "                break\n",
    "\n",
    "        temp_ea = np.asarray(earea[ea_season(season)])[l*40 + k]\n",
    "        return tt_upt * (enu**2) * temp_ea * dfde(enu, gamma, phi0)\n"
   ]
  },
  {
   "cell_type": "code",
   "execution_count": 9,
   "metadata": {},
   "outputs": [],
   "source": [
    "#For each energy, find ns for all pulsars summed over all seasons and sum ns over all pulsars for each energy\n",
    "#FIND TS as in eqn 3 of 2205.15963\n",
    "\n",
    "#28032023 SD suggestion - USE trapz\n",
    "\n",
    "all_TSS = []\n",
    "nss_all_gamma = []\n",
    "for gamma in prange(4):\n",
    "    nss_all_eng = []\n",
    "    for enu in prange(len(all_enu)):\n",
    "        psrns = 0\n",
    "        for psrdec in prange(p):\n",
    "            for season in range(10):    \n",
    "                psrns += ns_singleseason_sing_psr_HAT(msdec[psrdec], all_enu[enu], gamma_arr[gamma], phi0m[gamma],season=season)\n",
    "                # nss.append(ns_singleseason_sing_psr_HAT(psrdec, all_enu[enu], gamma_arr[gamma], season=season))\n",
    "        nss_all_eng.append(psrns)\n",
    "    \n",
    "    @njit\n",
    "    def TS_for_all_psrs2(nsa):\n",
    "        return Ts_arr2(nsa, all_Si[gamma], all_Bi, Ns)\n",
    "\n",
    "    pool = mul.Pool(12, maxtasksperchild=200)\n",
    "    op_arr = pool.map_async(TS_for_all_psrs2, nss_all_eng)\n",
    "    temp = op_arr.get()\n",
    "    pool = []\n",
    "    op_arr = []\n",
    "    all_TSS.append(temp)\n",
    "\n",
    "    # nss_all_gamma.append(nss_all_eng)"
   ]
  },
  {
   "cell_type": "code",
   "execution_count": 10,
   "metadata": {},
   "outputs": [
    {
     "name": "stdout",
     "output_type": "stream",
     "text": [
      "-15.042473151844854 8.09778910593195e-11\n",
      "-18.762637806468923 -5.908138414647721e-06\n",
      "-29.83771605162602 -0.00026870734126161714\n",
      "-13.955738615147855 -6.774200293071686e-05\n"
     ]
    }
   ],
   "source": [
    "for i in range(4):\n",
    "    print(min(all_TSS[i]), max(all_TSS[i]))"
   ]
  },
  {
   "cell_type": "code",
   "execution_count": 13,
   "metadata": {},
   "outputs": [
    {
     "data": {
      "image/png": "[encoded data removed]",
      "text/plain": [
       "<Figure size 720x576 with 1 Axes>"
      ]
     },
     "metadata": {
      "needs_background": "light"
     },
     "output_type": "display_data"
    }
   ],
   "source": [
    "all_TSS = np.asarray(all_TSS)\n",
    "gamma_arr = np.asarray(gamma_arr)\n",
    "phi0 = 1e-40\n",
    "e2dfde = [] \n",
    "for i in prange(4):\n",
    "    temp = []\n",
    "    for eng in range(1000):\n",
    "        temp.append((all_enu[eng]**2) * dfde(all_enu[eng], gamma_arr[i], phi0m[i]))\n",
    "    e2dfde.append(temp)\n",
    "\n",
    "e2dfde = np.asarray(e2dfde)\n",
    "mark = ['^', 'o', 's', 'd']\n",
    "plt.figure(figsize=(10,8))\n",
    "for i in [0, 1, 2, 3]:#range(4):\n",
    "    plt.scatter(e2dfde[i], all_TSS[i], label='$\\Gamma$ = ' + str(gamma_arr[i]), s=4 , marker= mark[i])\n",
    "\n",
    "plt.legend()\n",
    "plt.xscale('log')\n",
    "# plt.yscale('log')\n",
    "plt.xlabel('$E^2_{\\u03BD} \\dfrac{d\\phi}{dE_{\\u03BD}}$')\n",
    "plt.ylabel('TS')\n",
    "plt.title('TS vs $E^2_{\\u03BD} \\dfrac{d\\phi}{dE_{\\u03BD}}$')\n",
    "#plt.xlim(1e-17, 1e-13)\n",
    "#plt.ylim(-100, 10)\n",
    "plt.show()"
   ]
  },
  {
   "cell_type": "code",
   "execution_count": null,
   "metadata": {},
   "outputs": [],
   "source": [
    "import numba as nb"
   ]
  },
  {
   "cell_type": "code",
   "execution_count": null,
   "metadata": {},
   "outputs": [],
   "source": [
    "@nb.njit\n",
    "def find_index(vec_uptparts, i):\n",
    "    idx = np.nanmin([idx if not val else vec_uptparts.size for idx, val in enumerate(vec_uptparts <= i)])\n",
    "    return idx - 1"
   ]
  },
  {
   "cell_type": "code",
   "execution_count": null,
   "metadata": {},
   "outputs": [
    {
     "name": "stdout",
     "output_type": "stream",
     "text": [
      "(0, True)\n",
      "(1, False)\n",
      "(2, False)\n",
      "(3, False)\n",
      "(4, False)\n",
      "(5, False)\n"
     ]
    }
   ],
   "source": [
    "for i in enumerate(vec_uptparts <= 23):\n",
    "    print(i)"
   ]
  },
  {
   "cell_type": "code",
   "execution_count": 55,
   "metadata": {},
   "outputs": [
    {
     "name": "stdout",
     "output_type": "stream",
     "text": [
      "3.12 ms ± 68.5 µs per loop (mean ± std. dev. of 7 runs, 100 loops each)\n"
     ]
    }
   ],
   "source": [
    "%timeit [temp(x) for x in range(1000)]"
   ]
  },
  {
   "cell_type": "code",
   "execution_count": 56,
   "metadata": {},
   "outputs": [
    {
     "name": "stdout",
     "output_type": "stream",
     "text": [
      "110 µs ± 1.94 µs per loop (mean ± std. dev. of 7 runs, 10000 loops each)\n"
     ]
    }
   ],
   "source": [
    "%timeit [wall_nu(x) for x in range(1000)]       # for and if faster than other methods"
   ]
  },
  {
   "cell_type": "code",
   "execution_count": 57,
   "metadata": {},
   "outputs": [
    {
     "name": "stdout",
     "output_type": "stream",
     "text": [
      "349 µs ± 4.11 µs per loop (mean ± std. dev. of 7 runs, 1000 loops each)\n"
     ]
    }
   ],
   "source": [
    "%timeit [find_index(vec_uptparts, x) for x in range(1000)]"
   ]
  },
  {
   "cell_type": "code",
   "execution_count": 59,
   "metadata": {},
   "outputs": [
    {
     "name": "stdout",
     "output_type": "stream",
     "text": [
      "405 µs ± 4.24 µs per loop (mean ± std. dev. of 7 runs, 1000 loops each)\n"
     ]
    }
   ],
   "source": [
    "%timeit [bisect.bisect_right(vec_uptparts, x) - 1 for x in range(1000)]"
   ]
  },
  {
   "cell_type": "code",
   "execution_count": null,
   "metadata": {},
   "outputs": [],
   "source": [
    "ns_singleseason_sing_psr_HAT(0.5, 1e12, -2.2, phi0m[1], season=0)"
   ]
  },
  {
   "cell_type": "code",
   "execution_count": 66,
   "metadata": {},
   "outputs": [
    {
     "name": "stdout",
     "output_type": "stream",
     "text": [
      "CPU times: user 302 ms, sys: 4.07 ms, total: 306 ms\n",
      "Wall time: 305 ms\n"
     ]
    }
   ],
   "source": [
    "%%time\n",
    "psrns = 0\n",
    "enu = 2\n",
    "gamma = 1\n",
    "for psrdec in prange(p):\n",
    "    for season in range(10):    \n",
    "        psrns += ns_singleseason_sing_psr_HAT(psrdec, all_enu[enu], gamma_arr[gamma], phi0m[gamma],season=season)"
   ]
  },
  {
   "cell_type": "code",
   "execution_count": 73,
   "metadata": {},
   "outputs": [
    {
     "name": "stdout",
     "output_type": "stream",
     "text": [
      "CPU times: user 114 ms, sys: 62 µs, total: 114 ms\n",
      "Wall time: 113 ms\n"
     ]
    }
   ],
   "source": [
    "%%time\n",
    "psrns = 4\n",
    "enu = 2\n",
    "gamma = 1\n",
    "for psrdec in prange(p):\n",
    "    for season in range(10):    \n",
    "        psrns += ns_singleseason_sing_psr_HAT(psrdec, all_enu[enu], gamma_arr[gamma], phi0m[gamma],season=season)"
   ]
  },
  {
   "cell_type": "code",
   "execution_count": null,
   "metadata": {},
   "outputs": [],
   "source": []
  }
 ],
 "metadata": {
  "kernelspec": {
   "display_name": "Python 3",
   "language": "python",
   "name": "python3"
  },
  "language_info": {
   "codemirror_mode": {
    "name": "ipython",
    "version": 3
   },
   "file_extension": ".py",
   "mimetype": "text/x-python",
   "name": "python",
   "nbconvert_exporter": "python",
   "pygments_lexer": "ipython3",
   "version": "3.10.6"
  },
  "orig_nbformat": 4
 },
 "nbformat": 4,
 "nbformat_minor": 2
}
